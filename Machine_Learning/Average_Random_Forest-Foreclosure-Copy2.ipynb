{
 "cells": [
  {
   "cell_type": "code",
   "execution_count": 24,
   "id": "38871738",
   "metadata": {},
   "outputs": [],
   "source": [
    "# Initial imports\n",
    "import pandas as pd\n",
    "import hvplot.pandas\n",
    "from path import Path\n",
    "import plotly.express as px\n",
    "from sklearn.preprocessing import StandardScaler, MinMaxScaler\n",
    "from sklearn.decomposition import PCA\n",
    "from sklearn.cluster import KMeans"
   ]
  },
  {
   "cell_type": "code",
   "execution_count": 25,
   "id": "375acfa5",
   "metadata": {},
   "outputs": [
    {
     "data": {
      "text/html": [
       "<div>\n",
       "<style scoped>\n",
       "    .dataframe tbody tr th:only-of-type {\n",
       "        vertical-align: middle;\n",
       "    }\n",
       "\n",
       "    .dataframe tbody tr th {\n",
       "        vertical-align: top;\n",
       "    }\n",
       "\n",
       "    .dataframe thead th {\n",
       "        text-align: right;\n",
       "    }\n",
       "</style>\n",
       "<table border=\"1\" class=\"dataframe\">\n",
       "  <thead>\n",
       "    <tr style=\"text-align: right;\">\n",
       "      <th></th>\n",
       "      <th>DATE</th>\n",
       "      <th>DRSFRMACBS</th>\n",
       "    </tr>\n",
       "  </thead>\n",
       "  <tbody>\n",
       "    <tr>\n",
       "      <th>120</th>\n",
       "      <td>2021-01-01</td>\n",
       "      <td>2.66</td>\n",
       "    </tr>\n",
       "    <tr>\n",
       "      <th>121</th>\n",
       "      <td>2021-04-01</td>\n",
       "      <td>2.41</td>\n",
       "    </tr>\n",
       "    <tr>\n",
       "      <th>122</th>\n",
       "      <td>2021-07-01</td>\n",
       "      <td>2.30</td>\n",
       "    </tr>\n",
       "    <tr>\n",
       "      <th>123</th>\n",
       "      <td>2021-10-01</td>\n",
       "      <td>2.33</td>\n",
       "    </tr>\n",
       "    <tr>\n",
       "      <th>124</th>\n",
       "      <td>2022-01-01</td>\n",
       "      <td>2.13</td>\n",
       "    </tr>\n",
       "  </tbody>\n",
       "</table>\n",
       "</div>"
      ],
      "text/plain": [
       "           DATE  DRSFRMACBS\n",
       "120  2021-01-01        2.66\n",
       "121  2021-04-01        2.41\n",
       "122  2021-07-01        2.30\n",
       "123  2021-10-01        2.33\n",
       "124  2022-01-01        2.13"
      ]
     },
     "execution_count": 25,
     "metadata": {},
     "output_type": "execute_result"
    }
   ],
   "source": [
    "# File to Load \n",
    "foreclosure_master = \"../data_csv/DRSFRMACBS.csv\"\n",
    "# Read the data\n",
    "foreclosure_master_df = pd.read_csv(foreclosure_master)\n",
    "foreclosure_master_df.tail()"
   ]
  },
  {
   "cell_type": "code",
   "execution_count": 26,
   "id": "4ebc836d",
   "metadata": {},
   "outputs": [],
   "source": [
    "# file name\n",
    "df0 = '../data_csv/ninetyone_table_foreclosure.csv'\n",
    "df1 = '../data_csv/ninetytwo_table_foreclosure.csv'\n",
    "df2 = '../data_csv/ninetythree_table_foreclosure.csv'\n",
    "df3 = '../data_csv/ninetyfour_table_foreclosure.csv'\n",
    "df4 = '../data_csv/ninetyfive_table_foreclosure.csv'\n",
    "df5 = '../data_csv/ninetysix_table_foreclosure; .csv'\n",
    "df6 = '../data_csv/ninetyseven_table_foreclosure.csv'\n",
    "df7 = '../data_csv/ninetyeight_table_foreclosure.csv'\n",
    "df8 = '../data_csv/ninetynine_table_foreclosure.csv'\n",
    "df9 = '../data_csv/twothousand_table_foreclosure.csv'\n",
    "df10 = '../data_csv/twothousandone_table_foreclosure.csv'\n",
    "df11 = '../data_csv/twothousandtwo_table_foreclosure.csv'\n",
    "df12 = '../data_csv/twothousandthree_table_foreclosure.csv'\n",
    "df13 = '../data_csv/twothousandfour_table_foreclosure.csv'\n",
    "df14 = '../data_csv/twothousandfive_table_foreclosure.csv'\n",
    "df15 = '../data_csv/twothousandsix_table_foreclosure.csv'\n",
    "df16 = '../data_csv/twothousandseven_table_foreclosure.csv'\n",
    "df17 = '../data_csv/twothousandeight_table_foreclosure.csv'\n",
    "df18 = '../data_csv/twothousandnine_table_foreclosure.csv'\n",
    "df19 = '../data_csv/twothousandten_table_foreclosure.csv'\n",
    "df20 = '../data_csv/twothousandeleven_table_foreclosure.csv'\n",
    "df21 = '../data_csv/twothousandtwelfth_table_foreclosure.csv'\n",
    "df22 = '../data_csv/twothousandthirteen_table_foreclosure.csv'\n",
    "df23 = '../data_csv/twothousandfourteen_table_foreclosure.csv'\n",
    "df24 = '../data_csv/twothousandfifteen_table_foreclosure.csv'\n",
    "df25 = '../data_csv/twothousandsixteen_table_foreclosure.csv'\n",
    "df26 = '../data_csv/twothousandseventeen_table_foreclosure.csv'\n",
    "df27 = '../data_csv/twothousandeightteen_table_foreclosure.csv'\n",
    "df28 = '../data_csv/twothousandnineteen_table_foreclosure.csv'\n",
    "df29 = '../data_csv/twothousandtwenty_table_foreclosure.csv'\n",
    "df30 = '../data_csv/twothousandtwentyone_table_foreclosure.csv'\n",
    "df31 = '../data_csv/twothousandtwo_table_foreclosure.csv'"
   ]
  },
  {
   "cell_type": "code",
   "execution_count": 27,
   "id": "2bbcfdc3",
   "metadata": {},
   "outputs": [],
   "source": [
    "\n",
    "# Read the data\n",
    "#ninetytwo = pd.read_csv(ninetytwo)\n",
    "df0 = pd.read_csv(df0)\n",
    "df1 = pd.read_csv(df1)\n",
    "df2 = pd.read_csv(df2)\n",
    "df3 = pd.read_csv(df3)\n",
    "df4 = pd.read_csv(df4)\n",
    "df5 = pd.read_csv(df5)\n",
    "df6 = pd.read_csv(df6)\n",
    "df7 = pd.read_csv(df7)\n",
    "df8 = pd.read_csv(df8)\n",
    "df9 = pd.read_csv(df9)\n",
    "df10 = pd.read_csv(df10)\n",
    "df11 = pd.read_csv(df11)\n",
    "df12 = pd.read_csv(df12)\n",
    "df13 = pd.read_csv(df13)\n",
    "df14 = pd.read_csv(df14)\n",
    "df15 = pd.read_csv(df15)\n",
    "df16 = pd.read_csv(df16)\n",
    "df17 = pd.read_csv(df17)\n",
    "df18 = pd.read_csv(df18)\n",
    "df19 = pd.read_csv(df19)\n",
    "df20 = pd.read_csv(df20)\n",
    "df21 = pd.read_csv(df21)\n",
    "df22 = pd.read_csv(df22)\n",
    "df23 = pd.read_csv(df23)\n",
    "df24 = pd.read_csv(df24)\n",
    "df25 = pd.read_csv(df25)\n",
    "df26 = pd.read_csv(df26)\n",
    "df27 = pd.read_csv(df27)\n",
    "df28 = pd.read_csv(df28)\n",
    "df29 = pd.read_csv(df29)\n",
    "df30 = pd.read_csv(df30)\n",
    "df31 = pd.read_csv(df31)\n"
   ]
  },
  {
   "cell_type": "code",
   "execution_count": 28,
   "id": "efd80002",
   "metadata": {},
   "outputs": [
    {
     "data": {
      "text/plain": [
       "drsfrmacbs    3.18\n",
       "dtype: float64"
      ]
     },
     "execution_count": 28,
     "metadata": {},
     "output_type": "execute_result"
    }
   ],
   "source": [
    "# Finding the average of df0\n",
    "ave_df0 = df0[['drsfrmacbs']].mean()\n",
    "ave_df0"
   ]
  },
  {
   "cell_type": "code",
   "execution_count": 29,
   "id": "304efb18",
   "metadata": {},
   "outputs": [
    {
     "data": {
      "text/plain": [
       "drsfrmacbs    1.7325\n",
       "dtype: float64"
      ]
     },
     "execution_count": 29,
     "metadata": {},
     "output_type": "execute_result"
    }
   ],
   "source": [
    "#Finding ave for rest\n",
    "ave_df0 = df0[['drsfrmacbs']].mean()\n",
    "ave_df1 = df1[['drsfrmacbs']].mean()\n",
    "ave_df2 = df2[['drsfrmacbs']].mean()\n",
    "ave_df3 = df3[['drsfrmacbs']].mean()\n",
    "ave_df4 = df4[['drsfrmacbs']].mean()\n",
    "ave_df5 = df5[['drsfrmacbs']].mean()\n",
    "ave_df6 = df6[['drsfrmacbs']].mean()\n",
    "ave_df7 = df7[['drsfrmacbs']].mean()\n",
    "ave_df8 = df8[['drsfrmacbs']].mean()\n",
    "ave_df9 = df9[['drsfrmacbs']].mean()\n",
    "ave_df10 = df10[['drsfrmacbs']].mean()\n",
    "ave_df11 = df11[['drsfrmacbs']].mean()\n",
    "ave_df12 = df12[['drsfrmacbs']].mean()\n",
    "ave_df13 = df13[['drsfrmacbs']].mean()\n",
    "ave_df14 = df14[['drsfrmacbs']].mean()\n",
    "ave_df15 = df15[['drsfrmacbs']].mean()\n",
    "ave_df16 = df16[['drsfrmacbs']].mean()\n",
    "ave_df17 = df17[['drsfrmacbs']].mean()\n",
    "ave_df18 = df18[['drsfrmacbs']].mean()\n",
    "ave_df19 = df19[['drsfrmacbs']].mean()\n",
    "ave_df20 = df20[['drsfrmacbs']].mean()\n",
    "ave_df21 = df21[['drsfrmacbs']].mean()\n",
    "ave_df22 = df22[['drsfrmacbs']].mean()\n",
    "ave_df23 = df23[['drsfrmacbs']].mean()\n",
    "ave_df24 = df24[['drsfrmacbs']].mean()\n",
    "ave_df25 = df25[['drsfrmacbs']].mean()\n",
    "ave_df26 = df26[['drsfrmacbs']].mean()\n",
    "ave_df27 = df27[['drsfrmacbs']].mean()\n",
    "ave_df28 = df28[['drsfrmacbs']].mean()\n",
    "ave_df29 = df29[['drsfrmacbs']].mean()\n",
    "ave_df30 = df30[['drsfrmacbs']].mean()\n",
    "ave_df31 = df31[['drsfrmacbs']].mean()\n",
    "\n",
    "ave_df15"
   ]
  },
  {
   "cell_type": "code",
   "execution_count": 30,
   "id": "7af7b2cf",
   "metadata": {},
   "outputs": [
    {
     "data": {
      "text/plain": [
       "0      3.1800\n",
       "1      2.9825\n",
       "2      2.6100\n",
       "3      2.2175\n",
       "4      2.1425\n",
       "5      2.2550\n",
       "6      2.2675\n",
       "7      2.1150\n",
       "8      1.9825\n",
       "9      2.0825\n",
       "10     2.2950\n",
       "11     2.1125\n",
       "12     1.8275\n",
       "13     1.5525\n",
       "14     1.5475\n",
       "15     1.7325\n",
       "16     2.5525\n",
       "17     5.0075\n",
       "18     9.1375\n",
       "19    10.8125\n",
       "20    10.4000\n",
       "21    10.3650\n",
       "22     8.9650\n",
       "23     7.2000\n",
       "24     5.6400\n",
       "25     5.6400\n",
       "26     3.7125\n",
       "27     3.1200\n",
       "28     2.5075\n",
       "29     2.6325\n",
       "30     2.4250\n",
       "31     2.1125\n",
       "dtype: float64"
      ]
     },
     "execution_count": 30,
     "metadata": {},
     "output_type": "execute_result"
    }
   ],
   "source": [
    "#Creating for loop to drop all values with na\n",
    "#df = []\n",
    "#for dfs in df_list: \n",
    " #   dfs[['drsfrmacbs']].mean\n",
    "\n",
    "#dfs.head()    \n",
    "ave_df_master = pd.concat([ave_df0, ave_df1, ave_df2, ave_df3, ave_df4, ave_df5,\n",
    "                           ave_df6, ave_df7, ave_df8, ave_df9, ave_df10, ave_df11, ave_df12, ave_df13,\n",
    "          ave_df14, ave_df15, ave_df16, ave_df17, ave_df18, ave_df19, ave_df20, ave_df21, ave_df22, ave_df23, ave_df24, ave_df25,\n",
    "          ave_df26, ave_df27, ave_df28, ave_df29, ave_df30, ave_df31], ignore_index=True)\n",
    "ave_df_master\n",
    "\n",
    "\n"
   ]
  },
  {
   "cell_type": "code",
   "execution_count": 31,
   "id": "8fad49ae",
   "metadata": {},
   "outputs": [
    {
     "data": {
      "text/html": [
       "<div>\n",
       "<style scoped>\n",
       "    .dataframe tbody tr th:only-of-type {\n",
       "        vertical-align: middle;\n",
       "    }\n",
       "\n",
       "    .dataframe tbody tr th {\n",
       "        vertical-align: top;\n",
       "    }\n",
       "\n",
       "    .dataframe thead th {\n",
       "        text-align: right;\n",
       "    }\n",
       "</style>\n",
       "<table border=\"1\" class=\"dataframe\">\n",
       "  <thead>\n",
       "    <tr style=\"text-align: right;\">\n",
       "      <th></th>\n",
       "      <th>Year</th>\n",
       "      <th>Ave. Foreclosure</th>\n",
       "    </tr>\n",
       "  </thead>\n",
       "  <tbody>\n",
       "    <tr>\n",
       "      <th>0</th>\n",
       "      <td>1991</td>\n",
       "      <td>3.1800</td>\n",
       "    </tr>\n",
       "    <tr>\n",
       "      <th>1</th>\n",
       "      <td>1992</td>\n",
       "      <td>2.9825</td>\n",
       "    </tr>\n",
       "    <tr>\n",
       "      <th>2</th>\n",
       "      <td>1993</td>\n",
       "      <td>2.6100</td>\n",
       "    </tr>\n",
       "    <tr>\n",
       "      <th>3</th>\n",
       "      <td>1994</td>\n",
       "      <td>2.2175</td>\n",
       "    </tr>\n",
       "    <tr>\n",
       "      <th>4</th>\n",
       "      <td>1995</td>\n",
       "      <td>2.1425</td>\n",
       "    </tr>\n",
       "  </tbody>\n",
       "</table>\n",
       "</div>"
      ],
      "text/plain": [
       "   Year  Ave. Foreclosure\n",
       "0  1991            3.1800\n",
       "1  1992            2.9825\n",
       "2  1993            2.6100\n",
       "3  1994            2.2175\n",
       "4  1995            2.1425"
      ]
     },
     "execution_count": 31,
     "metadata": {},
     "output_type": "execute_result"
    }
   ],
   "source": [
    "# File to Load \n",
    "foreclosure_master = \"../data_csv/Ave_Fore_rate .csv\"\n",
    "# Read the data\n",
    "foreclosure_master_df_ave = pd.read_csv(foreclosure_master)\n",
    "foreclosure_master_df_ave.head()"
   ]
  },
  {
   "cell_type": "code",
   "execution_count": 32,
   "id": "7a4abdd5",
   "metadata": {},
   "outputs": [
    {
     "data": {
      "text/plain": [
       "Year                32\n",
       "Ave. Foreclosure    32\n",
       "dtype: int64"
      ]
     },
     "execution_count": 32,
     "metadata": {},
     "output_type": "execute_result"
    }
   ],
   "source": [
    "foreclosure_master_df_ave.count()"
   ]
  },
  {
   "cell_type": "code",
   "execution_count": 33,
   "id": "0bbf2b04",
   "metadata": {},
   "outputs": [
    {
     "name": "stdout",
     "output_type": "stream",
     "text": [
      "Year                  int64\n",
      "Ave. Foreclosure    float64\n",
      "dtype: object\n"
     ]
    }
   ],
   "source": [
    "print(foreclosure_master_df_ave.dtypes)"
   ]
  },
  {
   "cell_type": "markdown",
   "id": "91422b29",
   "metadata": {},
   "source": [
    "# TRAINING "
   ]
  },
  {
   "cell_type": "code",
   "execution_count": 34,
   "id": "1e0deb3b",
   "metadata": {},
   "outputs": [
    {
     "name": "stdout",
     "output_type": "stream",
     "text": [
      "[[-1.67874412 -0.18130142]\n",
      " [-1.57043805 -0.25583874]\n",
      " [-1.46213197 -0.39642179]\n",
      " [-1.3538259  -0.54455293]\n",
      " [-1.24551983 -0.57285824]]\n"
     ]
    }
   ],
   "source": [
    "# Standardize the data with StandardScaler().\n",
    "X_stand = StandardScaler().fit_transform(foreclosure_master_df_ave)\n",
    "print(X_stand[0:5])"
   ]
  },
  {
   "cell_type": "code",
   "execution_count": 35,
   "id": "43b58819",
   "metadata": {},
   "outputs": [
    {
     "data": {
      "text/plain": [
       "array([[-1.31525082, -1.05885189],\n",
       "       [-1.2913727 , -0.92956208],\n",
       "       [-1.31419597, -0.7535709 ],\n",
       "       [-1.34235654, -0.57224241],\n",
       "       [-1.28578746, -0.47564357],\n",
       "       [-1.17918119, -0.42908193],\n",
       "       [-1.09926142, -0.35583379],\n",
       "       [-1.06337438, -0.23855291],\n",
       "       [-1.02215004, -0.12660933],\n",
       "       [-0.91887958, -0.07671188],\n",
       "       [-0.7855868 , -0.05683674],\n",
       "       [-0.75770571,  0.06845009],\n",
       "       [-0.75717829,  0.22109058],\n",
       "       [-0.75398222,  0.37106243],\n",
       "       [-0.67873258,  0.44898071],\n",
       "       [-0.55277859,  0.47619463],\n",
       "       [-0.2573653 ,  0.33394926],\n",
       "       [ 0.47437234, -0.24462046],\n",
       "       [ 1.65310892, -1.27018913],\n",
       "       [-0.4919586 ,  1.02804631],\n",
       "       [ 2.14319395, -1.45393833],\n",
       "       [ 2.21043764, -1.3680141 ],\n",
       "       [ 1.91341053, -0.91781908],\n",
       "       [ 1.51897769, -0.37021832],\n",
       "       [ 1.17925218,  0.1226751 ],\n",
       "       [ 1.25583614,  0.19925906],\n",
       "       [ 0.81803773,  0.79022539],\n",
       "       [ 0.73650415,  1.02492689],\n",
       "       [ 0.64963327,  1.26496568],\n",
       "       [ 0.75957536,  1.30819151],\n",
       "       [ 0.78078482,  1.44014996],\n",
       "       [ 0.77397345,  1.60012925]])"
      ]
     },
     "execution_count": 35,
     "metadata": {},
     "output_type": "execute_result"
    }
   ],
   "source": [
    "# Using PCA to reduce dimension to three principal components.\n",
    "pca = PCA(n_components=2)\n",
    "\n",
    "X_pca = pca.fit_transform(X_stand)\n",
    "\n",
    "X_pca"
   ]
  },
  {
   "cell_type": "code",
   "execution_count": 36,
   "id": "d0a50482",
   "metadata": {},
   "outputs": [
    {
     "data": {
      "text/html": [
       "<div>\n",
       "<style scoped>\n",
       "    .dataframe tbody tr th:only-of-type {\n",
       "        vertical-align: middle;\n",
       "    }\n",
       "\n",
       "    .dataframe tbody tr th {\n",
       "        vertical-align: top;\n",
       "    }\n",
       "\n",
       "    .dataframe thead th {\n",
       "        text-align: right;\n",
       "    }\n",
       "</style>\n",
       "<table border=\"1\" class=\"dataframe\">\n",
       "  <thead>\n",
       "    <tr style=\"text-align: right;\">\n",
       "      <th></th>\n",
       "      <th>PC 1</th>\n",
       "      <th>PC 2</th>\n",
       "    </tr>\n",
       "  </thead>\n",
       "  <tbody>\n",
       "    <tr>\n",
       "      <th>0</th>\n",
       "      <td>-1.315251</td>\n",
       "      <td>-1.058852</td>\n",
       "    </tr>\n",
       "    <tr>\n",
       "      <th>1</th>\n",
       "      <td>-1.291373</td>\n",
       "      <td>-0.929562</td>\n",
       "    </tr>\n",
       "    <tr>\n",
       "      <th>2</th>\n",
       "      <td>-1.314196</td>\n",
       "      <td>-0.753571</td>\n",
       "    </tr>\n",
       "    <tr>\n",
       "      <th>3</th>\n",
       "      <td>-1.342357</td>\n",
       "      <td>-0.572242</td>\n",
       "    </tr>\n",
       "    <tr>\n",
       "      <th>4</th>\n",
       "      <td>-1.285787</td>\n",
       "      <td>-0.475644</td>\n",
       "    </tr>\n",
       "    <tr>\n",
       "      <th>5</th>\n",
       "      <td>-1.179181</td>\n",
       "      <td>-0.429082</td>\n",
       "    </tr>\n",
       "    <tr>\n",
       "      <th>6</th>\n",
       "      <td>-1.099261</td>\n",
       "      <td>-0.355834</td>\n",
       "    </tr>\n",
       "    <tr>\n",
       "      <th>7</th>\n",
       "      <td>-1.063374</td>\n",
       "      <td>-0.238553</td>\n",
       "    </tr>\n",
       "    <tr>\n",
       "      <th>8</th>\n",
       "      <td>-1.022150</td>\n",
       "      <td>-0.126609</td>\n",
       "    </tr>\n",
       "    <tr>\n",
       "      <th>9</th>\n",
       "      <td>-0.918880</td>\n",
       "      <td>-0.076712</td>\n",
       "    </tr>\n",
       "  </tbody>\n",
       "</table>\n",
       "</div>"
      ],
      "text/plain": [
       "       PC 1      PC 2\n",
       "0 -1.315251 -1.058852\n",
       "1 -1.291373 -0.929562\n",
       "2 -1.314196 -0.753571\n",
       "3 -1.342357 -0.572242\n",
       "4 -1.285787 -0.475644\n",
       "5 -1.179181 -0.429082\n",
       "6 -1.099261 -0.355834\n",
       "7 -1.063374 -0.238553\n",
       "8 -1.022150 -0.126609\n",
       "9 -0.918880 -0.076712"
      ]
     },
     "execution_count": 36,
     "metadata": {},
     "output_type": "execute_result"
    }
   ],
   "source": [
    "# Create a DataFrame with the three principal components.\n",
    "pcs_df = pd.DataFrame(\n",
    "    data=X_pca, columns=[\"PC 1\", \"PC 2\"], index=foreclosure_master_df_ave.index)\n",
    "\n",
    "pcs_df.head(10)"
   ]
  },
  {
   "cell_type": "code",
   "execution_count": 37,
   "id": "a708106c",
   "metadata": {},
   "outputs": [
    {
     "data": {},
     "metadata": {},
     "output_type": "display_data"
    },
    {
     "data": {
      "application/vnd.holoviews_exec.v0+json": "",
      "text/html": [
       "<div id='1120'>\n",
       "\n",
       "\n",
       "\n",
       "\n",
       "\n",
       "  <div class=\"bk-root\" id=\"c029c23d-348f-47c7-81f1-8565f57c4290\" data-root-id=\"1120\"></div>\n",
       "</div>\n",
       "<script type=\"application/javascript\">(function(root) {\n",
       "  function embed_document(root) {\n",
       "    var docs_json = {\"3762f23c-d235-4fc7-8e17-e43d752f2225\":{\"defs\":[{\"extends\":null,\"module\":null,\"name\":\"ReactiveHTML1\",\"overrides\":[],\"properties\":[]},{\"extends\":null,\"module\":null,\"name\":\"FlexBox1\",\"overrides\":[],\"properties\":[{\"default\":\"flex-start\",\"kind\":null,\"name\":\"align_content\"},{\"default\":\"flex-start\",\"kind\":null,\"name\":\"align_items\"},{\"default\":\"row\",\"kind\":null,\"name\":\"flex_direction\"},{\"default\":\"wrap\",\"kind\":null,\"name\":\"flex_wrap\"},{\"default\":\"flex-start\",\"kind\":null,\"name\":\"justify_content\"}]},{\"extends\":null,\"module\":null,\"name\":\"GridStack1\",\"overrides\":[],\"properties\":[{\"default\":\"warn\",\"kind\":null,\"name\":\"mode\"},{\"default\":null,\"kind\":null,\"name\":\"ncols\"},{\"default\":null,\"kind\":null,\"name\":\"nrows\"},{\"default\":true,\"kind\":null,\"name\":\"allow_resize\"},{\"default\":true,\"kind\":null,\"name\":\"allow_drag\"},{\"default\":[],\"kind\":null,\"name\":\"state\"}]},{\"extends\":null,\"module\":null,\"name\":\"click1\",\"overrides\":[],\"properties\":[{\"default\":\"\",\"kind\":null,\"name\":\"terminal_output\"},{\"default\":\"\",\"kind\":null,\"name\":\"debug_name\"},{\"default\":0,\"kind\":null,\"name\":\"clears\"}]},{\"extends\":null,\"module\":null,\"name\":\"TemplateActions1\",\"overrides\":[],\"properties\":[{\"default\":0,\"kind\":null,\"name\":\"open_modal\"},{\"default\":0,\"kind\":null,\"name\":\"close_modal\"}]},{\"extends\":null,\"module\":null,\"name\":\"MaterialTemplateActions1\",\"overrides\":[],\"properties\":[{\"default\":0,\"kind\":null,\"name\":\"open_modal\"},{\"default\":0,\"kind\":null,\"name\":\"close_modal\"}]}],\"roots\":{\"references\":[{\"attributes\":{},\"id\":\"1171\",\"type\":\"BasicTickFormatter\"},{\"attributes\":{\"axis_label\":\"k\",\"coordinates\":null,\"formatter\":{\"id\":\"1166\"},\"group\":null,\"major_label_policy\":{\"id\":\"1167\"},\"ticker\":{\"id\":\"1164\"}},\"id\":\"1134\",\"type\":\"LinearAxis\"},{\"attributes\":{\"source\":{\"id\":\"1155\"}},\"id\":\"1162\",\"type\":\"CDSView\"},{\"attributes\":{},\"id\":\"1139\",\"type\":\"BasicTicker\"},{\"attributes\":{},\"id\":\"1172\",\"type\":\"AllLabels\"},{\"attributes\":{\"axis_label\":\"inertia\",\"coordinates\":null,\"formatter\":{\"id\":\"1171\"},\"group\":null,\"major_label_policy\":{\"id\":\"1172\"},\"ticker\":{\"id\":\"1139\"}},\"id\":\"1138\",\"type\":\"LinearAxis\"},{\"attributes\":{},\"id\":\"1130\",\"type\":\"LinearScale\"},{\"attributes\":{\"data\":{\"inertia\":{\"__ndarray__\":\"/v//////T0DzMaiDoUw7QCIQDPbv4CdAqE8j/vXsHEDgpIfVQk8OQA4hz8oCIQZAfZHZzpewAUC3+fH/kw/9P0EpIiggKPg/zWeligu08z8=\",\"dtype\":\"float64\",\"order\":\"little\",\"shape\":[10]},\"k\":[1,2,3,4,5,6,7,8,9,10]},\"selected\":{\"id\":\"1156\"},\"selection_policy\":{\"id\":\"1179\"}},\"id\":\"1155\",\"type\":\"ColumnDataSource\"},{\"attributes\":{},\"id\":\"1132\",\"type\":\"LinearScale\"},{\"attributes\":{},\"id\":\"1142\",\"type\":\"SaveTool\"},{\"attributes\":{\"tools\":[{\"id\":\"1124\"},{\"id\":\"1142\"},{\"id\":\"1143\"},{\"id\":\"1144\"},{\"id\":\"1145\"},{\"id\":\"1146\"}]},\"id\":\"1148\",\"type\":\"Toolbar\"},{\"attributes\":{\"ticks\":[1,2,3,4,5,6,7,8,9,10]},\"id\":\"1164\",\"type\":\"FixedTicker\"},{\"attributes\":{\"margin\":[5,5,5,5],\"name\":\"HSpacer01809\",\"sizing_mode\":\"stretch_width\"},\"id\":\"1121\",\"type\":\"Spacer\"},{\"attributes\":{},\"id\":\"1167\",\"type\":\"AllLabels\"},{\"attributes\":{\"margin\":[5,5,5,5],\"name\":\"HSpacer01810\",\"sizing_mode\":\"stretch_width\"},\"id\":\"1191\",\"type\":\"Spacer\"},{\"attributes\":{\"coordinates\":null,\"data_source\":{\"id\":\"1155\"},\"glyph\":{\"id\":\"1158\"},\"group\":null,\"hover_glyph\":null,\"muted_glyph\":{\"id\":\"1160\"},\"nonselection_glyph\":{\"id\":\"1159\"},\"selection_glyph\":{\"id\":\"1163\"},\"view\":{\"id\":\"1162\"}},\"id\":\"1161\",\"type\":\"GlyphRenderer\"},{\"attributes\":{},\"id\":\"1156\",\"type\":\"Selection\"},{\"attributes\":{\"line_color\":\"#30a2da\",\"line_width\":2,\"x\":{\"field\":\"k\"},\"y\":{\"field\":\"inertia\"}},\"id\":\"1163\",\"type\":\"Line\"},{\"attributes\":{\"end\":70.27685436805854,\"reset_end\":70.27685436805854,\"reset_start\":-5.04539804864404,\"start\":-5.04539804864404,\"tags\":[[[\"inertia\",\"inertia\",null]]]},\"id\":\"1123\",\"type\":\"Range1d\"},{\"attributes\":{\"coordinates\":null,\"group\":null,\"text\":\"Elbow Curve\",\"text_color\":\"black\",\"text_font_size\":\"12pt\"},\"id\":\"1126\",\"type\":\"Title\"},{\"attributes\":{\"end\":10.0,\"reset_end\":10.0,\"reset_start\":1.0,\"start\":1.0,\"tags\":[[[\"k\",\"k\",null]]]},\"id\":\"1122\",\"type\":\"Range1d\"},{\"attributes\":{\"line_alpha\":0.2,\"line_color\":\"#30a2da\",\"line_width\":2,\"x\":{\"field\":\"k\"},\"y\":{\"field\":\"inertia\"}},\"id\":\"1160\",\"type\":\"Line\"},{\"attributes\":{},\"id\":\"1143\",\"type\":\"PanTool\"},{\"attributes\":{\"callback\":null,\"renderers\":[{\"id\":\"1161\"}],\"tags\":[\"hv_created\"],\"tooltips\":[[\"k\",\"@{k}\"],[\"inertia\",\"@{inertia}\"]]},\"id\":\"1124\",\"type\":\"HoverTool\"},{\"attributes\":{},\"id\":\"1179\",\"type\":\"UnionRenderers\"},{\"attributes\":{},\"id\":\"1144\",\"type\":\"WheelZoomTool\"},{\"attributes\":{\"line_color\":\"#30a2da\",\"line_width\":2,\"x\":{\"field\":\"k\"},\"y\":{\"field\":\"inertia\"}},\"id\":\"1158\",\"type\":\"Line\"},{\"attributes\":{\"below\":[{\"id\":\"1134\"}],\"center\":[{\"id\":\"1137\"},{\"id\":\"1141\"}],\"height\":300,\"left\":[{\"id\":\"1138\"}],\"margin\":[5,5,5,5],\"min_border_bottom\":10,\"min_border_left\":10,\"min_border_right\":10,\"min_border_top\":10,\"renderers\":[{\"id\":\"1161\"}],\"sizing_mode\":\"fixed\",\"title\":{\"id\":\"1126\"},\"toolbar\":{\"id\":\"1148\"},\"width\":700,\"x_range\":{\"id\":\"1122\"},\"x_scale\":{\"id\":\"1130\"},\"y_range\":{\"id\":\"1123\"},\"y_scale\":{\"id\":\"1132\"}},\"id\":\"1125\",\"subtype\":\"Figure\",\"type\":\"Plot\"},{\"attributes\":{\"overlay\":{\"id\":\"1147\"}},\"id\":\"1145\",\"type\":\"BoxZoomTool\"},{\"attributes\":{\"children\":[{\"id\":\"1121\"},{\"id\":\"1125\"},{\"id\":\"1191\"}],\"margin\":[0,0,0,0],\"name\":\"Row01805\",\"tags\":[\"embedded\"]},\"id\":\"1120\",\"type\":\"Row\"},{\"attributes\":{},\"id\":\"1166\",\"type\":\"BasicTickFormatter\"},{\"attributes\":{\"axis\":{\"id\":\"1138\"},\"coordinates\":null,\"dimension\":1,\"grid_line_color\":null,\"group\":null,\"ticker\":null},\"id\":\"1141\",\"type\":\"Grid\"},{\"attributes\":{},\"id\":\"1146\",\"type\":\"ResetTool\"},{\"attributes\":{\"bottom_units\":\"screen\",\"coordinates\":null,\"fill_alpha\":0.5,\"fill_color\":\"lightgrey\",\"group\":null,\"left_units\":\"screen\",\"level\":\"overlay\",\"line_alpha\":1.0,\"line_color\":\"black\",\"line_dash\":[4,4],\"line_width\":2,\"right_units\":\"screen\",\"syncable\":false,\"top_units\":\"screen\"},\"id\":\"1147\",\"type\":\"BoxAnnotation\"},{\"attributes\":{\"axis\":{\"id\":\"1134\"},\"coordinates\":null,\"grid_line_color\":null,\"group\":null,\"ticker\":null},\"id\":\"1137\",\"type\":\"Grid\"},{\"attributes\":{\"line_alpha\":0.1,\"line_color\":\"#30a2da\",\"line_width\":2,\"x\":{\"field\":\"k\"},\"y\":{\"field\":\"inertia\"}},\"id\":\"1159\",\"type\":\"Line\"}],\"root_ids\":[\"1120\"]},\"title\":\"Bokeh Application\",\"version\":\"2.4.1\"}};\n",
       "    var render_items = [{\"docid\":\"3762f23c-d235-4fc7-8e17-e43d752f2225\",\"root_ids\":[\"1120\"],\"roots\":{\"1120\":\"c029c23d-348f-47c7-81f1-8565f57c4290\"}}];\n",
       "    root.Bokeh.embed.embed_items_notebook(docs_json, render_items);\n",
       "  }\n",
       "  if (root.Bokeh !== undefined && root.Bokeh.Panel !== undefined) {\n",
       "    embed_document(root);\n",
       "  } else {\n",
       "    var attempts = 0;\n",
       "    var timer = setInterval(function(root) {\n",
       "      if (root.Bokeh !== undefined && root.Bokeh.Panel !== undefined) {\n",
       "        clearInterval(timer);\n",
       "        embed_document(root);\n",
       "      } else if (document.readyState == \"complete\") {\n",
       "        attempts++;\n",
       "        if (attempts > 200) {\n",
       "          clearInterval(timer);\n",
       "          console.log(\"Bokeh: ERROR: Unable to run BokehJS code because BokehJS library is missing\");\n",
       "        }\n",
       "      }\n",
       "    }, 25, root)\n",
       "  }\n",
       "})(window);</script>"
      ],
      "text/plain": [
       ":Curve   [k]   (inertia)"
      ]
     },
     "execution_count": 37,
     "metadata": {
      "application/vnd.holoviews_exec.v0+json": {
       "id": "1120"
      }
     },
     "output_type": "execute_result"
    }
   ],
   "source": [
    "# Create an elbow curve to find the best value for K.\n",
    "inertia = []\n",
    "k = list(range(1, 11))\n",
    "\n",
    "# Calculate the inertia for the range of K values\n",
    "for i in k:\n",
    "    km = KMeans(n_clusters=i, random_state=0)\n",
    "    km.fit(pcs_df)\n",
    "    inertia.append(km.inertia_)\n",
    "    \n",
    "# Create the elbow curve\n",
    "elbow_data = {\"k\": k, \"inertia\": inertia}\n",
    "df_elbow = pd.DataFrame(elbow_data)\n",
    "df_elbow.hvplot.line(x=\"k\", y=\"inertia\", xticks=k, title=\"Elbow Curve\")"
   ]
  },
  {
   "cell_type": "code",
   "execution_count": 38,
   "id": "18b437cc",
   "metadata": {},
   "outputs": [
    {
     "name": "stdout",
     "output_type": "stream",
     "text": [
      "[2 2 2 2 2 2 2 2 2 2 2 2 2 2 2 2 2 0 1 0 1 1 1 1 0 0 0 0 0 0 0 0]\n"
     ]
    }
   ],
   "source": [
    "# Initialize the K-Means model.\n",
    "# Initializing model with K = 3 (since we already know there are three classes of iris plants)\n",
    "model = KMeans(n_clusters=3, random_state=5)\n",
    "\n",
    "# Fit the model\n",
    "model.fit(pcs_df)\n",
    "\n",
    "\n",
    "# Predict clusters\n",
    "predictions = model.predict(pcs_df)\n",
    "print(predictions)"
   ]
  },
  {
   "cell_type": "code",
   "execution_count": 39,
   "id": "bb36beaf",
   "metadata": {},
   "outputs": [
    {
     "name": "stdout",
     "output_type": "stream",
     "text": [
      "(32, 5)\n"
     ]
    },
    {
     "data": {
      "text/html": [
       "<div>\n",
       "<style scoped>\n",
       "    .dataframe tbody tr th:only-of-type {\n",
       "        vertical-align: middle;\n",
       "    }\n",
       "\n",
       "    .dataframe tbody tr th {\n",
       "        vertical-align: top;\n",
       "    }\n",
       "\n",
       "    .dataframe thead th {\n",
       "        text-align: right;\n",
       "    }\n",
       "</style>\n",
       "<table border=\"1\" class=\"dataframe\">\n",
       "  <thead>\n",
       "    <tr style=\"text-align: right;\">\n",
       "      <th></th>\n",
       "      <th>Year</th>\n",
       "      <th>Ave. Foreclosure</th>\n",
       "      <th>PC 1</th>\n",
       "      <th>PC 2</th>\n",
       "      <th>class</th>\n",
       "    </tr>\n",
       "  </thead>\n",
       "  <tbody>\n",
       "    <tr>\n",
       "      <th>0</th>\n",
       "      <td>1991</td>\n",
       "      <td>3.1800</td>\n",
       "      <td>-1.315251</td>\n",
       "      <td>-1.058852</td>\n",
       "      <td>2</td>\n",
       "    </tr>\n",
       "    <tr>\n",
       "      <th>1</th>\n",
       "      <td>1992</td>\n",
       "      <td>2.9825</td>\n",
       "      <td>-1.291373</td>\n",
       "      <td>-0.929562</td>\n",
       "      <td>2</td>\n",
       "    </tr>\n",
       "    <tr>\n",
       "      <th>2</th>\n",
       "      <td>1993</td>\n",
       "      <td>2.6100</td>\n",
       "      <td>-1.314196</td>\n",
       "      <td>-0.753571</td>\n",
       "      <td>2</td>\n",
       "    </tr>\n",
       "    <tr>\n",
       "      <th>3</th>\n",
       "      <td>1994</td>\n",
       "      <td>2.2175</td>\n",
       "      <td>-1.342357</td>\n",
       "      <td>-0.572242</td>\n",
       "      <td>2</td>\n",
       "    </tr>\n",
       "    <tr>\n",
       "      <th>4</th>\n",
       "      <td>1995</td>\n",
       "      <td>2.1425</td>\n",
       "      <td>-1.285787</td>\n",
       "      <td>-0.475644</td>\n",
       "      <td>2</td>\n",
       "    </tr>\n",
       "    <tr>\n",
       "      <th>5</th>\n",
       "      <td>1996</td>\n",
       "      <td>2.2550</td>\n",
       "      <td>-1.179181</td>\n",
       "      <td>-0.429082</td>\n",
       "      <td>2</td>\n",
       "    </tr>\n",
       "    <tr>\n",
       "      <th>6</th>\n",
       "      <td>1997</td>\n",
       "      <td>2.2675</td>\n",
       "      <td>-1.099261</td>\n",
       "      <td>-0.355834</td>\n",
       "      <td>2</td>\n",
       "    </tr>\n",
       "    <tr>\n",
       "      <th>7</th>\n",
       "      <td>1998</td>\n",
       "      <td>2.1150</td>\n",
       "      <td>-1.063374</td>\n",
       "      <td>-0.238553</td>\n",
       "      <td>2</td>\n",
       "    </tr>\n",
       "    <tr>\n",
       "      <th>8</th>\n",
       "      <td>1999</td>\n",
       "      <td>1.9825</td>\n",
       "      <td>-1.022150</td>\n",
       "      <td>-0.126609</td>\n",
       "      <td>2</td>\n",
       "    </tr>\n",
       "    <tr>\n",
       "      <th>9</th>\n",
       "      <td>2000</td>\n",
       "      <td>2.0825</td>\n",
       "      <td>-0.918880</td>\n",
       "      <td>-0.076712</td>\n",
       "      <td>2</td>\n",
       "    </tr>\n",
       "  </tbody>\n",
       "</table>\n",
       "</div>"
      ],
      "text/plain": [
       "   Year  Ave. Foreclosure      PC 1      PC 2  class\n",
       "0  1991            3.1800 -1.315251 -1.058852      2\n",
       "1  1992            2.9825 -1.291373 -0.929562      2\n",
       "2  1993            2.6100 -1.314196 -0.753571      2\n",
       "3  1994            2.2175 -1.342357 -0.572242      2\n",
       "4  1995            2.1425 -1.285787 -0.475644      2\n",
       "5  1996            2.2550 -1.179181 -0.429082      2\n",
       "6  1997            2.2675 -1.099261 -0.355834      2\n",
       "7  1998            2.1150 -1.063374 -0.238553      2\n",
       "8  1999            1.9825 -1.022150 -0.126609      2\n",
       "9  2000            2.0825 -0.918880 -0.076712      2"
      ]
     },
     "execution_count": 39,
     "metadata": {},
     "output_type": "execute_result"
    }
   ],
   "source": [
    "# Create a new DataFrame including predicted clusters and cryptocurrencies features.\n",
    "# Concatentate the crypto_df and pcs_df DataFrames on the same columns.\n",
    "foreclosure_master_df_ave = pd.concat([foreclosure_master_df_ave, pcs_df], axis=1)\n",
    "\n",
    "#  Add a new column, \"CoinName\" to the clustered_df DataFrame that holds the names of the cryptocurrencies. \n",
    "#foreclosure_master_df_ave[\"CoinName\"] = coinname_df[\"CoinName\"]\n",
    "\n",
    "\n",
    "#  Add a new column, \"Class\" to the clustered_df DataFrame that holds the predictions.\n",
    "foreclosure_master_df_ave[\"class\"] = model.labels_\n",
    "\n",
    "# Print the shape of the clustered_df\n",
    "print(foreclosure_master_df_ave.shape)\n",
    "foreclosure_master_df_ave.head(10)"
   ]
  },
  {
   "cell_type": "markdown",
   "id": "7331f2a2",
   "metadata": {},
   "source": [
    "# Visualizing "
   ]
  },
  {
   "cell_type": "code",
   "execution_count": 43,
   "id": "09b569e6",
   "metadata": {},
   "outputs": [
    {
     "data": {
      "application/vnd.plotly.v1+json": {
       "config": {
        "plotlyServerURL": "https://plot.ly"
       },
       "data": [
        {
         "hovertemplate": "class=%{marker.color}<br>PC 1=%{x}<br>PC 2=%{y}<extra></extra>",
         "legendgroup": "2",
         "marker": {
          "color": [
           2,
           2,
           2,
           2,
           2,
           2,
           2,
           2,
           2,
           2,
           2,
           2,
           2,
           2,
           2,
           2,
           2
          ],
          "coloraxis": "coloraxis",
          "symbol": "circle"
         },
         "mode": "markers",
         "name": "2",
         "orientation": "v",
         "showlegend": true,
         "type": "scatter",
         "x": [
          -1.315250815237412,
          -1.2913727030349322,
          -1.3141959732792734,
          -1.3423565443746794,
          -1.2857874644594256,
          -1.1791811890654353,
          -1.0992614179267715,
          -1.0633743788093952,
          -1.022150038840954,
          -0.9188795764788795,
          -0.7855867968295633,
          -0.7577057089887851,
          -0.7571782880097159,
          -0.753982216605114,
          -0.6787325837111318,
          -0.5527785927320304,
          -0.2573652997316087
         ],
         "xaxis": "x",
         "y": [
          -1.0588518860717873,
          -0.9295620820607698,
          -0.7535708956029321,
          -0.5722424082940292,
          -0.4756435719957863,
          -0.42908193117627963,
          -0.35583378610144717,
          -0.23855290900532677,
          -0.12660933276027128,
          -0.07671187890884898,
          -0.05683674234466848,
          0.0684500860280499,
          0.2210905812624773,
          0.3710624260713722,
          0.44898070939088675,
          0.47619463462528205,
          0.333949257838357
         ],
         "yaxis": "y"
        },
        {
         "hovertemplate": "class=%{marker.color}<br>PC 1=%{x}<br>PC 2=%{y}<extra></extra>",
         "legendgroup": "0",
         "marker": {
          "color": [
           0,
           0,
           0,
           0,
           0,
           0,
           0,
           0,
           0,
           0
          ],
          "coloraxis": "coloraxis",
          "symbol": "diamond"
         },
         "mode": "markers",
         "name": "0",
         "orientation": "v",
         "showlegend": true,
         "type": "scatter",
         "x": [
          0.47437233784339333,
          -0.49195859945403647,
          1.1792521840055687,
          1.255836142112317,
          0.8180377306976564,
          0.7365041510915981,
          0.6496332706344746,
          0.7595753590603807,
          0.7807848208373274,
          0.7739734531461819
         ],
         "xaxis": "x",
         "y": [
          -0.24462046352314817,
          1.028046306201275,
          0.1226751038091534,
          0.19925906191590173,
          0.7902253895440586,
          1.0249268853636138,
          1.264965682034234,
          1.3081915098218246,
          1.4401499642583746,
          1.6001292481630167
         ],
         "yaxis": "y"
        },
        {
         "hovertemplate": "class=%{marker.color}<br>PC 1=%{x}<br>PC 2=%{y}<extra></extra>",
         "legendgroup": "1",
         "marker": {
          "color": [
           1,
           1,
           1,
           1,
           1
          ],
          "coloraxis": "coloraxis",
          "symbol": "square"
         },
         "mode": "markers",
         "name": "1",
         "orientation": "v",
         "showlegend": true,
         "type": "scatter",
         "x": [
          1.653108921695106,
          2.143193954132094,
          2.2104376357494777,
          1.913410534281662,
          1.5189776922819063
         ],
         "xaxis": "x",
         "y": [
          -1.2701891311613638,
          -1.453938331171358,
          -1.3680140965752459,
          -0.9178190788939333,
          -0.3702183206806809
         ],
         "yaxis": "y"
        }
       ],
       "layout": {
        "coloraxis": {
         "colorbar": {
          "title": {
           "text": "class"
          }
         },
         "colorscale": [
          [
           0,
           "#0d0887"
          ],
          [
           0.1111111111111111,
           "#46039f"
          ],
          [
           0.2222222222222222,
           "#7201a8"
          ],
          [
           0.3333333333333333,
           "#9c179e"
          ],
          [
           0.4444444444444444,
           "#bd3786"
          ],
          [
           0.5555555555555556,
           "#d8576b"
          ],
          [
           0.6666666666666666,
           "#ed7953"
          ],
          [
           0.7777777777777778,
           "#fb9f3a"
          ],
          [
           0.8888888888888888,
           "#fdca26"
          ],
          [
           1,
           "#f0f921"
          ]
         ]
        },
        "legend": {
         "title": {
          "text": "class"
         },
         "tracegroupgap": 0,
         "x": 0,
         "y": 1
        },
        "margin": {
         "t": 60
        },
        "template": {
         "data": {
          "bar": [
           {
            "error_x": {
             "color": "#2a3f5f"
            },
            "error_y": {
             "color": "#2a3f5f"
            },
            "marker": {
             "line": {
              "color": "#E5ECF6",
              "width": 0.5
             },
             "pattern": {
              "fillmode": "overlay",
              "size": 10,
              "solidity": 0.2
             }
            },
            "type": "bar"
           }
          ],
          "barpolar": [
           {
            "marker": {
             "line": {
              "color": "#E5ECF6",
              "width": 0.5
             },
             "pattern": {
              "fillmode": "overlay",
              "size": 10,
              "solidity": 0.2
             }
            },
            "type": "barpolar"
           }
          ],
          "carpet": [
           {
            "aaxis": {
             "endlinecolor": "#2a3f5f",
             "gridcolor": "white",
             "linecolor": "white",
             "minorgridcolor": "white",
             "startlinecolor": "#2a3f5f"
            },
            "baxis": {
             "endlinecolor": "#2a3f5f",
             "gridcolor": "white",
             "linecolor": "white",
             "minorgridcolor": "white",
             "startlinecolor": "#2a3f5f"
            },
            "type": "carpet"
           }
          ],
          "choropleth": [
           {
            "colorbar": {
             "outlinewidth": 0,
             "ticks": ""
            },
            "type": "choropleth"
           }
          ],
          "contour": [
           {
            "colorbar": {
             "outlinewidth": 0,
             "ticks": ""
            },
            "colorscale": [
             [
              0,
              "#0d0887"
             ],
             [
              0.1111111111111111,
              "#46039f"
             ],
             [
              0.2222222222222222,
              "#7201a8"
             ],
             [
              0.3333333333333333,
              "#9c179e"
             ],
             [
              0.4444444444444444,
              "#bd3786"
             ],
             [
              0.5555555555555556,
              "#d8576b"
             ],
             [
              0.6666666666666666,
              "#ed7953"
             ],
             [
              0.7777777777777778,
              "#fb9f3a"
             ],
             [
              0.8888888888888888,
              "#fdca26"
             ],
             [
              1,
              "#f0f921"
             ]
            ],
            "type": "contour"
           }
          ],
          "contourcarpet": [
           {
            "colorbar": {
             "outlinewidth": 0,
             "ticks": ""
            },
            "type": "contourcarpet"
           }
          ],
          "heatmap": [
           {
            "colorbar": {
             "outlinewidth": 0,
             "ticks": ""
            },
            "colorscale": [
             [
              0,
              "#0d0887"
             ],
             [
              0.1111111111111111,
              "#46039f"
             ],
             [
              0.2222222222222222,
              "#7201a8"
             ],
             [
              0.3333333333333333,
              "#9c179e"
             ],
             [
              0.4444444444444444,
              "#bd3786"
             ],
             [
              0.5555555555555556,
              "#d8576b"
             ],
             [
              0.6666666666666666,
              "#ed7953"
             ],
             [
              0.7777777777777778,
              "#fb9f3a"
             ],
             [
              0.8888888888888888,
              "#fdca26"
             ],
             [
              1,
              "#f0f921"
             ]
            ],
            "type": "heatmap"
           }
          ],
          "heatmapgl": [
           {
            "colorbar": {
             "outlinewidth": 0,
             "ticks": ""
            },
            "colorscale": [
             [
              0,
              "#0d0887"
             ],
             [
              0.1111111111111111,
              "#46039f"
             ],
             [
              0.2222222222222222,
              "#7201a8"
             ],
             [
              0.3333333333333333,
              "#9c179e"
             ],
             [
              0.4444444444444444,
              "#bd3786"
             ],
             [
              0.5555555555555556,
              "#d8576b"
             ],
             [
              0.6666666666666666,
              "#ed7953"
             ],
             [
              0.7777777777777778,
              "#fb9f3a"
             ],
             [
              0.8888888888888888,
              "#fdca26"
             ],
             [
              1,
              "#f0f921"
             ]
            ],
            "type": "heatmapgl"
           }
          ],
          "histogram": [
           {
            "marker": {
             "pattern": {
              "fillmode": "overlay",
              "size": 10,
              "solidity": 0.2
             }
            },
            "type": "histogram"
           }
          ],
          "histogram2d": [
           {
            "colorbar": {
             "outlinewidth": 0,
             "ticks": ""
            },
            "colorscale": [
             [
              0,
              "#0d0887"
             ],
             [
              0.1111111111111111,
              "#46039f"
             ],
             [
              0.2222222222222222,
              "#7201a8"
             ],
             [
              0.3333333333333333,
              "#9c179e"
             ],
             [
              0.4444444444444444,
              "#bd3786"
             ],
             [
              0.5555555555555556,
              "#d8576b"
             ],
             [
              0.6666666666666666,
              "#ed7953"
             ],
             [
              0.7777777777777778,
              "#fb9f3a"
             ],
             [
              0.8888888888888888,
              "#fdca26"
             ],
             [
              1,
              "#f0f921"
             ]
            ],
            "type": "histogram2d"
           }
          ],
          "histogram2dcontour": [
           {
            "colorbar": {
             "outlinewidth": 0,
             "ticks": ""
            },
            "colorscale": [
             [
              0,
              "#0d0887"
             ],
             [
              0.1111111111111111,
              "#46039f"
             ],
             [
              0.2222222222222222,
              "#7201a8"
             ],
             [
              0.3333333333333333,
              "#9c179e"
             ],
             [
              0.4444444444444444,
              "#bd3786"
             ],
             [
              0.5555555555555556,
              "#d8576b"
             ],
             [
              0.6666666666666666,
              "#ed7953"
             ],
             [
              0.7777777777777778,
              "#fb9f3a"
             ],
             [
              0.8888888888888888,
              "#fdca26"
             ],
             [
              1,
              "#f0f921"
             ]
            ],
            "type": "histogram2dcontour"
           }
          ],
          "mesh3d": [
           {
            "colorbar": {
             "outlinewidth": 0,
             "ticks": ""
            },
            "type": "mesh3d"
           }
          ],
          "parcoords": [
           {
            "line": {
             "colorbar": {
              "outlinewidth": 0,
              "ticks": ""
             }
            },
            "type": "parcoords"
           }
          ],
          "pie": [
           {
            "automargin": true,
            "type": "pie"
           }
          ],
          "scatter": [
           {
            "fillpattern": {
             "fillmode": "overlay",
             "size": 10,
             "solidity": 0.2
            },
            "type": "scatter"
           }
          ],
          "scatter3d": [
           {
            "line": {
             "colorbar": {
              "outlinewidth": 0,
              "ticks": ""
             }
            },
            "marker": {
             "colorbar": {
              "outlinewidth": 0,
              "ticks": ""
             }
            },
            "type": "scatter3d"
           }
          ],
          "scattercarpet": [
           {
            "marker": {
             "colorbar": {
              "outlinewidth": 0,
              "ticks": ""
             }
            },
            "type": "scattercarpet"
           }
          ],
          "scattergeo": [
           {
            "marker": {
             "colorbar": {
              "outlinewidth": 0,
              "ticks": ""
             }
            },
            "type": "scattergeo"
           }
          ],
          "scattergl": [
           {
            "marker": {
             "colorbar": {
              "outlinewidth": 0,
              "ticks": ""
             }
            },
            "type": "scattergl"
           }
          ],
          "scattermapbox": [
           {
            "marker": {
             "colorbar": {
              "outlinewidth": 0,
              "ticks": ""
             }
            },
            "type": "scattermapbox"
           }
          ],
          "scatterpolar": [
           {
            "marker": {
             "colorbar": {
              "outlinewidth": 0,
              "ticks": ""
             }
            },
            "type": "scatterpolar"
           }
          ],
          "scatterpolargl": [
           {
            "marker": {
             "colorbar": {
              "outlinewidth": 0,
              "ticks": ""
             }
            },
            "type": "scatterpolargl"
           }
          ],
          "scatterternary": [
           {
            "marker": {
             "colorbar": {
              "outlinewidth": 0,
              "ticks": ""
             }
            },
            "type": "scatterternary"
           }
          ],
          "surface": [
           {
            "colorbar": {
             "outlinewidth": 0,
             "ticks": ""
            },
            "colorscale": [
             [
              0,
              "#0d0887"
             ],
             [
              0.1111111111111111,
              "#46039f"
             ],
             [
              0.2222222222222222,
              "#7201a8"
             ],
             [
              0.3333333333333333,
              "#9c179e"
             ],
             [
              0.4444444444444444,
              "#bd3786"
             ],
             [
              0.5555555555555556,
              "#d8576b"
             ],
             [
              0.6666666666666666,
              "#ed7953"
             ],
             [
              0.7777777777777778,
              "#fb9f3a"
             ],
             [
              0.8888888888888888,
              "#fdca26"
             ],
             [
              1,
              "#f0f921"
             ]
            ],
            "type": "surface"
           }
          ],
          "table": [
           {
            "cells": {
             "fill": {
              "color": "#EBF0F8"
             },
             "line": {
              "color": "white"
             }
            },
            "header": {
             "fill": {
              "color": "#C8D4E3"
             },
             "line": {
              "color": "white"
             }
            },
            "type": "table"
           }
          ]
         },
         "layout": {
          "annotationdefaults": {
           "arrowcolor": "#2a3f5f",
           "arrowhead": 0,
           "arrowwidth": 1
          },
          "autotypenumbers": "strict",
          "coloraxis": {
           "colorbar": {
            "outlinewidth": 0,
            "ticks": ""
           }
          },
          "colorscale": {
           "diverging": [
            [
             0,
             "#8e0152"
            ],
            [
             0.1,
             "#c51b7d"
            ],
            [
             0.2,
             "#de77ae"
            ],
            [
             0.3,
             "#f1b6da"
            ],
            [
             0.4,
             "#fde0ef"
            ],
            [
             0.5,
             "#f7f7f7"
            ],
            [
             0.6,
             "#e6f5d0"
            ],
            [
             0.7,
             "#b8e186"
            ],
            [
             0.8,
             "#7fbc41"
            ],
            [
             0.9,
             "#4d9221"
            ],
            [
             1,
             "#276419"
            ]
           ],
           "sequential": [
            [
             0,
             "#0d0887"
            ],
            [
             0.1111111111111111,
             "#46039f"
            ],
            [
             0.2222222222222222,
             "#7201a8"
            ],
            [
             0.3333333333333333,
             "#9c179e"
            ],
            [
             0.4444444444444444,
             "#bd3786"
            ],
            [
             0.5555555555555556,
             "#d8576b"
            ],
            [
             0.6666666666666666,
             "#ed7953"
            ],
            [
             0.7777777777777778,
             "#fb9f3a"
            ],
            [
             0.8888888888888888,
             "#fdca26"
            ],
            [
             1,
             "#f0f921"
            ]
           ],
           "sequentialminus": [
            [
             0,
             "#0d0887"
            ],
            [
             0.1111111111111111,
             "#46039f"
            ],
            [
             0.2222222222222222,
             "#7201a8"
            ],
            [
             0.3333333333333333,
             "#9c179e"
            ],
            [
             0.4444444444444444,
             "#bd3786"
            ],
            [
             0.5555555555555556,
             "#d8576b"
            ],
            [
             0.6666666666666666,
             "#ed7953"
            ],
            [
             0.7777777777777778,
             "#fb9f3a"
            ],
            [
             0.8888888888888888,
             "#fdca26"
            ],
            [
             1,
             "#f0f921"
            ]
           ]
          },
          "colorway": [
           "#636efa",
           "#EF553B",
           "#00cc96",
           "#ab63fa",
           "#FFA15A",
           "#19d3f3",
           "#FF6692",
           "#B6E880",
           "#FF97FF",
           "#FECB52"
          ],
          "font": {
           "color": "#2a3f5f"
          },
          "geo": {
           "bgcolor": "white",
           "lakecolor": "white",
           "landcolor": "#E5ECF6",
           "showlakes": true,
           "showland": true,
           "subunitcolor": "white"
          },
          "hoverlabel": {
           "align": "left"
          },
          "hovermode": "closest",
          "mapbox": {
           "style": "light"
          },
          "paper_bgcolor": "white",
          "plot_bgcolor": "#E5ECF6",
          "polar": {
           "angularaxis": {
            "gridcolor": "white",
            "linecolor": "white",
            "ticks": ""
           },
           "bgcolor": "#E5ECF6",
           "radialaxis": {
            "gridcolor": "white",
            "linecolor": "white",
            "ticks": ""
           }
          },
          "scene": {
           "xaxis": {
            "backgroundcolor": "#E5ECF6",
            "gridcolor": "white",
            "gridwidth": 2,
            "linecolor": "white",
            "showbackground": true,
            "ticks": "",
            "zerolinecolor": "white"
           },
           "yaxis": {
            "backgroundcolor": "#E5ECF6",
            "gridcolor": "white",
            "gridwidth": 2,
            "linecolor": "white",
            "showbackground": true,
            "ticks": "",
            "zerolinecolor": "white"
           },
           "zaxis": {
            "backgroundcolor": "#E5ECF6",
            "gridcolor": "white",
            "gridwidth": 2,
            "linecolor": "white",
            "showbackground": true,
            "ticks": "",
            "zerolinecolor": "white"
           }
          },
          "shapedefaults": {
           "line": {
            "color": "#2a3f5f"
           }
          },
          "ternary": {
           "aaxis": {
            "gridcolor": "white",
            "linecolor": "white",
            "ticks": ""
           },
           "baxis": {
            "gridcolor": "white",
            "linecolor": "white",
            "ticks": ""
           },
           "bgcolor": "#E5ECF6",
           "caxis": {
            "gridcolor": "white",
            "linecolor": "white",
            "ticks": ""
           }
          },
          "title": {
           "x": 0.05
          },
          "xaxis": {
           "automargin": true,
           "gridcolor": "white",
           "linecolor": "white",
           "ticks": "",
           "title": {
            "standoff": 15
           },
           "zerolinecolor": "white",
           "zerolinewidth": 2
          },
          "yaxis": {
           "automargin": true,
           "gridcolor": "white",
           "linecolor": "white",
           "ticks": "",
           "title": {
            "standoff": 15
           },
           "zerolinecolor": "white",
           "zerolinewidth": 2
          }
         }
        },
        "width": 800,
        "xaxis": {
         "anchor": "y",
         "domain": [
          0,
          1
         ],
         "title": {
          "text": "PC 1"
         }
        },
        "yaxis": {
         "anchor": "x",
         "domain": [
          0,
          1
         ],
         "title": {
          "text": "PC 2"
         }
        }
       }
      },
      "text/html": [
       "<div>                            <div id=\"c90d1f5c-de56-4b7a-bc06-6eb69b7dcb30\" class=\"plotly-graph-div\" style=\"height:525px; width:800px;\"></div>            <script type=\"text/javascript\">                require([\"plotly\"], function(Plotly) {                    window.PLOTLYENV=window.PLOTLYENV || {};                                    if (document.getElementById(\"c90d1f5c-de56-4b7a-bc06-6eb69b7dcb30\")) {                    Plotly.newPlot(                        \"c90d1f5c-de56-4b7a-bc06-6eb69b7dcb30\",                        [{\"hovertemplate\":\"class=%{marker.color}<br>PC 1=%{x}<br>PC 2=%{y}<extra></extra>\",\"legendgroup\":\"2\",\"marker\":{\"color\":[2,2,2,2,2,2,2,2,2,2,2,2,2,2,2,2,2],\"coloraxis\":\"coloraxis\",\"symbol\":\"circle\"},\"mode\":\"markers\",\"name\":\"2\",\"orientation\":\"v\",\"showlegend\":true,\"x\":[-1.315250815237412,-1.2913727030349322,-1.3141959732792734,-1.3423565443746794,-1.2857874644594256,-1.1791811890654353,-1.0992614179267715,-1.0633743788093952,-1.022150038840954,-0.9188795764788795,-0.7855867968295633,-0.7577057089887851,-0.7571782880097159,-0.753982216605114,-0.6787325837111318,-0.5527785927320304,-0.2573652997316087],\"xaxis\":\"x\",\"y\":[-1.0588518860717873,-0.9295620820607698,-0.7535708956029321,-0.5722424082940292,-0.4756435719957863,-0.42908193117627963,-0.35583378610144717,-0.23855290900532677,-0.12660933276027128,-0.07671187890884898,-0.05683674234466848,0.0684500860280499,0.2210905812624773,0.3710624260713722,0.44898070939088675,0.47619463462528205,0.333949257838357],\"yaxis\":\"y\",\"type\":\"scatter\"},{\"hovertemplate\":\"class=%{marker.color}<br>PC 1=%{x}<br>PC 2=%{y}<extra></extra>\",\"legendgroup\":\"0\",\"marker\":{\"color\":[0,0,0,0,0,0,0,0,0,0],\"coloraxis\":\"coloraxis\",\"symbol\":\"diamond\"},\"mode\":\"markers\",\"name\":\"0\",\"orientation\":\"v\",\"showlegend\":true,\"x\":[0.47437233784339333,-0.49195859945403647,1.1792521840055687,1.255836142112317,0.8180377306976564,0.7365041510915981,0.6496332706344746,0.7595753590603807,0.7807848208373274,0.7739734531461819],\"xaxis\":\"x\",\"y\":[-0.24462046352314817,1.028046306201275,0.1226751038091534,0.19925906191590173,0.7902253895440586,1.0249268853636138,1.264965682034234,1.3081915098218246,1.4401499642583746,1.6001292481630167],\"yaxis\":\"y\",\"type\":\"scatter\"},{\"hovertemplate\":\"class=%{marker.color}<br>PC 1=%{x}<br>PC 2=%{y}<extra></extra>\",\"legendgroup\":\"1\",\"marker\":{\"color\":[1,1,1,1,1],\"coloraxis\":\"coloraxis\",\"symbol\":\"square\"},\"mode\":\"markers\",\"name\":\"1\",\"orientation\":\"v\",\"showlegend\":true,\"x\":[1.653108921695106,2.143193954132094,2.2104376357494777,1.913410534281662,1.5189776922819063],\"xaxis\":\"x\",\"y\":[-1.2701891311613638,-1.453938331171358,-1.3680140965752459,-0.9178190788939333,-0.3702183206806809],\"yaxis\":\"y\",\"type\":\"scatter\"}],                        {\"template\":{\"data\":{\"histogram2dcontour\":[{\"type\":\"histogram2dcontour\",\"colorbar\":{\"outlinewidth\":0,\"ticks\":\"\"},\"colorscale\":[[0.0,\"#0d0887\"],[0.1111111111111111,\"#46039f\"],[0.2222222222222222,\"#7201a8\"],[0.3333333333333333,\"#9c179e\"],[0.4444444444444444,\"#bd3786\"],[0.5555555555555556,\"#d8576b\"],[0.6666666666666666,\"#ed7953\"],[0.7777777777777778,\"#fb9f3a\"],[0.8888888888888888,\"#fdca26\"],[1.0,\"#f0f921\"]]}],\"choropleth\":[{\"type\":\"choropleth\",\"colorbar\":{\"outlinewidth\":0,\"ticks\":\"\"}}],\"histogram2d\":[{\"type\":\"histogram2d\",\"colorbar\":{\"outlinewidth\":0,\"ticks\":\"\"},\"colorscale\":[[0.0,\"#0d0887\"],[0.1111111111111111,\"#46039f\"],[0.2222222222222222,\"#7201a8\"],[0.3333333333333333,\"#9c179e\"],[0.4444444444444444,\"#bd3786\"],[0.5555555555555556,\"#d8576b\"],[0.6666666666666666,\"#ed7953\"],[0.7777777777777778,\"#fb9f3a\"],[0.8888888888888888,\"#fdca26\"],[1.0,\"#f0f921\"]]}],\"heatmap\":[{\"type\":\"heatmap\",\"colorbar\":{\"outlinewidth\":0,\"ticks\":\"\"},\"colorscale\":[[0.0,\"#0d0887\"],[0.1111111111111111,\"#46039f\"],[0.2222222222222222,\"#7201a8\"],[0.3333333333333333,\"#9c179e\"],[0.4444444444444444,\"#bd3786\"],[0.5555555555555556,\"#d8576b\"],[0.6666666666666666,\"#ed7953\"],[0.7777777777777778,\"#fb9f3a\"],[0.8888888888888888,\"#fdca26\"],[1.0,\"#f0f921\"]]}],\"heatmapgl\":[{\"type\":\"heatmapgl\",\"colorbar\":{\"outlinewidth\":0,\"ticks\":\"\"},\"colorscale\":[[0.0,\"#0d0887\"],[0.1111111111111111,\"#46039f\"],[0.2222222222222222,\"#7201a8\"],[0.3333333333333333,\"#9c179e\"],[0.4444444444444444,\"#bd3786\"],[0.5555555555555556,\"#d8576b\"],[0.6666666666666666,\"#ed7953\"],[0.7777777777777778,\"#fb9f3a\"],[0.8888888888888888,\"#fdca26\"],[1.0,\"#f0f921\"]]}],\"contourcarpet\":[{\"type\":\"contourcarpet\",\"colorbar\":{\"outlinewidth\":0,\"ticks\":\"\"}}],\"contour\":[{\"type\":\"contour\",\"colorbar\":{\"outlinewidth\":0,\"ticks\":\"\"},\"colorscale\":[[0.0,\"#0d0887\"],[0.1111111111111111,\"#46039f\"],[0.2222222222222222,\"#7201a8\"],[0.3333333333333333,\"#9c179e\"],[0.4444444444444444,\"#bd3786\"],[0.5555555555555556,\"#d8576b\"],[0.6666666666666666,\"#ed7953\"],[0.7777777777777778,\"#fb9f3a\"],[0.8888888888888888,\"#fdca26\"],[1.0,\"#f0f921\"]]}],\"surface\":[{\"type\":\"surface\",\"colorbar\":{\"outlinewidth\":0,\"ticks\":\"\"},\"colorscale\":[[0.0,\"#0d0887\"],[0.1111111111111111,\"#46039f\"],[0.2222222222222222,\"#7201a8\"],[0.3333333333333333,\"#9c179e\"],[0.4444444444444444,\"#bd3786\"],[0.5555555555555556,\"#d8576b\"],[0.6666666666666666,\"#ed7953\"],[0.7777777777777778,\"#fb9f3a\"],[0.8888888888888888,\"#fdca26\"],[1.0,\"#f0f921\"]]}],\"mesh3d\":[{\"type\":\"mesh3d\",\"colorbar\":{\"outlinewidth\":0,\"ticks\":\"\"}}],\"scatter\":[{\"fillpattern\":{\"fillmode\":\"overlay\",\"size\":10,\"solidity\":0.2},\"type\":\"scatter\"}],\"parcoords\":[{\"type\":\"parcoords\",\"line\":{\"colorbar\":{\"outlinewidth\":0,\"ticks\":\"\"}}}],\"scatterpolargl\":[{\"type\":\"scatterpolargl\",\"marker\":{\"colorbar\":{\"outlinewidth\":0,\"ticks\":\"\"}}}],\"bar\":[{\"error_x\":{\"color\":\"#2a3f5f\"},\"error_y\":{\"color\":\"#2a3f5f\"},\"marker\":{\"line\":{\"color\":\"#E5ECF6\",\"width\":0.5},\"pattern\":{\"fillmode\":\"overlay\",\"size\":10,\"solidity\":0.2}},\"type\":\"bar\"}],\"scattergeo\":[{\"type\":\"scattergeo\",\"marker\":{\"colorbar\":{\"outlinewidth\":0,\"ticks\":\"\"}}}],\"scatterpolar\":[{\"type\":\"scatterpolar\",\"marker\":{\"colorbar\":{\"outlinewidth\":0,\"ticks\":\"\"}}}],\"histogram\":[{\"marker\":{\"pattern\":{\"fillmode\":\"overlay\",\"size\":10,\"solidity\":0.2}},\"type\":\"histogram\"}],\"scattergl\":[{\"type\":\"scattergl\",\"marker\":{\"colorbar\":{\"outlinewidth\":0,\"ticks\":\"\"}}}],\"scatter3d\":[{\"type\":\"scatter3d\",\"line\":{\"colorbar\":{\"outlinewidth\":0,\"ticks\":\"\"}},\"marker\":{\"colorbar\":{\"outlinewidth\":0,\"ticks\":\"\"}}}],\"scattermapbox\":[{\"type\":\"scattermapbox\",\"marker\":{\"colorbar\":{\"outlinewidth\":0,\"ticks\":\"\"}}}],\"scatterternary\":[{\"type\":\"scatterternary\",\"marker\":{\"colorbar\":{\"outlinewidth\":0,\"ticks\":\"\"}}}],\"scattercarpet\":[{\"type\":\"scattercarpet\",\"marker\":{\"colorbar\":{\"outlinewidth\":0,\"ticks\":\"\"}}}],\"carpet\":[{\"aaxis\":{\"endlinecolor\":\"#2a3f5f\",\"gridcolor\":\"white\",\"linecolor\":\"white\",\"minorgridcolor\":\"white\",\"startlinecolor\":\"#2a3f5f\"},\"baxis\":{\"endlinecolor\":\"#2a3f5f\",\"gridcolor\":\"white\",\"linecolor\":\"white\",\"minorgridcolor\":\"white\",\"startlinecolor\":\"#2a3f5f\"},\"type\":\"carpet\"}],\"table\":[{\"cells\":{\"fill\":{\"color\":\"#EBF0F8\"},\"line\":{\"color\":\"white\"}},\"header\":{\"fill\":{\"color\":\"#C8D4E3\"},\"line\":{\"color\":\"white\"}},\"type\":\"table\"}],\"barpolar\":[{\"marker\":{\"line\":{\"color\":\"#E5ECF6\",\"width\":0.5},\"pattern\":{\"fillmode\":\"overlay\",\"size\":10,\"solidity\":0.2}},\"type\":\"barpolar\"}],\"pie\":[{\"automargin\":true,\"type\":\"pie\"}]},\"layout\":{\"autotypenumbers\":\"strict\",\"colorway\":[\"#636efa\",\"#EF553B\",\"#00cc96\",\"#ab63fa\",\"#FFA15A\",\"#19d3f3\",\"#FF6692\",\"#B6E880\",\"#FF97FF\",\"#FECB52\"],\"font\":{\"color\":\"#2a3f5f\"},\"hovermode\":\"closest\",\"hoverlabel\":{\"align\":\"left\"},\"paper_bgcolor\":\"white\",\"plot_bgcolor\":\"#E5ECF6\",\"polar\":{\"bgcolor\":\"#E5ECF6\",\"angularaxis\":{\"gridcolor\":\"white\",\"linecolor\":\"white\",\"ticks\":\"\"},\"radialaxis\":{\"gridcolor\":\"white\",\"linecolor\":\"white\",\"ticks\":\"\"}},\"ternary\":{\"bgcolor\":\"#E5ECF6\",\"aaxis\":{\"gridcolor\":\"white\",\"linecolor\":\"white\",\"ticks\":\"\"},\"baxis\":{\"gridcolor\":\"white\",\"linecolor\":\"white\",\"ticks\":\"\"},\"caxis\":{\"gridcolor\":\"white\",\"linecolor\":\"white\",\"ticks\":\"\"}},\"coloraxis\":{\"colorbar\":{\"outlinewidth\":0,\"ticks\":\"\"}},\"colorscale\":{\"sequential\":[[0.0,\"#0d0887\"],[0.1111111111111111,\"#46039f\"],[0.2222222222222222,\"#7201a8\"],[0.3333333333333333,\"#9c179e\"],[0.4444444444444444,\"#bd3786\"],[0.5555555555555556,\"#d8576b\"],[0.6666666666666666,\"#ed7953\"],[0.7777777777777778,\"#fb9f3a\"],[0.8888888888888888,\"#fdca26\"],[1.0,\"#f0f921\"]],\"sequentialminus\":[[0.0,\"#0d0887\"],[0.1111111111111111,\"#46039f\"],[0.2222222222222222,\"#7201a8\"],[0.3333333333333333,\"#9c179e\"],[0.4444444444444444,\"#bd3786\"],[0.5555555555555556,\"#d8576b\"],[0.6666666666666666,\"#ed7953\"],[0.7777777777777778,\"#fb9f3a\"],[0.8888888888888888,\"#fdca26\"],[1.0,\"#f0f921\"]],\"diverging\":[[0,\"#8e0152\"],[0.1,\"#c51b7d\"],[0.2,\"#de77ae\"],[0.3,\"#f1b6da\"],[0.4,\"#fde0ef\"],[0.5,\"#f7f7f7\"],[0.6,\"#e6f5d0\"],[0.7,\"#b8e186\"],[0.8,\"#7fbc41\"],[0.9,\"#4d9221\"],[1,\"#276419\"]]},\"xaxis\":{\"gridcolor\":\"white\",\"linecolor\":\"white\",\"ticks\":\"\",\"title\":{\"standoff\":15},\"zerolinecolor\":\"white\",\"automargin\":true,\"zerolinewidth\":2},\"yaxis\":{\"gridcolor\":\"white\",\"linecolor\":\"white\",\"ticks\":\"\",\"title\":{\"standoff\":15},\"zerolinecolor\":\"white\",\"automargin\":true,\"zerolinewidth\":2},\"scene\":{\"xaxis\":{\"backgroundcolor\":\"#E5ECF6\",\"gridcolor\":\"white\",\"linecolor\":\"white\",\"showbackground\":true,\"ticks\":\"\",\"zerolinecolor\":\"white\",\"gridwidth\":2},\"yaxis\":{\"backgroundcolor\":\"#E5ECF6\",\"gridcolor\":\"white\",\"linecolor\":\"white\",\"showbackground\":true,\"ticks\":\"\",\"zerolinecolor\":\"white\",\"gridwidth\":2},\"zaxis\":{\"backgroundcolor\":\"#E5ECF6\",\"gridcolor\":\"white\",\"linecolor\":\"white\",\"showbackground\":true,\"ticks\":\"\",\"zerolinecolor\":\"white\",\"gridwidth\":2}},\"shapedefaults\":{\"line\":{\"color\":\"#2a3f5f\"}},\"annotationdefaults\":{\"arrowcolor\":\"#2a3f5f\",\"arrowhead\":0,\"arrowwidth\":1},\"geo\":{\"bgcolor\":\"white\",\"landcolor\":\"#E5ECF6\",\"subunitcolor\":\"white\",\"showland\":true,\"showlakes\":true,\"lakecolor\":\"white\"},\"title\":{\"x\":0.05},\"mapbox\":{\"style\":\"light\"}}},\"xaxis\":{\"anchor\":\"y\",\"domain\":[0.0,1.0],\"title\":{\"text\":\"PC 1\"}},\"yaxis\":{\"anchor\":\"x\",\"domain\":[0.0,1.0],\"title\":{\"text\":\"PC 2\"}},\"coloraxis\":{\"colorbar\":{\"title\":{\"text\":\"class\"}},\"colorscale\":[[0.0,\"#0d0887\"],[0.1111111111111111,\"#46039f\"],[0.2222222222222222,\"#7201a8\"],[0.3333333333333333,\"#9c179e\"],[0.4444444444444444,\"#bd3786\"],[0.5555555555555556,\"#d8576b\"],[0.6666666666666666,\"#ed7953\"],[0.7777777777777778,\"#fb9f3a\"],[0.8888888888888888,\"#fdca26\"],[1.0,\"#f0f921\"]]},\"legend\":{\"title\":{\"text\":\"class\"},\"tracegroupgap\":0,\"x\":0,\"y\":1},\"margin\":{\"t\":60},\"width\":800},                        {\"responsive\": true}                    ).then(function(){\n",
       "                            \n",
       "var gd = document.getElementById('c90d1f5c-de56-4b7a-bc06-6eb69b7dcb30');\n",
       "var x = new MutationObserver(function (mutations, observer) {{\n",
       "        var display = window.getComputedStyle(gd).display;\n",
       "        if (!display || display === 'none') {{\n",
       "            console.log([gd, 'removed!']);\n",
       "            Plotly.purge(gd);\n",
       "            observer.disconnect();\n",
       "        }}\n",
       "}});\n",
       "\n",
       "// Listen for the removal of the full notebook cells\n",
       "var notebookContainer = gd.closest('#notebook-container');\n",
       "if (notebookContainer) {{\n",
       "    x.observe(notebookContainer, {childList: true});\n",
       "}}\n",
       "\n",
       "// Listen for the clearing of the current output cell\n",
       "var outputEl = gd.closest('.output');\n",
       "if (outputEl) {{\n",
       "    x.observe(outputEl, {childList: true});\n",
       "}}\n",
       "\n",
       "                        })                };                });            </script>        </div>"
      ]
     },
     "metadata": {},
     "output_type": "display_data"
    }
   ],
   "source": [
    "# Creating a 3D-Scatter with the PCA data and the clusters\n",
    "# Plot the 3D-scatter with x=\"Annual Income\", y=\"Spending Score (1-100)\" and z=\"Age\"\n",
    "fig = px.scatter(\n",
    "    foreclosure_master_df_ave,\n",
    "    x=\"PC 1\",\n",
    "    y=\"PC 2\",\n",
    "    color=\"class\",\n",
    "    symbol=\"class\",\n",
    "    width=800,\n",
    ")\n",
    "fig.update_layout(legend=dict(x=0, y=1))\n",
    "fig.show()"
   ]
  },
  {
   "cell_type": "code",
   "execution_count": null,
   "id": "3d5c1789",
   "metadata": {},
   "outputs": [],
   "source": []
  },
  {
   "cell_type": "code",
   "execution_count": null,
   "id": "6690f5fc",
   "metadata": {},
   "outputs": [],
   "source": []
  },
  {
   "cell_type": "code",
   "execution_count": null,
   "id": "fdf48813",
   "metadata": {},
   "outputs": [],
   "source": []
  },
  {
   "cell_type": "code",
   "execution_count": null,
   "id": "79436b8b",
   "metadata": {},
   "outputs": [],
   "source": []
  },
  {
   "cell_type": "code",
   "execution_count": null,
   "id": "ff759277",
   "metadata": {},
   "outputs": [],
   "source": []
  },
  {
   "cell_type": "code",
   "execution_count": 12,
   "id": "808827d6",
   "metadata": {},
   "outputs": [
    {
     "data": {
      "text/plain": [
       "KMeans(n_clusters=3, random_state=5)"
      ]
     },
     "execution_count": 12,
     "metadata": {},
     "output_type": "execute_result"
    }
   ],
   "source": [
    "#Initialize model with K = 3(we know there are three classes of iris plants)\n",
    "model = KMeans(n_clusters=3, random_state=5)\n",
    "model"
   ]
  },
  {
   "cell_type": "code",
   "execution_count": 13,
   "id": "fb782587",
   "metadata": {},
   "outputs": [
    {
     "data": {
      "text/plain": [
       "KMeans(n_clusters=3, random_state=5)"
      ]
     },
     "execution_count": 13,
     "metadata": {},
     "output_type": "execute_result"
    }
   ],
   "source": [
    "# Fitting model -there is no training and testing because Kmeans will do it for you \n",
    "model.fit(foreclosure_master_df_ave)"
   ]
  },
  {
   "cell_type": "code",
   "execution_count": 14,
   "id": "6175c3ba",
   "metadata": {},
   "outputs": [
    {
     "name": "stdout",
     "output_type": "stream",
     "text": [
      "[0 0 0 0 0 0 0 0 0 0 0 2 2 2 2 2 2 2 2 2 1 1 1 1 1 1 1 1 1 1 1 1]\n"
     ]
    }
   ],
   "source": [
    "#group data points and ger predicitions\n",
    "predictions = model.predict(foreclosure_master_df_ave)\n",
    "print(predictions)"
   ]
  },
  {
   "cell_type": "code",
   "execution_count": 21,
   "id": "6ee806ab",
   "metadata": {},
   "outputs": [
    {
     "name": "stdout",
     "output_type": "stream",
     "text": [
      "    Year  Ave. Foreclosure  class  Predictions\n",
      "0   1991            3.1800      2            0\n",
      "1   1992            2.9825      2            0\n",
      "2   1993            2.6100      2            0\n",
      "3   1994            2.2175      2            0\n",
      "4   1995            2.1425      2            0\n",
      "5   1996            2.2550      2            0\n",
      "6   1997            2.2675      4            0\n",
      "7   1998            2.1150      4            0\n",
      "8   1999            1.9825      4            0\n",
      "9   2000            2.0825      4            0\n",
      "10  2001            2.2950      4            0\n",
      "11  2002            2.1125      4            2\n",
      "12  2003            1.8275      0            2\n",
      "13  2004            1.5525      0            2\n",
      "14  2005            1.5475      0            2\n",
      "15  2006            1.7325      0            2\n",
      "16  2007            2.5525      0            2\n",
      "17  2008            5.0075      0            2\n",
      "18  2009            9.1375      3            2\n",
      "19  2010            0.8125      0            2\n",
      "20  2011           10.4000      3            1\n",
      "21  2012           10.3650      3            1\n",
      "22  2013            8.9650      3            1\n",
      "23  2014            7.2000      3            1\n",
      "24  2015            5.6400      3            1\n",
      "25  2016            5.6400      1            1\n",
      "26  2017            3.7125      1            1\n",
      "27  2018            3.1200      1            1\n",
      "28  2019            2.5075      1            1\n",
      "29  2020            2.6325      1            1\n",
      "30  2021            2.4250      1            1\n",
      "31  2022            2.1125      1            1\n"
     ]
    }
   ],
   "source": [
    "\n",
    "\n",
    "#  Add a new column, \"Class\" to the clustered_df DataFrame that holds the predictions.\n",
    "foreclosure_master_df_ave[\"Predictions\"] = model.labels_\n",
    "\n",
    "print(foreclosure_master_df_ave)\n",
    "# Print the shape of the clustered_df\n",
    "#print(clustered_df.shape)\n",
    "#clustered_df.head(10)"
   ]
  },
  {
   "cell_type": "code",
   "execution_count": 22,
   "id": "e7ee8b0a",
   "metadata": {},
   "outputs": [
    {
     "data": {
      "text/html": [
       "<div>\n",
       "<style scoped>\n",
       "    .dataframe tbody tr th:only-of-type {\n",
       "        vertical-align: middle;\n",
       "    }\n",
       "\n",
       "    .dataframe tbody tr th {\n",
       "        vertical-align: top;\n",
       "    }\n",
       "\n",
       "    .dataframe thead th {\n",
       "        text-align: right;\n",
       "    }\n",
       "</style>\n",
       "<table border=\"1\" class=\"dataframe\">\n",
       "  <thead>\n",
       "    <tr style=\"text-align: right;\">\n",
       "      <th></th>\n",
       "      <th>Year</th>\n",
       "      <th>Ave. Foreclosure</th>\n",
       "      <th>class</th>\n",
       "      <th>Predictions</th>\n",
       "    </tr>\n",
       "  </thead>\n",
       "  <tbody>\n",
       "    <tr>\n",
       "      <th>0</th>\n",
       "      <td>1991</td>\n",
       "      <td>3.1800</td>\n",
       "      <td>2</td>\n",
       "      <td>0</td>\n",
       "    </tr>\n",
       "    <tr>\n",
       "      <th>1</th>\n",
       "      <td>1992</td>\n",
       "      <td>2.9825</td>\n",
       "      <td>2</td>\n",
       "      <td>0</td>\n",
       "    </tr>\n",
       "    <tr>\n",
       "      <th>2</th>\n",
       "      <td>1993</td>\n",
       "      <td>2.6100</td>\n",
       "      <td>2</td>\n",
       "      <td>0</td>\n",
       "    </tr>\n",
       "    <tr>\n",
       "      <th>3</th>\n",
       "      <td>1994</td>\n",
       "      <td>2.2175</td>\n",
       "      <td>2</td>\n",
       "      <td>0</td>\n",
       "    </tr>\n",
       "    <tr>\n",
       "      <th>4</th>\n",
       "      <td>1995</td>\n",
       "      <td>2.1425</td>\n",
       "      <td>2</td>\n",
       "      <td>0</td>\n",
       "    </tr>\n",
       "  </tbody>\n",
       "</table>\n",
       "</div>"
      ],
      "text/plain": [
       "   Year  Ave. Foreclosure  class  Predictions\n",
       "0  1991            3.1800      2            0\n",
       "1  1992            2.9825      2            0\n",
       "2  1993            2.6100      2            0\n",
       "3  1994            2.2175      2            0\n",
       "4  1995            2.1425      2            0"
      ]
     },
     "execution_count": 22,
     "metadata": {},
     "output_type": "execute_result"
    }
   ],
   "source": [
    "# Add a new class column to the df_iris of the predicted class\n",
    "foreclosure_master_df_ave.head()"
   ]
  },
  {
   "cell_type": "code",
   "execution_count": 26,
   "id": "0e4bd7a6",
   "metadata": {},
   "outputs": [
    {
     "data": {},
     "metadata": {},
     "output_type": "display_data"
    },
    {
     "data": {
      "application/vnd.holoviews_exec.v0+json": "",
      "text/html": [
       "<div id='2086'>\n",
       "\n",
       "\n",
       "\n",
       "\n",
       "\n",
       "  <div class=\"bk-root\" id=\"530d2c72-ed9a-4eeb-b093-0c6b9d834d77\" data-root-id=\"2086\"></div>\n",
       "</div>\n",
       "<script type=\"application/javascript\">(function(root) {\n",
       "  function embed_document(root) {\n",
       "    var docs_json = {\"56b11d21-4cef-4bdb-9fcd-c724675f0097\":{\"defs\":[{\"extends\":null,\"module\":null,\"name\":\"ReactiveHTML1\",\"overrides\":[],\"properties\":[]},{\"extends\":null,\"module\":null,\"name\":\"FlexBox1\",\"overrides\":[],\"properties\":[{\"default\":\"flex-start\",\"kind\":null,\"name\":\"align_content\"},{\"default\":\"flex-start\",\"kind\":null,\"name\":\"align_items\"},{\"default\":\"row\",\"kind\":null,\"name\":\"flex_direction\"},{\"default\":\"wrap\",\"kind\":null,\"name\":\"flex_wrap\"},{\"default\":\"flex-start\",\"kind\":null,\"name\":\"justify_content\"}]},{\"extends\":null,\"module\":null,\"name\":\"GridStack1\",\"overrides\":[],\"properties\":[{\"default\":\"warn\",\"kind\":null,\"name\":\"mode\"},{\"default\":null,\"kind\":null,\"name\":\"ncols\"},{\"default\":null,\"kind\":null,\"name\":\"nrows\"},{\"default\":true,\"kind\":null,\"name\":\"allow_resize\"},{\"default\":true,\"kind\":null,\"name\":\"allow_drag\"},{\"default\":[],\"kind\":null,\"name\":\"state\"}]},{\"extends\":null,\"module\":null,\"name\":\"click1\",\"overrides\":[],\"properties\":[{\"default\":\"\",\"kind\":null,\"name\":\"terminal_output\"},{\"default\":\"\",\"kind\":null,\"name\":\"debug_name\"},{\"default\":0,\"kind\":null,\"name\":\"clears\"}]},{\"extends\":null,\"module\":null,\"name\":\"TemplateActions1\",\"overrides\":[],\"properties\":[{\"default\":0,\"kind\":null,\"name\":\"open_modal\"},{\"default\":0,\"kind\":null,\"name\":\"close_modal\"}]},{\"extends\":null,\"module\":null,\"name\":\"MaterialTemplateActions1\",\"overrides\":[],\"properties\":[{\"default\":0,\"kind\":null,\"name\":\"open_modal\"},{\"default\":0,\"kind\":null,\"name\":\"close_modal\"}]}],\"roots\":{\"references\":[{\"attributes\":{},\"id\":\"2122\",\"type\":\"Selection\"},{\"attributes\":{},\"id\":\"2134\",\"type\":\"BasicTickFormatter\"},{\"attributes\":{},\"id\":\"2108\",\"type\":\"SaveTool\"},{\"attributes\":{},\"id\":\"2143\",\"type\":\"UnionRenderers\"},{\"attributes\":{},\"id\":\"2109\",\"type\":\"PanTool\"},{\"attributes\":{\"below\":[{\"id\":\"2100\"}],\"center\":[{\"id\":\"2103\"},{\"id\":\"2107\"}],\"height\":300,\"left\":[{\"id\":\"2104\"}],\"margin\":[5,5,5,5],\"min_border_bottom\":10,\"min_border_left\":10,\"min_border_right\":10,\"min_border_top\":10,\"renderers\":[{\"id\":\"2127\"}],\"sizing_mode\":\"fixed\",\"title\":{\"id\":\"2092\"},\"toolbar\":{\"id\":\"2114\"},\"width\":700,\"x_range\":{\"id\":\"2088\"},\"x_scale\":{\"id\":\"2096\"},\"y_range\":{\"id\":\"2089\"},\"y_scale\":{\"id\":\"2098\"}},\"id\":\"2091\",\"subtype\":\"Figure\",\"type\":\"Plot\"},{\"attributes\":{},\"id\":\"2110\",\"type\":\"WheelZoomTool\"},{\"attributes\":{\"tools\":[{\"id\":\"2090\"},{\"id\":\"2108\"},{\"id\":\"2109\"},{\"id\":\"2110\"},{\"id\":\"2111\"},{\"id\":\"2112\"}]},\"id\":\"2114\",\"type\":\"Toolbar\"},{\"attributes\":{},\"id\":\"2135\",\"type\":\"AllLabels\"},{\"attributes\":{},\"id\":\"2098\",\"type\":\"LinearScale\"},{\"attributes\":{\"overlay\":{\"id\":\"2113\"}},\"id\":\"2111\",\"type\":\"BoxZoomTool\"},{\"attributes\":{\"coordinates\":null,\"group\":null,\"text_color\":\"black\",\"text_font_size\":\"12pt\"},\"id\":\"2092\",\"type\":\"Title\"},{\"attributes\":{\"callback\":null,\"renderers\":[{\"id\":\"2127\"}],\"tags\":[\"hv_created\"],\"tooltips\":[[\"Year\",\"@{Year}\"],[\"Ave. Foreclosure\",\"@{Ave_full_stop_Foreclosure}\"]]},\"id\":\"2090\",\"type\":\"HoverTool\"},{\"attributes\":{\"margin\":[5,5,5,5],\"name\":\"HSpacer03830\",\"sizing_mode\":\"stretch_width\"},\"id\":\"2156\",\"type\":\"Spacer\"},{\"attributes\":{\"fill_alpha\":{\"value\":0.1},\"fill_color\":{\"value\":\"#30a2da\"},\"hatch_alpha\":{\"value\":0.1},\"hatch_color\":{\"value\":\"#30a2da\"},\"line_alpha\":{\"value\":0.1},\"line_color\":{\"value\":\"#30a2da\"},\"size\":{\"value\":5.477225575051661},\"x\":{\"field\":\"Year\"},\"y\":{\"field\":\"Ave. Foreclosure\"}},\"id\":\"2125\",\"type\":\"Scatter\"},{\"attributes\":{},\"id\":\"2112\",\"type\":\"ResetTool\"},{\"attributes\":{\"margin\":[5,5,5,5],\"name\":\"HSpacer03829\",\"sizing_mode\":\"stretch_width\"},\"id\":\"2087\",\"type\":\"Spacer\"},{\"attributes\":{\"bottom_units\":\"screen\",\"coordinates\":null,\"fill_alpha\":0.5,\"fill_color\":\"lightgrey\",\"group\":null,\"left_units\":\"screen\",\"level\":\"overlay\",\"line_alpha\":1.0,\"line_color\":\"black\",\"line_dash\":[4,4],\"line_width\":2,\"right_units\":\"screen\",\"syncable\":false,\"top_units\":\"screen\"},\"id\":\"2113\",\"type\":\"BoxAnnotation\"},{\"attributes\":{\"axis_label\":\"Year\",\"coordinates\":null,\"formatter\":{\"id\":\"2131\"},\"group\":null,\"major_label_policy\":{\"id\":\"2132\"},\"ticker\":{\"id\":\"2101\"}},\"id\":\"2100\",\"type\":\"LinearAxis\"},{\"attributes\":{\"axis\":{\"id\":\"2104\"},\"coordinates\":null,\"dimension\":1,\"grid_line_color\":null,\"group\":null,\"ticker\":null},\"id\":\"2107\",\"type\":\"Grid\"},{\"attributes\":{},\"id\":\"2096\",\"type\":\"LinearScale\"},{\"attributes\":{\"fill_color\":{\"value\":\"#30a2da\"},\"hatch_color\":{\"value\":\"#30a2da\"},\"line_color\":{\"value\":\"#30a2da\"},\"size\":{\"value\":5.477225575051661},\"x\":{\"field\":\"Year\"},\"y\":{\"field\":\"Ave. Foreclosure\"}},\"id\":\"2124\",\"type\":\"Scatter\"},{\"attributes\":{},\"id\":\"2132\",\"type\":\"AllLabels\"},{\"attributes\":{\"fill_alpha\":{\"value\":0.2},\"fill_color\":{\"value\":\"#30a2da\"},\"hatch_alpha\":{\"value\":0.2},\"hatch_color\":{\"value\":\"#30a2da\"},\"line_alpha\":{\"value\":0.2},\"line_color\":{\"value\":\"#30a2da\"},\"size\":{\"value\":5.477225575051661},\"x\":{\"field\":\"Year\"},\"y\":{\"field\":\"Ave. Foreclosure\"}},\"id\":\"2126\",\"type\":\"Scatter\"},{\"attributes\":{\"data\":{\"Ave. Foreclosure\":{\"__ndarray__\":\"cT0K16NwCUBcj8L1KNwHQOF6FK5H4QRAPQrXo3C9AUCkcD0K1yMBQArXo3A9CgJApHA9CtcjAkDsUbgehesAQLgehetRuP8/KVyPwvWoAEBcj8L1KFwCQGZmZmZm5gBAPQrXo3A9/T/Xo3A9Ctf4P8P1KFyPwvg/uB6F61G4+z/sUbgehWsEQEjhehSuBxRAZmZmZmZGIkAAAAAAAADqP83MzMzMzCRAexSuR+G6JECuR+F6FO4hQM3MzMzMzBxAj8L1KFyPFkCPwvUoXI8WQDMzMzMzsw1A9ihcj8L1CECPwvUoXA8EQI/C9ShcDwVAZmZmZmZmA0BmZmZmZuYAQA==\",\"dtype\":\"float64\",\"order\":\"little\",\"shape\":[32]},\"Ave_full_stop_Foreclosure\":{\"__ndarray__\":\"cT0K16NwCUBcj8L1KNwHQOF6FK5H4QRAPQrXo3C9AUCkcD0K1yMBQArXo3A9CgJApHA9CtcjAkDsUbgehesAQLgehetRuP8/KVyPwvWoAEBcj8L1KFwCQGZmZmZm5gBAPQrXo3A9/T/Xo3A9Ctf4P8P1KFyPwvg/uB6F61G4+z/sUbgehWsEQEjhehSuBxRAZmZmZmZGIkAAAAAAAADqP83MzMzMzCRAexSuR+G6JECuR+F6FO4hQM3MzMzMzBxAj8L1KFyPFkCPwvUoXI8WQDMzMzMzsw1A9ihcj8L1CECPwvUoXA8EQI/C9ShcDwVAZmZmZmZmA0BmZmZmZuYAQA==\",\"dtype\":\"float64\",\"order\":\"little\",\"shape\":[32]},\"Year\":[1991,1992,1993,1994,1995,1996,1997,1998,1999,2000,2001,2002,2003,2004,2005,2006,2007,2008,2009,2010,2011,2012,2013,2014,2015,2016,2017,2018,2019,2020,2021,2022]},\"selected\":{\"id\":\"2122\"},\"selection_policy\":{\"id\":\"2143\"}},\"id\":\"2121\",\"type\":\"ColumnDataSource\"},{\"attributes\":{},\"id\":\"2101\",\"type\":\"BasicTicker\"},{\"attributes\":{\"axis\":{\"id\":\"2100\"},\"coordinates\":null,\"grid_line_color\":null,\"group\":null,\"ticker\":null},\"id\":\"2103\",\"type\":\"Grid\"},{\"attributes\":{\"children\":[{\"id\":\"2087\"},{\"id\":\"2091\"},{\"id\":\"2156\"}],\"margin\":[0,0,0,0],\"name\":\"Row03825\",\"tags\":[\"embedded\"]},\"id\":\"2086\",\"type\":\"Row\"},{\"attributes\":{},\"id\":\"2105\",\"type\":\"BasicTicker\"},{\"attributes\":{\"axis_label\":\"Ave. Foreclosure\",\"coordinates\":null,\"formatter\":{\"id\":\"2134\"},\"group\":null,\"major_label_policy\":{\"id\":\"2135\"},\"ticker\":{\"id\":\"2105\"}},\"id\":\"2104\",\"type\":\"LinearAxis\"},{\"attributes\":{\"end\":2023.3285714285714,\"reset_end\":2023.3285714285714,\"reset_start\":1989.6714285714286,\"start\":1989.6714285714286,\"tags\":[[[\"Year\",\"Year\",null]]]},\"id\":\"2088\",\"type\":\"Range1d\"},{\"attributes\":{\"source\":{\"id\":\"2121\"}},\"id\":\"2128\",\"type\":\"CDSView\"},{\"attributes\":{\"angle\":{\"value\":0.0},\"fill_alpha\":{\"value\":1.0},\"fill_color\":{\"value\":\"#30a2da\"},\"hatch_alpha\":{\"value\":1.0},\"hatch_color\":{\"value\":\"#30a2da\"},\"hatch_scale\":{\"value\":12.0},\"hatch_weight\":{\"value\":1.0},\"line_alpha\":{\"value\":1.0},\"line_cap\":{\"value\":\"butt\"},\"line_color\":{\"value\":\"#30a2da\"},\"line_dash\":{\"value\":[]},\"line_dash_offset\":{\"value\":0},\"line_join\":{\"value\":\"bevel\"},\"line_width\":{\"value\":1},\"marker\":{\"value\":\"circle\"},\"size\":{\"value\":5.477225575051661},\"x\":{\"field\":\"Year\"},\"y\":{\"field\":\"Ave. Foreclosure\"}},\"id\":\"2129\",\"type\":\"Scatter\"},{\"attributes\":{},\"id\":\"2131\",\"type\":\"BasicTickFormatter\"},{\"attributes\":{\"coordinates\":null,\"data_source\":{\"id\":\"2121\"},\"glyph\":{\"id\":\"2124\"},\"group\":null,\"hover_glyph\":null,\"muted_glyph\":{\"id\":\"2126\"},\"nonselection_glyph\":{\"id\":\"2125\"},\"selection_glyph\":{\"id\":\"2129\"},\"view\":{\"id\":\"2128\"}},\"id\":\"2127\",\"type\":\"GlyphRenderer\"},{\"attributes\":{\"end\":11.35875,\"reset_end\":11.35875,\"reset_start\":-0.1462500000000001,\"start\":-0.1462500000000001,\"tags\":[[[\"Ave. Foreclosure\",\"Ave. Foreclosure\",null]]]},\"id\":\"2089\",\"type\":\"Range1d\"}],\"root_ids\":[\"2086\"]},\"title\":\"Bokeh Application\",\"version\":\"2.4.1\"}};\n",
       "    var render_items = [{\"docid\":\"56b11d21-4cef-4bdb-9fcd-c724675f0097\",\"root_ids\":[\"2086\"],\"roots\":{\"2086\":\"530d2c72-ed9a-4eeb-b093-0c6b9d834d77\"}}];\n",
       "    root.Bokeh.embed.embed_items_notebook(docs_json, render_items);\n",
       "  }\n",
       "  if (root.Bokeh !== undefined && root.Bokeh.Panel !== undefined) {\n",
       "    embed_document(root);\n",
       "  } else {\n",
       "    var attempts = 0;\n",
       "    var timer = setInterval(function(root) {\n",
       "      if (root.Bokeh !== undefined && root.Bokeh.Panel !== undefined) {\n",
       "        clearInterval(timer);\n",
       "        embed_document(root);\n",
       "      } else if (document.readyState == \"complete\") {\n",
       "        attempts++;\n",
       "        if (attempts > 200) {\n",
       "          clearInterval(timer);\n",
       "          console.log(\"Bokeh: ERROR: Unable to run BokehJS code because BokehJS library is missing\");\n",
       "        }\n",
       "      }\n",
       "    }, 25, root)\n",
       "  }\n",
       "})(window);</script>"
      ],
      "text/plain": [
       ":Scatter   [Year]   (Ave. Foreclosure)"
      ]
     },
     "execution_count": 26,
     "metadata": {
      "application/vnd.holoviews_exec.v0+json": {
       "id": "2086"
      }
     },
     "output_type": "execute_result"
    }
   ],
   "source": [
    "#visualize the data by plotting clusters \n",
    "foreclosure_master_df_ave.hvplot.scatter(x=\"Year\", y=\"Ave. Foreclosure\") "
   ]
  },
  {
   "cell_type": "markdown",
   "id": "455ac2c6",
   "metadata": {},
   "source": [
    "# Completing the prediction again, but with two clusters\n"
   ]
  },
  {
   "cell_type": "code",
   "execution_count": 24,
   "id": "8b501f57",
   "metadata": {},
   "outputs": [],
   "source": [
    "def test_cluster_amount(foreclosure_master_df_ave, clusters):\n",
    "    model = KMeans(n_clusters=clusters, random_state=5)\n",
    "    model\n",
    "    # Fitting model\n",
    "    model.fit(foreclosure_master_df_ave)\n",
    "    # Add a new class column to df_iris\n",
    "    foreclosure_master_df_ave[\"class\"] = model.labels_"
   ]
  },
  {
   "cell_type": "code",
   "execution_count": 25,
   "id": "dafabfe0",
   "metadata": {},
   "outputs": [
    {
     "data": {},
     "metadata": {},
     "output_type": "display_data"
    },
    {
     "data": {
      "application/vnd.holoviews_exec.v0+json": "",
      "text/html": [
       "<div id='1666'>\n",
       "\n",
       "\n",
       "\n",
       "\n",
       "\n",
       "  <div class=\"bk-root\" id=\"c0e357eb-4c06-4155-99bb-065e8ad641f1\" data-root-id=\"1666\"></div>\n",
       "</div>\n",
       "<script type=\"application/javascript\">(function(root) {\n",
       "  function embed_document(root) {\n",
       "    var docs_json = {\"3a01aa21-8f7a-46eb-970c-db27f5688c6d\":{\"defs\":[{\"extends\":null,\"module\":null,\"name\":\"ReactiveHTML1\",\"overrides\":[],\"properties\":[]},{\"extends\":null,\"module\":null,\"name\":\"FlexBox1\",\"overrides\":[],\"properties\":[{\"default\":\"flex-start\",\"kind\":null,\"name\":\"align_content\"},{\"default\":\"flex-start\",\"kind\":null,\"name\":\"align_items\"},{\"default\":\"row\",\"kind\":null,\"name\":\"flex_direction\"},{\"default\":\"wrap\",\"kind\":null,\"name\":\"flex_wrap\"},{\"default\":\"flex-start\",\"kind\":null,\"name\":\"justify_content\"}]},{\"extends\":null,\"module\":null,\"name\":\"GridStack1\",\"overrides\":[],\"properties\":[{\"default\":\"warn\",\"kind\":null,\"name\":\"mode\"},{\"default\":null,\"kind\":null,\"name\":\"ncols\"},{\"default\":null,\"kind\":null,\"name\":\"nrows\"},{\"default\":true,\"kind\":null,\"name\":\"allow_resize\"},{\"default\":true,\"kind\":null,\"name\":\"allow_drag\"},{\"default\":[],\"kind\":null,\"name\":\"state\"}]},{\"extends\":null,\"module\":null,\"name\":\"click1\",\"overrides\":[],\"properties\":[{\"default\":\"\",\"kind\":null,\"name\":\"terminal_output\"},{\"default\":\"\",\"kind\":null,\"name\":\"debug_name\"},{\"default\":0,\"kind\":null,\"name\":\"clears\"}]},{\"extends\":null,\"module\":null,\"name\":\"TemplateActions1\",\"overrides\":[],\"properties\":[{\"default\":0,\"kind\":null,\"name\":\"open_modal\"},{\"default\":0,\"kind\":null,\"name\":\"close_modal\"}]},{\"extends\":null,\"module\":null,\"name\":\"MaterialTemplateActions1\",\"overrides\":[],\"properties\":[{\"default\":0,\"kind\":null,\"name\":\"open_modal\"},{\"default\":0,\"kind\":null,\"name\":\"close_modal\"}]}],\"roots\":{\"references\":[{\"attributes\":{},\"id\":\"1805\",\"type\":\"Selection\"},{\"attributes\":{},\"id\":\"1685\",\"type\":\"BasicTicker\"},{\"attributes\":{},\"id\":\"1749\",\"type\":\"UnionRenderers\"},{\"attributes\":{\"axis\":{\"id\":\"1684\"},\"coordinates\":null,\"grid_line_color\":null,\"group\":null,\"ticker\":null},\"id\":\"1687\",\"type\":\"Grid\"},{\"attributes\":{},\"id\":\"1680\",\"type\":\"LinearScale\"},{\"attributes\":{\"label\":{\"value\":\"1\"},\"renderers\":[{\"id\":\"1738\"}]},\"id\":\"1752\",\"type\":\"LegendItem\"},{\"attributes\":{\"below\":[{\"id\":\"1684\"}],\"center\":[{\"id\":\"1687\"},{\"id\":\"1691\"}],\"height\":300,\"left\":[{\"id\":\"1688\"}],\"margin\":[5,5,5,5],\"min_border_bottom\":10,\"min_border_left\":10,\"min_border_right\":10,\"min_border_top\":10,\"renderers\":[{\"id\":\"1717\"},{\"id\":\"1738\"},{\"id\":\"1760\"},{\"id\":\"1784\"},{\"id\":\"1810\"}],\"right\":[{\"id\":\"1729\"}],\"sizing_mode\":\"fixed\",\"title\":{\"id\":\"1676\"},\"toolbar\":{\"id\":\"1698\"},\"width\":700,\"x_range\":{\"id\":\"1668\"},\"x_scale\":{\"id\":\"1680\"},\"y_range\":{\"id\":\"1669\"},\"y_scale\":{\"id\":\"1682\"}},\"id\":\"1675\",\"subtype\":\"Figure\",\"type\":\"Plot\"},{\"attributes\":{\"fill_alpha\":{\"value\":0.2},\"fill_color\":{\"value\":\"#8b8b8b\"},\"hatch_alpha\":{\"value\":0.2},\"hatch_color\":{\"value\":\"#8b8b8b\"},\"line_alpha\":{\"value\":0.2},\"line_color\":{\"value\":\"#8b8b8b\"},\"size\":{\"value\":5.477225575051661},\"x\":{\"field\":\"Year\"},\"y\":{\"field\":\"Ave. Foreclosure\"}},\"id\":\"1809\",\"type\":\"Scatter\"},{\"attributes\":{\"coordinates\":null,\"data_source\":{\"id\":\"1732\"},\"glyph\":{\"id\":\"1735\"},\"group\":null,\"hover_glyph\":null,\"muted_glyph\":{\"id\":\"1737\"},\"nonselection_glyph\":{\"id\":\"1736\"},\"selection_glyph\":{\"id\":\"1753\"},\"view\":{\"id\":\"1739\"}},\"id\":\"1738\",\"type\":\"GlyphRenderer\"},{\"attributes\":{\"axis_label\":\"Year\",\"coordinates\":null,\"formatter\":{\"id\":\"1706\"},\"group\":null,\"major_label_policy\":{\"id\":\"1707\"},\"ticker\":{\"id\":\"1685\"}},\"id\":\"1684\",\"type\":\"LinearAxis\"},{\"attributes\":{\"fill_alpha\":{\"value\":0.1},\"fill_color\":{\"value\":\"#fc4f30\"},\"hatch_alpha\":{\"value\":0.1},\"hatch_color\":{\"value\":\"#fc4f30\"},\"line_alpha\":{\"value\":0.1},\"line_color\":{\"value\":\"#fc4f30\"},\"size\":{\"value\":5.477225575051661},\"x\":{\"field\":\"Year\"},\"y\":{\"field\":\"Ave. Foreclosure\"}},\"id\":\"1736\",\"type\":\"Scatter\"},{\"attributes\":{},\"id\":\"1682\",\"type\":\"LinearScale\"},{\"attributes\":{\"fill_alpha\":{\"value\":0.2},\"fill_color\":{\"value\":\"#fc4f30\"},\"hatch_alpha\":{\"value\":0.2},\"hatch_color\":{\"value\":\"#fc4f30\"},\"line_alpha\":{\"value\":0.2},\"line_color\":{\"value\":\"#fc4f30\"},\"size\":{\"value\":5.477225575051661},\"x\":{\"field\":\"Year\"},\"y\":{\"field\":\"Ave. Foreclosure\"}},\"id\":\"1737\",\"type\":\"Scatter\"},{\"attributes\":{\"axis\":{\"id\":\"1688\"},\"coordinates\":null,\"dimension\":1,\"grid_line_color\":null,\"group\":null,\"ticker\":null},\"id\":\"1691\",\"type\":\"Grid\"},{\"attributes\":{\"angle\":{\"value\":0.0},\"fill_alpha\":{\"value\":1.0},\"fill_color\":{\"value\":\"#fc4f30\"},\"hatch_alpha\":{\"value\":1.0},\"hatch_color\":{\"value\":\"#fc4f30\"},\"hatch_scale\":{\"value\":12.0},\"hatch_weight\":{\"value\":1.0},\"line_alpha\":{\"value\":1.0},\"line_cap\":{\"value\":\"butt\"},\"line_color\":{\"value\":\"#fc4f30\"},\"line_dash\":{\"value\":[]},\"line_dash_offset\":{\"value\":0},\"line_join\":{\"value\":\"bevel\"},\"line_width\":{\"value\":1},\"marker\":{\"value\":\"circle\"},\"size\":{\"value\":5.477225575051661},\"x\":{\"field\":\"Year\"},\"y\":{\"field\":\"Ave. Foreclosure\"}},\"id\":\"1753\",\"type\":\"Scatter\"},{\"attributes\":{\"angle\":{\"value\":0.0},\"fill_alpha\":{\"value\":1.0},\"fill_color\":{\"value\":\"#30a2da\"},\"hatch_alpha\":{\"value\":1.0},\"hatch_color\":{\"value\":\"#30a2da\"},\"hatch_scale\":{\"value\":12.0},\"hatch_weight\":{\"value\":1.0},\"line_alpha\":{\"value\":1.0},\"line_cap\":{\"value\":\"butt\"},\"line_color\":{\"value\":\"#30a2da\"},\"line_dash\":{\"value\":[]},\"line_dash_offset\":{\"value\":0},\"line_join\":{\"value\":\"bevel\"},\"line_width\":{\"value\":1},\"marker\":{\"value\":\"circle\"},\"size\":{\"value\":5.477225575051661},\"x\":{\"field\":\"Year\"},\"y\":{\"field\":\"Ave. Foreclosure\"}},\"id\":\"1731\",\"type\":\"Scatter\"},{\"attributes\":{\"source\":{\"id\":\"1804\"}},\"id\":\"1811\",\"type\":\"CDSView\"},{\"attributes\":{\"fill_alpha\":{\"value\":0.2},\"fill_color\":{\"value\":\"#e5ae38\"},\"hatch_alpha\":{\"value\":0.2},\"hatch_color\":{\"value\":\"#e5ae38\"},\"line_alpha\":{\"value\":0.2},\"line_color\":{\"value\":\"#e5ae38\"},\"size\":{\"value\":5.477225575051661},\"x\":{\"field\":\"Year\"},\"y\":{\"field\":\"Ave. Foreclosure\"}},\"id\":\"1759\",\"type\":\"Scatter\"},{\"attributes\":{\"coordinates\":null,\"group\":null,\"text_color\":\"black\",\"text_font_size\":\"12pt\"},\"id\":\"1676\",\"type\":\"Title\"},{\"attributes\":{\"source\":{\"id\":\"1754\"}},\"id\":\"1761\",\"type\":\"CDSView\"},{\"attributes\":{\"label\":{\"value\":\"2\"},\"renderers\":[{\"id\":\"1760\"}]},\"id\":\"1776\",\"type\":\"LegendItem\"},{\"attributes\":{\"fill_alpha\":{\"value\":0.1},\"fill_color\":{\"value\":\"#8b8b8b\"},\"hatch_alpha\":{\"value\":0.1},\"hatch_color\":{\"value\":\"#8b8b8b\"},\"line_alpha\":{\"value\":0.1},\"line_color\":{\"value\":\"#8b8b8b\"},\"size\":{\"value\":5.477225575051661},\"x\":{\"field\":\"Year\"},\"y\":{\"field\":\"Ave. Foreclosure\"}},\"id\":\"1808\",\"type\":\"Scatter\"},{\"attributes\":{\"fill_color\":{\"value\":\"#8b8b8b\"},\"hatch_color\":{\"value\":\"#8b8b8b\"},\"line_color\":{\"value\":\"#8b8b8b\"},\"size\":{\"value\":5.477225575051661},\"x\":{\"field\":\"Year\"},\"y\":{\"field\":\"Ave. Foreclosure\"}},\"id\":\"1807\",\"type\":\"Scatter\"},{\"attributes\":{},\"id\":\"1689\",\"type\":\"BasicTicker\"},{\"attributes\":{\"coordinates\":null,\"data_source\":{\"id\":\"1804\"},\"glyph\":{\"id\":\"1807\"},\"group\":null,\"hover_glyph\":null,\"muted_glyph\":{\"id\":\"1809\"},\"nonselection_glyph\":{\"id\":\"1808\"},\"selection_glyph\":{\"id\":\"1831\"},\"view\":{\"id\":\"1811\"}},\"id\":\"1810\",\"type\":\"GlyphRenderer\"},{\"attributes\":{\"axis_label\":\"Ave. Foreclosure\",\"coordinates\":null,\"formatter\":{\"id\":\"1709\"},\"group\":null,\"major_label_policy\":{\"id\":\"1710\"},\"ticker\":{\"id\":\"1689\"}},\"id\":\"1688\",\"type\":\"LinearAxis\"},{\"attributes\":{\"callback\":null,\"renderers\":[{\"id\":\"1717\"},{\"id\":\"1738\"},{\"id\":\"1760\"},{\"id\":\"1784\"},{\"id\":\"1810\"}],\"tags\":[\"hv_created\"],\"tooltips\":[[\"class\",\"@{class}\"],[\"Year\",\"@{Year}\"],[\"Ave. Foreclosure\",\"@{Ave_full_stop_Foreclosure}\"]]},\"id\":\"1670\",\"type\":\"HoverTool\"},{\"attributes\":{},\"id\":\"1827\",\"type\":\"UnionRenderers\"},{\"attributes\":{\"label\":{\"value\":\"4\"},\"renderers\":[{\"id\":\"1810\"}]},\"id\":\"1830\",\"type\":\"LegendItem\"},{\"attributes\":{\"coordinates\":null,\"data_source\":{\"id\":\"1711\"},\"glyph\":{\"id\":\"1714\"},\"group\":null,\"hover_glyph\":null,\"muted_glyph\":{\"id\":\"1716\"},\"nonselection_glyph\":{\"id\":\"1715\"},\"selection_glyph\":{\"id\":\"1731\"},\"view\":{\"id\":\"1718\"}},\"id\":\"1717\",\"type\":\"GlyphRenderer\"},{\"attributes\":{\"end\":2023.3285714285714,\"reset_end\":2023.3285714285714,\"reset_start\":1989.6714285714286,\"start\":1989.6714285714286,\"tags\":[[[\"Year\",\"Year\",null]]]},\"id\":\"1668\",\"type\":\"Range1d\"},{\"attributes\":{\"fill_alpha\":{\"value\":0.1},\"fill_color\":{\"value\":\"#6d904f\"},\"hatch_alpha\":{\"value\":0.1},\"hatch_color\":{\"value\":\"#6d904f\"},\"line_alpha\":{\"value\":0.1},\"line_color\":{\"value\":\"#6d904f\"},\"size\":{\"value\":5.477225575051661},\"x\":{\"field\":\"Year\"},\"y\":{\"field\":\"Ave. Foreclosure\"}},\"id\":\"1782\",\"type\":\"Scatter\"},{\"attributes\":{},\"id\":\"1755\",\"type\":\"Selection\"},{\"attributes\":{\"click_policy\":\"mute\",\"coordinates\":null,\"group\":null,\"items\":[{\"id\":\"1730\"},{\"id\":\"1752\"},{\"id\":\"1776\"},{\"id\":\"1802\"},{\"id\":\"1830\"}],\"location\":[0,0],\"title\":\"class\"},\"id\":\"1729\",\"type\":\"Legend\"},{\"attributes\":{\"angle\":{\"value\":0.0},\"fill_alpha\":{\"value\":1.0},\"fill_color\":{\"value\":\"#8b8b8b\"},\"hatch_alpha\":{\"value\":1.0},\"hatch_color\":{\"value\":\"#8b8b8b\"},\"hatch_scale\":{\"value\":12.0},\"hatch_weight\":{\"value\":1.0},\"line_alpha\":{\"value\":1.0},\"line_cap\":{\"value\":\"butt\"},\"line_color\":{\"value\":\"#8b8b8b\"},\"line_dash\":{\"value\":[]},\"line_dash_offset\":{\"value\":0},\"line_join\":{\"value\":\"bevel\"},\"line_width\":{\"value\":1},\"marker\":{\"value\":\"circle\"},\"size\":{\"value\":5.477225575051661},\"x\":{\"field\":\"Year\"},\"y\":{\"field\":\"Ave. Foreclosure\"}},\"id\":\"1831\",\"type\":\"Scatter\"},{\"attributes\":{},\"id\":\"1726\",\"type\":\"UnionRenderers\"},{\"attributes\":{\"data\":{\"Ave. Foreclosure\":{\"__ndarray__\":\"PQrXo3A9/T/Xo3A9Ctf4P8P1KFyPwvg/uB6F61G4+z/sUbgehWsEQEjhehSuBxRAAAAAAAAA6j8=\",\"dtype\":\"float64\",\"order\":\"little\",\"shape\":[7]},\"Ave_full_stop_Foreclosure\":{\"__ndarray__\":\"PQrXo3A9/T/Xo3A9Ctf4P8P1KFyPwvg/uB6F61G4+z/sUbgehWsEQEjhehSuBxRAAAAAAAAA6j8=\",\"dtype\":\"float64\",\"order\":\"little\",\"shape\":[7]},\"Year\":[2003,2004,2005,2006,2007,2008,2010],\"class\":[0,0,0,0,0,0,0]},\"selected\":{\"id\":\"1712\"},\"selection_policy\":{\"id\":\"1726\"}},\"id\":\"1711\",\"type\":\"ColumnDataSource\"},{\"attributes\":{\"fill_alpha\":{\"value\":0.2},\"fill_color\":{\"value\":\"#30a2da\"},\"hatch_alpha\":{\"value\":0.2},\"hatch_color\":{\"value\":\"#30a2da\"},\"line_alpha\":{\"value\":0.2},\"line_color\":{\"value\":\"#30a2da\"},\"size\":{\"value\":5.477225575051661},\"x\":{\"field\":\"Year\"},\"y\":{\"field\":\"Ave. Foreclosure\"}},\"id\":\"1716\",\"type\":\"Scatter\"},{\"attributes\":{\"end\":11.35875,\"reset_end\":11.35875,\"reset_start\":-0.1462500000000001,\"start\":-0.1462500000000001,\"tags\":[[[\"Ave. Foreclosure\",\"Ave. Foreclosure\",null]]]},\"id\":\"1669\",\"type\":\"Range1d\"},{\"attributes\":{},\"id\":\"1692\",\"type\":\"SaveTool\"},{\"attributes\":{},\"id\":\"1773\",\"type\":\"UnionRenderers\"},{\"attributes\":{},\"id\":\"1693\",\"type\":\"PanTool\"},{\"attributes\":{},\"id\":\"1694\",\"type\":\"WheelZoomTool\"},{\"attributes\":{},\"id\":\"1706\",\"type\":\"BasicTickFormatter\"},{\"attributes\":{\"tools\":[{\"id\":\"1670\"},{\"id\":\"1692\"},{\"id\":\"1693\"},{\"id\":\"1694\"},{\"id\":\"1695\"},{\"id\":\"1696\"}]},\"id\":\"1698\",\"type\":\"Toolbar\"},{\"attributes\":{\"overlay\":{\"id\":\"1697\"}},\"id\":\"1695\",\"type\":\"BoxZoomTool\"},{\"attributes\":{\"fill_alpha\":{\"value\":0.1},\"fill_color\":{\"value\":\"#e5ae38\"},\"hatch_alpha\":{\"value\":0.1},\"hatch_color\":{\"value\":\"#e5ae38\"},\"line_alpha\":{\"value\":0.1},\"line_color\":{\"value\":\"#e5ae38\"},\"size\":{\"value\":5.477225575051661},\"x\":{\"field\":\"Year\"},\"y\":{\"field\":\"Ave. Foreclosure\"}},\"id\":\"1758\",\"type\":\"Scatter\"},{\"attributes\":{\"children\":[{\"id\":\"1667\"},{\"id\":\"1675\"},{\"id\":\"1994\"}],\"margin\":[0,0,0,0],\"name\":\"Row02996\",\"tags\":[\"embedded\"]},\"id\":\"1666\",\"type\":\"Row\"},{\"attributes\":{\"fill_color\":{\"value\":\"#e5ae38\"},\"hatch_color\":{\"value\":\"#e5ae38\"},\"line_color\":{\"value\":\"#e5ae38\"},\"size\":{\"value\":5.477225575051661},\"x\":{\"field\":\"Year\"},\"y\":{\"field\":\"Ave. Foreclosure\"}},\"id\":\"1757\",\"type\":\"Scatter\"},{\"attributes\":{\"data\":{\"Ave. Foreclosure\":{\"__ndarray__\":\"cT0K16NwCUBcj8L1KNwHQOF6FK5H4QRAPQrXo3C9AUCkcD0K1yMBQArXo3A9CgJA\",\"dtype\":\"float64\",\"order\":\"little\",\"shape\":[6]},\"Ave_full_stop_Foreclosure\":{\"__ndarray__\":\"cT0K16NwCUBcj8L1KNwHQOF6FK5H4QRAPQrXo3C9AUCkcD0K1yMBQArXo3A9CgJA\",\"dtype\":\"float64\",\"order\":\"little\",\"shape\":[6]},\"Year\":[1991,1992,1993,1994,1995,1996],\"class\":[2,2,2,2,2,2]},\"selected\":{\"id\":\"1755\"},\"selection_policy\":{\"id\":\"1773\"}},\"id\":\"1754\",\"type\":\"ColumnDataSource\"},{\"attributes\":{\"coordinates\":null,\"data_source\":{\"id\":\"1754\"},\"glyph\":{\"id\":\"1757\"},\"group\":null,\"hover_glyph\":null,\"muted_glyph\":{\"id\":\"1759\"},\"nonselection_glyph\":{\"id\":\"1758\"},\"selection_glyph\":{\"id\":\"1777\"},\"view\":{\"id\":\"1761\"}},\"id\":\"1760\",\"type\":\"GlyphRenderer\"},{\"attributes\":{\"coordinates\":null,\"data_source\":{\"id\":\"1778\"},\"glyph\":{\"id\":\"1781\"},\"group\":null,\"hover_glyph\":null,\"muted_glyph\":{\"id\":\"1783\"},\"nonselection_glyph\":{\"id\":\"1782\"},\"selection_glyph\":{\"id\":\"1803\"},\"view\":{\"id\":\"1785\"}},\"id\":\"1784\",\"type\":\"GlyphRenderer\"},{\"attributes\":{},\"id\":\"1709\",\"type\":\"BasicTickFormatter\"},{\"attributes\":{\"angle\":{\"value\":0.0},\"fill_alpha\":{\"value\":1.0},\"fill_color\":{\"value\":\"#e5ae38\"},\"hatch_alpha\":{\"value\":1.0},\"hatch_color\":{\"value\":\"#e5ae38\"},\"hatch_scale\":{\"value\":12.0},\"hatch_weight\":{\"value\":1.0},\"line_alpha\":{\"value\":1.0},\"line_cap\":{\"value\":\"butt\"},\"line_color\":{\"value\":\"#e5ae38\"},\"line_dash\":{\"value\":[]},\"line_dash_offset\":{\"value\":0},\"line_join\":{\"value\":\"bevel\"},\"line_width\":{\"value\":1},\"marker\":{\"value\":\"circle\"},\"size\":{\"value\":5.477225575051661},\"x\":{\"field\":\"Year\"},\"y\":{\"field\":\"Ave. Foreclosure\"}},\"id\":\"1777\",\"type\":\"Scatter\"},{\"attributes\":{},\"id\":\"1696\",\"type\":\"ResetTool\"},{\"attributes\":{\"bottom_units\":\"screen\",\"coordinates\":null,\"fill_alpha\":0.5,\"fill_color\":\"lightgrey\",\"group\":null,\"left_units\":\"screen\",\"level\":\"overlay\",\"line_alpha\":1.0,\"line_color\":\"black\",\"line_dash\":[4,4],\"line_width\":2,\"right_units\":\"screen\",\"syncable\":false,\"top_units\":\"screen\"},\"id\":\"1697\",\"type\":\"BoxAnnotation\"},{\"attributes\":{\"source\":{\"id\":\"1711\"}},\"id\":\"1718\",\"type\":\"CDSView\"},{\"attributes\":{},\"id\":\"1710\",\"type\":\"AllLabels\"},{\"attributes\":{\"margin\":[5,5,5,5],\"name\":\"HSpacer03000\",\"sizing_mode\":\"stretch_width\"},\"id\":\"1667\",\"type\":\"Spacer\"},{\"attributes\":{},\"id\":\"1707\",\"type\":\"AllLabels\"},{\"attributes\":{\"angle\":{\"value\":0.0},\"fill_alpha\":{\"value\":1.0},\"fill_color\":{\"value\":\"#6d904f\"},\"hatch_alpha\":{\"value\":1.0},\"hatch_color\":{\"value\":\"#6d904f\"},\"hatch_scale\":{\"value\":12.0},\"hatch_weight\":{\"value\":1.0},\"line_alpha\":{\"value\":1.0},\"line_cap\":{\"value\":\"butt\"},\"line_color\":{\"value\":\"#6d904f\"},\"line_dash\":{\"value\":[]},\"line_dash_offset\":{\"value\":0},\"line_join\":{\"value\":\"bevel\"},\"line_width\":{\"value\":1},\"marker\":{\"value\":\"circle\"},\"size\":{\"value\":5.477225575051661},\"x\":{\"field\":\"Year\"},\"y\":{\"field\":\"Ave. Foreclosure\"}},\"id\":\"1803\",\"type\":\"Scatter\"},{\"attributes\":{},\"id\":\"1733\",\"type\":\"Selection\"},{\"attributes\":{\"margin\":[5,5,5,5],\"name\":\"HSpacer03001\",\"sizing_mode\":\"stretch_width\"},\"id\":\"1994\",\"type\":\"Spacer\"},{\"attributes\":{},\"id\":\"1799\",\"type\":\"UnionRenderers\"},{\"attributes\":{},\"id\":\"1712\",\"type\":\"Selection\"},{\"attributes\":{},\"id\":\"1779\",\"type\":\"Selection\"},{\"attributes\":{\"label\":{\"value\":\"0\"},\"renderers\":[{\"id\":\"1717\"}]},\"id\":\"1730\",\"type\":\"LegendItem\"},{\"attributes\":{\"data\":{\"Ave. Foreclosure\":{\"__ndarray__\":\"pHA9CtcjAkDsUbgehesAQLgehetRuP8/KVyPwvWoAEBcj8L1KFwCQGZmZmZm5gBA\",\"dtype\":\"float64\",\"order\":\"little\",\"shape\":[6]},\"Ave_full_stop_Foreclosure\":{\"__ndarray__\":\"pHA9CtcjAkDsUbgehesAQLgehetRuP8/KVyPwvWoAEBcj8L1KFwCQGZmZmZm5gBA\",\"dtype\":\"float64\",\"order\":\"little\",\"shape\":[6]},\"Year\":[1997,1998,1999,2000,2001,2002],\"class\":[4,4,4,4,4,4]},\"selected\":{\"id\":\"1805\"},\"selection_policy\":{\"id\":\"1827\"}},\"id\":\"1804\",\"type\":\"ColumnDataSource\"},{\"attributes\":{\"fill_color\":{\"value\":\"#30a2da\"},\"hatch_color\":{\"value\":\"#30a2da\"},\"line_color\":{\"value\":\"#30a2da\"},\"size\":{\"value\":5.477225575051661},\"x\":{\"field\":\"Year\"},\"y\":{\"field\":\"Ave. Foreclosure\"}},\"id\":\"1714\",\"type\":\"Scatter\"},{\"attributes\":{\"data\":{\"Ave. Foreclosure\":{\"__ndarray__\":\"j8L1KFyPFkAzMzMzM7MNQPYoXI/C9QhAj8L1KFwPBECPwvUoXA8FQGZmZmZmZgNAZmZmZmbmAEA=\",\"dtype\":\"float64\",\"order\":\"little\",\"shape\":[7]},\"Ave_full_stop_Foreclosure\":{\"__ndarray__\":\"j8L1KFyPFkAzMzMzM7MNQPYoXI/C9QhAj8L1KFwPBECPwvUoXA8FQGZmZmZmZgNAZmZmZmbmAEA=\",\"dtype\":\"float64\",\"order\":\"little\",\"shape\":[7]},\"Year\":[2016,2017,2018,2019,2020,2021,2022],\"class\":[1,1,1,1,1,1,1]},\"selected\":{\"id\":\"1733\"},\"selection_policy\":{\"id\":\"1749\"}},\"id\":\"1732\",\"type\":\"ColumnDataSource\"},{\"attributes\":{\"fill_alpha\":{\"value\":0.1},\"fill_color\":{\"value\":\"#30a2da\"},\"hatch_alpha\":{\"value\":0.1},\"hatch_color\":{\"value\":\"#30a2da\"},\"line_alpha\":{\"value\":0.1},\"line_color\":{\"value\":\"#30a2da\"},\"size\":{\"value\":5.477225575051661},\"x\":{\"field\":\"Year\"},\"y\":{\"field\":\"Ave. Foreclosure\"}},\"id\":\"1715\",\"type\":\"Scatter\"},{\"attributes\":{\"source\":{\"id\":\"1778\"}},\"id\":\"1785\",\"type\":\"CDSView\"},{\"attributes\":{\"label\":{\"value\":\"3\"},\"renderers\":[{\"id\":\"1784\"}]},\"id\":\"1802\",\"type\":\"LegendItem\"},{\"attributes\":{\"source\":{\"id\":\"1732\"}},\"id\":\"1739\",\"type\":\"CDSView\"},{\"attributes\":{\"data\":{\"Ave. Foreclosure\":{\"__ndarray__\":\"ZmZmZmZGIkDNzMzMzMwkQHsUrkfhuiRArkfhehTuIUDNzMzMzMwcQI/C9ShcjxZA\",\"dtype\":\"float64\",\"order\":\"little\",\"shape\":[6]},\"Ave_full_stop_Foreclosure\":{\"__ndarray__\":\"ZmZmZmZGIkDNzMzMzMwkQHsUrkfhuiRArkfhehTuIUDNzMzMzMwcQI/C9ShcjxZA\",\"dtype\":\"float64\",\"order\":\"little\",\"shape\":[6]},\"Year\":[2009,2011,2012,2013,2014,2015],\"class\":[3,3,3,3,3,3]},\"selected\":{\"id\":\"1779\"},\"selection_policy\":{\"id\":\"1799\"}},\"id\":\"1778\",\"type\":\"ColumnDataSource\"},{\"attributes\":{\"fill_color\":{\"value\":\"#fc4f30\"},\"hatch_color\":{\"value\":\"#fc4f30\"},\"line_color\":{\"value\":\"#fc4f30\"},\"size\":{\"value\":5.477225575051661},\"x\":{\"field\":\"Year\"},\"y\":{\"field\":\"Ave. Foreclosure\"}},\"id\":\"1735\",\"type\":\"Scatter\"},{\"attributes\":{\"fill_alpha\":{\"value\":0.2},\"fill_color\":{\"value\":\"#6d904f\"},\"hatch_alpha\":{\"value\":0.2},\"hatch_color\":{\"value\":\"#6d904f\"},\"line_alpha\":{\"value\":0.2},\"line_color\":{\"value\":\"#6d904f\"},\"size\":{\"value\":5.477225575051661},\"x\":{\"field\":\"Year\"},\"y\":{\"field\":\"Ave. Foreclosure\"}},\"id\":\"1783\",\"type\":\"Scatter\"},{\"attributes\":{\"fill_color\":{\"value\":\"#6d904f\"},\"hatch_color\":{\"value\":\"#6d904f\"},\"line_color\":{\"value\":\"#6d904f\"},\"size\":{\"value\":5.477225575051661},\"x\":{\"field\":\"Year\"},\"y\":{\"field\":\"Ave. Foreclosure\"}},\"id\":\"1781\",\"type\":\"Scatter\"}],\"root_ids\":[\"1666\"]},\"title\":\"Bokeh Application\",\"version\":\"2.4.1\"}};\n",
       "    var render_items = [{\"docid\":\"3a01aa21-8f7a-46eb-970c-db27f5688c6d\",\"root_ids\":[\"1666\"],\"roots\":{\"1666\":\"c0e357eb-4c06-4155-99bb-065e8ad641f1\"}}];\n",
       "    root.Bokeh.embed.embed_items_notebook(docs_json, render_items);\n",
       "  }\n",
       "  if (root.Bokeh !== undefined && root.Bokeh.Panel !== undefined) {\n",
       "    embed_document(root);\n",
       "  } else {\n",
       "    var attempts = 0;\n",
       "    var timer = setInterval(function(root) {\n",
       "      if (root.Bokeh !== undefined && root.Bokeh.Panel !== undefined) {\n",
       "        clearInterval(timer);\n",
       "        embed_document(root);\n",
       "      } else if (document.readyState == \"complete\") {\n",
       "        attempts++;\n",
       "        if (attempts > 200) {\n",
       "          clearInterval(timer);\n",
       "          console.log(\"Bokeh: ERROR: Unable to run BokehJS code because BokehJS library is missing\");\n",
       "        }\n",
       "      }\n",
       "    }, 25, root)\n",
       "  }\n",
       "})(window);</script>"
      ],
      "text/plain": [
       ":NdOverlay   [class]\n",
       "   :Scatter   [Year]   (Ave. Foreclosure)"
      ]
     },
     "execution_count": 25,
     "metadata": {
      "application/vnd.holoviews_exec.v0+json": {
       "id": "1666"
      }
     },
     "output_type": "execute_result"
    }
   ],
   "source": [
    "test_cluster_amount(foreclosure_master_df_ave, 5)\n",
    "foreclosure_master_df_ave.hvplot.scatter(x=\"Year\", y=\"Ave. Foreclosure\", by=\"class\")"
   ]
  },
  {
   "cell_type": "code",
   "execution_count": null,
   "id": "bafea123",
   "metadata": {},
   "outputs": [],
   "source": [
    "maybe the different colors of classes indicate that there is going to be the catgory"
   ]
  },
  {
   "cell_type": "code",
   "execution_count": null,
   "id": "30eb3825",
   "metadata": {},
   "outputs": [],
   "source": []
  }
 ],
 "metadata": {
  "kernelspec": {
   "display_name": "mlenv",
   "language": "python",
   "name": "mlenv"
  },
  "language_info": {
   "codemirror_mode": {
    "name": "ipython",
    "version": 3
   },
   "file_extension": ".py",
   "mimetype": "text/x-python",
   "name": "python",
   "nbconvert_exporter": "python",
   "pygments_lexer": "ipython3",
   "version": "3.7.11"
  }
 },
 "nbformat": 4,
 "nbformat_minor": 5
}
