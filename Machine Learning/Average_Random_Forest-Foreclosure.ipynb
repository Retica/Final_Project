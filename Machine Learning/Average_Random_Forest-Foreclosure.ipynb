{
 "cells": [
  {
   "cell_type": "code",
   "execution_count": 9,
   "id": "38871738",
   "metadata": {},
   "outputs": [],
   "source": [
    "import pandas as pd\n",
    "import plotly.express as px\n",
    "import hvplot.pandas\n",
    "from sklearn.cluster import KMeans"
   ]
  },
  {
   "cell_type": "code",
   "execution_count": 10,
   "id": "375acfa5",
   "metadata": {},
   "outputs": [
    {
     "data": {
      "text/html": [
       "<div>\n",
       "<style scoped>\n",
       "    .dataframe tbody tr th:only-of-type {\n",
       "        vertical-align: middle;\n",
       "    }\n",
       "\n",
       "    .dataframe tbody tr th {\n",
       "        vertical-align: top;\n",
       "    }\n",
       "\n",
       "    .dataframe thead th {\n",
       "        text-align: right;\n",
       "    }\n",
       "</style>\n",
       "<table border=\"1\" class=\"dataframe\">\n",
       "  <thead>\n",
       "    <tr style=\"text-align: right;\">\n",
       "      <th></th>\n",
       "      <th>DATE</th>\n",
       "      <th>DRSFRMACBS</th>\n",
       "    </tr>\n",
       "  </thead>\n",
       "  <tbody>\n",
       "    <tr>\n",
       "      <th>120</th>\n",
       "      <td>2021-01-01</td>\n",
       "      <td>2.66</td>\n",
       "    </tr>\n",
       "    <tr>\n",
       "      <th>121</th>\n",
       "      <td>2021-04-01</td>\n",
       "      <td>2.41</td>\n",
       "    </tr>\n",
       "    <tr>\n",
       "      <th>122</th>\n",
       "      <td>2021-07-01</td>\n",
       "      <td>2.30</td>\n",
       "    </tr>\n",
       "    <tr>\n",
       "      <th>123</th>\n",
       "      <td>2021-10-01</td>\n",
       "      <td>2.33</td>\n",
       "    </tr>\n",
       "    <tr>\n",
       "      <th>124</th>\n",
       "      <td>2022-01-01</td>\n",
       "      <td>2.13</td>\n",
       "    </tr>\n",
       "  </tbody>\n",
       "</table>\n",
       "</div>"
      ],
      "text/plain": [
       "           DATE  DRSFRMACBS\n",
       "120  2021-01-01        2.66\n",
       "121  2021-04-01        2.41\n",
       "122  2021-07-01        2.30\n",
       "123  2021-10-01        2.33\n",
       "124  2022-01-01        2.13"
      ]
     },
     "execution_count": 10,
     "metadata": {},
     "output_type": "execute_result"
    }
   ],
   "source": [
    "# File to Load \n",
    "foreclosure_master = \"../data_csv/DRSFRMACBS.csv\"\n",
    "# Read the data\n",
    "foreclosure_master_df = pd.read_csv(foreclosure_master)\n",
    "foreclosure_master_df.tail()"
   ]
  },
  {
   "cell_type": "code",
   "execution_count": 11,
   "id": "4ebc836d",
   "metadata": {},
   "outputs": [],
   "source": [
    "# file name\n",
    "df0 = '../data_csv/ninetyone_table_foreclosure.csv'\n",
    "df1 = '../data_csv/ninetytwo_table_foreclosure.csv'\n",
    "df2 = '../data_csv/ninetythree_table_foreclosure.csv'\n",
    "df3 = '../data_csv/ninetyfour_table_foreclosure.csv'\n",
    "df4 = '../data_csv/ninetyfive_table_foreclosure.csv'\n",
    "df5 = '../data_csv/ninetysix_table_foreclosure; .csv'\n",
    "df6 = '../data_csv/ninetyseven_table_foreclosure.csv'\n",
    "df7 = '../data_csv/ninetyeight_table_foreclosure.csv'\n",
    "df8 = '../data_csv/ninetynine_table_foreclosure.csv'\n",
    "df9 = '../data_csv/twothousand_table_foreclosure.csv'\n",
    "df10 = '../data_csv/twothousandone_table_foreclosure.csv'\n",
    "df11 = '../data_csv/twothousandtwo_table_foreclosure.csv'\n",
    "df12 = '../data_csv/twothousandthree_table_foreclosure.csv'\n",
    "df13 = '../data_csv/twothousandfour_table_foreclosure.csv'\n",
    "df14 = '../data_csv/twothousandfive_table_foreclosure.csv'\n",
    "df15 = '../data_csv/twothousandsix_table_foreclosure.csv'\n",
    "df16 = '../data_csv/twothousandseven_table_foreclosure.csv'\n",
    "df17 = '../data_csv/twothousandeight_table_foreclosure.csv'\n",
    "df18 = '../data_csv/twothousandnine_table_foreclosure.csv'\n",
    "df19 = '../data_csv/twothousandten_table_foreclosure.csv'\n",
    "df20 = '../data_csv/twothousandeleven_table_foreclosure.csv'\n",
    "df21 = '../data_csv/twothousandtwelfth_table_foreclosure.csv'\n",
    "df22 = '../data_csv/twothousandthirteen_table_foreclosure.csv'\n",
    "df23 = '../data_csv/twothousandfourteen_table_foreclosure.csv'\n",
    "df24 = '../data_csv/twothousandfifteen_table_foreclosure.csv'\n",
    "df25 = '../data_csv/twothousandsixteen_table_foreclosure.csv'\n",
    "df26 = '../data_csv/twothousandseventeen_table_foreclosure.csv'\n",
    "df27 = '../data_csv/twothousandeightteen_table_foreclosure.csv'\n",
    "df28 = '../data_csv/twothousandnineteen_table_foreclosure.csv'\n",
    "df29 = '../data_csv/twothousandtwenty_table_foreclosure.csv'\n",
    "df30 = '../data_csv/twothousandtwentyone_table_foreclosure.csv'\n",
    "df31 = '../data_csv/twothousandtwo_table_foreclosure.csv'"
   ]
  },
  {
   "cell_type": "code",
   "execution_count": 12,
   "id": "2bbcfdc3",
   "metadata": {},
   "outputs": [],
   "source": [
    "\n",
    "# Read the data\n",
    "#ninetytwo = pd.read_csv(ninetytwo)\n",
    "df0 = pd.read_csv(df0)\n",
    "df1 = pd.read_csv(df1)\n",
    "df2 = pd.read_csv(df2)\n",
    "df3 = pd.read_csv(df3)\n",
    "df4 = pd.read_csv(df4)\n",
    "df5 = pd.read_csv(df5)\n",
    "df6 = pd.read_csv(df6)\n",
    "df7 = pd.read_csv(df7)\n",
    "df8 = pd.read_csv(df8)\n",
    "df9 = pd.read_csv(df9)\n",
    "df10 = pd.read_csv(df10)\n",
    "df11 = pd.read_csv(df11)\n",
    "df12 = pd.read_csv(df12)\n",
    "df13 = pd.read_csv(df13)\n",
    "df14 = pd.read_csv(df14)\n",
    "df15 = pd.read_csv(df15)\n",
    "df16 = pd.read_csv(df16)\n",
    "df17 = pd.read_csv(df17)\n",
    "df18 = pd.read_csv(df18)\n",
    "df19 = pd.read_csv(df19)\n",
    "df20 = pd.read_csv(df20)\n",
    "df21 = pd.read_csv(df21)\n",
    "df22 = pd.read_csv(df22)\n",
    "df23 = pd.read_csv(df23)\n",
    "df24 = pd.read_csv(df24)\n",
    "df25 = pd.read_csv(df25)\n",
    "df26 = pd.read_csv(df26)\n",
    "df27 = pd.read_csv(df27)\n",
    "df28 = pd.read_csv(df28)\n",
    "df29 = pd.read_csv(df29)\n",
    "df30 = pd.read_csv(df30)\n",
    "df31 = pd.read_csv(df31)\n"
   ]
  },
  {
   "cell_type": "code",
   "execution_count": 13,
   "id": "efd80002",
   "metadata": {},
   "outputs": [
    {
     "data": {
      "text/plain": [
       "drsfrmacbs    3.18\n",
       "dtype: float64"
      ]
     },
     "execution_count": 13,
     "metadata": {},
     "output_type": "execute_result"
    }
   ],
   "source": [
    "# Finding the average of df0\n",
    "ave_df0 = df0[['drsfrmacbs']].mean()\n",
    "ave_df0"
   ]
  },
  {
   "cell_type": "code",
   "execution_count": 14,
   "id": "304efb18",
   "metadata": {},
   "outputs": [
    {
     "data": {
      "text/plain": [
       "drsfrmacbs    1.7325\n",
       "dtype: float64"
      ]
     },
     "execution_count": 14,
     "metadata": {},
     "output_type": "execute_result"
    }
   ],
   "source": [
    "#Finding ave for rest\n",
    "ave_df0 = df0[['drsfrmacbs']].mean()\n",
    "ave_df1 = df1[['drsfrmacbs']].mean()\n",
    "ave_df2 = df2[['drsfrmacbs']].mean()\n",
    "ave_df3 = df3[['drsfrmacbs']].mean()\n",
    "ave_df4 = df4[['drsfrmacbs']].mean()\n",
    "ave_df5 = df5[['drsfrmacbs']].mean()\n",
    "ave_df6 = df6[['drsfrmacbs']].mean()\n",
    "ave_df7 = df7[['drsfrmacbs']].mean()\n",
    "ave_df8 = df8[['drsfrmacbs']].mean()\n",
    "ave_df9 = df9[['drsfrmacbs']].mean()\n",
    "ave_df10 = df10[['drsfrmacbs']].mean()\n",
    "ave_df11 = df11[['drsfrmacbs']].mean()\n",
    "ave_df12 = df12[['drsfrmacbs']].mean()\n",
    "ave_df13 = df13[['drsfrmacbs']].mean()\n",
    "ave_df14 = df14[['drsfrmacbs']].mean()\n",
    "ave_df15 = df15[['drsfrmacbs']].mean()\n",
    "ave_df16 = df16[['drsfrmacbs']].mean()\n",
    "ave_df17 = df17[['drsfrmacbs']].mean()\n",
    "ave_df18 = df18[['drsfrmacbs']].mean()\n",
    "ave_df19 = df19[['drsfrmacbs']].mean()\n",
    "ave_df20 = df20[['drsfrmacbs']].mean()\n",
    "ave_df21 = df21[['drsfrmacbs']].mean()\n",
    "ave_df22 = df22[['drsfrmacbs']].mean()\n",
    "ave_df23 = df23[['drsfrmacbs']].mean()\n",
    "ave_df24 = df24[['drsfrmacbs']].mean()\n",
    "ave_df25 = df25[['drsfrmacbs']].mean()\n",
    "ave_df26 = df26[['drsfrmacbs']].mean()\n",
    "ave_df27 = df27[['drsfrmacbs']].mean()\n",
    "ave_df28 = df28[['drsfrmacbs']].mean()\n",
    "ave_df29 = df29[['drsfrmacbs']].mean()\n",
    "ave_df30 = df30[['drsfrmacbs']].mean()\n",
    "ave_df31 = df31[['drsfrmacbs']].mean()\n",
    "\n",
    "ave_df15"
   ]
  },
  {
   "cell_type": "code",
   "execution_count": 15,
   "id": "7af7b2cf",
   "metadata": {},
   "outputs": [
    {
     "data": {
      "text/plain": [
       "0      3.1800\n",
       "1      2.9825\n",
       "2      2.6100\n",
       "3      2.2175\n",
       "4      2.1425\n",
       "5      2.2550\n",
       "6      2.2675\n",
       "7      2.1150\n",
       "8      1.9825\n",
       "9      2.0825\n",
       "10     2.2950\n",
       "11     2.1125\n",
       "12     1.8275\n",
       "13     1.5525\n",
       "14     1.5475\n",
       "15     1.7325\n",
       "16     2.5525\n",
       "17     5.0075\n",
       "18     9.1375\n",
       "19    10.8125\n",
       "20    10.4000\n",
       "21    10.3650\n",
       "22     8.9650\n",
       "23     7.2000\n",
       "24     5.6400\n",
       "25     5.6400\n",
       "26     3.7125\n",
       "27     3.1200\n",
       "28     2.5075\n",
       "29     2.6325\n",
       "30     2.4250\n",
       "31     2.1125\n",
       "dtype: float64"
      ]
     },
     "execution_count": 15,
     "metadata": {},
     "output_type": "execute_result"
    }
   ],
   "source": [
    "#Creating for loop to drop all values with na\n",
    "#df = []\n",
    "#for dfs in df_list: \n",
    " #   dfs[['drsfrmacbs']].mean\n",
    "\n",
    "#dfs.head()    \n",
    "ave_df_master = pd.concat([ave_df0, ave_df1, ave_df2, ave_df3, ave_df4, ave_df5,\n",
    "                           ave_df6, ave_df7, ave_df8, ave_df9, ave_df10, ave_df11, ave_df12, ave_df13,\n",
    "          ave_df14, ave_df15, ave_df16, ave_df17, ave_df18, ave_df19, ave_df20, ave_df21, ave_df22, ave_df23, ave_df24, ave_df25,\n",
    "          ave_df26, ave_df27, ave_df28, ave_df29, ave_df30, ave_df31], ignore_index=True)\n",
    "ave_df_master\n",
    "\n",
    "\n"
   ]
  },
  {
   "cell_type": "code",
   "execution_count": 16,
   "id": "8fad49ae",
   "metadata": {},
   "outputs": [
    {
     "data": {
      "text/html": [
       "<div>\n",
       "<style scoped>\n",
       "    .dataframe tbody tr th:only-of-type {\n",
       "        vertical-align: middle;\n",
       "    }\n",
       "\n",
       "    .dataframe tbody tr th {\n",
       "        vertical-align: top;\n",
       "    }\n",
       "\n",
       "    .dataframe thead th {\n",
       "        text-align: right;\n",
       "    }\n",
       "</style>\n",
       "<table border=\"1\" class=\"dataframe\">\n",
       "  <thead>\n",
       "    <tr style=\"text-align: right;\">\n",
       "      <th></th>\n",
       "      <th>Year</th>\n",
       "      <th>Ave. Foreclosure</th>\n",
       "    </tr>\n",
       "  </thead>\n",
       "  <tbody>\n",
       "    <tr>\n",
       "      <th>0</th>\n",
       "      <td>1991</td>\n",
       "      <td>3.1800</td>\n",
       "    </tr>\n",
       "    <tr>\n",
       "      <th>1</th>\n",
       "      <td>1992</td>\n",
       "      <td>2.9825</td>\n",
       "    </tr>\n",
       "    <tr>\n",
       "      <th>2</th>\n",
       "      <td>1993</td>\n",
       "      <td>2.6100</td>\n",
       "    </tr>\n",
       "    <tr>\n",
       "      <th>3</th>\n",
       "      <td>1994</td>\n",
       "      <td>2.2175</td>\n",
       "    </tr>\n",
       "    <tr>\n",
       "      <th>4</th>\n",
       "      <td>1995</td>\n",
       "      <td>2.1425</td>\n",
       "    </tr>\n",
       "  </tbody>\n",
       "</table>\n",
       "</div>"
      ],
      "text/plain": [
       "   Year  Ave. Foreclosure\n",
       "0  1991            3.1800\n",
       "1  1992            2.9825\n",
       "2  1993            2.6100\n",
       "3  1994            2.2175\n",
       "4  1995            2.1425"
      ]
     },
     "execution_count": 16,
     "metadata": {},
     "output_type": "execute_result"
    }
   ],
   "source": [
    "# File to Load \n",
    "foreclosure_master = \"../data_csv/Ave_Fore_rate .csv\"\n",
    "# Read the data\n",
    "foreclosure_master_df_ave = pd.read_csv(foreclosure_master)\n",
    "foreclosure_master_df_ave.head()"
   ]
  },
  {
   "cell_type": "code",
   "execution_count": 17,
   "id": "7a4abdd5",
   "metadata": {},
   "outputs": [
    {
     "data": {
      "text/plain": [
       "Year                32\n",
       "Ave. Foreclosure    32\n",
       "dtype: int64"
      ]
     },
     "execution_count": 17,
     "metadata": {},
     "output_type": "execute_result"
    }
   ],
   "source": [
    "foreclosure_master_df_ave.count()"
   ]
  },
  {
   "cell_type": "code",
   "execution_count": 18,
   "id": "0bbf2b04",
   "metadata": {},
   "outputs": [
    {
     "name": "stdout",
     "output_type": "stream",
     "text": [
      "Year                  int64\n",
      "Ave. Foreclosure    float64\n",
      "dtype: object\n"
     ]
    }
   ],
   "source": [
    "print(foreclosure_master_df_ave.dtypes)"
   ]
  },
  {
   "cell_type": "code",
   "execution_count": 19,
   "id": "808827d6",
   "metadata": {},
   "outputs": [
    {
     "data": {
      "text/plain": [
       "KMeans(n_clusters=3, random_state=5)"
      ]
     },
     "execution_count": 19,
     "metadata": {},
     "output_type": "execute_result"
    }
   ],
   "source": [
    "#Initialize model with K = 3(we know there are three classes of iris plants)\n",
    "model = KMeans(n_clusters=3, random_state=5)\n",
    "model"
   ]
  },
  {
   "cell_type": "code",
   "execution_count": 20,
   "id": "fb782587",
   "metadata": {},
   "outputs": [
    {
     "data": {
      "text/plain": [
       "KMeans(n_clusters=3, random_state=5)"
      ]
     },
     "execution_count": 20,
     "metadata": {},
     "output_type": "execute_result"
    }
   ],
   "source": [
    "# Fitting model -there is no training and testing because Kmeans will do it for you \n",
    "model.fit(foreclosure_master_df_ave)"
   ]
  },
  {
   "cell_type": "code",
   "execution_count": 21,
   "id": "6175c3ba",
   "metadata": {},
   "outputs": [
    {
     "name": "stdout",
     "output_type": "stream",
     "text": [
      "[0 0 0 0 0 0 0 0 0 0 0 2 2 2 2 2 2 2 2 2 1 1 1 1 1 1 1 1 1 1 1 1]\n"
     ]
    }
   ],
   "source": [
    "#group data points and ger predicitions\n",
    "predictions = model.predict(foreclosure_master_df_ave)\n",
    "print(predictions)"
   ]
  },
  {
   "cell_type": "code",
   "execution_count": 22,
   "id": "2e40da54",
   "metadata": {},
   "outputs": [
    {
     "data": {
      "text/html": [
       "<div>\n",
       "<style scoped>\n",
       "    .dataframe tbody tr th:only-of-type {\n",
       "        vertical-align: middle;\n",
       "    }\n",
       "\n",
       "    .dataframe tbody tr th {\n",
       "        vertical-align: top;\n",
       "    }\n",
       "\n",
       "    .dataframe thead th {\n",
       "        text-align: right;\n",
       "    }\n",
       "</style>\n",
       "<table border=\"1\" class=\"dataframe\">\n",
       "  <thead>\n",
       "    <tr style=\"text-align: right;\">\n",
       "      <th></th>\n",
       "      <th>Year</th>\n",
       "      <th>Ave. Foreclosure</th>\n",
       "    </tr>\n",
       "  </thead>\n",
       "  <tbody>\n",
       "    <tr>\n",
       "      <th>0</th>\n",
       "      <td>1991</td>\n",
       "      <td>3.1800</td>\n",
       "    </tr>\n",
       "    <tr>\n",
       "      <th>1</th>\n",
       "      <td>1992</td>\n",
       "      <td>2.9825</td>\n",
       "    </tr>\n",
       "    <tr>\n",
       "      <th>2</th>\n",
       "      <td>1993</td>\n",
       "      <td>2.6100</td>\n",
       "    </tr>\n",
       "    <tr>\n",
       "      <th>3</th>\n",
       "      <td>1994</td>\n",
       "      <td>2.2175</td>\n",
       "    </tr>\n",
       "    <tr>\n",
       "      <th>4</th>\n",
       "      <td>1995</td>\n",
       "      <td>2.1425</td>\n",
       "    </tr>\n",
       "  </tbody>\n",
       "</table>\n",
       "</div>"
      ],
      "text/plain": [
       "   Year  Ave. Foreclosure\n",
       "0  1991            3.1800\n",
       "1  1992            2.9825\n",
       "2  1993            2.6100\n",
       "3  1994            2.2175\n",
       "4  1995            2.1425"
      ]
     },
     "execution_count": 22,
     "metadata": {},
     "output_type": "execute_result"
    }
   ],
   "source": [
    "# Add a new class column to the df_iris of the predicted class\n",
    "foreclosure_master_df_ave.head()"
   ]
  },
  {
   "cell_type": "code",
   "execution_count": 23,
   "id": "826f3e1e",
   "metadata": {
    "scrolled": true
   },
   "outputs": [
    {
     "data": {},
     "metadata": {},
     "output_type": "display_data"
    },
    {
     "data": {
      "application/vnd.holoviews_exec.v0+json": "",
      "text/html": [
       "<div id='1002'>\n",
       "\n",
       "\n",
       "\n",
       "\n",
       "\n",
       "  <div class=\"bk-root\" id=\"32d53d36-1c0e-4192-9a94-83ac8ffe65f5\" data-root-id=\"1002\"></div>\n",
       "</div>\n",
       "<script type=\"application/javascript\">(function(root) {\n",
       "  function embed_document(root) {\n",
       "    var docs_json = {\"4907a943-0383-4cda-a0be-3d7de19c8708\":{\"defs\":[{\"extends\":null,\"module\":null,\"name\":\"ReactiveHTML1\",\"overrides\":[],\"properties\":[]},{\"extends\":null,\"module\":null,\"name\":\"FlexBox1\",\"overrides\":[],\"properties\":[{\"default\":\"flex-start\",\"kind\":null,\"name\":\"align_content\"},{\"default\":\"flex-start\",\"kind\":null,\"name\":\"align_items\"},{\"default\":\"row\",\"kind\":null,\"name\":\"flex_direction\"},{\"default\":\"wrap\",\"kind\":null,\"name\":\"flex_wrap\"},{\"default\":\"flex-start\",\"kind\":null,\"name\":\"justify_content\"}]},{\"extends\":null,\"module\":null,\"name\":\"GridStack1\",\"overrides\":[],\"properties\":[{\"default\":\"warn\",\"kind\":null,\"name\":\"mode\"},{\"default\":null,\"kind\":null,\"name\":\"ncols\"},{\"default\":null,\"kind\":null,\"name\":\"nrows\"},{\"default\":true,\"kind\":null,\"name\":\"allow_resize\"},{\"default\":true,\"kind\":null,\"name\":\"allow_drag\"},{\"default\":[],\"kind\":null,\"name\":\"state\"}]},{\"extends\":null,\"module\":null,\"name\":\"click1\",\"overrides\":[],\"properties\":[{\"default\":\"\",\"kind\":null,\"name\":\"terminal_output\"},{\"default\":\"\",\"kind\":null,\"name\":\"debug_name\"},{\"default\":0,\"kind\":null,\"name\":\"clears\"}]},{\"extends\":null,\"module\":null,\"name\":\"TemplateActions1\",\"overrides\":[],\"properties\":[{\"default\":0,\"kind\":null,\"name\":\"open_modal\"},{\"default\":0,\"kind\":null,\"name\":\"close_modal\"}]},{\"extends\":null,\"module\":null,\"name\":\"MaterialTemplateActions1\",\"overrides\":[],\"properties\":[{\"default\":0,\"kind\":null,\"name\":\"open_modal\"},{\"default\":0,\"kind\":null,\"name\":\"close_modal\"}]}],\"roots\":{\"references\":[{\"attributes\":{\"margin\":[5,5,5,5],\"name\":\"HSpacer01632\",\"sizing_mode\":\"stretch_width\"},\"id\":\"1072\",\"type\":\"Spacer\"},{\"attributes\":{\"end\":2022.0,\"reset_end\":2022.0,\"reset_start\":1991.0,\"start\":1991.0,\"tags\":[[[\"Year\",\"Year\",null]]]},\"id\":\"1004\",\"type\":\"Range1d\"},{\"attributes\":{},\"id\":\"1047\",\"type\":\"BasicTickFormatter\"},{\"attributes\":{},\"id\":\"1024\",\"type\":\"SaveTool\"},{\"attributes\":{\"callback\":null,\"renderers\":[{\"id\":\"1043\"}],\"tags\":[\"hv_created\"],\"tooltips\":[[\"Year\",\"@{Year}\"],[\"Ave. Foreclosure\",\"@{Ave_full_stop_Foreclosure}\"]]},\"id\":\"1006\",\"type\":\"HoverTool\"},{\"attributes\":{},\"id\":\"1025\",\"type\":\"PanTool\"},{\"attributes\":{},\"id\":\"1059\",\"type\":\"UnionRenderers\"},{\"attributes\":{\"below\":[{\"id\":\"1016\"}],\"center\":[{\"id\":\"1019\"},{\"id\":\"1023\"}],\"height\":300,\"left\":[{\"id\":\"1020\"}],\"margin\":[5,5,5,5],\"min_border_bottom\":10,\"min_border_left\":10,\"min_border_right\":10,\"min_border_top\":10,\"renderers\":[{\"id\":\"1043\"}],\"sizing_mode\":\"fixed\",\"title\":{\"id\":\"1008\"},\"toolbar\":{\"id\":\"1030\"},\"width\":700,\"x_range\":{\"id\":\"1004\"},\"x_scale\":{\"id\":\"1012\"},\"y_range\":{\"id\":\"1005\"},\"y_scale\":{\"id\":\"1014\"}},\"id\":\"1007\",\"subtype\":\"Figure\",\"type\":\"Plot\"},{\"attributes\":{},\"id\":\"1026\",\"type\":\"WheelZoomTool\"},{\"attributes\":{},\"id\":\"1050\",\"type\":\"BasicTickFormatter\"},{\"attributes\":{\"tools\":[{\"id\":\"1006\"},{\"id\":\"1024\"},{\"id\":\"1025\"},{\"id\":\"1026\"},{\"id\":\"1027\"},{\"id\":\"1028\"}]},\"id\":\"1030\",\"type\":\"Toolbar\"},{\"attributes\":{},\"id\":\"1051\",\"type\":\"AllLabels\"},{\"attributes\":{\"overlay\":{\"id\":\"1029\"}},\"id\":\"1027\",\"type\":\"BoxZoomTool\"},{\"attributes\":{},\"id\":\"1048\",\"type\":\"AllLabels\"},{\"attributes\":{\"axis\":{\"id\":\"1020\"},\"coordinates\":null,\"dimension\":1,\"grid_line_color\":null,\"group\":null,\"ticker\":null},\"id\":\"1023\",\"type\":\"Grid\"},{\"attributes\":{},\"id\":\"1017\",\"type\":\"BasicTicker\"},{\"attributes\":{\"line_alpha\":0.2,\"line_color\":\"#30a2da\",\"line_width\":2,\"x\":{\"field\":\"Year\"},\"y\":{\"field\":\"Ave. Foreclosure\"}},\"id\":\"1042\",\"type\":\"Line\"},{\"attributes\":{},\"id\":\"1038\",\"type\":\"Selection\"},{\"attributes\":{\"margin\":[5,5,5,5],\"name\":\"HSpacer01631\",\"sizing_mode\":\"stretch_width\"},\"id\":\"1003\",\"type\":\"Spacer\"},{\"attributes\":{},\"id\":\"1014\",\"type\":\"LinearScale\"},{\"attributes\":{},\"id\":\"1028\",\"type\":\"ResetTool\"},{\"attributes\":{\"data\":{\"Ave. Foreclosure\":{\"__ndarray__\":\"cT0K16NwCUBcj8L1KNwHQOF6FK5H4QRAPQrXo3C9AUCkcD0K1yMBQArXo3A9CgJApHA9CtcjAkDsUbgehesAQLgehetRuP8/KVyPwvWoAEBcj8L1KFwCQGZmZmZm5gBAPQrXo3A9/T/Xo3A9Ctf4P8P1KFyPwvg/uB6F61G4+z/sUbgehWsEQEjhehSuBxRAZmZmZmZGIkAAAAAAAADqP83MzMzMzCRAexSuR+G6JECuR+F6FO4hQM3MzMzMzBxAj8L1KFyPFkCPwvUoXI8WQDMzMzMzsw1A9ihcj8L1CECPwvUoXA8EQI/C9ShcDwVAZmZmZmZmA0BmZmZmZuYAQA==\",\"dtype\":\"float64\",\"order\":\"little\",\"shape\":[32]},\"Ave_full_stop_Foreclosure\":{\"__ndarray__\":\"cT0K16NwCUBcj8L1KNwHQOF6FK5H4QRAPQrXo3C9AUCkcD0K1yMBQArXo3A9CgJApHA9CtcjAkDsUbgehesAQLgehetRuP8/KVyPwvWoAEBcj8L1KFwCQGZmZmZm5gBAPQrXo3A9/T/Xo3A9Ctf4P8P1KFyPwvg/uB6F61G4+z/sUbgehWsEQEjhehSuBxRAZmZmZmZGIkAAAAAAAADqP83MzMzMzCRAexSuR+G6JECuR+F6FO4hQM3MzMzMzBxAj8L1KFyPFkCPwvUoXI8WQDMzMzMzsw1A9ihcj8L1CECPwvUoXA8EQI/C9ShcDwVAZmZmZmZmA0BmZmZmZuYAQA==\",\"dtype\":\"float64\",\"order\":\"little\",\"shape\":[32]},\"Year\":[1991,1992,1993,1994,1995,1996,1997,1998,1999,2000,2001,2002,2003,2004,2005,2006,2007,2008,2009,2010,2011,2012,2013,2014,2015,2016,2017,2018,2019,2020,2021,2022]},\"selected\":{\"id\":\"1038\"},\"selection_policy\":{\"id\":\"1059\"}},\"id\":\"1037\",\"type\":\"ColumnDataSource\"},{\"attributes\":{\"bottom_units\":\"screen\",\"coordinates\":null,\"fill_alpha\":0.5,\"fill_color\":\"lightgrey\",\"group\":null,\"left_units\":\"screen\",\"level\":\"overlay\",\"line_alpha\":1.0,\"line_color\":\"black\",\"line_dash\":[4,4],\"line_width\":2,\"right_units\":\"screen\",\"syncable\":false,\"top_units\":\"screen\"},\"id\":\"1029\",\"type\":\"BoxAnnotation\"},{\"attributes\":{\"axis_label\":\"Year\",\"coordinates\":null,\"formatter\":{\"id\":\"1047\"},\"group\":null,\"major_label_policy\":{\"id\":\"1048\"},\"ticker\":{\"id\":\"1017\"}},\"id\":\"1016\",\"type\":\"LinearAxis\"},{\"attributes\":{\"source\":{\"id\":\"1037\"}},\"id\":\"1044\",\"type\":\"CDSView\"},{\"attributes\":{\"coordinates\":null,\"group\":null,\"text_color\":\"black\",\"text_font_size\":\"12pt\"},\"id\":\"1008\",\"type\":\"Title\"},{\"attributes\":{},\"id\":\"1012\",\"type\":\"LinearScale\"},{\"attributes\":{\"children\":[{\"id\":\"1003\"},{\"id\":\"1007\"},{\"id\":\"1072\"}],\"margin\":[0,0,0,0],\"name\":\"Row01627\",\"tags\":[\"embedded\"]},\"id\":\"1002\",\"type\":\"Row\"},{\"attributes\":{\"axis\":{\"id\":\"1016\"},\"coordinates\":null,\"grid_line_color\":null,\"group\":null,\"ticker\":null},\"id\":\"1019\",\"type\":\"Grid\"},{\"attributes\":{},\"id\":\"1021\",\"type\":\"BasicTicker\"},{\"attributes\":{\"axis_label\":\"Ave. Foreclosure\",\"coordinates\":null,\"formatter\":{\"id\":\"1050\"},\"group\":null,\"major_label_policy\":{\"id\":\"1051\"},\"ticker\":{\"id\":\"1021\"}},\"id\":\"1020\",\"type\":\"LinearAxis\"},{\"attributes\":{\"line_color\":\"#30a2da\",\"line_width\":2,\"x\":{\"field\":\"Year\"},\"y\":{\"field\":\"Ave. Foreclosure\"}},\"id\":\"1040\",\"type\":\"Line\"},{\"attributes\":{\"end\":11.35875,\"reset_end\":11.35875,\"reset_start\":-0.1462500000000001,\"start\":-0.1462500000000001,\"tags\":[[[\"Ave. Foreclosure\",\"Ave. Foreclosure\",null]]]},\"id\":\"1005\",\"type\":\"Range1d\"},{\"attributes\":{\"line_color\":\"#30a2da\",\"line_width\":2,\"x\":{\"field\":\"Year\"},\"y\":{\"field\":\"Ave. Foreclosure\"}},\"id\":\"1045\",\"type\":\"Line\"},{\"attributes\":{\"line_alpha\":0.1,\"line_color\":\"#30a2da\",\"line_width\":2,\"x\":{\"field\":\"Year\"},\"y\":{\"field\":\"Ave. Foreclosure\"}},\"id\":\"1041\",\"type\":\"Line\"},{\"attributes\":{\"coordinates\":null,\"data_source\":{\"id\":\"1037\"},\"glyph\":{\"id\":\"1040\"},\"group\":null,\"hover_glyph\":null,\"muted_glyph\":{\"id\":\"1042\"},\"nonselection_glyph\":{\"id\":\"1041\"},\"selection_glyph\":{\"id\":\"1045\"},\"view\":{\"id\":\"1044\"}},\"id\":\"1043\",\"type\":\"GlyphRenderer\"}],\"root_ids\":[\"1002\"]},\"title\":\"Bokeh Application\",\"version\":\"2.4.1\"}};\n",
       "    var render_items = [{\"docid\":\"4907a943-0383-4cda-a0be-3d7de19c8708\",\"root_ids\":[\"1002\"],\"roots\":{\"1002\":\"32d53d36-1c0e-4192-9a94-83ac8ffe65f5\"}}];\n",
       "    root.Bokeh.embed.embed_items_notebook(docs_json, render_items);\n",
       "  }\n",
       "  if (root.Bokeh !== undefined && root.Bokeh.Panel !== undefined) {\n",
       "    embed_document(root);\n",
       "  } else {\n",
       "    var attempts = 0;\n",
       "    var timer = setInterval(function(root) {\n",
       "      if (root.Bokeh !== undefined && root.Bokeh.Panel !== undefined) {\n",
       "        clearInterval(timer);\n",
       "        embed_document(root);\n",
       "      } else if (document.readyState == \"complete\") {\n",
       "        attempts++;\n",
       "        if (attempts > 200) {\n",
       "          clearInterval(timer);\n",
       "          console.log(\"Bokeh: ERROR: Unable to run BokehJS code because BokehJS library is missing\");\n",
       "        }\n",
       "      }\n",
       "    }, 25, root)\n",
       "  }\n",
       "})(window);</script>"
      ],
      "text/plain": [
       ":Curve   [Year]   (Ave. Foreclosure)"
      ]
     },
     "execution_count": 23,
     "metadata": {
      "application/vnd.holoviews_exec.v0+json": {
       "id": "1002"
      }
     },
     "output_type": "execute_result"
    }
   ],
   "source": [
    "#visualize the data by plotting clusters \n",
    "foreclosure_master_df_ave.hvplot(x=\"Year\", y=\"Ave. Foreclosure\")"
   ]
  },
  {
   "cell_type": "markdown",
   "id": "455ac2c6",
   "metadata": {},
   "source": [
    "# Completing the prediction again, but with two clusters\n"
   ]
  },
  {
   "cell_type": "code",
   "execution_count": 24,
   "id": "8b501f57",
   "metadata": {},
   "outputs": [],
   "source": [
    "def test_cluster_amount(foreclosure_master_df_ave, clusters):\n",
    "    model = KMeans(n_clusters=clusters, random_state=5)\n",
    "    model\n",
    "    # Fitting model\n",
    "    model.fit(foreclosure_master_df_ave)\n",
    "    # Add a new class column to df_iris\n",
    "    foreclosure_master_df_ave[\"class\"] = model.labels_"
   ]
  },
  {
   "cell_type": "code",
   "execution_count": 26,
   "id": "dafabfe0",
   "metadata": {},
   "outputs": [
    {
     "data": {},
     "metadata": {},
     "output_type": "display_data"
    },
    {
     "data": {
      "application/vnd.holoviews_exec.v0+json": "",
      "text/html": [
       "<div id='1544'>\n",
       "\n",
       "\n",
       "\n",
       "\n",
       "\n",
       "  <div class=\"bk-root\" id=\"7827017c-71c7-4afb-a4cf-af31a15bc9d6\" data-root-id=\"1544\"></div>\n",
       "</div>\n",
       "<script type=\"application/javascript\">(function(root) {\n",
       "  function embed_document(root) {\n",
       "    var docs_json = {\"b79e4140-afb7-4959-9e11-a5e0ab1bdaa6\":{\"defs\":[{\"extends\":null,\"module\":null,\"name\":\"ReactiveHTML1\",\"overrides\":[],\"properties\":[]},{\"extends\":null,\"module\":null,\"name\":\"FlexBox1\",\"overrides\":[],\"properties\":[{\"default\":\"flex-start\",\"kind\":null,\"name\":\"align_content\"},{\"default\":\"flex-start\",\"kind\":null,\"name\":\"align_items\"},{\"default\":\"row\",\"kind\":null,\"name\":\"flex_direction\"},{\"default\":\"wrap\",\"kind\":null,\"name\":\"flex_wrap\"},{\"default\":\"flex-start\",\"kind\":null,\"name\":\"justify_content\"}]},{\"extends\":null,\"module\":null,\"name\":\"GridStack1\",\"overrides\":[],\"properties\":[{\"default\":\"warn\",\"kind\":null,\"name\":\"mode\"},{\"default\":null,\"kind\":null,\"name\":\"ncols\"},{\"default\":null,\"kind\":null,\"name\":\"nrows\"},{\"default\":true,\"kind\":null,\"name\":\"allow_resize\"},{\"default\":true,\"kind\":null,\"name\":\"allow_drag\"},{\"default\":[],\"kind\":null,\"name\":\"state\"}]},{\"extends\":null,\"module\":null,\"name\":\"click1\",\"overrides\":[],\"properties\":[{\"default\":\"\",\"kind\":null,\"name\":\"terminal_output\"},{\"default\":\"\",\"kind\":null,\"name\":\"debug_name\"},{\"default\":0,\"kind\":null,\"name\":\"clears\"}]},{\"extends\":null,\"module\":null,\"name\":\"TemplateActions1\",\"overrides\":[],\"properties\":[{\"default\":0,\"kind\":null,\"name\":\"open_modal\"},{\"default\":0,\"kind\":null,\"name\":\"close_modal\"}]},{\"extends\":null,\"module\":null,\"name\":\"MaterialTemplateActions1\",\"overrides\":[],\"properties\":[{\"default\":0,\"kind\":null,\"name\":\"open_modal\"},{\"default\":0,\"kind\":null,\"name\":\"close_modal\"}]}],\"roots\":{\"references\":[{\"attributes\":{\"coordinates\":null,\"data_source\":{\"id\":\"1632\"},\"glyph\":{\"id\":\"1635\"},\"group\":null,\"hover_glyph\":null,\"muted_glyph\":{\"id\":\"1637\"},\"nonselection_glyph\":{\"id\":\"1636\"},\"selection_glyph\":{\"id\":\"1655\"},\"view\":{\"id\":\"1639\"}},\"id\":\"1638\",\"type\":\"GlyphRenderer\"},{\"attributes\":{\"line_color\":\"#30a2da\",\"line_width\":2,\"x\":{\"field\":\"Year\"},\"y\":{\"field\":\"Ave. Foreclosure\"}},\"id\":\"1609\",\"type\":\"Line\"},{\"attributes\":{\"line_alpha\":0.2,\"line_color\":\"#30a2da\",\"line_width\":2,\"x\":{\"field\":\"Year\"},\"y\":{\"field\":\"Ave. Foreclosure\"}},\"id\":\"1594\",\"type\":\"Line\"},{\"attributes\":{\"line_color\":\"#8b8b8b\",\"line_width\":2,\"x\":{\"field\":\"Year\"},\"y\":{\"field\":\"Ave. Foreclosure\"}},\"id\":\"1709\",\"type\":\"Line\"},{\"attributes\":{},\"id\":\"1588\",\"type\":\"AllLabels\"},{\"attributes\":{},\"id\":\"1590\",\"type\":\"Selection\"},{\"attributes\":{\"coordinates\":null,\"data_source\":{\"id\":\"1610\"},\"glyph\":{\"id\":\"1613\"},\"group\":null,\"hover_glyph\":null,\"muted_glyph\":{\"id\":\"1615\"},\"nonselection_glyph\":{\"id\":\"1614\"},\"selection_glyph\":{\"id\":\"1631\"},\"view\":{\"id\":\"1617\"}},\"id\":\"1616\",\"type\":\"GlyphRenderer\"},{\"attributes\":{\"line_alpha\":0.1,\"line_color\":\"#e5ae38\",\"line_width\":2,\"x\":{\"field\":\"Year\"},\"y\":{\"field\":\"Ave. Foreclosure\"}},\"id\":\"1636\",\"type\":\"Line\"},{\"attributes\":{},\"id\":\"1651\",\"type\":\"UnionRenderers\"},{\"attributes\":{},\"id\":\"1570\",\"type\":\"SaveTool\"},{\"attributes\":{},\"id\":\"1571\",\"type\":\"PanTool\"},{\"attributes\":{\"data\":{\"Ave. Foreclosure\":{\"__ndarray__\":\"16NwPQrX+D/D9Shcj8L4P7gehetRuPs/7FG4HoVrBEBI4XoUrgcUQAAAAAAAAOo/\",\"dtype\":\"float64\",\"order\":\"little\",\"shape\":[6]},\"Ave_full_stop_Foreclosure\":{\"__ndarray__\":\"16NwPQrX+D/D9Shcj8L4P7gehetRuPs/7FG4HoVrBEBI4XoUrgcUQAAAAAAAAOo/\",\"dtype\":\"float64\",\"order\":\"little\",\"shape\":[6]},\"Year\":[2004,2005,2006,2007,2008,2010],\"class\":[0,0,0,0,0,0]},\"selected\":{\"id\":\"1590\"},\"selection_policy\":{\"id\":\"1604\"}},\"id\":\"1589\",\"type\":\"ColumnDataSource\"},{\"attributes\":{\"source\":{\"id\":\"1632\"}},\"id\":\"1639\",\"type\":\"CDSView\"},{\"attributes\":{},\"id\":\"1572\",\"type\":\"WheelZoomTool\"},{\"attributes\":{\"tools\":[{\"id\":\"1548\"},{\"id\":\"1570\"},{\"id\":\"1571\"},{\"id\":\"1572\"},{\"id\":\"1573\"},{\"id\":\"1574\"}]},\"id\":\"1576\",\"type\":\"Toolbar\"},{\"attributes\":{\"line_alpha\":0.2,\"line_color\":\"#e5ae38\",\"line_width\":2,\"x\":{\"field\":\"Year\"},\"y\":{\"field\":\"Ave. Foreclosure\"}},\"id\":\"1637\",\"type\":\"Line\"},{\"attributes\":{\"overlay\":{\"id\":\"1575\"}},\"id\":\"1573\",\"type\":\"BoxZoomTool\"},{\"attributes\":{\"label\":{\"value\":\"2\"},\"renderers\":[{\"id\":\"1638\"}]},\"id\":\"1654\",\"type\":\"LegendItem\"},{\"attributes\":{\"children\":[{\"id\":\"1545\"},{\"id\":\"1553\"},{\"id\":\"1872\"}],\"margin\":[0,0,0,0],\"name\":\"Row02813\",\"tags\":[\"embedded\"]},\"id\":\"1544\",\"type\":\"Row\"},{\"attributes\":{\"label\":{\"value\":\"0\"},\"renderers\":[{\"id\":\"1595\"}]},\"id\":\"1608\",\"type\":\"LegendItem\"},{\"attributes\":{\"margin\":[5,5,5,5],\"name\":\"HSpacer02817\",\"sizing_mode\":\"stretch_width\"},\"id\":\"1545\",\"type\":\"Spacer\"},{\"attributes\":{},\"id\":\"1574\",\"type\":\"ResetTool\"},{\"attributes\":{},\"id\":\"1657\",\"type\":\"Selection\"},{\"attributes\":{},\"id\":\"1677\",\"type\":\"UnionRenderers\"},{\"attributes\":{\"line_color\":\"#e5ae38\",\"line_width\":2,\"x\":{\"field\":\"Year\"},\"y\":{\"field\":\"Ave. Foreclosure\"}},\"id\":\"1655\",\"type\":\"Line\"},{\"attributes\":{\"bottom_units\":\"screen\",\"coordinates\":null,\"fill_alpha\":0.5,\"fill_color\":\"lightgrey\",\"group\":null,\"left_units\":\"screen\",\"level\":\"overlay\",\"line_alpha\":1.0,\"line_color\":\"black\",\"line_dash\":[4,4],\"line_width\":2,\"right_units\":\"screen\",\"syncable\":false,\"top_units\":\"screen\"},\"id\":\"1575\",\"type\":\"BoxAnnotation\"},{\"attributes\":{\"coordinates\":null,\"data_source\":{\"id\":\"1656\"},\"glyph\":{\"id\":\"1659\"},\"group\":null,\"hover_glyph\":null,\"muted_glyph\":{\"id\":\"1661\"},\"nonselection_glyph\":{\"id\":\"1660\"},\"selection_glyph\":{\"id\":\"1681\"},\"view\":{\"id\":\"1663\"}},\"id\":\"1662\",\"type\":\"GlyphRenderer\"},{\"attributes\":{\"data\":{\"Ave. Foreclosure\":{\"__ndarray__\":\"j8L1KFyPFkAzMzMzM7MNQPYoXI/C9QhAj8L1KFwPBECPwvUoXA8FQGZmZmZmZgNAZmZmZmbmAEA=\",\"dtype\":\"float64\",\"order\":\"little\",\"shape\":[7]},\"Ave_full_stop_Foreclosure\":{\"__ndarray__\":\"j8L1KFyPFkAzMzMzM7MNQPYoXI/C9QhAj8L1KFwPBECPwvUoXA8FQGZmZmZmZgNAZmZmZmbmAEA=\",\"dtype\":\"float64\",\"order\":\"little\",\"shape\":[7]},\"Year\":[2016,2017,2018,2019,2020,2021,2022],\"class\":[1,1,1,1,1,1,1]},\"selected\":{\"id\":\"1611\"},\"selection_policy\":{\"id\":\"1627\"}},\"id\":\"1610\",\"type\":\"ColumnDataSource\"},{\"attributes\":{\"source\":{\"id\":\"1589\"}},\"id\":\"1596\",\"type\":\"CDSView\"},{\"attributes\":{\"click_policy\":\"mute\",\"coordinates\":null,\"group\":null,\"items\":[{\"id\":\"1608\"},{\"id\":\"1630\"},{\"id\":\"1654\"},{\"id\":\"1680\"},{\"id\":\"1708\"}],\"location\":[0,0],\"title\":\"class\"},\"id\":\"1607\",\"type\":\"Legend\"},{\"attributes\":{\"coordinates\":null,\"data_source\":{\"id\":\"1589\"},\"glyph\":{\"id\":\"1592\"},\"group\":null,\"hover_glyph\":null,\"muted_glyph\":{\"id\":\"1594\"},\"nonselection_glyph\":{\"id\":\"1593\"},\"selection_glyph\":{\"id\":\"1609\"},\"view\":{\"id\":\"1596\"}},\"id\":\"1595\",\"type\":\"GlyphRenderer\"},{\"attributes\":{\"line_color\":\"#30a2da\",\"line_width\":2,\"x\":{\"field\":\"Year\"},\"y\":{\"field\":\"Ave. Foreclosure\"}},\"id\":\"1592\",\"type\":\"Line\"},{\"attributes\":{},\"id\":\"1627\",\"type\":\"UnionRenderers\"},{\"attributes\":{\"data\":{\"Ave. Foreclosure\":{\"__ndarray__\":\"cT0K16NwCUBcj8L1KNwHQOF6FK5H4QRAPQrXo3C9AUCkcD0K1yMBQArXo3A9CgJA\",\"dtype\":\"float64\",\"order\":\"little\",\"shape\":[6]},\"Ave_full_stop_Foreclosure\":{\"__ndarray__\":\"cT0K16NwCUBcj8L1KNwHQOF6FK5H4QRAPQrXo3C9AUCkcD0K1yMBQArXo3A9CgJA\",\"dtype\":\"float64\",\"order\":\"little\",\"shape\":[6]},\"Year\":[1991,1992,1993,1994,1995,1996],\"class\":[2,2,2,2,2,2]},\"selected\":{\"id\":\"1633\"},\"selection_policy\":{\"id\":\"1651\"}},\"id\":\"1632\",\"type\":\"ColumnDataSource\"},{\"attributes\":{\"line_alpha\":0.2,\"line_color\":\"#6d904f\",\"line_width\":2,\"x\":{\"field\":\"Year\"},\"y\":{\"field\":\"Ave. Foreclosure\"}},\"id\":\"1661\",\"type\":\"Line\"},{\"attributes\":{\"line_alpha\":0.1,\"line_color\":\"#6d904f\",\"line_width\":2,\"x\":{\"field\":\"Year\"},\"y\":{\"field\":\"Ave. Foreclosure\"}},\"id\":\"1660\",\"type\":\"Line\"},{\"attributes\":{},\"id\":\"1611\",\"type\":\"Selection\"},{\"attributes\":{\"label\":{\"value\":\"1\"},\"renderers\":[{\"id\":\"1616\"}]},\"id\":\"1630\",\"type\":\"LegendItem\"},{\"attributes\":{},\"id\":\"1604\",\"type\":\"UnionRenderers\"},{\"attributes\":{\"line_color\":\"#6d904f\",\"line_width\":2,\"x\":{\"field\":\"Year\"},\"y\":{\"field\":\"Ave. Foreclosure\"}},\"id\":\"1659\",\"type\":\"Line\"},{\"attributes\":{\"source\":{\"id\":\"1656\"}},\"id\":\"1663\",\"type\":\"CDSView\"},{\"attributes\":{\"label\":{\"value\":\"3\"},\"renderers\":[{\"id\":\"1662\"}]},\"id\":\"1680\",\"type\":\"LegendItem\"},{\"attributes\":{},\"id\":\"1558\",\"type\":\"LinearScale\"},{\"attributes\":{\"data\":{\"Ave. Foreclosure\":{\"__ndarray__\":\"pHA9CtcjAkDsUbgehesAQLgehetRuP8/KVyPwvWoAEBcj8L1KFwCQGZmZmZm5gBAPQrXo3A9/T8=\",\"dtype\":\"float64\",\"order\":\"little\",\"shape\":[7]},\"Ave_full_stop_Foreclosure\":{\"__ndarray__\":\"pHA9CtcjAkDsUbgehesAQLgehetRuP8/KVyPwvWoAEBcj8L1KFwCQGZmZmZm5gBAPQrXo3A9/T8=\",\"dtype\":\"float64\",\"order\":\"little\",\"shape\":[7]},\"Year\":[1997,1998,1999,2000,2001,2002,2003],\"class\":[4,4,4,4,4,4,4]},\"selected\":{\"id\":\"1683\"},\"selection_policy\":{\"id\":\"1705\"}},\"id\":\"1682\",\"type\":\"ColumnDataSource\"},{\"attributes\":{},\"id\":\"1585\",\"type\":\"AllLabels\"},{\"attributes\":{},\"id\":\"1587\",\"type\":\"BasicTickFormatter\"},{\"attributes\":{\"line_alpha\":0.2,\"line_color\":\"#fc4f30\",\"line_width\":2,\"x\":{\"field\":\"Year\"},\"y\":{\"field\":\"Ave. Foreclosure\"}},\"id\":\"1615\",\"type\":\"Line\"},{\"attributes\":{\"axis\":{\"id\":\"1562\"},\"coordinates\":null,\"grid_line_color\":null,\"group\":null,\"ticker\":null},\"id\":\"1565\",\"type\":\"Grid\"},{\"attributes\":{\"line_color\":\"#6d904f\",\"line_width\":2,\"x\":{\"field\":\"Year\"},\"y\":{\"field\":\"Ave. Foreclosure\"}},\"id\":\"1681\",\"type\":\"Line\"},{\"attributes\":{\"line_alpha\":0.1,\"line_color\":\"#30a2da\",\"line_width\":2,\"x\":{\"field\":\"Year\"},\"y\":{\"field\":\"Ave. Foreclosure\"}},\"id\":\"1593\",\"type\":\"Line\"},{\"attributes\":{\"line_alpha\":0.1,\"line_color\":\"#fc4f30\",\"line_width\":2,\"x\":{\"field\":\"Year\"},\"y\":{\"field\":\"Ave. Foreclosure\"}},\"id\":\"1614\",\"type\":\"Line\"},{\"attributes\":{\"label\":{\"value\":\"4\"},\"renderers\":[{\"id\":\"1688\"}]},\"id\":\"1708\",\"type\":\"LegendItem\"},{\"attributes\":{\"below\":[{\"id\":\"1562\"}],\"center\":[{\"id\":\"1565\"},{\"id\":\"1569\"}],\"height\":300,\"left\":[{\"id\":\"1566\"}],\"margin\":[5,5,5,5],\"min_border_bottom\":10,\"min_border_left\":10,\"min_border_right\":10,\"min_border_top\":10,\"renderers\":[{\"id\":\"1595\"},{\"id\":\"1616\"},{\"id\":\"1638\"},{\"id\":\"1662\"},{\"id\":\"1688\"}],\"right\":[{\"id\":\"1607\"}],\"sizing_mode\":\"fixed\",\"title\":{\"id\":\"1554\"},\"toolbar\":{\"id\":\"1576\"},\"width\":700,\"x_range\":{\"id\":\"1546\"},\"x_scale\":{\"id\":\"1558\"},\"y_range\":{\"id\":\"1547\"},\"y_scale\":{\"id\":\"1560\"}},\"id\":\"1553\",\"subtype\":\"Figure\",\"type\":\"Plot\"},{\"attributes\":{\"margin\":[5,5,5,5],\"name\":\"HSpacer02818\",\"sizing_mode\":\"stretch_width\"},\"id\":\"1872\",\"type\":\"Spacer\"},{\"attributes\":{\"end\":2022.0,\"reset_end\":2022.0,\"reset_start\":1991.0,\"start\":1991.0,\"tags\":[[[\"Year\",\"Year\",null]]]},\"id\":\"1546\",\"type\":\"Range1d\"},{\"attributes\":{\"line_color\":\"#fc4f30\",\"line_width\":2,\"x\":{\"field\":\"Year\"},\"y\":{\"field\":\"Ave. Foreclosure\"}},\"id\":\"1613\",\"type\":\"Line\"},{\"attributes\":{},\"id\":\"1683\",\"type\":\"Selection\"},{\"attributes\":{\"axis\":{\"id\":\"1566\"},\"coordinates\":null,\"dimension\":1,\"grid_line_color\":null,\"group\":null,\"ticker\":null},\"id\":\"1569\",\"type\":\"Grid\"},{\"attributes\":{\"source\":{\"id\":\"1610\"}},\"id\":\"1617\",\"type\":\"CDSView\"},{\"attributes\":{},\"id\":\"1584\",\"type\":\"BasicTickFormatter\"},{\"attributes\":{},\"id\":\"1560\",\"type\":\"LinearScale\"},{\"attributes\":{\"coordinates\":null,\"group\":null,\"text_color\":\"black\",\"text_font_size\":\"12pt\"},\"id\":\"1554\",\"type\":\"Title\"},{\"attributes\":{\"line_alpha\":0.1,\"line_color\":\"#8b8b8b\",\"line_width\":2,\"x\":{\"field\":\"Year\"},\"y\":{\"field\":\"Ave. Foreclosure\"}},\"id\":\"1686\",\"type\":\"Line\"},{\"attributes\":{},\"id\":\"1633\",\"type\":\"Selection\"},{\"attributes\":{},\"id\":\"1563\",\"type\":\"BasicTicker\"},{\"attributes\":{\"coordinates\":null,\"data_source\":{\"id\":\"1682\"},\"glyph\":{\"id\":\"1685\"},\"group\":null,\"hover_glyph\":null,\"muted_glyph\":{\"id\":\"1687\"},\"nonselection_glyph\":{\"id\":\"1686\"},\"selection_glyph\":{\"id\":\"1709\"},\"view\":{\"id\":\"1689\"}},\"id\":\"1688\",\"type\":\"GlyphRenderer\"},{\"attributes\":{\"line_alpha\":0.2,\"line_color\":\"#8b8b8b\",\"line_width\":2,\"x\":{\"field\":\"Year\"},\"y\":{\"field\":\"Ave. Foreclosure\"}},\"id\":\"1687\",\"type\":\"Line\"},{\"attributes\":{\"line_color\":\"#e5ae38\",\"line_width\":2,\"x\":{\"field\":\"Year\"},\"y\":{\"field\":\"Ave. Foreclosure\"}},\"id\":\"1635\",\"type\":\"Line\"},{\"attributes\":{\"axis_label\":\"Year\",\"coordinates\":null,\"formatter\":{\"id\":\"1584\"},\"group\":null,\"major_label_policy\":{\"id\":\"1585\"},\"ticker\":{\"id\":\"1563\"}},\"id\":\"1562\",\"type\":\"LinearAxis\"},{\"attributes\":{\"line_color\":\"#fc4f30\",\"line_width\":2,\"x\":{\"field\":\"Year\"},\"y\":{\"field\":\"Ave. Foreclosure\"}},\"id\":\"1631\",\"type\":\"Line\"},{\"attributes\":{\"line_color\":\"#8b8b8b\",\"line_width\":2,\"x\":{\"field\":\"Year\"},\"y\":{\"field\":\"Ave. Foreclosure\"}},\"id\":\"1685\",\"type\":\"Line\"},{\"attributes\":{\"callback\":null,\"renderers\":[{\"id\":\"1595\"},{\"id\":\"1616\"},{\"id\":\"1638\"},{\"id\":\"1662\"},{\"id\":\"1688\"}],\"tags\":[\"hv_created\"],\"tooltips\":[[\"class\",\"@{class}\"],[\"Year\",\"@{Year}\"],[\"Ave. Foreclosure\",\"@{Ave_full_stop_Foreclosure}\"]]},\"id\":\"1548\",\"type\":\"HoverTool\"},{\"attributes\":{},\"id\":\"1567\",\"type\":\"BasicTicker\"},{\"attributes\":{\"source\":{\"id\":\"1682\"}},\"id\":\"1689\",\"type\":\"CDSView\"},{\"attributes\":{},\"id\":\"1705\",\"type\":\"UnionRenderers\"},{\"attributes\":{\"axis_label\":\"Ave. Foreclosure\",\"coordinates\":null,\"formatter\":{\"id\":\"1587\"},\"group\":null,\"major_label_policy\":{\"id\":\"1588\"},\"ticker\":{\"id\":\"1567\"}},\"id\":\"1566\",\"type\":\"LinearAxis\"},{\"attributes\":{\"end\":11.35875,\"reset_end\":11.35875,\"reset_start\":-0.1462500000000001,\"start\":-0.1462500000000001,\"tags\":[[[\"Ave. Foreclosure\",\"Ave. Foreclosure\",null]]]},\"id\":\"1547\",\"type\":\"Range1d\"},{\"attributes\":{\"data\":{\"Ave. Foreclosure\":{\"__ndarray__\":\"ZmZmZmZGIkDNzMzMzMwkQHsUrkfhuiRArkfhehTuIUDNzMzMzMwcQI/C9ShcjxZA\",\"dtype\":\"float64\",\"order\":\"little\",\"shape\":[6]},\"Ave_full_stop_Foreclosure\":{\"__ndarray__\":\"ZmZmZmZGIkDNzMzMzMwkQHsUrkfhuiRArkfhehTuIUDNzMzMzMwcQI/C9ShcjxZA\",\"dtype\":\"float64\",\"order\":\"little\",\"shape\":[6]},\"Year\":[2009,2011,2012,2013,2014,2015],\"class\":[3,3,3,3,3,3]},\"selected\":{\"id\":\"1657\"},\"selection_policy\":{\"id\":\"1677\"}},\"id\":\"1656\",\"type\":\"ColumnDataSource\"}],\"root_ids\":[\"1544\"]},\"title\":\"Bokeh Application\",\"version\":\"2.4.1\"}};\n",
       "    var render_items = [{\"docid\":\"b79e4140-afb7-4959-9e11-a5e0ab1bdaa6\",\"root_ids\":[\"1544\"],\"roots\":{\"1544\":\"7827017c-71c7-4afb-a4cf-af31a15bc9d6\"}}];\n",
       "    root.Bokeh.embed.embed_items_notebook(docs_json, render_items);\n",
       "  }\n",
       "  if (root.Bokeh !== undefined && root.Bokeh.Panel !== undefined) {\n",
       "    embed_document(root);\n",
       "  } else {\n",
       "    var attempts = 0;\n",
       "    var timer = setInterval(function(root) {\n",
       "      if (root.Bokeh !== undefined && root.Bokeh.Panel !== undefined) {\n",
       "        clearInterval(timer);\n",
       "        embed_document(root);\n",
       "      } else if (document.readyState == \"complete\") {\n",
       "        attempts++;\n",
       "        if (attempts > 200) {\n",
       "          clearInterval(timer);\n",
       "          console.log(\"Bokeh: ERROR: Unable to run BokehJS code because BokehJS library is missing\");\n",
       "        }\n",
       "      }\n",
       "    }, 25, root)\n",
       "  }\n",
       "})(window);</script>"
      ],
      "text/plain": [
       ":NdOverlay   [class]\n",
       "   :Curve   [Year]   (Ave. Foreclosure)"
      ]
     },
     "execution_count": 26,
     "metadata": {
      "application/vnd.holoviews_exec.v0+json": {
       "id": "1544"
      }
     },
     "output_type": "execute_result"
    }
   ],
   "source": [
    "test_cluster_amount(foreclosure_master_df_ave, 5)\n",
    "foreclosure_master_df_ave.hvplot(x=\"Year\", y=\"Ave. Foreclosure\", by=\"class\")"
   ]
  },
  {
   "cell_type": "code",
   "execution_count": null,
   "id": "bafea123",
   "metadata": {},
   "outputs": [],
   "source": []
  }
 ],
 "metadata": {
  "kernelspec": {
   "display_name": "mlenv",
   "language": "python",
   "name": "mlenv"
  },
  "language_info": {
   "codemirror_mode": {
    "name": "ipython",
    "version": 3
   },
   "file_extension": ".py",
   "mimetype": "text/x-python",
   "name": "python",
   "nbconvert_exporter": "python",
   "pygments_lexer": "ipython3",
   "version": "3.7.11"
  }
 },
 "nbformat": 4,
 "nbformat_minor": 5
}
