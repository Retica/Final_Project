{
 "cells": [
  {
   "cell_type": "code",
   "execution_count": 53,
   "id": "38871738",
   "metadata": {},
   "outputs": [],
   "source": [
    "import pandas as pd\n",
    "import plotly.express as px\n",
    "import hvplot.pandas\n",
    "from sklearn.cluster import KMeans"
   ]
  },
  {
   "cell_type": "code",
   "execution_count": 54,
   "id": "375acfa5",
   "metadata": {},
   "outputs": [
    {
     "data": {
      "text/html": [
       "<div>\n",
       "<style scoped>\n",
       "    .dataframe tbody tr th:only-of-type {\n",
       "        vertical-align: middle;\n",
       "    }\n",
       "\n",
       "    .dataframe tbody tr th {\n",
       "        vertical-align: top;\n",
       "    }\n",
       "\n",
       "    .dataframe thead th {\n",
       "        text-align: right;\n",
       "    }\n",
       "</style>\n",
       "<table border=\"1\" class=\"dataframe\">\n",
       "  <thead>\n",
       "    <tr style=\"text-align: right;\">\n",
       "      <th></th>\n",
       "      <th>DATE</th>\n",
       "      <th>DRSFRMACBS</th>\n",
       "    </tr>\n",
       "  </thead>\n",
       "  <tbody>\n",
       "    <tr>\n",
       "      <th>120</th>\n",
       "      <td>2021-01-01</td>\n",
       "      <td>2.66</td>\n",
       "    </tr>\n",
       "    <tr>\n",
       "      <th>121</th>\n",
       "      <td>2021-04-01</td>\n",
       "      <td>2.41</td>\n",
       "    </tr>\n",
       "    <tr>\n",
       "      <th>122</th>\n",
       "      <td>2021-07-01</td>\n",
       "      <td>2.30</td>\n",
       "    </tr>\n",
       "    <tr>\n",
       "      <th>123</th>\n",
       "      <td>2021-10-01</td>\n",
       "      <td>2.33</td>\n",
       "    </tr>\n",
       "    <tr>\n",
       "      <th>124</th>\n",
       "      <td>2022-01-01</td>\n",
       "      <td>2.13</td>\n",
       "    </tr>\n",
       "  </tbody>\n",
       "</table>\n",
       "</div>"
      ],
      "text/plain": [
       "           DATE  DRSFRMACBS\n",
       "120  2021-01-01        2.66\n",
       "121  2021-04-01        2.41\n",
       "122  2021-07-01        2.30\n",
       "123  2021-10-01        2.33\n",
       "124  2022-01-01        2.13"
      ]
     },
     "execution_count": 54,
     "metadata": {},
     "output_type": "execute_result"
    }
   ],
   "source": [
    "# File to Load \n",
    "foreclosure_master = \"../data_csv/DRSFRMACBS.csv\"\n",
    "# Read the data\n",
    "foreclosure_master_df = pd.read_csv(foreclosure_master)\n",
    "foreclosure_master_df.tail()"
   ]
  },
  {
   "cell_type": "code",
   "execution_count": 55,
   "id": "4ebc836d",
   "metadata": {},
   "outputs": [],
   "source": [
    "# file name\n",
    "df0 = '../data_csv/ninetyone_table_foreclosure.csv'\n",
    "df1 = '../data_csv/ninetytwo_table_foreclosure.csv'\n",
    "df2 = '../data_csv/ninetythree_table_foreclosure.csv'\n",
    "df3 = '../data_csv/ninetyfour_table_foreclosure.csv'\n",
    "df4 = '../data_csv/ninetyfive_table_foreclosure.csv'\n",
    "df5 = '../data_csv/ninetysix_table_foreclosure; .csv'\n",
    "df6 = '../data_csv/ninetyseven_table_foreclosure.csv'\n",
    "df7 = '../data_csv/ninetyeight_table_foreclosure.csv'\n",
    "df8 = '../data_csv/ninetynine_table_foreclosure.csv'\n",
    "df9 = '../data_csv/twothousand_table_foreclosure.csv'\n",
    "df10 = '../data_csv/twothousandone_table_foreclosure.csv'\n",
    "df11 = '../data_csv/twothousandtwo_table_foreclosure.csv'\n",
    "df12 = '../data_csv/twothousandthree_table_foreclosure.csv'\n",
    "df13 = '../data_csv/twothousandfour_table_foreclosure.csv'\n",
    "df14 = '../data_csv/twothousandfive_table_foreclosure.csv'\n",
    "df15 = '../data_csv/twothousandsix_table_foreclosure.csv'\n",
    "df16 = '../data_csv/twothousandseven_table_foreclosure.csv'\n",
    "df17 = '../data_csv/twothousandeight_table_foreclosure.csv'\n",
    "df18 = '../data_csv/twothousandnine_table_foreclosure.csv'\n",
    "df19 = '../data_csv/twothousandten_table_foreclosure.csv'\n",
    "df20 = '../data_csv/twothousandeleven_table_foreclosure.csv'\n",
    "df21 = '../data_csv/twothousandtwelfth_table_foreclosure.csv'\n",
    "df22 = '../data_csv/twothousandthirteen_table_foreclosure.csv'\n",
    "df23 = '../data_csv/twothousandfourteen_table_foreclosure.csv'\n",
    "df24 = '../data_csv/twothousandfifteen_table_foreclosure.csv'\n",
    "df25 = '../data_csv/twothousandsixteen_table_foreclosure.csv'\n",
    "df26 = '../data_csv/twothousandseventeen_table_foreclosure.csv'\n",
    "df27 = '../data_csv/twothousandeightteen_table_foreclosure.csv'\n",
    "df28 = '../data_csv/twothousandnineteen_table_foreclosure.csv'\n",
    "df29 = '../data_csv/twothousandtwenty_table_foreclosure.csv'\n",
    "df30 = '../data_csv/twothousandtwentyone_table_foreclosure.csv'\n",
    "df31 = '../data_csv/twothousandtwo_table_foreclosure.csv'"
   ]
  },
  {
   "cell_type": "code",
   "execution_count": 56,
   "id": "2bbcfdc3",
   "metadata": {},
   "outputs": [],
   "source": [
    "\n",
    "# Read the data\n",
    "#ninetytwo = pd.read_csv(ninetytwo)\n",
    "df0 = pd.read_csv(df0)\n",
    "df1 = pd.read_csv(df1)\n",
    "df2 = pd.read_csv(df2)\n",
    "df3 = pd.read_csv(df3)\n",
    "df4 = pd.read_csv(df4)\n",
    "df5 = pd.read_csv(df5)\n",
    "df6 = pd.read_csv(df6)\n",
    "df7 = pd.read_csv(df7)\n",
    "df8 = pd.read_csv(df8)\n",
    "df9 = pd.read_csv(df9)\n",
    "df10 = pd.read_csv(df10)\n",
    "df11 = pd.read_csv(df11)\n",
    "df12 = pd.read_csv(df12)\n",
    "df13 = pd.read_csv(df13)\n",
    "df14 = pd.read_csv(df14)\n",
    "df15 = pd.read_csv(df15)\n",
    "df16 = pd.read_csv(df16)\n",
    "df17 = pd.read_csv(df17)\n",
    "df18 = pd.read_csv(df18)\n",
    "df19 = pd.read_csv(df19)\n",
    "df20 = pd.read_csv(df20)\n",
    "df21 = pd.read_csv(df21)\n",
    "df22 = pd.read_csv(df22)\n",
    "df23 = pd.read_csv(df23)\n",
    "df24 = pd.read_csv(df24)\n",
    "df25 = pd.read_csv(df25)\n",
    "df26 = pd.read_csv(df26)\n",
    "df27 = pd.read_csv(df27)\n",
    "df28 = pd.read_csv(df28)\n",
    "df29 = pd.read_csv(df29)\n",
    "df30 = pd.read_csv(df30)\n",
    "df31 = pd.read_csv(df31)\n"
   ]
  },
  {
   "cell_type": "code",
   "execution_count": 57,
   "id": "efd80002",
   "metadata": {},
   "outputs": [
    {
     "data": {
      "text/plain": [
       "drsfrmacbs    3.18\n",
       "dtype: float64"
      ]
     },
     "execution_count": 57,
     "metadata": {},
     "output_type": "execute_result"
    }
   ],
   "source": [
    "# Finding the average of df0\n",
    "ave_df0 = df0[['drsfrmacbs']].mean()\n",
    "ave_df0"
   ]
  },
  {
   "cell_type": "code",
   "execution_count": 58,
   "id": "304efb18",
   "metadata": {},
   "outputs": [
    {
     "data": {
      "text/plain": [
       "drsfrmacbs    1.7325\n",
       "dtype: float64"
      ]
     },
     "execution_count": 58,
     "metadata": {},
     "output_type": "execute_result"
    }
   ],
   "source": [
    "#Finding ave for rest\n",
    "ave_df0 = df0[['drsfrmacbs']].mean()\n",
    "ave_df1 = df1[['drsfrmacbs']].mean()\n",
    "ave_df2 = df2[['drsfrmacbs']].mean()\n",
    "ave_df3 = df3[['drsfrmacbs']].mean()\n",
    "ave_df4 = df4[['drsfrmacbs']].mean()\n",
    "ave_df5 = df5[['drsfrmacbs']].mean()\n",
    "ave_df6 = df6[['drsfrmacbs']].mean()\n",
    "ave_df7 = df7[['drsfrmacbs']].mean()\n",
    "ave_df8 = df8[['drsfrmacbs']].mean()\n",
    "ave_df9 = df9[['drsfrmacbs']].mean()\n",
    "ave_df10 = df10[['drsfrmacbs']].mean()\n",
    "ave_df11 = df11[['drsfrmacbs']].mean()\n",
    "ave_df12 = df12[['drsfrmacbs']].mean()\n",
    "ave_df13 = df13[['drsfrmacbs']].mean()\n",
    "ave_df14 = df14[['drsfrmacbs']].mean()\n",
    "ave_df15 = df15[['drsfrmacbs']].mean()\n",
    "ave_df16 = df16[['drsfrmacbs']].mean()\n",
    "ave_df17 = df17[['drsfrmacbs']].mean()\n",
    "ave_df18 = df18[['drsfrmacbs']].mean()\n",
    "ave_df19 = df19[['drsfrmacbs']].mean()\n",
    "ave_df20 = df20[['drsfrmacbs']].mean()\n",
    "ave_df21 = df21[['drsfrmacbs']].mean()\n",
    "ave_df22 = df22[['drsfrmacbs']].mean()\n",
    "ave_df23 = df23[['drsfrmacbs']].mean()\n",
    "ave_df24 = df24[['drsfrmacbs']].mean()\n",
    "ave_df25 = df25[['drsfrmacbs']].mean()\n",
    "ave_df26 = df26[['drsfrmacbs']].mean()\n",
    "ave_df27 = df27[['drsfrmacbs']].mean()\n",
    "ave_df28 = df28[['drsfrmacbs']].mean()\n",
    "ave_df29 = df29[['drsfrmacbs']].mean()\n",
    "ave_df30 = df30[['drsfrmacbs']].mean()\n",
    "ave_df31 = df31[['drsfrmacbs']].mean()\n",
    "\n",
    "ave_df15"
   ]
  },
  {
   "cell_type": "code",
   "execution_count": 59,
   "id": "7af7b2cf",
   "metadata": {},
   "outputs": [
    {
     "data": {
      "text/plain": [
       "0      3.1800\n",
       "1      2.9825\n",
       "2      2.6100\n",
       "3      2.2175\n",
       "4      2.1425\n",
       "5      2.2550\n",
       "6      2.2675\n",
       "7      2.1150\n",
       "8      1.9825\n",
       "9      2.0825\n",
       "10     2.2950\n",
       "11     2.1125\n",
       "12     1.8275\n",
       "13     1.5525\n",
       "14     1.5475\n",
       "15     1.7325\n",
       "16     2.5525\n",
       "17     5.0075\n",
       "18     9.1375\n",
       "19    10.8125\n",
       "20    10.4000\n",
       "21    10.3650\n",
       "22     8.9650\n",
       "23     7.2000\n",
       "24     5.6400\n",
       "25     5.6400\n",
       "26     3.7125\n",
       "27     3.1200\n",
       "28     2.5075\n",
       "29     2.6325\n",
       "30     2.4250\n",
       "31     2.1125\n",
       "dtype: float64"
      ]
     },
     "execution_count": 59,
     "metadata": {},
     "output_type": "execute_result"
    }
   ],
   "source": [
    "#Creating for loop to drop all values with na\n",
    "#df = []\n",
    "#for dfs in df_list: \n",
    " #   dfs[['drsfrmacbs']].mean\n",
    "\n",
    "#dfs.head()    \n",
    "ave_df_master = pd.concat([ave_df0, ave_df1, ave_df2, ave_df3, ave_df4, ave_df5,\n",
    "                           ave_df6, ave_df7, ave_df8, ave_df9, ave_df10, ave_df11, ave_df12, ave_df13,\n",
    "          ave_df14, ave_df15, ave_df16, ave_df17, ave_df18, ave_df19, ave_df20, ave_df21, ave_df22, ave_df23, ave_df24, ave_df25,\n",
    "          ave_df26, ave_df27, ave_df28, ave_df29, ave_df30, ave_df31], ignore_index=True)\n",
    "ave_df_master\n",
    "\n",
    "\n"
   ]
  },
  {
   "cell_type": "code",
   "execution_count": 60,
   "id": "8fad49ae",
   "metadata": {},
   "outputs": [
    {
     "data": {
      "text/html": [
       "<div>\n",
       "<style scoped>\n",
       "    .dataframe tbody tr th:only-of-type {\n",
       "        vertical-align: middle;\n",
       "    }\n",
       "\n",
       "    .dataframe tbody tr th {\n",
       "        vertical-align: top;\n",
       "    }\n",
       "\n",
       "    .dataframe thead th {\n",
       "        text-align: right;\n",
       "    }\n",
       "</style>\n",
       "<table border=\"1\" class=\"dataframe\">\n",
       "  <thead>\n",
       "    <tr style=\"text-align: right;\">\n",
       "      <th></th>\n",
       "      <th>Year</th>\n",
       "      <th>Ave. Foreclosure</th>\n",
       "    </tr>\n",
       "  </thead>\n",
       "  <tbody>\n",
       "    <tr>\n",
       "      <th>0</th>\n",
       "      <td>1991</td>\n",
       "      <td>3.1800</td>\n",
       "    </tr>\n",
       "    <tr>\n",
       "      <th>1</th>\n",
       "      <td>1992</td>\n",
       "      <td>2.9825</td>\n",
       "    </tr>\n",
       "    <tr>\n",
       "      <th>2</th>\n",
       "      <td>1993</td>\n",
       "      <td>2.6100</td>\n",
       "    </tr>\n",
       "    <tr>\n",
       "      <th>3</th>\n",
       "      <td>1994</td>\n",
       "      <td>2.2175</td>\n",
       "    </tr>\n",
       "    <tr>\n",
       "      <th>4</th>\n",
       "      <td>1995</td>\n",
       "      <td>2.1425</td>\n",
       "    </tr>\n",
       "  </tbody>\n",
       "</table>\n",
       "</div>"
      ],
      "text/plain": [
       "   Year  Ave. Foreclosure\n",
       "0  1991            3.1800\n",
       "1  1992            2.9825\n",
       "2  1993            2.6100\n",
       "3  1994            2.2175\n",
       "4  1995            2.1425"
      ]
     },
     "execution_count": 60,
     "metadata": {},
     "output_type": "execute_result"
    }
   ],
   "source": [
    "# File to Load \n",
    "foreclosure_master = \"../data_csv/Ave_Fore_rate .csv\"\n",
    "# Read the data\n",
    "foreclosure_master_df_ave = pd.read_csv(foreclosure_master)\n",
    "foreclosure_master_df_ave.head()"
   ]
  },
  {
   "cell_type": "code",
   "execution_count": 61,
   "id": "7a4abdd5",
   "metadata": {},
   "outputs": [
    {
     "data": {
      "text/plain": [
       "Year                32\n",
       "Ave. Foreclosure    32\n",
       "dtype: int64"
      ]
     },
     "execution_count": 61,
     "metadata": {},
     "output_type": "execute_result"
    }
   ],
   "source": [
    "foreclosure_master_df_ave.count()"
   ]
  },
  {
   "cell_type": "code",
   "execution_count": 62,
   "id": "0bbf2b04",
   "metadata": {},
   "outputs": [
    {
     "name": "stdout",
     "output_type": "stream",
     "text": [
      "Year                  int64\n",
      "Ave. Foreclosure    float64\n",
      "dtype: object\n"
     ]
    }
   ],
   "source": [
    "print(foreclosure_master_df_ave.dtypes)"
   ]
  },
  {
   "cell_type": "code",
   "execution_count": 63,
   "id": "808827d6",
   "metadata": {},
   "outputs": [
    {
     "data": {
      "text/plain": [
       "KMeans(n_clusters=3, random_state=5)"
      ]
     },
     "execution_count": 63,
     "metadata": {},
     "output_type": "execute_result"
    }
   ],
   "source": [
    "#Initialize model with K = 3(we know there are three classes of iris plants)\n",
    "model = KMeans(n_clusters=3, random_state=5)\n",
    "model"
   ]
  },
  {
   "cell_type": "code",
   "execution_count": 64,
   "id": "fb782587",
   "metadata": {},
   "outputs": [
    {
     "data": {
      "text/plain": [
       "KMeans(n_clusters=3, random_state=5)"
      ]
     },
     "execution_count": 64,
     "metadata": {},
     "output_type": "execute_result"
    }
   ],
   "source": [
    "# Fitting model -there is no training and testing because Kmeans will do it for you \n",
    "model.fit(foreclosure_master_df_ave)"
   ]
  },
  {
   "cell_type": "code",
   "execution_count": 65,
   "id": "6175c3ba",
   "metadata": {},
   "outputs": [
    {
     "name": "stdout",
     "output_type": "stream",
     "text": [
      "[0 0 0 0 0 0 0 0 0 0 0 2 2 2 2 2 2 2 2 2 1 1 1 1 1 1 1 1 1 1 1 1]\n"
     ]
    }
   ],
   "source": [
    "#group data points and ger predicitions\n",
    "predictions = model.predict(foreclosure_master_df_ave)\n",
    "print(predictions)"
   ]
  },
  {
   "cell_type": "code",
   "execution_count": 66,
   "id": "afdf374b",
   "metadata": {},
   "outputs": [
    {
     "data": {
      "text/html": [
       "<div>\n",
       "<style scoped>\n",
       "    .dataframe tbody tr th:only-of-type {\n",
       "        vertical-align: middle;\n",
       "    }\n",
       "\n",
       "    .dataframe tbody tr th {\n",
       "        vertical-align: top;\n",
       "    }\n",
       "\n",
       "    .dataframe thead th {\n",
       "        text-align: right;\n",
       "    }\n",
       "</style>\n",
       "<table border=\"1\" class=\"dataframe\">\n",
       "  <thead>\n",
       "    <tr style=\"text-align: right;\">\n",
       "      <th></th>\n",
       "      <th>0</th>\n",
       "    </tr>\n",
       "  </thead>\n",
       "  <tbody>\n",
       "    <tr>\n",
       "      <th>27</th>\n",
       "      <td>1</td>\n",
       "    </tr>\n",
       "    <tr>\n",
       "      <th>28</th>\n",
       "      <td>1</td>\n",
       "    </tr>\n",
       "    <tr>\n",
       "      <th>29</th>\n",
       "      <td>1</td>\n",
       "    </tr>\n",
       "    <tr>\n",
       "      <th>30</th>\n",
       "      <td>1</td>\n",
       "    </tr>\n",
       "    <tr>\n",
       "      <th>31</th>\n",
       "      <td>1</td>\n",
       "    </tr>\n",
       "  </tbody>\n",
       "</table>\n",
       "</div>"
      ],
      "text/plain": [
       "    0\n",
       "27  1\n",
       "28  1\n",
       "29  1\n",
       "30  1\n",
       "31  1"
      ]
     },
     "execution_count": 66,
     "metadata": {},
     "output_type": "execute_result"
    }
   ],
   "source": [
    "predic_df = pd.DataFrame(predictions)\n",
    "predic_df.tail()"
   ]
  },
  {
   "cell_type": "code",
   "execution_count": 67,
   "id": "e43fa27a",
   "metadata": {},
   "outputs": [
    {
     "data": {
      "text/html": [
       "<div>\n",
       "<style scoped>\n",
       "    .dataframe tbody tr th:only-of-type {\n",
       "        vertical-align: middle;\n",
       "    }\n",
       "\n",
       "    .dataframe tbody tr th {\n",
       "        vertical-align: top;\n",
       "    }\n",
       "\n",
       "    .dataframe thead th {\n",
       "        text-align: right;\n",
       "    }\n",
       "</style>\n",
       "<table border=\"1\" class=\"dataframe\">\n",
       "  <thead>\n",
       "    <tr style=\"text-align: right;\">\n",
       "      <th></th>\n",
       "      <th>0</th>\n",
       "      <th>Year</th>\n",
       "      <th>Ave. Foreclosure</th>\n",
       "    </tr>\n",
       "  </thead>\n",
       "  <tbody>\n",
       "    <tr>\n",
       "      <th>27</th>\n",
       "      <td>1</td>\n",
       "      <td>2018</td>\n",
       "      <td>3.1200</td>\n",
       "    </tr>\n",
       "    <tr>\n",
       "      <th>28</th>\n",
       "      <td>1</td>\n",
       "      <td>2019</td>\n",
       "      <td>2.5075</td>\n",
       "    </tr>\n",
       "    <tr>\n",
       "      <th>29</th>\n",
       "      <td>1</td>\n",
       "      <td>2020</td>\n",
       "      <td>2.6325</td>\n",
       "    </tr>\n",
       "    <tr>\n",
       "      <th>30</th>\n",
       "      <td>1</td>\n",
       "      <td>2021</td>\n",
       "      <td>2.4250</td>\n",
       "    </tr>\n",
       "    <tr>\n",
       "      <th>31</th>\n",
       "      <td>1</td>\n",
       "      <td>2022</td>\n",
       "      <td>2.1125</td>\n",
       "    </tr>\n",
       "  </tbody>\n",
       "</table>\n",
       "</div>"
      ],
      "text/plain": [
       "    0  Year  Ave. Foreclosure\n",
       "27  1  2018            3.1200\n",
       "28  1  2019            2.5075\n",
       "29  1  2020            2.6325\n",
       "30  1  2021            2.4250\n",
       "31  1  2022            2.1125"
      ]
     },
     "execution_count": 67,
     "metadata": {},
     "output_type": "execute_result"
    }
   ],
   "source": [
    "master_predic_df = pd.concat([predic_df, foreclosure_master_df_ave], axis=1)\n",
    "master_predic_df.tail()"
   ]
  },
  {
   "cell_type": "code",
   "execution_count": 68,
   "id": "2e40da54",
   "metadata": {},
   "outputs": [
    {
     "data": {
      "text/html": [
       "<div>\n",
       "<style scoped>\n",
       "    .dataframe tbody tr th:only-of-type {\n",
       "        vertical-align: middle;\n",
       "    }\n",
       "\n",
       "    .dataframe tbody tr th {\n",
       "        vertical-align: top;\n",
       "    }\n",
       "\n",
       "    .dataframe thead th {\n",
       "        text-align: right;\n",
       "    }\n",
       "</style>\n",
       "<table border=\"1\" class=\"dataframe\">\n",
       "  <thead>\n",
       "    <tr style=\"text-align: right;\">\n",
       "      <th></th>\n",
       "      <th>0</th>\n",
       "      <th>Year</th>\n",
       "      <th>Ave. Foreclosure</th>\n",
       "    </tr>\n",
       "  </thead>\n",
       "  <tbody>\n",
       "    <tr>\n",
       "      <th>0</th>\n",
       "      <td>0</td>\n",
       "      <td>1991</td>\n",
       "      <td>3.1800</td>\n",
       "    </tr>\n",
       "    <tr>\n",
       "      <th>1</th>\n",
       "      <td>0</td>\n",
       "      <td>1992</td>\n",
       "      <td>2.9825</td>\n",
       "    </tr>\n",
       "    <tr>\n",
       "      <th>2</th>\n",
       "      <td>0</td>\n",
       "      <td>1993</td>\n",
       "      <td>2.6100</td>\n",
       "    </tr>\n",
       "    <tr>\n",
       "      <th>3</th>\n",
       "      <td>0</td>\n",
       "      <td>1994</td>\n",
       "      <td>2.2175</td>\n",
       "    </tr>\n",
       "    <tr>\n",
       "      <th>4</th>\n",
       "      <td>0</td>\n",
       "      <td>1995</td>\n",
       "      <td>2.1425</td>\n",
       "    </tr>\n",
       "  </tbody>\n",
       "</table>\n",
       "</div>"
      ],
      "text/plain": [
       "   0  Year  Ave. Foreclosure\n",
       "0  0  1991            3.1800\n",
       "1  0  1992            2.9825\n",
       "2  0  1993            2.6100\n",
       "3  0  1994            2.2175\n",
       "4  0  1995            2.1425"
      ]
     },
     "execution_count": 68,
     "metadata": {},
     "output_type": "execute_result"
    }
   ],
   "source": [
    "# Add a new class column to the df_iris of the predicted class\n",
    "master_predic_df.head()"
   ]
  },
  {
   "cell_type": "code",
   "execution_count": 70,
   "id": "e9b6114a",
   "metadata": {},
   "outputs": [
    {
     "data": {
      "text/plain": [
       "0                     int32\n",
       "Year                  int64\n",
       "Ave. Foreclosure    float64\n",
       "dtype: object"
      ]
     },
     "execution_count": 70,
     "metadata": {},
     "output_type": "execute_result"
    }
   ],
   "source": [
    "master_predic_df.dtypes\n"
   ]
  },
  {
   "cell_type": "code",
   "execution_count": 69,
   "id": "826f3e1e",
   "metadata": {
    "scrolled": true
   },
   "outputs": [
    {
     "ename": "AttributeError",
     "evalue": "'function' object has no attribute 'hvplot'",
     "output_type": "error",
     "traceback": [
      "\u001b[0;31m---------------------------------------------------------------------------\u001b[0m",
      "\u001b[0;31mAttributeError\u001b[0m                            Traceback (most recent call last)",
      "\u001b[0;32m/var/folders/ys/fgzl5kc13fl4mt1c29p8bc2h0000gn/T/ipykernel_18974/2943786166.py\u001b[0m in \u001b[0;36m<module>\u001b[0;34m\u001b[0m\n\u001b[1;32m      1\u001b[0m \u001b[0;31m#visualize the data by plotting clusters\u001b[0m\u001b[0;34m\u001b[0m\u001b[0;34m\u001b[0m\u001b[0;34m\u001b[0m\u001b[0m\n\u001b[0;32m----> 2\u001b[0;31m \u001b[0mmaster_predic_df\u001b[0m\u001b[0;34m.\u001b[0m\u001b[0mtail\u001b[0m\u001b[0;34m.\u001b[0m\u001b[0mhvplot\u001b[0m\u001b[0;34m(\u001b[0m\u001b[0mx\u001b[0m\u001b[0;34m=\u001b[0m\u001b[0;34m\"Year\"\u001b[0m\u001b[0;34m,\u001b[0m \u001b[0my\u001b[0m\u001b[0;34m=\u001b[0m\u001b[0;34m\"Ave. Foreclosure\"\u001b[0m\u001b[0;34m)\u001b[0m\u001b[0;34m\u001b[0m\u001b[0;34m\u001b[0m\u001b[0m\n\u001b[0m",
      "\u001b[0;31mAttributeError\u001b[0m: 'function' object has no attribute 'hvplot'"
     ]
    }
   ],
   "source": [
    "#visualize the data by plotting clusters \n",
    "master_predic_df.tail.hvplot(x=\"Year\", y=\"Ave. Foreclosure\")"
   ]
  },
  {
   "cell_type": "markdown",
   "id": "455ac2c6",
   "metadata": {},
   "source": [
    "# Completing the prediction again, but with two clusters\n"
   ]
  },
  {
   "cell_type": "code",
   "execution_count": 29,
   "id": "8b501f57",
   "metadata": {},
   "outputs": [],
   "source": [
    "def test_cluster_amount(foreclosure_master_df_ave, clusters):\n",
    "    model = KMeans(n_clusters=clusters, random_state=5)\n",
    "    model\n",
    "    # Fitting model\n",
    "    model.fit(foreclosure_master_df_ave)\n",
    "    # Add a new class column to df_iris\n",
    "    foreclosure_master_df_ave[\"class\"] = model.labels_"
   ]
  },
  {
   "cell_type": "code",
   "execution_count": 31,
   "id": "dafabfe0",
   "metadata": {},
   "outputs": [
    {
     "data": {},
     "metadata": {},
     "output_type": "display_data"
    },
    {
     "data": {
      "application/vnd.holoviews_exec.v0+json": "",
      "text/html": [
       "<div id='2384'>\n",
       "\n",
       "\n",
       "\n",
       "\n",
       "\n",
       "  <div class=\"bk-root\" id=\"64f32b36-2557-477b-9140-af74bc665450\" data-root-id=\"2384\"></div>\n",
       "</div>\n",
       "<script type=\"application/javascript\">(function(root) {\n",
       "  function embed_document(root) {\n",
       "    var docs_json = {\"bce3c5d6-a1f5-425b-b9b2-6d3a99c7af63\":{\"defs\":[{\"extends\":null,\"module\":null,\"name\":\"ReactiveHTML1\",\"overrides\":[],\"properties\":[]},{\"extends\":null,\"module\":null,\"name\":\"FlexBox1\",\"overrides\":[],\"properties\":[{\"default\":\"flex-start\",\"kind\":null,\"name\":\"align_content\"},{\"default\":\"flex-start\",\"kind\":null,\"name\":\"align_items\"},{\"default\":\"row\",\"kind\":null,\"name\":\"flex_direction\"},{\"default\":\"wrap\",\"kind\":null,\"name\":\"flex_wrap\"},{\"default\":\"flex-start\",\"kind\":null,\"name\":\"justify_content\"}]},{\"extends\":null,\"module\":null,\"name\":\"GridStack1\",\"overrides\":[],\"properties\":[{\"default\":\"warn\",\"kind\":null,\"name\":\"mode\"},{\"default\":null,\"kind\":null,\"name\":\"ncols\"},{\"default\":null,\"kind\":null,\"name\":\"nrows\"},{\"default\":true,\"kind\":null,\"name\":\"allow_resize\"},{\"default\":true,\"kind\":null,\"name\":\"allow_drag\"},{\"default\":[],\"kind\":null,\"name\":\"state\"}]},{\"extends\":null,\"module\":null,\"name\":\"click1\",\"overrides\":[],\"properties\":[{\"default\":\"\",\"kind\":null,\"name\":\"terminal_output\"},{\"default\":\"\",\"kind\":null,\"name\":\"debug_name\"},{\"default\":0,\"kind\":null,\"name\":\"clears\"}]},{\"extends\":null,\"module\":null,\"name\":\"TemplateActions1\",\"overrides\":[],\"properties\":[{\"default\":0,\"kind\":null,\"name\":\"open_modal\"},{\"default\":0,\"kind\":null,\"name\":\"close_modal\"}]},{\"extends\":null,\"module\":null,\"name\":\"MaterialTemplateActions1\",\"overrides\":[],\"properties\":[{\"default\":0,\"kind\":null,\"name\":\"open_modal\"},{\"default\":0,\"kind\":null,\"name\":\"close_modal\"}]}],\"roots\":{\"references\":[{\"attributes\":{\"data\":{\"Ave. Foreclosure\":{\"__ndarray__\":\"j8L1KFyPFkAzMzMzM7MNQPYoXI/C9QhAj8L1KFwPBECPwvUoXA8FQGZmZmZmZgNAZmZmZmbmAEA=\",\"dtype\":\"float64\",\"order\":\"little\",\"shape\":[7]},\"Ave_full_stop_Foreclosure\":{\"__ndarray__\":\"j8L1KFyPFkAzMzMzM7MNQPYoXI/C9QhAj8L1KFwPBECPwvUoXA8FQGZmZmZmZgNAZmZmZmbmAEA=\",\"dtype\":\"float64\",\"order\":\"little\",\"shape\":[7]},\"Year\":[2016,2017,2018,2019,2020,2021,2022],\"class\":[1,1,1,1,1,1,1]},\"selected\":{\"id\":\"2451\"},\"selection_policy\":{\"id\":\"2467\"}},\"id\":\"2450\",\"type\":\"ColumnDataSource\"},{\"attributes\":{\"source\":{\"id\":\"2450\"}},\"id\":\"2457\",\"type\":\"CDSView\"},{\"attributes\":{\"source\":{\"id\":\"2522\"}},\"id\":\"2529\",\"type\":\"CDSView\"},{\"attributes\":{},\"id\":\"2467\",\"type\":\"UnionRenderers\"},{\"attributes\":{\"axis_label\":\"Year\",\"coordinates\":null,\"formatter\":{\"id\":\"2424\"},\"group\":null,\"major_label_policy\":{\"id\":\"2425\"},\"ticker\":{\"id\":\"2403\"}},\"id\":\"2402\",\"type\":\"LinearAxis\"},{\"attributes\":{\"label\":{\"value\":\"1\"},\"renderers\":[{\"id\":\"2456\"}]},\"id\":\"2470\",\"type\":\"LegendItem\"},{\"attributes\":{},\"id\":\"2424\",\"type\":\"BasicTickFormatter\"},{\"attributes\":{\"coordinates\":null,\"data_source\":{\"id\":\"2522\"},\"glyph\":{\"id\":\"2525\"},\"group\":null,\"hover_glyph\":null,\"muted_glyph\":{\"id\":\"2527\"},\"nonselection_glyph\":{\"id\":\"2526\"},\"selection_glyph\":{\"id\":\"2549\"},\"view\":{\"id\":\"2529\"}},\"id\":\"2528\",\"type\":\"GlyphRenderer\"},{\"attributes\":{\"axis\":{\"id\":\"2406\"},\"coordinates\":null,\"dimension\":1,\"grid_line_color\":null,\"group\":null,\"ticker\":null},\"id\":\"2409\",\"type\":\"Grid\"},{\"attributes\":{\"angle\":{\"value\":0.0},\"fill_alpha\":{\"value\":1.0},\"fill_color\":{\"value\":\"#fc4f30\"},\"hatch_alpha\":{\"value\":1.0},\"hatch_color\":{\"value\":\"#fc4f30\"},\"hatch_scale\":{\"value\":12.0},\"hatch_weight\":{\"value\":1.0},\"line_alpha\":{\"value\":1.0},\"line_cap\":{\"value\":\"butt\"},\"line_color\":{\"value\":\"#fc4f30\"},\"line_dash\":{\"value\":[]},\"line_dash_offset\":{\"value\":0},\"line_join\":{\"value\":\"bevel\"},\"line_width\":{\"value\":1},\"marker\":{\"value\":\"circle\"},\"size\":{\"value\":5.477225575051661},\"x\":{\"field\":\"Year\"},\"y\":{\"field\":\"Ave. Foreclosure\"}},\"id\":\"2471\",\"type\":\"Scatter\"},{\"attributes\":{\"fill_alpha\":{\"value\":0.1},\"fill_color\":{\"value\":\"#8b8b8b\"},\"hatch_alpha\":{\"value\":0.1},\"hatch_color\":{\"value\":\"#8b8b8b\"},\"line_alpha\":{\"value\":0.1},\"line_color\":{\"value\":\"#8b8b8b\"},\"size\":{\"value\":5.477225575051661},\"x\":{\"field\":\"Year\"},\"y\":{\"field\":\"Ave. Foreclosure\"}},\"id\":\"2526\",\"type\":\"Scatter\"},{\"attributes\":{},\"id\":\"2403\",\"type\":\"BasicTicker\"},{\"attributes\":{\"coordinates\":null,\"data_source\":{\"id\":\"2472\"},\"glyph\":{\"id\":\"2475\"},\"group\":null,\"hover_glyph\":null,\"muted_glyph\":{\"id\":\"2477\"},\"nonselection_glyph\":{\"id\":\"2476\"},\"selection_glyph\":{\"id\":\"2495\"},\"view\":{\"id\":\"2479\"}},\"id\":\"2478\",\"type\":\"GlyphRenderer\"},{\"attributes\":{\"axis\":{\"id\":\"2402\"},\"coordinates\":null,\"grid_line_color\":null,\"group\":null,\"ticker\":null},\"id\":\"2405\",\"type\":\"Grid\"},{\"attributes\":{\"fill_alpha\":{\"value\":0.1},\"fill_color\":{\"value\":\"#e5ae38\"},\"hatch_alpha\":{\"value\":0.1},\"hatch_color\":{\"value\":\"#e5ae38\"},\"line_alpha\":{\"value\":0.1},\"line_color\":{\"value\":\"#e5ae38\"},\"size\":{\"value\":5.477225575051661},\"x\":{\"field\":\"Year\"},\"y\":{\"field\":\"Ave. Foreclosure\"}},\"id\":\"2476\",\"type\":\"Scatter\"},{\"attributes\":{\"label\":{\"value\":\"3\"},\"renderers\":[{\"id\":\"2502\"}]},\"id\":\"2520\",\"type\":\"LegendItem\"},{\"attributes\":{\"fill_alpha\":{\"value\":0.2},\"fill_color\":{\"value\":\"#8b8b8b\"},\"hatch_alpha\":{\"value\":0.2},\"hatch_color\":{\"value\":\"#8b8b8b\"},\"line_alpha\":{\"value\":0.2},\"line_color\":{\"value\":\"#8b8b8b\"},\"size\":{\"value\":5.477225575051661},\"x\":{\"field\":\"Year\"},\"y\":{\"field\":\"Ave. Foreclosure\"}},\"id\":\"2527\",\"type\":\"Scatter\"},{\"attributes\":{},\"id\":\"2407\",\"type\":\"BasicTicker\"},{\"attributes\":{\"axis_label\":\"Ave. Foreclosure\",\"coordinates\":null,\"formatter\":{\"id\":\"2427\"},\"group\":null,\"major_label_policy\":{\"id\":\"2428\"},\"ticker\":{\"id\":\"2407\"}},\"id\":\"2406\",\"type\":\"LinearAxis\"},{\"attributes\":{\"end\":11.35875,\"reset_end\":11.35875,\"reset_start\":-0.1462500000000001,\"start\":-0.1462500000000001,\"tags\":[[[\"Ave. Foreclosure\",\"Ave. Foreclosure\",null]]]},\"id\":\"2387\",\"type\":\"Range1d\"},{\"attributes\":{\"click_policy\":\"mute\",\"coordinates\":null,\"group\":null,\"items\":[{\"id\":\"2448\"},{\"id\":\"2470\"},{\"id\":\"2494\"},{\"id\":\"2520\"},{\"id\":\"2548\"}],\"location\":[0,0],\"title\":\"class\"},\"id\":\"2447\",\"type\":\"Legend\"},{\"attributes\":{\"fill_alpha\":{\"value\":0.2},\"fill_color\":{\"value\":\"#e5ae38\"},\"hatch_alpha\":{\"value\":0.2},\"hatch_color\":{\"value\":\"#e5ae38\"},\"line_alpha\":{\"value\":0.2},\"line_color\":{\"value\":\"#e5ae38\"},\"size\":{\"value\":5.477225575051661},\"x\":{\"field\":\"Year\"},\"y\":{\"field\":\"Ave. Foreclosure\"}},\"id\":\"2477\",\"type\":\"Scatter\"},{\"attributes\":{},\"id\":\"2545\",\"type\":\"UnionRenderers\"},{\"attributes\":{\"end\":2023.3285714285714,\"reset_end\":2023.3285714285714,\"reset_start\":1989.6714285714286,\"start\":1989.6714285714286,\"tags\":[[[\"Year\",\"Year\",null]]]},\"id\":\"2386\",\"type\":\"Range1d\"},{\"attributes\":{\"label\":{\"value\":\"4\"},\"renderers\":[{\"id\":\"2528\"}]},\"id\":\"2548\",\"type\":\"LegendItem\"},{\"attributes\":{\"fill_color\":{\"value\":\"#fc4f30\"},\"hatch_color\":{\"value\":\"#fc4f30\"},\"line_color\":{\"value\":\"#fc4f30\"},\"size\":{\"value\":5.477225575051661},\"x\":{\"field\":\"Year\"},\"y\":{\"field\":\"Ave. Foreclosure\"}},\"id\":\"2453\",\"type\":\"Scatter\"},{\"attributes\":{\"data\":{\"Ave. Foreclosure\":{\"__ndarray__\":\"16NwPQrX+D/D9Shcj8L4P7gehetRuPs/7FG4HoVrBEBI4XoUrgcUQAAAAAAAAOo/\",\"dtype\":\"float64\",\"order\":\"little\",\"shape\":[6]},\"Ave_full_stop_Foreclosure\":{\"__ndarray__\":\"16NwPQrX+D/D9Shcj8L4P7gehetRuPs/7FG4HoVrBEBI4XoUrgcUQAAAAAAAAOo/\",\"dtype\":\"float64\",\"order\":\"little\",\"shape\":[6]},\"Year\":[2004,2005,2006,2007,2008,2010],\"class\":[0,0,0,0,0,0]},\"selected\":{\"id\":\"2430\"},\"selection_policy\":{\"id\":\"2444\"}},\"id\":\"2429\",\"type\":\"ColumnDataSource\"},{\"attributes\":{\"fill_alpha\":{\"value\":0.1},\"fill_color\":{\"value\":\"#30a2da\"},\"hatch_alpha\":{\"value\":0.1},\"hatch_color\":{\"value\":\"#30a2da\"},\"line_alpha\":{\"value\":0.1},\"line_color\":{\"value\":\"#30a2da\"},\"size\":{\"value\":5.477225575051661},\"x\":{\"field\":\"Year\"},\"y\":{\"field\":\"Ave. Foreclosure\"}},\"id\":\"2433\",\"type\":\"Scatter\"},{\"attributes\":{\"source\":{\"id\":\"2472\"}},\"id\":\"2479\",\"type\":\"CDSView\"},{\"attributes\":{},\"id\":\"2523\",\"type\":\"Selection\"},{\"attributes\":{\"fill_alpha\":{\"value\":0.1},\"fill_color\":{\"value\":\"#fc4f30\"},\"hatch_alpha\":{\"value\":0.1},\"hatch_color\":{\"value\":\"#fc4f30\"},\"line_alpha\":{\"value\":0.1},\"line_color\":{\"value\":\"#fc4f30\"},\"size\":{\"value\":5.477225575051661},\"x\":{\"field\":\"Year\"},\"y\":{\"field\":\"Ave. Foreclosure\"}},\"id\":\"2454\",\"type\":\"Scatter\"},{\"attributes\":{\"angle\":{\"value\":0.0},\"fill_alpha\":{\"value\":1.0},\"fill_color\":{\"value\":\"#8b8b8b\"},\"hatch_alpha\":{\"value\":1.0},\"hatch_color\":{\"value\":\"#8b8b8b\"},\"hatch_scale\":{\"value\":12.0},\"hatch_weight\":{\"value\":1.0},\"line_alpha\":{\"value\":1.0},\"line_cap\":{\"value\":\"butt\"},\"line_color\":{\"value\":\"#8b8b8b\"},\"line_dash\":{\"value\":[]},\"line_dash_offset\":{\"value\":0},\"line_join\":{\"value\":\"bevel\"},\"line_width\":{\"value\":1},\"marker\":{\"value\":\"circle\"},\"size\":{\"value\":5.477225575051661},\"x\":{\"field\":\"Year\"},\"y\":{\"field\":\"Ave. Foreclosure\"}},\"id\":\"2549\",\"type\":\"Scatter\"},{\"attributes\":{\"margin\":[5,5,5,5],\"name\":\"HSpacer04652\",\"sizing_mode\":\"stretch_width\"},\"id\":\"2712\",\"type\":\"Spacer\"},{\"attributes\":{},\"id\":\"2410\",\"type\":\"SaveTool\"},{\"attributes\":{},\"id\":\"2430\",\"type\":\"Selection\"},{\"attributes\":{},\"id\":\"2473\",\"type\":\"Selection\"},{\"attributes\":{},\"id\":\"2411\",\"type\":\"PanTool\"},{\"attributes\":{},\"id\":\"2412\",\"type\":\"WheelZoomTool\"},{\"attributes\":{\"children\":[{\"id\":\"2385\"},{\"id\":\"2393\"},{\"id\":\"2712\"}],\"margin\":[0,0,0,0],\"name\":\"Row04647\",\"tags\":[\"embedded\"]},\"id\":\"2384\",\"type\":\"Row\"},{\"attributes\":{\"tools\":[{\"id\":\"2388\"},{\"id\":\"2410\"},{\"id\":\"2411\"},{\"id\":\"2412\"},{\"id\":\"2413\"},{\"id\":\"2414\"}]},\"id\":\"2416\",\"type\":\"Toolbar\"},{\"attributes\":{},\"id\":\"2491\",\"type\":\"UnionRenderers\"},{\"attributes\":{\"overlay\":{\"id\":\"2415\"}},\"id\":\"2413\",\"type\":\"BoxZoomTool\"},{\"attributes\":{\"fill_color\":{\"value\":\"#e5ae38\"},\"hatch_color\":{\"value\":\"#e5ae38\"},\"line_color\":{\"value\":\"#e5ae38\"},\"size\":{\"value\":5.477225575051661},\"x\":{\"field\":\"Year\"},\"y\":{\"field\":\"Ave. Foreclosure\"}},\"id\":\"2475\",\"type\":\"Scatter\"},{\"attributes\":{\"margin\":[5,5,5,5],\"name\":\"HSpacer04651\",\"sizing_mode\":\"stretch_width\"},\"id\":\"2385\",\"type\":\"Spacer\"},{\"attributes\":{\"callback\":null,\"renderers\":[{\"id\":\"2435\"},{\"id\":\"2456\"},{\"id\":\"2478\"},{\"id\":\"2502\"},{\"id\":\"2528\"}],\"tags\":[\"hv_created\"],\"tooltips\":[[\"class\",\"@{class}\"],[\"Year\",\"@{Year}\"],[\"Ave. Foreclosure\",\"@{Ave_full_stop_Foreclosure}\"]]},\"id\":\"2388\",\"type\":\"HoverTool\"},{\"attributes\":{\"label\":{\"value\":\"2\"},\"renderers\":[{\"id\":\"2478\"}]},\"id\":\"2494\",\"type\":\"LegendItem\"},{\"attributes\":{\"angle\":{\"value\":0.0},\"fill_alpha\":{\"value\":1.0},\"fill_color\":{\"value\":\"#6d904f\"},\"hatch_alpha\":{\"value\":1.0},\"hatch_color\":{\"value\":\"#6d904f\"},\"hatch_scale\":{\"value\":12.0},\"hatch_weight\":{\"value\":1.0},\"line_alpha\":{\"value\":1.0},\"line_cap\":{\"value\":\"butt\"},\"line_color\":{\"value\":\"#6d904f\"},\"line_dash\":{\"value\":[]},\"line_dash_offset\":{\"value\":0},\"line_join\":{\"value\":\"bevel\"},\"line_width\":{\"value\":1},\"marker\":{\"value\":\"circle\"},\"size\":{\"value\":5.477225575051661},\"x\":{\"field\":\"Year\"},\"y\":{\"field\":\"Ave. Foreclosure\"}},\"id\":\"2521\",\"type\":\"Scatter\"},{\"attributes\":{},\"id\":\"2414\",\"type\":\"ResetTool\"},{\"attributes\":{\"angle\":{\"value\":0.0},\"fill_alpha\":{\"value\":1.0},\"fill_color\":{\"value\":\"#e5ae38\"},\"hatch_alpha\":{\"value\":1.0},\"hatch_color\":{\"value\":\"#e5ae38\"},\"hatch_scale\":{\"value\":12.0},\"hatch_weight\":{\"value\":1.0},\"line_alpha\":{\"value\":1.0},\"line_cap\":{\"value\":\"butt\"},\"line_color\":{\"value\":\"#e5ae38\"},\"line_dash\":{\"value\":[]},\"line_dash_offset\":{\"value\":0},\"line_join\":{\"value\":\"bevel\"},\"line_width\":{\"value\":1},\"marker\":{\"value\":\"circle\"},\"size\":{\"value\":5.477225575051661},\"x\":{\"field\":\"Year\"},\"y\":{\"field\":\"Ave. Foreclosure\"}},\"id\":\"2495\",\"type\":\"Scatter\"},{\"attributes\":{\"fill_alpha\":{\"value\":0.2},\"fill_color\":{\"value\":\"#6d904f\"},\"hatch_alpha\":{\"value\":0.2},\"hatch_color\":{\"value\":\"#6d904f\"},\"line_alpha\":{\"value\":0.2},\"line_color\":{\"value\":\"#6d904f\"},\"size\":{\"value\":5.477225575051661},\"x\":{\"field\":\"Year\"},\"y\":{\"field\":\"Ave. Foreclosure\"}},\"id\":\"2501\",\"type\":\"Scatter\"},{\"attributes\":{\"bottom_units\":\"screen\",\"coordinates\":null,\"fill_alpha\":0.5,\"fill_color\":\"lightgrey\",\"group\":null,\"left_units\":\"screen\",\"level\":\"overlay\",\"line_alpha\":1.0,\"line_color\":\"black\",\"line_dash\":[4,4],\"line_width\":2,\"right_units\":\"screen\",\"syncable\":false,\"top_units\":\"screen\"},\"id\":\"2415\",\"type\":\"BoxAnnotation\"},{\"attributes\":{},\"id\":\"2427\",\"type\":\"BasicTickFormatter\"},{\"attributes\":{\"source\":{\"id\":\"2496\"}},\"id\":\"2503\",\"type\":\"CDSView\"},{\"attributes\":{},\"id\":\"2428\",\"type\":\"AllLabels\"},{\"attributes\":{\"fill_alpha\":{\"value\":0.2},\"fill_color\":{\"value\":\"#fc4f30\"},\"hatch_alpha\":{\"value\":0.2},\"hatch_color\":{\"value\":\"#fc4f30\"},\"line_alpha\":{\"value\":0.2},\"line_color\":{\"value\":\"#fc4f30\"},\"size\":{\"value\":5.477225575051661},\"x\":{\"field\":\"Year\"},\"y\":{\"field\":\"Ave. Foreclosure\"}},\"id\":\"2455\",\"type\":\"Scatter\"},{\"attributes\":{\"fill_color\":{\"value\":\"#8b8b8b\"},\"hatch_color\":{\"value\":\"#8b8b8b\"},\"line_color\":{\"value\":\"#8b8b8b\"},\"size\":{\"value\":5.477225575051661},\"x\":{\"field\":\"Year\"},\"y\":{\"field\":\"Ave. Foreclosure\"}},\"id\":\"2525\",\"type\":\"Scatter\"},{\"attributes\":{},\"id\":\"2444\",\"type\":\"UnionRenderers\"},{\"attributes\":{\"source\":{\"id\":\"2429\"}},\"id\":\"2436\",\"type\":\"CDSView\"},{\"attributes\":{\"fill_color\":{\"value\":\"#30a2da\"},\"hatch_color\":{\"value\":\"#30a2da\"},\"line_color\":{\"value\":\"#30a2da\"},\"size\":{\"value\":5.477225575051661},\"x\":{\"field\":\"Year\"},\"y\":{\"field\":\"Ave. Foreclosure\"}},\"id\":\"2432\",\"type\":\"Scatter\"},{\"attributes\":{},\"id\":\"2497\",\"type\":\"Selection\"},{\"attributes\":{\"angle\":{\"value\":0.0},\"fill_alpha\":{\"value\":1.0},\"fill_color\":{\"value\":\"#30a2da\"},\"hatch_alpha\":{\"value\":1.0},\"hatch_color\":{\"value\":\"#30a2da\"},\"hatch_scale\":{\"value\":12.0},\"hatch_weight\":{\"value\":1.0},\"line_alpha\":{\"value\":1.0},\"line_cap\":{\"value\":\"butt\"},\"line_color\":{\"value\":\"#30a2da\"},\"line_dash\":{\"value\":[]},\"line_dash_offset\":{\"value\":0},\"line_join\":{\"value\":\"bevel\"},\"line_width\":{\"value\":1},\"marker\":{\"value\":\"circle\"},\"size\":{\"value\":5.477225575051661},\"x\":{\"field\":\"Year\"},\"y\":{\"field\":\"Ave. Foreclosure\"}},\"id\":\"2449\",\"type\":\"Scatter\"},{\"attributes\":{\"fill_alpha\":{\"value\":0.2},\"fill_color\":{\"value\":\"#30a2da\"},\"hatch_alpha\":{\"value\":0.2},\"hatch_color\":{\"value\":\"#30a2da\"},\"line_alpha\":{\"value\":0.2},\"line_color\":{\"value\":\"#30a2da\"},\"size\":{\"value\":5.477225575051661},\"x\":{\"field\":\"Year\"},\"y\":{\"field\":\"Ave. Foreclosure\"}},\"id\":\"2434\",\"type\":\"Scatter\"},{\"attributes\":{},\"id\":\"2517\",\"type\":\"UnionRenderers\"},{\"attributes\":{\"coordinates\":null,\"data_source\":{\"id\":\"2496\"},\"glyph\":{\"id\":\"2499\"},\"group\":null,\"hover_glyph\":null,\"muted_glyph\":{\"id\":\"2501\"},\"nonselection_glyph\":{\"id\":\"2500\"},\"selection_glyph\":{\"id\":\"2521\"},\"view\":{\"id\":\"2503\"}},\"id\":\"2502\",\"type\":\"GlyphRenderer\"},{\"attributes\":{\"data\":{\"Ave. Foreclosure\":{\"__ndarray__\":\"ZmZmZmZGIkDNzMzMzMwkQHsUrkfhuiRArkfhehTuIUDNzMzMzMwcQI/C9ShcjxZA\",\"dtype\":\"float64\",\"order\":\"little\",\"shape\":[6]},\"Ave_full_stop_Foreclosure\":{\"__ndarray__\":\"ZmZmZmZGIkDNzMzMzMwkQHsUrkfhuiRArkfhehTuIUDNzMzMzMwcQI/C9ShcjxZA\",\"dtype\":\"float64\",\"order\":\"little\",\"shape\":[6]},\"Year\":[2009,2011,2012,2013,2014,2015],\"class\":[3,3,3,3,3,3]},\"selected\":{\"id\":\"2497\"},\"selection_policy\":{\"id\":\"2517\"}},\"id\":\"2496\",\"type\":\"ColumnDataSource\"},{\"attributes\":{\"fill_color\":{\"value\":\"#6d904f\"},\"hatch_color\":{\"value\":\"#6d904f\"},\"line_color\":{\"value\":\"#6d904f\"},\"size\":{\"value\":5.477225575051661},\"x\":{\"field\":\"Year\"},\"y\":{\"field\":\"Ave. Foreclosure\"}},\"id\":\"2499\",\"type\":\"Scatter\"},{\"attributes\":{\"label\":{\"value\":\"0\"},\"renderers\":[{\"id\":\"2435\"}]},\"id\":\"2448\",\"type\":\"LegendItem\"},{\"attributes\":{},\"id\":\"2425\",\"type\":\"AllLabels\"},{\"attributes\":{\"coordinates\":null,\"data_source\":{\"id\":\"2429\"},\"glyph\":{\"id\":\"2432\"},\"group\":null,\"hover_glyph\":null,\"muted_glyph\":{\"id\":\"2434\"},\"nonselection_glyph\":{\"id\":\"2433\"},\"selection_glyph\":{\"id\":\"2449\"},\"view\":{\"id\":\"2436\"}},\"id\":\"2435\",\"type\":\"GlyphRenderer\"},{\"attributes\":{\"data\":{\"Ave. Foreclosure\":{\"__ndarray__\":\"pHA9CtcjAkDsUbgehesAQLgehetRuP8/KVyPwvWoAEBcj8L1KFwCQGZmZmZm5gBAPQrXo3A9/T8=\",\"dtype\":\"float64\",\"order\":\"little\",\"shape\":[7]},\"Ave_full_stop_Foreclosure\":{\"__ndarray__\":\"pHA9CtcjAkDsUbgehesAQLgehetRuP8/KVyPwvWoAEBcj8L1KFwCQGZmZmZm5gBAPQrXo3A9/T8=\",\"dtype\":\"float64\",\"order\":\"little\",\"shape\":[7]},\"Year\":[1997,1998,1999,2000,2001,2002,2003],\"class\":[4,4,4,4,4,4,4]},\"selected\":{\"id\":\"2523\"},\"selection_policy\":{\"id\":\"2545\"}},\"id\":\"2522\",\"type\":\"ColumnDataSource\"},{\"attributes\":{},\"id\":\"2400\",\"type\":\"LinearScale\"},{\"attributes\":{\"coordinates\":null,\"data_source\":{\"id\":\"2450\"},\"glyph\":{\"id\":\"2453\"},\"group\":null,\"hover_glyph\":null,\"muted_glyph\":{\"id\":\"2455\"},\"nonselection_glyph\":{\"id\":\"2454\"},\"selection_glyph\":{\"id\":\"2471\"},\"view\":{\"id\":\"2457\"}},\"id\":\"2456\",\"type\":\"GlyphRenderer\"},{\"attributes\":{\"fill_alpha\":{\"value\":0.1},\"fill_color\":{\"value\":\"#6d904f\"},\"hatch_alpha\":{\"value\":0.1},\"hatch_color\":{\"value\":\"#6d904f\"},\"line_alpha\":{\"value\":0.1},\"line_color\":{\"value\":\"#6d904f\"},\"size\":{\"value\":5.477225575051661},\"x\":{\"field\":\"Year\"},\"y\":{\"field\":\"Ave. Foreclosure\"}},\"id\":\"2500\",\"type\":\"Scatter\"},{\"attributes\":{},\"id\":\"2398\",\"type\":\"LinearScale\"},{\"attributes\":{\"coordinates\":null,\"group\":null,\"text_color\":\"black\",\"text_font_size\":\"12pt\"},\"id\":\"2394\",\"type\":\"Title\"},{\"attributes\":{},\"id\":\"2451\",\"type\":\"Selection\"},{\"attributes\":{\"data\":{\"Ave. Foreclosure\":{\"__ndarray__\":\"cT0K16NwCUBcj8L1KNwHQOF6FK5H4QRAPQrXo3C9AUCkcD0K1yMBQArXo3A9CgJA\",\"dtype\":\"float64\",\"order\":\"little\",\"shape\":[6]},\"Ave_full_stop_Foreclosure\":{\"__ndarray__\":\"cT0K16NwCUBcj8L1KNwHQOF6FK5H4QRAPQrXo3C9AUCkcD0K1yMBQArXo3A9CgJA\",\"dtype\":\"float64\",\"order\":\"little\",\"shape\":[6]},\"Year\":[1991,1992,1993,1994,1995,1996],\"class\":[2,2,2,2,2,2]},\"selected\":{\"id\":\"2473\"},\"selection_policy\":{\"id\":\"2491\"}},\"id\":\"2472\",\"type\":\"ColumnDataSource\"},{\"attributes\":{\"below\":[{\"id\":\"2402\"}],\"center\":[{\"id\":\"2405\"},{\"id\":\"2409\"}],\"height\":300,\"left\":[{\"id\":\"2406\"}],\"margin\":[5,5,5,5],\"min_border_bottom\":10,\"min_border_left\":10,\"min_border_right\":10,\"min_border_top\":10,\"renderers\":[{\"id\":\"2435\"},{\"id\":\"2456\"},{\"id\":\"2478\"},{\"id\":\"2502\"},{\"id\":\"2528\"}],\"right\":[{\"id\":\"2447\"}],\"sizing_mode\":\"fixed\",\"title\":{\"id\":\"2394\"},\"toolbar\":{\"id\":\"2416\"},\"width\":700,\"x_range\":{\"id\":\"2386\"},\"x_scale\":{\"id\":\"2398\"},\"y_range\":{\"id\":\"2387\"},\"y_scale\":{\"id\":\"2400\"}},\"id\":\"2393\",\"subtype\":\"Figure\",\"type\":\"Plot\"}],\"root_ids\":[\"2384\"]},\"title\":\"Bokeh Application\",\"version\":\"2.4.1\"}};\n",
       "    var render_items = [{\"docid\":\"bce3c5d6-a1f5-425b-b9b2-6d3a99c7af63\",\"root_ids\":[\"2384\"],\"roots\":{\"2384\":\"64f32b36-2557-477b-9140-af74bc665450\"}}];\n",
       "    root.Bokeh.embed.embed_items_notebook(docs_json, render_items);\n",
       "  }\n",
       "  if (root.Bokeh !== undefined && root.Bokeh.Panel !== undefined) {\n",
       "    embed_document(root);\n",
       "  } else {\n",
       "    var attempts = 0;\n",
       "    var timer = setInterval(function(root) {\n",
       "      if (root.Bokeh !== undefined && root.Bokeh.Panel !== undefined) {\n",
       "        clearInterval(timer);\n",
       "        embed_document(root);\n",
       "      } else if (document.readyState == \"complete\") {\n",
       "        attempts++;\n",
       "        if (attempts > 200) {\n",
       "          clearInterval(timer);\n",
       "          console.log(\"Bokeh: ERROR: Unable to run BokehJS code because BokehJS library is missing\");\n",
       "        }\n",
       "      }\n",
       "    }, 25, root)\n",
       "  }\n",
       "})(window);</script>"
      ],
      "text/plain": [
       ":NdOverlay   [class]\n",
       "   :Scatter   [Year]   (Ave. Foreclosure)"
      ]
     },
     "execution_count": 31,
     "metadata": {
      "application/vnd.holoviews_exec.v0+json": {
       "id": "2384"
      }
     },
     "output_type": "execute_result"
    }
   ],
   "source": [
    "test_cluster_amount(foreclosure_master_df_ave, 5)\n",
    "foreclosure_master_df_ave.hvplot.scatter(x=\"Year\", y=\"Ave. Foreclosure\", by=\"class\")"
   ]
  },
  {
   "cell_type": "code",
   "execution_count": null,
   "id": "bafea123",
   "metadata": {},
   "outputs": [],
   "source": []
  }
 ],
 "metadata": {
  "kernelspec": {
   "display_name": "mlenv",
   "language": "python",
   "name": "mlenv"
  },
  "language_info": {
   "codemirror_mode": {
    "name": "ipython",
    "version": 3
   },
   "file_extension": ".py",
   "mimetype": "text/x-python",
   "name": "python",
   "nbconvert_exporter": "python",
   "pygments_lexer": "ipython3",
   "version": "3.7.11"
  }
 },
 "nbformat": 4,
 "nbformat_minor": 5
}
