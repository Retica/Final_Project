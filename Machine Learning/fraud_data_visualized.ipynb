{
 "cells": [
  {
   "cell_type": "code",
   "execution_count": null,
   "id": "f615fcbe",
   "metadata": {},
   "outputs": [],
   "source": [
    "# Initial imports\n",
    "import pandas as pd\n",
    "from sklearn.cluster import KMeans\n",
    "import plotly.express as px\n",
    "import hvplot.pandas"
   ]
  },
  {
   "cell_type": "code",
   "execution_count": null,
   "id": "c1d4ce74",
   "metadata": {},
   "outputs": [],
   "source": [
    "# Load data\n",
    "file_path = \"../data_csv/clean_hpi_master_ave1.csv\"\n",
    "fraud_df = pd.read_csv(file_path)\n",
    "fraud_df.head(10)"
   ]
  },
  {
   "cell_type": "code",
   "execution_count": null,
   "id": "009211fd",
   "metadata": {},
   "outputs": [],
   "source": [
    "fraud_df.hvplot.scatter(x=\"yr\", y=\"index_sa\")"
   ]
  }
 ],
 "metadata": {
  "kernelspec": {
   "display_name": "PythonData",
   "language": "python",
   "name": "pythondata"
  },
  "language_info": {
   "codemirror_mode": {
    "name": "ipython",
    "version": 3
   },
   "file_extension": ".py",
   "mimetype": "text/x-python",
   "name": "python",
   "nbconvert_exporter": "python",
   "pygments_lexer": "ipython3",
   "version": "3.9.7"
  }
 },
 "nbformat": 4,
 "nbformat_minor": 5
}
