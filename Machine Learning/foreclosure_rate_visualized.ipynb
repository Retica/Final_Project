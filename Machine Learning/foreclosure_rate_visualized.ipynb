{
 "cells": [
  {
   "cell_type": "code",
   "execution_count": 17,
   "id": "5cf60573",
   "metadata": {},
   "outputs": [],
   "source": [
    "# Initial imports\n",
    "import pandas as pd\n",
    "from sklearn.cluster import KMeans\n",
    "import plotly.express as px\n",
    "import hvplot.pandas"
   ]
  },
  {
   "cell_type": "code",
   "execution_count": 18,
   "id": "1219575f",
   "metadata": {},
   "outputs": [
    {
     "data": {
      "text/html": [
       "<div>\n",
       "<style scoped>\n",
       "    .dataframe tbody tr th:only-of-type {\n",
       "        vertical-align: middle;\n",
       "    }\n",
       "\n",
       "    .dataframe tbody tr th {\n",
       "        vertical-align: top;\n",
       "    }\n",
       "\n",
       "    .dataframe thead th {\n",
       "        text-align: right;\n",
       "    }\n",
       "</style>\n",
       "<table border=\"1\" class=\"dataframe\">\n",
       "  <thead>\n",
       "    <tr style=\"text-align: right;\">\n",
       "      <th></th>\n",
       "      <th>DATE</th>\n",
       "      <th>DRSFRMACBS</th>\n",
       "    </tr>\n",
       "  </thead>\n",
       "  <tbody>\n",
       "    <tr>\n",
       "      <th>120</th>\n",
       "      <td>2021-01-01</td>\n",
       "      <td>2.66</td>\n",
       "    </tr>\n",
       "    <tr>\n",
       "      <th>121</th>\n",
       "      <td>2021-04-01</td>\n",
       "      <td>2.41</td>\n",
       "    </tr>\n",
       "    <tr>\n",
       "      <th>122</th>\n",
       "      <td>2021-07-01</td>\n",
       "      <td>2.30</td>\n",
       "    </tr>\n",
       "    <tr>\n",
       "      <th>123</th>\n",
       "      <td>2021-10-01</td>\n",
       "      <td>2.33</td>\n",
       "    </tr>\n",
       "    <tr>\n",
       "      <th>124</th>\n",
       "      <td>2022-01-01</td>\n",
       "      <td>2.13</td>\n",
       "    </tr>\n",
       "  </tbody>\n",
       "</table>\n",
       "</div>"
      ],
      "text/plain": [
       "           DATE  DRSFRMACBS\n",
       "120  2021-01-01        2.66\n",
       "121  2021-04-01        2.41\n",
       "122  2021-07-01        2.30\n",
       "123  2021-10-01        2.33\n",
       "124  2022-01-01        2.13"
      ]
     },
     "execution_count": 18,
     "metadata": {},
     "output_type": "execute_result"
    }
   ],
   "source": [
    "# File to Load \n",
    "foreclosure_master = \"../data_csv/DRSFRMACBS.csv\"\n",
    "# Read the data\n",
    "foreclosure_master_df = pd.read_csv(foreclosure_master)\n",
    "foreclosure_master_df.tail()"
   ]
  },
  {
   "cell_type": "code",
   "execution_count": 19,
   "id": "4f33befc",
   "metadata": {},
   "outputs": [
    {
     "data": {},
     "metadata": {},
     "output_type": "display_data"
    },
    {
     "data": {
      "application/vnd.holoviews_exec.v0+json": "",
      "text/html": [
       "<div id='1365'>\n",
       "\n",
       "\n",
       "\n",
       "\n",
       "\n",
       "  <div class=\"bk-root\" id=\"15c6bf30-fdf4-4cb3-9c84-bcce29e1f07f\" data-root-id=\"1365\"></div>\n",
       "</div>\n",
       "<script type=\"application/javascript\">(function(root) {\n",
       "  function embed_document(root) {\n",
       "    var docs_json = {\"76bd3258-f875-4b9d-957f-a31c6f6c176a\":{\"defs\":[{\"extends\":null,\"module\":null,\"name\":\"ReactiveHTML1\",\"overrides\":[],\"properties\":[]},{\"extends\":null,\"module\":null,\"name\":\"FlexBox1\",\"overrides\":[],\"properties\":[{\"default\":\"flex-start\",\"kind\":null,\"name\":\"align_content\"},{\"default\":\"flex-start\",\"kind\":null,\"name\":\"align_items\"},{\"default\":\"row\",\"kind\":null,\"name\":\"flex_direction\"},{\"default\":\"wrap\",\"kind\":null,\"name\":\"flex_wrap\"},{\"default\":\"flex-start\",\"kind\":null,\"name\":\"justify_content\"}]},{\"extends\":null,\"module\":null,\"name\":\"GridStack1\",\"overrides\":[],\"properties\":[{\"default\":\"warn\",\"kind\":null,\"name\":\"mode\"},{\"default\":null,\"kind\":null,\"name\":\"ncols\"},{\"default\":null,\"kind\":null,\"name\":\"nrows\"},{\"default\":true,\"kind\":null,\"name\":\"allow_resize\"},{\"default\":true,\"kind\":null,\"name\":\"allow_drag\"},{\"default\":[],\"kind\":null,\"name\":\"state\"}]},{\"extends\":null,\"module\":null,\"name\":\"click1\",\"overrides\":[],\"properties\":[{\"default\":\"\",\"kind\":null,\"name\":\"terminal_output\"},{\"default\":\"\",\"kind\":null,\"name\":\"debug_name\"},{\"default\":0,\"kind\":null,\"name\":\"clears\"}]},{\"extends\":null,\"module\":null,\"name\":\"TemplateActions1\",\"overrides\":[],\"properties\":[{\"default\":0,\"kind\":null,\"name\":\"open_modal\"},{\"default\":0,\"kind\":null,\"name\":\"close_modal\"}]},{\"extends\":null,\"module\":null,\"name\":\"MaterialTemplateActions1\",\"overrides\":[],\"properties\":[{\"default\":0,\"kind\":null,\"name\":\"open_modal\"},{\"default\":0,\"kind\":null,\"name\":\"close_modal\"}]}],\"roots\":{\"references\":[{\"attributes\":{\"end\":12.356,\"reset_end\":12.356,\"reset_start\":0.4039999999999999,\"start\":0.4039999999999999,\"tags\":[[[\"DRSFRMACBS\",\"DRSFRMACBS\",null]]]},\"id\":\"1368\",\"type\":\"Range1d\"},{\"attributes\":{\"children\":[{\"id\":\"1366\"},{\"id\":\"1370\"},{\"id\":\"1434\"}],\"margin\":[0,0,0,0],\"name\":\"Row02480\",\"tags\":[\"embedded\"]},\"id\":\"1365\",\"type\":\"Row\"},{\"attributes\":{},\"id\":\"1377\",\"type\":\"LinearScale\"},{\"attributes\":{},\"id\":\"1375\",\"type\":\"CategoricalScale\"},{\"attributes\":{},\"id\":\"1409\",\"type\":\"CategoricalTickFormatter\"},{\"attributes\":{\"callback\":null,\"renderers\":[{\"id\":\"1405\"}],\"tags\":[\"hv_created\"],\"tooltips\":[[\"DATE\",\"@{DATE}\"],[\"DRSFRMACBS\",\"@{DRSFRMACBS}\"]]},\"id\":\"1369\",\"type\":\"HoverTool\"},{\"attributes\":{\"coordinates\":null,\"group\":null,\"text_color\":\"black\",\"text_font_size\":\"12pt\"},\"id\":\"1371\",\"type\":\"Title\"},{\"attributes\":{\"axis\":{\"id\":\"1379\"},\"coordinates\":null,\"grid_line_color\":null,\"group\":null,\"ticker\":null},\"id\":\"1381\",\"type\":\"Grid\"},{\"attributes\":{},\"id\":\"1400\",\"type\":\"Selection\"},{\"attributes\":{\"axis_label\":\"DATE\",\"coordinates\":null,\"formatter\":{\"id\":\"1409\"},\"group\":null,\"major_label_orientation\":0.7853981633974483,\"major_label_policy\":{\"id\":\"1410\"},\"ticker\":{\"id\":\"1380\"}},\"id\":\"1379\",\"type\":\"CategoricalAxis\"},{\"attributes\":{\"axis\":{\"id\":\"1382\"},\"coordinates\":null,\"dimension\":1,\"grid_line_color\":null,\"group\":null,\"ticker\":null},\"id\":\"1385\",\"type\":\"Grid\"},{\"attributes\":{},\"id\":\"1387\",\"type\":\"PanTool\"},{\"attributes\":{},\"id\":\"1380\",\"type\":\"CategoricalTicker\"},{\"attributes\":{},\"id\":\"1421\",\"type\":\"UnionRenderers\"},{\"attributes\":{},\"id\":\"1413\",\"type\":\"AllLabels\"},{\"attributes\":{\"axis_label\":\"DRSFRMACBS\",\"coordinates\":null,\"formatter\":{\"id\":\"1412\"},\"group\":null,\"major_label_policy\":{\"id\":\"1413\"},\"ticker\":{\"id\":\"1383\"}},\"id\":\"1382\",\"type\":\"LinearAxis\"},{\"attributes\":{},\"id\":\"1383\",\"type\":\"BasicTicker\"},{\"attributes\":{},\"id\":\"1412\",\"type\":\"BasicTickFormatter\"},{\"attributes\":{},\"id\":\"1388\",\"type\":\"WheelZoomTool\"},{\"attributes\":{},\"id\":\"1386\",\"type\":\"SaveTool\"},{\"attributes\":{\"source\":{\"id\":\"1399\"}},\"id\":\"1406\",\"type\":\"CDSView\"},{\"attributes\":{\"overlay\":{\"id\":\"1391\"}},\"id\":\"1389\",\"type\":\"BoxZoomTool\"},{\"attributes\":{\"coordinates\":null,\"data_source\":{\"id\":\"1399\"},\"glyph\":{\"id\":\"1402\"},\"group\":null,\"hover_glyph\":null,\"muted_glyph\":{\"id\":\"1404\"},\"nonselection_glyph\":{\"id\":\"1403\"},\"selection_glyph\":{\"id\":\"1407\"},\"view\":{\"id\":\"1406\"}},\"id\":\"1405\",\"type\":\"GlyphRenderer\"},{\"attributes\":{},\"id\":\"1390\",\"type\":\"ResetTool\"},{\"attributes\":{\"factors\":[\"1991-01-01\",\"1991-04-01\",\"1991-07-01\",\"1991-10-01\",\"1992-01-01\",\"1992-04-01\",\"1992-07-01\",\"1992-10-01\",\"1993-01-01\",\"1993-04-01\",\"1993-07-01\",\"1993-10-01\",\"1994-01-01\",\"1994-04-01\",\"1994-07-01\",\"1994-10-01\",\"1995-01-01\",\"1995-04-01\",\"1995-07-01\",\"1995-10-01\",\"1996-01-01\",\"1996-04-01\",\"1996-07-01\",\"1996-10-01\",\"1997-01-01\",\"1997-04-01\",\"1997-07-01\",\"1997-10-01\",\"1998-01-01\",\"1998-04-01\",\"1998-07-01\",\"1998-10-01\",\"1999-01-01\",\"1999-04-01\",\"1999-07-01\",\"1999-10-01\",\"2000-01-01\",\"2000-04-01\",\"2000-07-01\",\"2000-10-01\",\"2001-01-01\",\"2001-04-01\",\"2001-07-01\",\"2001-10-01\",\"2002-01-01\",\"2002-04-01\",\"2002-07-01\",\"2002-10-01\",\"2003-01-01\",\"2003-04-01\",\"2003-07-01\",\"2003-10-01\",\"2004-01-01\",\"2004-04-01\",\"2004-07-01\",\"2004-10-01\",\"2005-01-01\",\"2005-04-01\",\"2005-07-01\",\"2005-10-01\",\"2006-01-01\",\"2006-04-01\",\"2006-07-01\",\"2006-10-01\",\"2007-01-01\",\"2007-04-01\",\"2007-07-01\",\"2007-10-01\",\"2008-01-01\",\"2008-04-01\",\"2008-07-01\",\"2008-10-01\",\"2009-01-01\",\"2009-04-01\",\"2009-07-01\",\"2009-10-01\",\"2010-01-01\",\"2010-04-01\",\"2010-07-01\",\"2010-10-01\",\"2011-01-01\",\"2011-04-01\",\"2011-07-01\",\"2011-10-01\",\"2012-01-01\",\"2012-04-01\",\"2012-07-01\",\"2012-10-01\",\"2013-01-01\",\"2013-04-01\",\"2013-07-01\",\"2013-10-01\",\"2014-01-01\",\"2014-04-01\",\"2014-07-01\",\"2014-10-01\",\"2015-01-01\",\"2015-04-01\",\"2015-07-01\",\"2015-10-01\",\"2016-01-01\",\"2016-04-01\",\"2016-07-01\",\"2016-10-01\",\"2017-01-01\",\"2017-04-01\",\"2017-07-01\",\"2017-10-01\",\"2018-01-01\",\"2018-04-01\",\"2018-07-01\",\"2018-10-01\",\"2019-01-01\",\"2019-04-01\",\"2019-07-01\",\"2019-10-01\",\"2020-01-01\",\"2020-04-01\",\"2020-07-01\",\"2020-10-01\",\"2021-01-01\",\"2021-04-01\",\"2021-07-01\",\"2021-10-01\",\"2022-01-01\"],\"tags\":[[[\"DATE\",\"DATE\",null]]]},\"id\":\"1367\",\"type\":\"FactorRange\"},{\"attributes\":{\"bottom_units\":\"screen\",\"coordinates\":null,\"fill_alpha\":0.5,\"fill_color\":\"lightgrey\",\"group\":null,\"left_units\":\"screen\",\"level\":\"overlay\",\"line_alpha\":1.0,\"line_color\":\"black\",\"line_dash\":[4,4],\"line_width\":2,\"right_units\":\"screen\",\"syncable\":false,\"top_units\":\"screen\"},\"id\":\"1391\",\"type\":\"BoxAnnotation\"},{\"attributes\":{\"margin\":[5,5,5,5],\"name\":\"HSpacer02484\",\"sizing_mode\":\"stretch_width\"},\"id\":\"1366\",\"type\":\"Spacer\"},{\"attributes\":{\"angle\":{\"value\":0.0},\"fill_alpha\":{\"value\":1.0},\"fill_color\":{\"value\":\"#30a2da\"},\"hatch_alpha\":{\"value\":1.0},\"hatch_color\":{\"value\":\"#30a2da\"},\"hatch_scale\":{\"value\":12.0},\"hatch_weight\":{\"value\":1.0},\"line_alpha\":{\"value\":1.0},\"line_cap\":{\"value\":\"butt\"},\"line_color\":{\"value\":\"#30a2da\"},\"line_dash\":{\"value\":[]},\"line_dash_offset\":{\"value\":0},\"line_join\":{\"value\":\"bevel\"},\"line_width\":{\"value\":1},\"marker\":{\"value\":\"circle\"},\"size\":{\"value\":5.477225575051661},\"x\":{\"field\":\"DATE\"},\"y\":{\"field\":\"DRSFRMACBS\"}},\"id\":\"1407\",\"type\":\"Scatter\"},{\"attributes\":{\"margin\":[5,5,5,5],\"name\":\"HSpacer02485\",\"sizing_mode\":\"stretch_width\"},\"id\":\"1434\",\"type\":\"Spacer\"},{\"attributes\":{\"fill_alpha\":{\"value\":0.2},\"fill_color\":{\"value\":\"#30a2da\"},\"hatch_alpha\":{\"value\":0.2},\"hatch_color\":{\"value\":\"#30a2da\"},\"line_alpha\":{\"value\":0.2},\"line_color\":{\"value\":\"#30a2da\"},\"size\":{\"value\":5.477225575051661},\"x\":{\"field\":\"DATE\"},\"y\":{\"field\":\"DRSFRMACBS\"}},\"id\":\"1404\",\"type\":\"Scatter\"},{\"attributes\":{\"tools\":[{\"id\":\"1369\"},{\"id\":\"1386\"},{\"id\":\"1387\"},{\"id\":\"1388\"},{\"id\":\"1389\"},{\"id\":\"1390\"}]},\"id\":\"1392\",\"type\":\"Toolbar\"},{\"attributes\":{\"below\":[{\"id\":\"1379\"}],\"center\":[{\"id\":\"1381\"},{\"id\":\"1385\"}],\"height\":300,\"left\":[{\"id\":\"1382\"}],\"margin\":[5,5,5,5],\"min_border_bottom\":10,\"min_border_left\":10,\"min_border_right\":10,\"min_border_top\":10,\"renderers\":[{\"id\":\"1405\"}],\"sizing_mode\":\"fixed\",\"title\":{\"id\":\"1371\"},\"toolbar\":{\"id\":\"1392\"},\"width\":700,\"x_range\":{\"id\":\"1367\"},\"x_scale\":{\"id\":\"1375\"},\"y_range\":{\"id\":\"1368\"},\"y_scale\":{\"id\":\"1377\"}},\"id\":\"1370\",\"subtype\":\"Figure\",\"type\":\"Plot\"},{\"attributes\":{\"fill_color\":{\"value\":\"#30a2da\"},\"hatch_color\":{\"value\":\"#30a2da\"},\"line_color\":{\"value\":\"#30a2da\"},\"size\":{\"value\":5.477225575051661},\"x\":{\"field\":\"DATE\"},\"y\":{\"field\":\"DRSFRMACBS\"}},\"id\":\"1402\",\"type\":\"Scatter\"},{\"attributes\":{},\"id\":\"1410\",\"type\":\"AllLabels\"},{\"attributes\":{\"data\":{\"DATE\":[\"1991-01-01\",\"1991-04-01\",\"1991-07-01\",\"1991-10-01\",\"1992-01-01\",\"1992-04-01\",\"1992-07-01\",\"1992-10-01\",\"1993-01-01\",\"1993-04-01\",\"1993-07-01\",\"1993-10-01\",\"1994-01-01\",\"1994-04-01\",\"1994-07-01\",\"1994-10-01\",\"1995-01-01\",\"1995-04-01\",\"1995-07-01\",\"1995-10-01\",\"1996-01-01\",\"1996-04-01\",\"1996-07-01\",\"1996-10-01\",\"1997-01-01\",\"1997-04-01\",\"1997-07-01\",\"1997-10-01\",\"1998-01-01\",\"1998-04-01\",\"1998-07-01\",\"1998-10-01\",\"1999-01-01\",\"1999-04-01\",\"1999-07-01\",\"1999-10-01\",\"2000-01-01\",\"2000-04-01\",\"2000-07-01\",\"2000-10-01\",\"2001-01-01\",\"2001-04-01\",\"2001-07-01\",\"2001-10-01\",\"2002-01-01\",\"2002-04-01\",\"2002-07-01\",\"2002-10-01\",\"2003-01-01\",\"2003-04-01\",\"2003-07-01\",\"2003-10-01\",\"2004-01-01\",\"2004-04-01\",\"2004-07-01\",\"2004-10-01\",\"2005-01-01\",\"2005-04-01\",\"2005-07-01\",\"2005-10-01\",\"2006-01-01\",\"2006-04-01\",\"2006-07-01\",\"2006-10-01\",\"2007-01-01\",\"2007-04-01\",\"2007-07-01\",\"2007-10-01\",\"2008-01-01\",\"2008-04-01\",\"2008-07-01\",\"2008-10-01\",\"2009-01-01\",\"2009-04-01\",\"2009-07-01\",\"2009-10-01\",\"2010-01-01\",\"2010-04-01\",\"2010-07-01\",\"2010-10-01\",\"2011-01-01\",\"2011-04-01\",\"2011-07-01\",\"2011-10-01\",\"2012-01-01\",\"2012-04-01\",\"2012-07-01\",\"2012-10-01\",\"2013-01-01\",\"2013-04-01\",\"2013-07-01\",\"2013-10-01\",\"2014-01-01\",\"2014-04-01\",\"2014-07-01\",\"2014-10-01\",\"2015-01-01\",\"2015-04-01\",\"2015-07-01\",\"2015-10-01\",\"2016-01-01\",\"2016-04-01\",\"2016-07-01\",\"2016-10-01\",\"2017-01-01\",\"2017-04-01\",\"2017-07-01\",\"2017-10-01\",\"2018-01-01\",\"2018-04-01\",\"2018-07-01\",\"2018-10-01\",\"2019-01-01\",\"2019-04-01\",\"2019-07-01\",\"2019-10-01\",\"2020-01-01\",\"2020-04-01\",\"2020-07-01\",\"2020-10-01\",\"2021-01-01\",\"2021-04-01\",\"2021-07-01\",\"2021-10-01\",\"2022-01-01\"],\"DRSFRMACBS\":{\"__ndarray__\":\"cT0K16NwCUCPwvUoXI8IQFyPwvUoXAlAZmZmZmZmCkDXo3A9CtcJQK5H4XoUrgdACtejcD0KB0DhehSuR+EGQI/C9ShcjwZApHA9CtejBEC4HoXrUbgEQJqZmZmZmQNAw/UoXI/CA0BxPQrXo3ABQOF6FK5H4QBA4XoUrkfhAEDhehSuR+EAQD0K16NwPQBAMzMzMzMzAUA9CtejcD0CQMP1KFyPwgFAXI/C9ShcAUDD9Shcj8IBQEjhehSuRwNAj8L1KFyPAkCF61G4HoUBQMP1KFyPwgFAuB6F61G4AkBI4XoUrkcBQD0K16NwPQBAzczMzMzMAEBcj8L1KFwBQGZmZmZmZv4/zczMzMzM/D8zMzMzMzMBQKRwPQrXowBAMzMzMzMz/z89CtejcD3+P4/C9ShcjwBAXI/C9ShcA0A9CtejcD0CQGZmZmZmZgJAhetRuB6FAUBI4XoUrkcDQK5H4XoUrgFAexSuR+F6AEBmZmZmZmYAQArXo3A9CgFAXI/C9Shc/z/Xo3A9Ctf7P+F6FK5H4fo/4XoUrkfh/j8UrkfhehT6P1K4HoXrUfg/zczMzMzM+D8pXI/C9Sj4P2ZmZmZmZvY/hetRuB6F9z+kcD0K16P4P3sUrkfhevw/H4XrUbge+T97FK5H4Xr4P4XrUbgehfs/4XoUrkfhAEAUrkfhehQAQFyPwvUoXAFA16NwPQrXBUBmZmZmZmYKQFyPwvUoXA1AmpmZmZmZEECkcD0K16MUQDMzMzMzMxxAhetRuB6FH0DsUbgehWsgQHsUrkfh+iJAcT0K16PwJUC4HoXrUbgmQHE9CtejcCVA16NwPQpXJUAAAAAAAAAlQIXrUbgeBSVAFK5H4XqUJECPwvUoXI8kQArXo3A9CiVAzczMzMzMJECF61G4HoUkQD0K16NwPSVAXI/C9ShcJEBxPQrXo3AjQFyPwvUoXCJAMzMzMzMzIUC4HoXrUbggQEjhehSuRx9ASOF6FK5HHUDNzMzMzMwbQNejcD0K1xpAmpmZmZmZGEDXo3A9CtcWQLgehetRuBVAFK5H4XoUFUBSuB6F61ETQPYoXI/C9RFAH4XrUbgeEUAAAAAAAAARQDMzMzMzMw9AzczMzMzMDED2KFyPwvUMQNejcD0K1w1AXI/C9ShcC0AfhetRuB4JQClcj8L1KAhAMzMzMzMzB0CamZmZmZkFQD0K16NwPQRAXI/C9ShcA0AK16NwPQoDQPYoXI/C9QJAw/UoXI/CA0C4HoXrUbgGQM3MzMzMzAZASOF6FK5HBUBI4XoUrkcDQGZmZmZmZgJApHA9CtejAkAK16NwPQoBQA==\",\"dtype\":\"float64\",\"order\":\"little\",\"shape\":[125]}},\"selected\":{\"id\":\"1400\"},\"selection_policy\":{\"id\":\"1421\"}},\"id\":\"1399\",\"type\":\"ColumnDataSource\"},{\"attributes\":{\"fill_alpha\":{\"value\":0.1},\"fill_color\":{\"value\":\"#30a2da\"},\"hatch_alpha\":{\"value\":0.1},\"hatch_color\":{\"value\":\"#30a2da\"},\"line_alpha\":{\"value\":0.1},\"line_color\":{\"value\":\"#30a2da\"},\"size\":{\"value\":5.477225575051661},\"x\":{\"field\":\"DATE\"},\"y\":{\"field\":\"DRSFRMACBS\"}},\"id\":\"1403\",\"type\":\"Scatter\"}],\"root_ids\":[\"1365\"]},\"title\":\"Bokeh Application\",\"version\":\"2.4.2\"}};\n",
       "    var render_items = [{\"docid\":\"76bd3258-f875-4b9d-957f-a31c6f6c176a\",\"root_ids\":[\"1365\"],\"roots\":{\"1365\":\"15c6bf30-fdf4-4cb3-9c84-bcce29e1f07f\"}}];\n",
       "    root.Bokeh.embed.embed_items_notebook(docs_json, render_items);\n",
       "  }\n",
       "  if (root.Bokeh !== undefined && root.Bokeh.Panel !== undefined) {\n",
       "    embed_document(root);\n",
       "  } else {\n",
       "    var attempts = 0;\n",
       "    var timer = setInterval(function(root) {\n",
       "      if (root.Bokeh !== undefined && root.Bokeh.Panel !== undefined) {\n",
       "        clearInterval(timer);\n",
       "        embed_document(root);\n",
       "      } else if (document.readyState == \"complete\") {\n",
       "        attempts++;\n",
       "        if (attempts > 200) {\n",
       "          clearInterval(timer);\n",
       "          console.log(\"Bokeh: ERROR: Unable to run BokehJS code because BokehJS library is missing\");\n",
       "        }\n",
       "      }\n",
       "    }, 25, root)\n",
       "  }\n",
       "})(window);</script>"
      ],
      "text/plain": [
       ":Scatter   [DATE]   (DRSFRMACBS)"
      ]
     },
     "execution_count": 19,
     "metadata": {
      "application/vnd.holoviews_exec.v0+json": {
       "id": "1365"
      }
     },
     "output_type": "execute_result"
    }
   ],
   "source": [
    "foreclosure_master_df.hvplot.scatter(x=\"DATE\", y=\"DRSFRMACBS\", rot=45)"
   ]
  },
  {
   "cell_type": "code",
   "execution_count": null,
   "id": "a52362ac",
   "metadata": {},
   "outputs": [],
   "source": []
  }
 ],
 "metadata": {
  "kernelspec": {
   "display_name": "PythonData",
   "language": "python",
   "name": "pythondata"
  },
  "language_info": {
   "codemirror_mode": {
    "name": "ipython",
    "version": 3
   },
   "file_extension": ".py",
   "mimetype": "text/x-python",
   "name": "python",
   "nbconvert_exporter": "python",
   "pygments_lexer": "ipython3",
   "version": "3.9.7"
  }
 },
 "nbformat": 4,
 "nbformat_minor": 5
}
