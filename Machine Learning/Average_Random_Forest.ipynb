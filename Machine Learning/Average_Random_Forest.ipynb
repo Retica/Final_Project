{
 "cells": [
  {
   "cell_type": "code",
   "execution_count": 76,
   "id": "38871738",
   "metadata": {},
   "outputs": [],
   "source": [
    "import pandas as pd\n",
    "import plotly.express as px\n",
    "import hvplot.pandas\n",
    "from sklearn.cluster import KMeans"
   ]
  },
  {
   "cell_type": "code",
   "execution_count": 77,
   "id": "375acfa5",
   "metadata": {},
   "outputs": [
    {
     "data": {
      "text/html": [
       "<div>\n",
       "<style scoped>\n",
       "    .dataframe tbody tr th:only-of-type {\n",
       "        vertical-align: middle;\n",
       "    }\n",
       "\n",
       "    .dataframe tbody tr th {\n",
       "        vertical-align: top;\n",
       "    }\n",
       "\n",
       "    .dataframe thead th {\n",
       "        text-align: right;\n",
       "    }\n",
       "</style>\n",
       "<table border=\"1\" class=\"dataframe\">\n",
       "  <thead>\n",
       "    <tr style=\"text-align: right;\">\n",
       "      <th></th>\n",
       "      <th>hpi_type</th>\n",
       "      <th>hpi_flavor</th>\n",
       "      <th>frequency</th>\n",
       "      <th>level</th>\n",
       "      <th>place_name</th>\n",
       "      <th>place_id</th>\n",
       "      <th>yr</th>\n",
       "      <th>period</th>\n",
       "      <th>index_nsa</th>\n",
       "      <th>index_sa</th>\n",
       "    </tr>\n",
       "  </thead>\n",
       "  <tbody>\n",
       "    <tr>\n",
       "      <th>0</th>\n",
       "      <td>traditional</td>\n",
       "      <td>purchase-only</td>\n",
       "      <td>monthly</td>\n",
       "      <td>USA or Census Division</td>\n",
       "      <td>East North Central Division</td>\n",
       "      <td>DV_ENC</td>\n",
       "      <td>1991</td>\n",
       "      <td>1</td>\n",
       "      <td>100.00</td>\n",
       "      <td>100.00</td>\n",
       "    </tr>\n",
       "    <tr>\n",
       "      <th>1</th>\n",
       "      <td>traditional</td>\n",
       "      <td>purchase-only</td>\n",
       "      <td>monthly</td>\n",
       "      <td>USA or Census Division</td>\n",
       "      <td>East North Central Division</td>\n",
       "      <td>DV_ENC</td>\n",
       "      <td>1991</td>\n",
       "      <td>2</td>\n",
       "      <td>100.92</td>\n",
       "      <td>100.98</td>\n",
       "    </tr>\n",
       "    <tr>\n",
       "      <th>2</th>\n",
       "      <td>traditional</td>\n",
       "      <td>purchase-only</td>\n",
       "      <td>monthly</td>\n",
       "      <td>USA or Census Division</td>\n",
       "      <td>East North Central Division</td>\n",
       "      <td>DV_ENC</td>\n",
       "      <td>1991</td>\n",
       "      <td>3</td>\n",
       "      <td>101.31</td>\n",
       "      <td>100.93</td>\n",
       "    </tr>\n",
       "    <tr>\n",
       "      <th>3</th>\n",
       "      <td>traditional</td>\n",
       "      <td>purchase-only</td>\n",
       "      <td>monthly</td>\n",
       "      <td>USA or Census Division</td>\n",
       "      <td>East North Central Division</td>\n",
       "      <td>DV_ENC</td>\n",
       "      <td>1991</td>\n",
       "      <td>4</td>\n",
       "      <td>101.70</td>\n",
       "      <td>101.00</td>\n",
       "    </tr>\n",
       "    <tr>\n",
       "      <th>4</th>\n",
       "      <td>traditional</td>\n",
       "      <td>purchase-only</td>\n",
       "      <td>monthly</td>\n",
       "      <td>USA or Census Division</td>\n",
       "      <td>East North Central Division</td>\n",
       "      <td>DV_ENC</td>\n",
       "      <td>1991</td>\n",
       "      <td>5</td>\n",
       "      <td>102.32</td>\n",
       "      <td>101.37</td>\n",
       "    </tr>\n",
       "  </tbody>\n",
       "</table>\n",
       "</div>"
      ],
      "text/plain": [
       "      hpi_type     hpi_flavor frequency                   level  \\\n",
       "0  traditional  purchase-only   monthly  USA or Census Division   \n",
       "1  traditional  purchase-only   monthly  USA or Census Division   \n",
       "2  traditional  purchase-only   monthly  USA or Census Division   \n",
       "3  traditional  purchase-only   monthly  USA or Census Division   \n",
       "4  traditional  purchase-only   monthly  USA or Census Division   \n",
       "\n",
       "                    place_name place_id    yr  period  index_nsa  index_sa  \n",
       "0  East North Central Division   DV_ENC  1991       1     100.00    100.00  \n",
       "1  East North Central Division   DV_ENC  1991       2     100.92    100.98  \n",
       "2  East North Central Division   DV_ENC  1991       3     101.31    100.93  \n",
       "3  East North Central Division   DV_ENC  1991       4     101.70    101.00  \n",
       "4  East North Central Division   DV_ENC  1991       5     102.32    101.37  "
      ]
     },
     "execution_count": 77,
     "metadata": {},
     "output_type": "execute_result"
    }
   ],
   "source": [
    "# File to Load \n",
    "hpi_master = \"../HPI_master.csv\"\n",
    "# Read the data\n",
    "hpi_master_df = pd.read_csv(hpi_master)\n",
    "hpi_master_df.head()"
   ]
  },
  {
   "cell_type": "code",
   "execution_count": 79,
   "id": "7a4abdd5",
   "metadata": {},
   "outputs": [
    {
     "data": {
      "text/html": [
       "<div>\n",
       "<style scoped>\n",
       "    .dataframe tbody tr th:only-of-type {\n",
       "        vertical-align: middle;\n",
       "    }\n",
       "\n",
       "    .dataframe tbody tr th {\n",
       "        vertical-align: top;\n",
       "    }\n",
       "\n",
       "    .dataframe thead th {\n",
       "        text-align: right;\n",
       "    }\n",
       "</style>\n",
       "<table border=\"1\" class=\"dataframe\">\n",
       "  <thead>\n",
       "    <tr style=\"text-align: right;\">\n",
       "      <th></th>\n",
       "      <th>yr</th>\n",
       "      <th>index_sa</th>\n",
       "    </tr>\n",
       "  </thead>\n",
       "  <tbody>\n",
       "    <tr>\n",
       "      <th>0</th>\n",
       "      <td>1991</td>\n",
       "      <td>100.347444</td>\n",
       "    </tr>\n",
       "    <tr>\n",
       "      <th>1</th>\n",
       "      <td>1992</td>\n",
       "      <td>102.726194</td>\n",
       "    </tr>\n",
       "    <tr>\n",
       "      <th>2</th>\n",
       "      <td>1993</td>\n",
       "      <td>105.367898</td>\n",
       "    </tr>\n",
       "    <tr>\n",
       "      <th>3</th>\n",
       "      <td>1994</td>\n",
       "      <td>109.412349</td>\n",
       "    </tr>\n",
       "    <tr>\n",
       "      <th>4</th>\n",
       "      <td>1995</td>\n",
       "      <td>112.551794</td>\n",
       "    </tr>\n",
       "  </tbody>\n",
       "</table>\n",
       "</div>"
      ],
      "text/plain": [
       "     yr    index_sa\n",
       "0  1991  100.347444\n",
       "1  1992  102.726194\n",
       "2  1993  105.367898\n",
       "3  1994  109.412349\n",
       "4  1995  112.551794"
      ]
     },
     "execution_count": 79,
     "metadata": {},
     "output_type": "execute_result"
    }
   ],
   "source": [
    "file_path = \"../data_csv/clean_hpi_master_ave1.csv\"\n",
    "clean_hpi_master_ave = pd.read_csv(file_path)\n",
    "clean_hpi_master_ave.head()"
   ]
  },
  {
   "cell_type": "code",
   "execution_count": 80,
   "id": "0bbf2b04",
   "metadata": {},
   "outputs": [
    {
     "name": "stdout",
     "output_type": "stream",
     "text": [
      "yr            int64\n",
      "index_sa    float64\n",
      "dtype: object\n"
     ]
    }
   ],
   "source": [
    "print(clean_hpi_master_ave.dtypes)"
   ]
  },
  {
   "cell_type": "code",
   "execution_count": null,
   "id": "f1612102",
   "metadata": {},
   "outputs": [],
   "source": []
  },
  {
   "cell_type": "code",
   "execution_count": 81,
   "id": "62f29319",
   "metadata": {},
   "outputs": [
    {
     "data": {
      "text/html": [
       "<div>\n",
       "<style scoped>\n",
       "    .dataframe tbody tr th:only-of-type {\n",
       "        vertical-align: middle;\n",
       "    }\n",
       "\n",
       "    .dataframe tbody tr th {\n",
       "        vertical-align: top;\n",
       "    }\n",
       "\n",
       "    .dataframe thead th {\n",
       "        text-align: right;\n",
       "    }\n",
       "</style>\n",
       "<table border=\"1\" class=\"dataframe\">\n",
       "  <thead>\n",
       "    <tr style=\"text-align: right;\">\n",
       "      <th></th>\n",
       "      <th>yr_1991</th>\n",
       "      <th>yr_1992</th>\n",
       "      <th>yr_1993</th>\n",
       "      <th>yr_1994</th>\n",
       "      <th>yr_1995</th>\n",
       "      <th>yr_1996</th>\n",
       "      <th>yr_1997</th>\n",
       "      <th>yr_1998</th>\n",
       "      <th>yr_1999</th>\n",
       "      <th>yr_2000</th>\n",
       "      <th>...</th>\n",
       "      <th>index_sa_221.580095</th>\n",
       "      <th>index_sa_230.43223</th>\n",
       "      <th>index_sa_232.698548</th>\n",
       "      <th>index_sa_234.742349</th>\n",
       "      <th>index_sa_249.832278</th>\n",
       "      <th>index_sa_265.901087</th>\n",
       "      <th>index_sa_279.645389</th>\n",
       "      <th>index_sa_301.932365</th>\n",
       "      <th>index_sa_353.092548</th>\n",
       "      <th>index_sa_385.2775</th>\n",
       "    </tr>\n",
       "  </thead>\n",
       "  <tbody>\n",
       "    <tr>\n",
       "      <th>0</th>\n",
       "      <td>1</td>\n",
       "      <td>0</td>\n",
       "      <td>0</td>\n",
       "      <td>0</td>\n",
       "      <td>0</td>\n",
       "      <td>0</td>\n",
       "      <td>0</td>\n",
       "      <td>0</td>\n",
       "      <td>0</td>\n",
       "      <td>0</td>\n",
       "      <td>...</td>\n",
       "      <td>0</td>\n",
       "      <td>0</td>\n",
       "      <td>0</td>\n",
       "      <td>0</td>\n",
       "      <td>0</td>\n",
       "      <td>0</td>\n",
       "      <td>0</td>\n",
       "      <td>0</td>\n",
       "      <td>0</td>\n",
       "      <td>0</td>\n",
       "    </tr>\n",
       "    <tr>\n",
       "      <th>1</th>\n",
       "      <td>0</td>\n",
       "      <td>1</td>\n",
       "      <td>0</td>\n",
       "      <td>0</td>\n",
       "      <td>0</td>\n",
       "      <td>0</td>\n",
       "      <td>0</td>\n",
       "      <td>0</td>\n",
       "      <td>0</td>\n",
       "      <td>0</td>\n",
       "      <td>...</td>\n",
       "      <td>0</td>\n",
       "      <td>0</td>\n",
       "      <td>0</td>\n",
       "      <td>0</td>\n",
       "      <td>0</td>\n",
       "      <td>0</td>\n",
       "      <td>0</td>\n",
       "      <td>0</td>\n",
       "      <td>0</td>\n",
       "      <td>0</td>\n",
       "    </tr>\n",
       "    <tr>\n",
       "      <th>2</th>\n",
       "      <td>0</td>\n",
       "      <td>0</td>\n",
       "      <td>1</td>\n",
       "      <td>0</td>\n",
       "      <td>0</td>\n",
       "      <td>0</td>\n",
       "      <td>0</td>\n",
       "      <td>0</td>\n",
       "      <td>0</td>\n",
       "      <td>0</td>\n",
       "      <td>...</td>\n",
       "      <td>0</td>\n",
       "      <td>0</td>\n",
       "      <td>0</td>\n",
       "      <td>0</td>\n",
       "      <td>0</td>\n",
       "      <td>0</td>\n",
       "      <td>0</td>\n",
       "      <td>0</td>\n",
       "      <td>0</td>\n",
       "      <td>0</td>\n",
       "    </tr>\n",
       "    <tr>\n",
       "      <th>3</th>\n",
       "      <td>0</td>\n",
       "      <td>0</td>\n",
       "      <td>0</td>\n",
       "      <td>1</td>\n",
       "      <td>0</td>\n",
       "      <td>0</td>\n",
       "      <td>0</td>\n",
       "      <td>0</td>\n",
       "      <td>0</td>\n",
       "      <td>0</td>\n",
       "      <td>...</td>\n",
       "      <td>0</td>\n",
       "      <td>0</td>\n",
       "      <td>0</td>\n",
       "      <td>0</td>\n",
       "      <td>0</td>\n",
       "      <td>0</td>\n",
       "      <td>0</td>\n",
       "      <td>0</td>\n",
       "      <td>0</td>\n",
       "      <td>0</td>\n",
       "    </tr>\n",
       "    <tr>\n",
       "      <th>4</th>\n",
       "      <td>0</td>\n",
       "      <td>0</td>\n",
       "      <td>0</td>\n",
       "      <td>0</td>\n",
       "      <td>1</td>\n",
       "      <td>0</td>\n",
       "      <td>0</td>\n",
       "      <td>0</td>\n",
       "      <td>0</td>\n",
       "      <td>0</td>\n",
       "      <td>...</td>\n",
       "      <td>0</td>\n",
       "      <td>0</td>\n",
       "      <td>0</td>\n",
       "      <td>0</td>\n",
       "      <td>0</td>\n",
       "      <td>0</td>\n",
       "      <td>0</td>\n",
       "      <td>0</td>\n",
       "      <td>0</td>\n",
       "      <td>0</td>\n",
       "    </tr>\n",
       "  </tbody>\n",
       "</table>\n",
       "<p>5 rows × 64 columns</p>\n",
       "</div>"
      ],
      "text/plain": [
       "   yr_1991  yr_1992  yr_1993  yr_1994  yr_1995  yr_1996  yr_1997  yr_1998  \\\n",
       "0        1        0        0        0        0        0        0        0   \n",
       "1        0        1        0        0        0        0        0        0   \n",
       "2        0        0        1        0        0        0        0        0   \n",
       "3        0        0        0        1        0        0        0        0   \n",
       "4        0        0        0        0        1        0        0        0   \n",
       "\n",
       "   yr_1999  yr_2000  ...  index_sa_221.580095  index_sa_230.43223  \\\n",
       "0        0        0  ...                    0                   0   \n",
       "1        0        0  ...                    0                   0   \n",
       "2        0        0  ...                    0                   0   \n",
       "3        0        0  ...                    0                   0   \n",
       "4        0        0  ...                    0                   0   \n",
       "\n",
       "   index_sa_232.698548  index_sa_234.742349  index_sa_249.832278  \\\n",
       "0                    0                    0                    0   \n",
       "1                    0                    0                    0   \n",
       "2                    0                    0                    0   \n",
       "3                    0                    0                    0   \n",
       "4                    0                    0                    0   \n",
       "\n",
       "   index_sa_265.901087  index_sa_279.645389  index_sa_301.932365  \\\n",
       "0                    0                    0                    0   \n",
       "1                    0                    0                    0   \n",
       "2                    0                    0                    0   \n",
       "3                    0                    0                    0   \n",
       "4                    0                    0                    0   \n",
       "\n",
       "   index_sa_353.092548  index_sa_385.2775  \n",
       "0                    0                  0  \n",
       "1                    0                  0  \n",
       "2                    0                  0  \n",
       "3                    0                  0  \n",
       "4                    0                  0  \n",
       "\n",
       "[5 rows x 64 columns]"
      ]
     },
     "execution_count": 81,
     "metadata": {},
     "output_type": "execute_result"
    }
   ],
   "source": [
    "clean_hpi_master_ave_df_1 = pd.get_dummies(clean_hpi_master_ave, columns = ['yr','index_sa'])\n",
    "clean_hpi_master_ave_df_1.head()"
   ]
  },
  {
   "cell_type": "code",
   "execution_count": 87,
   "id": "808827d6",
   "metadata": {},
   "outputs": [
    {
     "data": {
      "text/plain": [
       "KMeans(n_clusters=3, random_state=5)"
      ]
     },
     "execution_count": 87,
     "metadata": {},
     "output_type": "execute_result"
    }
   ],
   "source": [
    "#Initialize model with K = 3(we know there are three classes of iris plants)\n",
    "model = KMeans(n_clusters=3, random_state=5)\n",
    "model"
   ]
  },
  {
   "cell_type": "code",
   "execution_count": 88,
   "id": "fb782587",
   "metadata": {},
   "outputs": [
    {
     "data": {
      "text/plain": [
       "KMeans(n_clusters=3, random_state=5)"
      ]
     },
     "execution_count": 88,
     "metadata": {},
     "output_type": "execute_result"
    }
   ],
   "source": [
    "# Fitting model -there is no training and testing because Kmeans will do it for you \n",
    "model.fit(clean_hpi_master_ave)"
   ]
  },
  {
   "cell_type": "code",
   "execution_count": 89,
   "id": "6175c3ba",
   "metadata": {},
   "outputs": [
    {
     "name": "stdout",
     "output_type": "stream",
     "text": [
      "[2 2 2 2 2 2 2 2 2 2 2 2 1 1 1 1 1 1 1 1 1 1 1 1 1 1 1 1 0 0 0 0]\n"
     ]
    }
   ],
   "source": [
    "#group data points and ger predicitions\n",
    "predictions = model.predict(clean_hpi_master_ave)\n",
    "print(predictions)"
   ]
  },
  {
   "cell_type": "code",
   "execution_count": 90,
   "id": "2e40da54",
   "metadata": {},
   "outputs": [
    {
     "data": {
      "text/html": [
       "<div>\n",
       "<style scoped>\n",
       "    .dataframe tbody tr th:only-of-type {\n",
       "        vertical-align: middle;\n",
       "    }\n",
       "\n",
       "    .dataframe tbody tr th {\n",
       "        vertical-align: top;\n",
       "    }\n",
       "\n",
       "    .dataframe thead th {\n",
       "        text-align: right;\n",
       "    }\n",
       "</style>\n",
       "<table border=\"1\" class=\"dataframe\">\n",
       "  <thead>\n",
       "    <tr style=\"text-align: right;\">\n",
       "      <th></th>\n",
       "      <th>yr</th>\n",
       "      <th>index_sa</th>\n",
       "    </tr>\n",
       "  </thead>\n",
       "  <tbody>\n",
       "    <tr>\n",
       "      <th>0</th>\n",
       "      <td>1991</td>\n",
       "      <td>100.347444</td>\n",
       "    </tr>\n",
       "    <tr>\n",
       "      <th>1</th>\n",
       "      <td>1992</td>\n",
       "      <td>102.726194</td>\n",
       "    </tr>\n",
       "    <tr>\n",
       "      <th>2</th>\n",
       "      <td>1993</td>\n",
       "      <td>105.367898</td>\n",
       "    </tr>\n",
       "    <tr>\n",
       "      <th>3</th>\n",
       "      <td>1994</td>\n",
       "      <td>109.412349</td>\n",
       "    </tr>\n",
       "    <tr>\n",
       "      <th>4</th>\n",
       "      <td>1995</td>\n",
       "      <td>112.551794</td>\n",
       "    </tr>\n",
       "  </tbody>\n",
       "</table>\n",
       "</div>"
      ],
      "text/plain": [
       "     yr    index_sa\n",
       "0  1991  100.347444\n",
       "1  1992  102.726194\n",
       "2  1993  105.367898\n",
       "3  1994  109.412349\n",
       "4  1995  112.551794"
      ]
     },
     "execution_count": 90,
     "metadata": {},
     "output_type": "execute_result"
    }
   ],
   "source": [
    "# Add a new class column to the df_iris of the predicted class\n",
    "clean_hpi_master_ave.head()"
   ]
  },
  {
   "cell_type": "code",
   "execution_count": 91,
   "id": "826f3e1e",
   "metadata": {
    "scrolled": true
   },
   "outputs": [
    {
     "data": {},
     "metadata": {},
     "output_type": "display_data"
    },
    {
     "data": {
      "application/vnd.holoviews_exec.v0+json": "",
      "text/html": [
       "<div id='2330'>\n",
       "\n",
       "\n",
       "\n",
       "\n",
       "\n",
       "  <div class=\"bk-root\" id=\"c7b1eeb4-4c14-46c3-a362-f518a277c4c6\" data-root-id=\"2330\"></div>\n",
       "</div>\n",
       "<script type=\"application/javascript\">(function(root) {\n",
       "  function embed_document(root) {\n",
       "    var docs_json = {\"980b6d9a-e953-4966-bbdf-5a2901a52ed6\":{\"defs\":[{\"extends\":null,\"module\":null,\"name\":\"ReactiveHTML1\",\"overrides\":[],\"properties\":[]},{\"extends\":null,\"module\":null,\"name\":\"FlexBox1\",\"overrides\":[],\"properties\":[{\"default\":\"flex-start\",\"kind\":null,\"name\":\"align_content\"},{\"default\":\"flex-start\",\"kind\":null,\"name\":\"align_items\"},{\"default\":\"row\",\"kind\":null,\"name\":\"flex_direction\"},{\"default\":\"wrap\",\"kind\":null,\"name\":\"flex_wrap\"},{\"default\":\"flex-start\",\"kind\":null,\"name\":\"justify_content\"}]},{\"extends\":null,\"module\":null,\"name\":\"GridStack1\",\"overrides\":[],\"properties\":[{\"default\":\"warn\",\"kind\":null,\"name\":\"mode\"},{\"default\":null,\"kind\":null,\"name\":\"ncols\"},{\"default\":null,\"kind\":null,\"name\":\"nrows\"},{\"default\":true,\"kind\":null,\"name\":\"allow_resize\"},{\"default\":true,\"kind\":null,\"name\":\"allow_drag\"},{\"default\":[],\"kind\":null,\"name\":\"state\"}]},{\"extends\":null,\"module\":null,\"name\":\"click1\",\"overrides\":[],\"properties\":[{\"default\":\"\",\"kind\":null,\"name\":\"terminal_output\"},{\"default\":\"\",\"kind\":null,\"name\":\"debug_name\"},{\"default\":0,\"kind\":null,\"name\":\"clears\"}]},{\"extends\":null,\"module\":null,\"name\":\"TemplateActions1\",\"overrides\":[],\"properties\":[{\"default\":0,\"kind\":null,\"name\":\"open_modal\"},{\"default\":0,\"kind\":null,\"name\":\"close_modal\"}]},{\"extends\":null,\"module\":null,\"name\":\"MaterialTemplateActions1\",\"overrides\":[],\"properties\":[{\"default\":0,\"kind\":null,\"name\":\"open_modal\"},{\"default\":0,\"kind\":null,\"name\":\"close_modal\"}]}],\"roots\":{\"references\":[{\"attributes\":{\"end\":413.7705056,\"reset_end\":413.7705056,\"reset_start\":71.85443839999999,\"start\":71.85443839999999,\"tags\":[[[\"index_sa\",\"index_sa\",null]]]},\"id\":\"2333\",\"type\":\"Range1d\"},{\"attributes\":{},\"id\":\"2375\",\"type\":\"BasicTickFormatter\"},{\"attributes\":{\"axis\":{\"id\":\"2344\"},\"coordinates\":null,\"grid_line_color\":null,\"group\":null,\"ticker\":null},\"id\":\"2347\",\"type\":\"Grid\"},{\"attributes\":{\"source\":{\"id\":\"2365\"}},\"id\":\"2372\",\"type\":\"CDSView\"},{\"attributes\":{\"line_alpha\":0.1,\"line_color\":\"#30a2da\",\"line_width\":2,\"x\":{\"field\":\"yr\"},\"y\":{\"field\":\"index_sa\"}},\"id\":\"2369\",\"type\":\"Line\"},{\"attributes\":{\"margin\":[5,5,5,5],\"name\":\"HSpacer05896\",\"sizing_mode\":\"stretch_width\"},\"id\":\"2331\",\"type\":\"Spacer\"},{\"attributes\":{},\"id\":\"2378\",\"type\":\"BasicTickFormatter\"},{\"attributes\":{\"coordinates\":null,\"data_source\":{\"id\":\"2365\"},\"glyph\":{\"id\":\"2368\"},\"group\":null,\"hover_glyph\":null,\"muted_glyph\":{\"id\":\"2370\"},\"nonselection_glyph\":{\"id\":\"2369\"},\"selection_glyph\":{\"id\":\"2373\"},\"view\":{\"id\":\"2372\"}},\"id\":\"2371\",\"type\":\"GlyphRenderer\"},{\"attributes\":{\"below\":[{\"id\":\"2344\"}],\"center\":[{\"id\":\"2347\"},{\"id\":\"2351\"}],\"height\":300,\"left\":[{\"id\":\"2348\"}],\"margin\":[5,5,5,5],\"min_border_bottom\":10,\"min_border_left\":10,\"min_border_right\":10,\"min_border_top\":10,\"renderers\":[{\"id\":\"2371\"}],\"sizing_mode\":\"fixed\",\"title\":{\"id\":\"2336\"},\"toolbar\":{\"id\":\"2358\"},\"width\":700,\"x_range\":{\"id\":\"2332\"},\"x_scale\":{\"id\":\"2340\"},\"y_range\":{\"id\":\"2333\"},\"y_scale\":{\"id\":\"2342\"}},\"id\":\"2335\",\"subtype\":\"Figure\",\"type\":\"Plot\"},{\"attributes\":{\"coordinates\":null,\"group\":null,\"text_color\":\"black\",\"text_font_size\":\"12pt\"},\"id\":\"2336\",\"type\":\"Title\"},{\"attributes\":{},\"id\":\"2376\",\"type\":\"AllLabels\"},{\"attributes\":{\"end\":2022.0,\"reset_end\":2022.0,\"reset_start\":1991.0,\"start\":1991.0,\"tags\":[[[\"yr\",\"yr\",null]]]},\"id\":\"2332\",\"type\":\"Range1d\"},{\"attributes\":{\"data\":{\"index_sa\":{\"__ndarray__\":\"QEzChTwWWUBLI2b2ea5ZQOKQDaSLV1pAdGIP7WNaW0BCCMiXUCNcQKVquwm+Al1AG0esxafhXUDdYKjDClNfQMWRByKLomBA97GC34bPYUDaci7F1RJjQHuIRneQcmRA4s0avK8UZkBuwVJdQF5oQJrMeFtpTWtA9dVVgVoWbUA0SwLU1M1sQMJQhxXuFGpA9Gvrp38daEAfhetRuHBnQH3rw3qjc2ZADECjdGkaZ0D7c9GQ8d1oQMeEmEsqN2pAV7JjI5Cya0D8prBSwVdtQMXleAWiOm9Anb0z2mqecEAsg2qDU3pxQPbuj/fq3nJA95ScE3sRdkA9CtejcBR4QA==\",\"dtype\":\"float64\",\"order\":\"little\",\"shape\":[32]},\"yr\":[1991,1992,1993,1994,1995,1996,1997,1998,1999,2000,2001,2002,2003,2004,2005,2006,2007,2008,2009,2010,2011,2012,2013,2014,2015,2016,2017,2018,2019,2020,2021,2022]},\"selected\":{\"id\":\"2366\"},\"selection_policy\":{\"id\":\"2387\"}},\"id\":\"2365\",\"type\":\"ColumnDataSource\"},{\"attributes\":{},\"id\":\"2354\",\"type\":\"WheelZoomTool\"},{\"attributes\":{},\"id\":\"2353\",\"type\":\"PanTool\"},{\"attributes\":{\"line_alpha\":0.2,\"line_color\":\"#30a2da\",\"line_width\":2,\"x\":{\"field\":\"yr\"},\"y\":{\"field\":\"index_sa\"}},\"id\":\"2370\",\"type\":\"Line\"},{\"attributes\":{},\"id\":\"2349\",\"type\":\"BasicTicker\"},{\"attributes\":{},\"id\":\"2345\",\"type\":\"BasicTicker\"},{\"attributes\":{},\"id\":\"2387\",\"type\":\"UnionRenderers\"},{\"attributes\":{\"line_color\":\"#30a2da\",\"line_width\":2,\"x\":{\"field\":\"yr\"},\"y\":{\"field\":\"index_sa\"}},\"id\":\"2373\",\"type\":\"Line\"},{\"attributes\":{\"overlay\":{\"id\":\"2357\"}},\"id\":\"2355\",\"type\":\"BoxZoomTool\"},{\"attributes\":{},\"id\":\"2340\",\"type\":\"LinearScale\"},{\"attributes\":{},\"id\":\"2352\",\"type\":\"SaveTool\"},{\"attributes\":{},\"id\":\"2342\",\"type\":\"LinearScale\"},{\"attributes\":{},\"id\":\"2379\",\"type\":\"AllLabels\"},{\"attributes\":{\"axis\":{\"id\":\"2348\"},\"coordinates\":null,\"dimension\":1,\"grid_line_color\":null,\"group\":null,\"ticker\":null},\"id\":\"2351\",\"type\":\"Grid\"},{\"attributes\":{\"children\":[{\"id\":\"2331\"},{\"id\":\"2335\"},{\"id\":\"2400\"}],\"margin\":[0,0,0,0],\"name\":\"Row05892\",\"tags\":[\"embedded\"]},\"id\":\"2330\",\"type\":\"Row\"},{\"attributes\":{\"axis_label\":\"yr\",\"coordinates\":null,\"formatter\":{\"id\":\"2375\"},\"group\":null,\"major_label_policy\":{\"id\":\"2376\"},\"ticker\":{\"id\":\"2345\"}},\"id\":\"2344\",\"type\":\"LinearAxis\"},{\"attributes\":{\"axis_label\":\"index_sa\",\"coordinates\":null,\"formatter\":{\"id\":\"2378\"},\"group\":null,\"major_label_policy\":{\"id\":\"2379\"},\"ticker\":{\"id\":\"2349\"}},\"id\":\"2348\",\"type\":\"LinearAxis\"},{\"attributes\":{\"bottom_units\":\"screen\",\"coordinates\":null,\"fill_alpha\":0.5,\"fill_color\":\"lightgrey\",\"group\":null,\"left_units\":\"screen\",\"level\":\"overlay\",\"line_alpha\":1.0,\"line_color\":\"black\",\"line_dash\":[4,4],\"line_width\":2,\"right_units\":\"screen\",\"syncable\":false,\"top_units\":\"screen\"},\"id\":\"2357\",\"type\":\"BoxAnnotation\"},{\"attributes\":{\"callback\":null,\"renderers\":[{\"id\":\"2371\"}],\"tags\":[\"hv_created\"],\"tooltips\":[[\"yr\",\"@{yr}\"],[\"index_sa\",\"@{index_sa}\"]]},\"id\":\"2334\",\"type\":\"HoverTool\"},{\"attributes\":{\"margin\":[5,5,5,5],\"name\":\"HSpacer05897\",\"sizing_mode\":\"stretch_width\"},\"id\":\"2400\",\"type\":\"Spacer\"},{\"attributes\":{\"tools\":[{\"id\":\"2334\"},{\"id\":\"2352\"},{\"id\":\"2353\"},{\"id\":\"2354\"},{\"id\":\"2355\"},{\"id\":\"2356\"}]},\"id\":\"2358\",\"type\":\"Toolbar\"},{\"attributes\":{},\"id\":\"2366\",\"type\":\"Selection\"},{\"attributes\":{\"line_color\":\"#30a2da\",\"line_width\":2,\"x\":{\"field\":\"yr\"},\"y\":{\"field\":\"index_sa\"}},\"id\":\"2368\",\"type\":\"Line\"},{\"attributes\":{},\"id\":\"2356\",\"type\":\"ResetTool\"}],\"root_ids\":[\"2330\"]},\"title\":\"Bokeh Application\",\"version\":\"2.4.1\"}};\n",
       "    var render_items = [{\"docid\":\"980b6d9a-e953-4966-bbdf-5a2901a52ed6\",\"root_ids\":[\"2330\"],\"roots\":{\"2330\":\"c7b1eeb4-4c14-46c3-a362-f518a277c4c6\"}}];\n",
       "    root.Bokeh.embed.embed_items_notebook(docs_json, render_items);\n",
       "  }\n",
       "  if (root.Bokeh !== undefined && root.Bokeh.Panel !== undefined) {\n",
       "    embed_document(root);\n",
       "  } else {\n",
       "    var attempts = 0;\n",
       "    var timer = setInterval(function(root) {\n",
       "      if (root.Bokeh !== undefined && root.Bokeh.Panel !== undefined) {\n",
       "        clearInterval(timer);\n",
       "        embed_document(root);\n",
       "      } else if (document.readyState == \"complete\") {\n",
       "        attempts++;\n",
       "        if (attempts > 200) {\n",
       "          clearInterval(timer);\n",
       "          console.log(\"Bokeh: ERROR: Unable to run BokehJS code because BokehJS library is missing\");\n",
       "        }\n",
       "      }\n",
       "    }, 25, root)\n",
       "  }\n",
       "})(window);</script>"
      ],
      "text/plain": [
       ":Curve   [yr]   (index_sa)"
      ]
     },
     "execution_count": 91,
     "metadata": {
      "application/vnd.holoviews_exec.v0+json": {
       "id": "2330"
      }
     },
     "output_type": "execute_result"
    }
   ],
   "source": [
    "#visualize the data by plotting clusters \n",
    "clean_hpi_master_ave.hvplot(x=\"yr\", y=\"index_sa\")"
   ]
  },
  {
   "cell_type": "markdown",
   "id": "455ac2c6",
   "metadata": {},
   "source": [
    "# Completing the prediction again, but with two clusters\n"
   ]
  },
  {
   "cell_type": "code",
   "execution_count": 95,
   "id": "8b501f57",
   "metadata": {},
   "outputs": [],
   "source": [
    "def test_cluster_amount(clean_hpi_master_ave, clusters):\n",
    "    model = KMeans(n_clusters=clusters, random_state=5)\n",
    "    model\n",
    "    # Fitting model\n",
    "    model.fit(clean_hpi_master_ave)\n",
    "    # Add a new class column to df_iris\n",
    "    clean_hpi_master_ave[\"class\"] = model.labels_"
   ]
  },
  {
   "cell_type": "code",
   "execution_count": 97,
   "id": "dafabfe0",
   "metadata": {},
   "outputs": [
    {
     "data": {},
     "metadata": {},
     "output_type": "display_data"
    },
    {
     "data": {
      "application/vnd.holoviews_exec.v0+json": "",
      "text/html": [
       "<div id='2452'>\n",
       "\n",
       "\n",
       "\n",
       "\n",
       "\n",
       "  <div class=\"bk-root\" id=\"08fe194b-7816-486c-a5ac-6a5f4bfb9d97\" data-root-id=\"2452\"></div>\n",
       "</div>\n",
       "<script type=\"application/javascript\">(function(root) {\n",
       "  function embed_document(root) {\n",
       "    var docs_json = {\"75cb6f07-a328-4950-8ed8-ffedd80d26c9\":{\"defs\":[{\"extends\":null,\"module\":null,\"name\":\"ReactiveHTML1\",\"overrides\":[],\"properties\":[]},{\"extends\":null,\"module\":null,\"name\":\"FlexBox1\",\"overrides\":[],\"properties\":[{\"default\":\"flex-start\",\"kind\":null,\"name\":\"align_content\"},{\"default\":\"flex-start\",\"kind\":null,\"name\":\"align_items\"},{\"default\":\"row\",\"kind\":null,\"name\":\"flex_direction\"},{\"default\":\"wrap\",\"kind\":null,\"name\":\"flex_wrap\"},{\"default\":\"flex-start\",\"kind\":null,\"name\":\"justify_content\"}]},{\"extends\":null,\"module\":null,\"name\":\"GridStack1\",\"overrides\":[],\"properties\":[{\"default\":\"warn\",\"kind\":null,\"name\":\"mode\"},{\"default\":null,\"kind\":null,\"name\":\"ncols\"},{\"default\":null,\"kind\":null,\"name\":\"nrows\"},{\"default\":true,\"kind\":null,\"name\":\"allow_resize\"},{\"default\":true,\"kind\":null,\"name\":\"allow_drag\"},{\"default\":[],\"kind\":null,\"name\":\"state\"}]},{\"extends\":null,\"module\":null,\"name\":\"click1\",\"overrides\":[],\"properties\":[{\"default\":\"\",\"kind\":null,\"name\":\"terminal_output\"},{\"default\":\"\",\"kind\":null,\"name\":\"debug_name\"},{\"default\":0,\"kind\":null,\"name\":\"clears\"}]},{\"extends\":null,\"module\":null,\"name\":\"TemplateActions1\",\"overrides\":[],\"properties\":[{\"default\":0,\"kind\":null,\"name\":\"open_modal\"},{\"default\":0,\"kind\":null,\"name\":\"close_modal\"}]},{\"extends\":null,\"module\":null,\"name\":\"MaterialTemplateActions1\",\"overrides\":[],\"properties\":[{\"default\":0,\"kind\":null,\"name\":\"open_modal\"},{\"default\":0,\"kind\":null,\"name\":\"close_modal\"}]}],\"roots\":{\"references\":[{\"attributes\":{},\"id\":\"2512\",\"type\":\"UnionRenderers\"},{\"attributes\":{},\"id\":\"2613\",\"type\":\"UnionRenderers\"},{\"attributes\":{\"fill_alpha\":{\"value\":0.2},\"fill_color\":{\"value\":\"#8b8b8b\"},\"hatch_alpha\":{\"value\":0.2},\"hatch_color\":{\"value\":\"#8b8b8b\"},\"line_alpha\":{\"value\":0.2},\"line_color\":{\"value\":\"#8b8b8b\"},\"size\":{\"value\":5.477225575051661},\"x\":{\"field\":\"yr\"},\"y\":{\"field\":\"index_sa\"}},\"id\":\"2595\",\"type\":\"Scatter\"},{\"attributes\":{\"angle\":{\"value\":0.0},\"fill_alpha\":{\"value\":1.0},\"fill_color\":{\"value\":\"#e5ae38\"},\"hatch_alpha\":{\"value\":1.0},\"hatch_color\":{\"value\":\"#e5ae38\"},\"hatch_scale\":{\"value\":12.0},\"hatch_weight\":{\"value\":1.0},\"line_alpha\":{\"value\":1.0},\"line_cap\":{\"value\":\"butt\"},\"line_color\":{\"value\":\"#e5ae38\"},\"line_dash\":{\"value\":[]},\"line_dash_offset\":{\"value\":0},\"line_join\":{\"value\":\"bevel\"},\"line_width\":{\"value\":1},\"marker\":{\"value\":\"circle\"},\"size\":{\"value\":5.477225575051661},\"x\":{\"field\":\"yr\"},\"y\":{\"field\":\"index_sa\"}},\"id\":\"2563\",\"type\":\"Scatter\"},{\"attributes\":{},\"id\":\"2466\",\"type\":\"LinearScale\"},{\"attributes\":{\"angle\":{\"value\":0.0},\"fill_alpha\":{\"value\":1.0},\"fill_color\":{\"value\":\"#6d904f\"},\"hatch_alpha\":{\"value\":1.0},\"hatch_color\":{\"value\":\"#6d904f\"},\"hatch_scale\":{\"value\":12.0},\"hatch_weight\":{\"value\":1.0},\"line_alpha\":{\"value\":1.0},\"line_cap\":{\"value\":\"butt\"},\"line_color\":{\"value\":\"#6d904f\"},\"line_dash\":{\"value\":[]},\"line_dash_offset\":{\"value\":0},\"line_join\":{\"value\":\"bevel\"},\"line_width\":{\"value\":1},\"marker\":{\"value\":\"circle\"},\"size\":{\"value\":5.477225575051661},\"x\":{\"field\":\"yr\"},\"y\":{\"field\":\"index_sa\"}},\"id\":\"2589\",\"type\":\"Scatter\"},{\"attributes\":{\"fill_alpha\":{\"value\":0.1},\"fill_color\":{\"value\":\"#fc4f30\"},\"hatch_alpha\":{\"value\":0.1},\"hatch_color\":{\"value\":\"#fc4f30\"},\"line_alpha\":{\"value\":0.1},\"line_color\":{\"value\":\"#fc4f30\"},\"size\":{\"value\":5.477225575051661},\"x\":{\"field\":\"yr\"},\"y\":{\"field\":\"index_sa\"}},\"id\":\"2522\",\"type\":\"Scatter\"},{\"attributes\":{},\"id\":\"2498\",\"type\":\"Selection\"},{\"attributes\":{},\"id\":\"2591\",\"type\":\"Selection\"},{\"attributes\":{},\"id\":\"2565\",\"type\":\"Selection\"},{\"attributes\":{\"source\":{\"id\":\"2518\"}},\"id\":\"2525\",\"type\":\"CDSView\"},{\"attributes\":{\"data\":{\"class\":[2,2],\"index_sa\":{\"__ndarray__\":\"95ScE3sRdkA9CtejcBR4QA==\",\"dtype\":\"float64\",\"order\":\"little\",\"shape\":[2]},\"yr\":[2021,2022]},\"selected\":{\"id\":\"2541\"},\"selection_policy\":{\"id\":\"2559\"}},\"id\":\"2540\",\"type\":\"ColumnDataSource\"},{\"attributes\":{},\"id\":\"2535\",\"type\":\"UnionRenderers\"},{\"attributes\":{\"coordinates\":null,\"data_source\":{\"id\":\"2590\"},\"glyph\":{\"id\":\"2593\"},\"group\":null,\"hover_glyph\":null,\"muted_glyph\":{\"id\":\"2595\"},\"nonselection_glyph\":{\"id\":\"2594\"},\"selection_glyph\":{\"id\":\"2617\"},\"view\":{\"id\":\"2597\"}},\"id\":\"2596\",\"type\":\"GlyphRenderer\"},{\"attributes\":{\"axis\":{\"id\":\"2470\"},\"coordinates\":null,\"grid_line_color\":null,\"group\":null,\"ticker\":null},\"id\":\"2473\",\"type\":\"Grid\"},{\"attributes\":{\"fill_alpha\":{\"value\":0.2},\"fill_color\":{\"value\":\"#e5ae38\"},\"hatch_alpha\":{\"value\":0.2},\"hatch_color\":{\"value\":\"#e5ae38\"},\"line_alpha\":{\"value\":0.2},\"line_color\":{\"value\":\"#e5ae38\"},\"size\":{\"value\":5.477225575051661},\"x\":{\"field\":\"yr\"},\"y\":{\"field\":\"index_sa\"}},\"id\":\"2545\",\"type\":\"Scatter\"},{\"attributes\":{\"coordinates\":null,\"data_source\":{\"id\":\"2518\"},\"glyph\":{\"id\":\"2521\"},\"group\":null,\"hover_glyph\":null,\"muted_glyph\":{\"id\":\"2523\"},\"nonselection_glyph\":{\"id\":\"2522\"},\"selection_glyph\":{\"id\":\"2539\"},\"view\":{\"id\":\"2525\"}},\"id\":\"2524\",\"type\":\"GlyphRenderer\"},{\"attributes\":{},\"id\":\"2475\",\"type\":\"BasicTicker\"},{\"attributes\":{\"fill_alpha\":{\"value\":0.1},\"fill_color\":{\"value\":\"#8b8b8b\"},\"hatch_alpha\":{\"value\":0.1},\"hatch_color\":{\"value\":\"#8b8b8b\"},\"line_alpha\":{\"value\":0.1},\"line_color\":{\"value\":\"#8b8b8b\"},\"size\":{\"value\":5.477225575051661},\"x\":{\"field\":\"yr\"},\"y\":{\"field\":\"index_sa\"}},\"id\":\"2594\",\"type\":\"Scatter\"},{\"attributes\":{\"margin\":[5,5,5,5],\"name\":\"HSpacer06184\",\"sizing_mode\":\"stretch_width\"},\"id\":\"2780\",\"type\":\"Spacer\"},{\"attributes\":{\"label\":{\"value\":\"1\"},\"renderers\":[{\"id\":\"2524\"}]},\"id\":\"2538\",\"type\":\"LegendItem\"},{\"attributes\":{\"below\":[{\"id\":\"2470\"}],\"center\":[{\"id\":\"2473\"},{\"id\":\"2477\"}],\"height\":300,\"left\":[{\"id\":\"2474\"}],\"margin\":[5,5,5,5],\"min_border_bottom\":10,\"min_border_left\":10,\"min_border_right\":10,\"min_border_top\":10,\"renderers\":[{\"id\":\"2503\"},{\"id\":\"2524\"},{\"id\":\"2546\"},{\"id\":\"2570\"},{\"id\":\"2596\"}],\"right\":[{\"id\":\"2515\"}],\"sizing_mode\":\"fixed\",\"title\":{\"id\":\"2462\"},\"toolbar\":{\"id\":\"2484\"},\"width\":700,\"x_range\":{\"id\":\"2454\"},\"x_scale\":{\"id\":\"2466\"},\"y_range\":{\"id\":\"2455\"},\"y_scale\":{\"id\":\"2468\"}},\"id\":\"2461\",\"subtype\":\"Figure\",\"type\":\"Plot\"},{\"attributes\":{\"fill_alpha\":{\"value\":0.2},\"fill_color\":{\"value\":\"#fc4f30\"},\"hatch_alpha\":{\"value\":0.2},\"hatch_color\":{\"value\":\"#fc4f30\"},\"line_alpha\":{\"value\":0.2},\"line_color\":{\"value\":\"#fc4f30\"},\"size\":{\"value\":5.477225575051661},\"x\":{\"field\":\"yr\"},\"y\":{\"field\":\"index_sa\"}},\"id\":\"2523\",\"type\":\"Scatter\"},{\"attributes\":{\"axis\":{\"id\":\"2474\"},\"coordinates\":null,\"dimension\":1,\"grid_line_color\":null,\"group\":null,\"ticker\":null},\"id\":\"2477\",\"type\":\"Grid\"},{\"attributes\":{\"fill_color\":{\"value\":\"#fc4f30\"},\"hatch_color\":{\"value\":\"#fc4f30\"},\"line_color\":{\"value\":\"#fc4f30\"},\"size\":{\"value\":5.477225575051661},\"x\":{\"field\":\"yr\"},\"y\":{\"field\":\"index_sa\"}},\"id\":\"2521\",\"type\":\"Scatter\"},{\"attributes\":{\"end\":413.7705056,\"reset_end\":413.7705056,\"reset_start\":71.85443839999999,\"start\":71.85443839999999,\"tags\":[[[\"index_sa\",\"index_sa\",null]]]},\"id\":\"2455\",\"type\":\"Range1d\"},{\"attributes\":{\"source\":{\"id\":\"2590\"}},\"id\":\"2597\",\"type\":\"CDSView\"},{\"attributes\":{},\"id\":\"2471\",\"type\":\"BasicTicker\"},{\"attributes\":{\"fill_color\":{\"value\":\"#8b8b8b\"},\"hatch_color\":{\"value\":\"#8b8b8b\"},\"line_color\":{\"value\":\"#8b8b8b\"},\"size\":{\"value\":5.477225575051661},\"x\":{\"field\":\"yr\"},\"y\":{\"field\":\"index_sa\"}},\"id\":\"2593\",\"type\":\"Scatter\"},{\"attributes\":{\"fill_alpha\":{\"value\":0.2},\"fill_color\":{\"value\":\"#30a2da\"},\"hatch_alpha\":{\"value\":0.2},\"hatch_color\":{\"value\":\"#30a2da\"},\"line_alpha\":{\"value\":0.2},\"line_color\":{\"value\":\"#30a2da\"},\"size\":{\"value\":5.477225575051661},\"x\":{\"field\":\"yr\"},\"y\":{\"field\":\"index_sa\"}},\"id\":\"2502\",\"type\":\"Scatter\"},{\"attributes\":{\"label\":{\"value\":\"2\"},\"renderers\":[{\"id\":\"2546\"}]},\"id\":\"2562\",\"type\":\"LegendItem\"},{\"attributes\":{\"coordinates\":null,\"group\":null,\"text_color\":\"black\",\"text_font_size\":\"12pt\"},\"id\":\"2462\",\"type\":\"Title\"},{\"attributes\":{},\"id\":\"2541\",\"type\":\"Selection\"},{\"attributes\":{\"axis_label\":\"yr\",\"coordinates\":null,\"formatter\":{\"id\":\"2492\"},\"group\":null,\"major_label_policy\":{\"id\":\"2493\"},\"ticker\":{\"id\":\"2471\"}},\"id\":\"2470\",\"type\":\"LinearAxis\"},{\"attributes\":{\"angle\":{\"value\":0.0},\"fill_alpha\":{\"value\":1.0},\"fill_color\":{\"value\":\"#fc4f30\"},\"hatch_alpha\":{\"value\":1.0},\"hatch_color\":{\"value\":\"#fc4f30\"},\"hatch_scale\":{\"value\":12.0},\"hatch_weight\":{\"value\":1.0},\"line_alpha\":{\"value\":1.0},\"line_cap\":{\"value\":\"butt\"},\"line_color\":{\"value\":\"#fc4f30\"},\"line_dash\":{\"value\":[]},\"line_dash_offset\":{\"value\":0},\"line_join\":{\"value\":\"bevel\"},\"line_width\":{\"value\":1},\"marker\":{\"value\":\"circle\"},\"size\":{\"value\":5.477225575051661},\"x\":{\"field\":\"yr\"},\"y\":{\"field\":\"index_sa\"}},\"id\":\"2539\",\"type\":\"Scatter\"},{\"attributes\":{},\"id\":\"2493\",\"type\":\"AllLabels\"},{\"attributes\":{},\"id\":\"2468\",\"type\":\"LinearScale\"},{\"attributes\":{\"source\":{\"id\":\"2540\"}},\"id\":\"2547\",\"type\":\"CDSView\"},{\"attributes\":{\"data\":{\"class\":[4,4,4],\"index_sa\":{\"__ndarray__\":\"nb0z2mqecEAsg2qDU3pxQPbuj/fq3nJA\",\"dtype\":\"float64\",\"order\":\"little\",\"shape\":[3]},\"yr\":[2018,2019,2020]},\"selected\":{\"id\":\"2591\"},\"selection_policy\":{\"id\":\"2613\"}},\"id\":\"2590\",\"type\":\"ColumnDataSource\"},{\"attributes\":{\"end\":2023.3285714285714,\"reset_end\":2023.3285714285714,\"reset_start\":1989.6714285714286,\"start\":1989.6714285714286,\"tags\":[[[\"yr\",\"yr\",null]]]},\"id\":\"2454\",\"type\":\"Range1d\"},{\"attributes\":{\"axis_label\":\"index_sa\",\"coordinates\":null,\"formatter\":{\"id\":\"2495\"},\"group\":null,\"major_label_policy\":{\"id\":\"2496\"},\"ticker\":{\"id\":\"2475\"}},\"id\":\"2474\",\"type\":\"LinearAxis\"},{\"attributes\":{\"label\":{\"value\":\"4\"},\"renderers\":[{\"id\":\"2596\"}]},\"id\":\"2616\",\"type\":\"LegendItem\"},{\"attributes\":{\"coordinates\":null,\"data_source\":{\"id\":\"2540\"},\"glyph\":{\"id\":\"2543\"},\"group\":null,\"hover_glyph\":null,\"muted_glyph\":{\"id\":\"2545\"},\"nonselection_glyph\":{\"id\":\"2544\"},\"selection_glyph\":{\"id\":\"2563\"},\"view\":{\"id\":\"2547\"}},\"id\":\"2546\",\"type\":\"GlyphRenderer\"},{\"attributes\":{\"fill_color\":{\"value\":\"#e5ae38\"},\"hatch_color\":{\"value\":\"#e5ae38\"},\"line_color\":{\"value\":\"#e5ae38\"},\"size\":{\"value\":5.477225575051661},\"x\":{\"field\":\"yr\"},\"y\":{\"field\":\"index_sa\"}},\"id\":\"2543\",\"type\":\"Scatter\"},{\"attributes\":{\"data\":{\"class\":[0,0,0,0,0,0,0,0,0,0],\"index_sa\":{\"__ndarray__\":\"QEzChTwWWUBLI2b2ea5ZQOKQDaSLV1pAdGIP7WNaW0BCCMiXUCNcQKVquwm+Al1AG0esxafhXUDdYKjDClNfQMWRByKLomBA97GC34bPYUA=\",\"dtype\":\"float64\",\"order\":\"little\",\"shape\":[10]},\"yr\":[1991,1992,1993,1994,1995,1996,1997,1998,1999,2000]},\"selected\":{\"id\":\"2498\"},\"selection_policy\":{\"id\":\"2512\"}},\"id\":\"2497\",\"type\":\"ColumnDataSource\"},{\"attributes\":{},\"id\":\"2559\",\"type\":\"UnionRenderers\"},{\"attributes\":{\"angle\":{\"value\":0.0},\"fill_alpha\":{\"value\":1.0},\"fill_color\":{\"value\":\"#8b8b8b\"},\"hatch_alpha\":{\"value\":1.0},\"hatch_color\":{\"value\":\"#8b8b8b\"},\"hatch_scale\":{\"value\":12.0},\"hatch_weight\":{\"value\":1.0},\"line_alpha\":{\"value\":1.0},\"line_cap\":{\"value\":\"butt\"},\"line_color\":{\"value\":\"#8b8b8b\"},\"line_dash\":{\"value\":[]},\"line_dash_offset\":{\"value\":0},\"line_join\":{\"value\":\"bevel\"},\"line_width\":{\"value\":1},\"marker\":{\"value\":\"circle\"},\"size\":{\"value\":5.477225575051661},\"x\":{\"field\":\"yr\"},\"y\":{\"field\":\"index_sa\"}},\"id\":\"2617\",\"type\":\"Scatter\"},{\"attributes\":{},\"id\":\"2495\",\"type\":\"BasicTickFormatter\"},{\"attributes\":{\"fill_alpha\":{\"value\":0.1},\"fill_color\":{\"value\":\"#30a2da\"},\"hatch_alpha\":{\"value\":0.1},\"hatch_color\":{\"value\":\"#30a2da\"},\"line_alpha\":{\"value\":0.1},\"line_color\":{\"value\":\"#30a2da\"},\"size\":{\"value\":5.477225575051661},\"x\":{\"field\":\"yr\"},\"y\":{\"field\":\"index_sa\"}},\"id\":\"2501\",\"type\":\"Scatter\"},{\"attributes\":{\"coordinates\":null,\"data_source\":{\"id\":\"2497\"},\"glyph\":{\"id\":\"2500\"},\"group\":null,\"hover_glyph\":null,\"muted_glyph\":{\"id\":\"2502\"},\"nonselection_glyph\":{\"id\":\"2501\"},\"selection_glyph\":{\"id\":\"2517\"},\"view\":{\"id\":\"2504\"}},\"id\":\"2503\",\"type\":\"GlyphRenderer\"},{\"attributes\":{\"data\":{\"class\":[1,1,1,1,1,1,1,1],\"index_sa\":{\"__ndarray__\":\"msx4W2lNa0D11VWBWhZtQDRLAtTUzWxAwlCHFe4UakDHhJhLKjdqQFeyYyOQsmtA/KawUsFXbUDF5XgFojpvQA==\",\"dtype\":\"float64\",\"order\":\"little\",\"shape\":[8]},\"yr\":[2005,2006,2007,2008,2014,2015,2016,2017]},\"selected\":{\"id\":\"2519\"},\"selection_policy\":{\"id\":\"2535\"}},\"id\":\"2518\",\"type\":\"ColumnDataSource\"},{\"attributes\":{\"fill_alpha\":{\"value\":0.1},\"fill_color\":{\"value\":\"#e5ae38\"},\"hatch_alpha\":{\"value\":0.1},\"hatch_color\":{\"value\":\"#e5ae38\"},\"line_alpha\":{\"value\":0.1},\"line_color\":{\"value\":\"#e5ae38\"},\"size\":{\"value\":5.477225575051661},\"x\":{\"field\":\"yr\"},\"y\":{\"field\":\"index_sa\"}},\"id\":\"2544\",\"type\":\"Scatter\"},{\"attributes\":{},\"id\":\"2478\",\"type\":\"SaveTool\"},{\"attributes\":{},\"id\":\"2479\",\"type\":\"PanTool\"},{\"attributes\":{\"children\":[{\"id\":\"2453\"},{\"id\":\"2461\"},{\"id\":\"2780\"}],\"margin\":[0,0,0,0],\"name\":\"Row06179\",\"tags\":[\"embedded\"]},\"id\":\"2452\",\"type\":\"Row\"},{\"attributes\":{\"coordinates\":null,\"data_source\":{\"id\":\"2564\"},\"glyph\":{\"id\":\"2567\"},\"group\":null,\"hover_glyph\":null,\"muted_glyph\":{\"id\":\"2569\"},\"nonselection_glyph\":{\"id\":\"2568\"},\"selection_glyph\":{\"id\":\"2589\"},\"view\":{\"id\":\"2571\"}},\"id\":\"2570\",\"type\":\"GlyphRenderer\"},{\"attributes\":{},\"id\":\"2480\",\"type\":\"WheelZoomTool\"},{\"attributes\":{\"tools\":[{\"id\":\"2456\"},{\"id\":\"2478\"},{\"id\":\"2479\"},{\"id\":\"2480\"},{\"id\":\"2481\"},{\"id\":\"2482\"}]},\"id\":\"2484\",\"type\":\"Toolbar\"},{\"attributes\":{\"margin\":[5,5,5,5],\"name\":\"HSpacer06183\",\"sizing_mode\":\"stretch_width\"},\"id\":\"2453\",\"type\":\"Spacer\"},{\"attributes\":{\"overlay\":{\"id\":\"2483\"}},\"id\":\"2481\",\"type\":\"BoxZoomTool\"},{\"attributes\":{\"callback\":null,\"renderers\":[{\"id\":\"2503\"},{\"id\":\"2524\"},{\"id\":\"2546\"},{\"id\":\"2570\"},{\"id\":\"2596\"}],\"tags\":[\"hv_created\"],\"tooltips\":[[\"class\",\"@{class}\"],[\"yr\",\"@{yr}\"],[\"index_sa\",\"@{index_sa}\"]]},\"id\":\"2456\",\"type\":\"HoverTool\"},{\"attributes\":{},\"id\":\"2496\",\"type\":\"AllLabels\"},{\"attributes\":{},\"id\":\"2585\",\"type\":\"UnionRenderers\"},{\"attributes\":{\"fill_alpha\":{\"value\":0.2},\"fill_color\":{\"value\":\"#6d904f\"},\"hatch_alpha\":{\"value\":0.2},\"hatch_color\":{\"value\":\"#6d904f\"},\"line_alpha\":{\"value\":0.2},\"line_color\":{\"value\":\"#6d904f\"},\"size\":{\"value\":5.477225575051661},\"x\":{\"field\":\"yr\"},\"y\":{\"field\":\"index_sa\"}},\"id\":\"2569\",\"type\":\"Scatter\"},{\"attributes\":{},\"id\":\"2482\",\"type\":\"ResetTool\"},{\"attributes\":{},\"id\":\"2492\",\"type\":\"BasicTickFormatter\"},{\"attributes\":{\"bottom_units\":\"screen\",\"coordinates\":null,\"fill_alpha\":0.5,\"fill_color\":\"lightgrey\",\"group\":null,\"left_units\":\"screen\",\"level\":\"overlay\",\"line_alpha\":1.0,\"line_color\":\"black\",\"line_dash\":[4,4],\"line_width\":2,\"right_units\":\"screen\",\"syncable\":false,\"top_units\":\"screen\"},\"id\":\"2483\",\"type\":\"BoxAnnotation\"},{\"attributes\":{\"fill_alpha\":{\"value\":0.1},\"fill_color\":{\"value\":\"#6d904f\"},\"hatch_alpha\":{\"value\":0.1},\"hatch_color\":{\"value\":\"#6d904f\"},\"line_alpha\":{\"value\":0.1},\"line_color\":{\"value\":\"#6d904f\"},\"size\":{\"value\":5.477225575051661},\"x\":{\"field\":\"yr\"},\"y\":{\"field\":\"index_sa\"}},\"id\":\"2568\",\"type\":\"Scatter\"},{\"attributes\":{\"label\":{\"value\":\"0\"},\"renderers\":[{\"id\":\"2503\"}]},\"id\":\"2516\",\"type\":\"LegendItem\"},{\"attributes\":{\"fill_color\":{\"value\":\"#30a2da\"},\"hatch_color\":{\"value\":\"#30a2da\"},\"line_color\":{\"value\":\"#30a2da\"},\"size\":{\"value\":5.477225575051661},\"x\":{\"field\":\"yr\"},\"y\":{\"field\":\"index_sa\"}},\"id\":\"2500\",\"type\":\"Scatter\"},{\"attributes\":{\"label\":{\"value\":\"3\"},\"renderers\":[{\"id\":\"2570\"}]},\"id\":\"2588\",\"type\":\"LegendItem\"},{\"attributes\":{\"source\":{\"id\":\"2564\"}},\"id\":\"2571\",\"type\":\"CDSView\"},{\"attributes\":{\"fill_color\":{\"value\":\"#6d904f\"},\"hatch_color\":{\"value\":\"#6d904f\"},\"line_color\":{\"value\":\"#6d904f\"},\"size\":{\"value\":5.477225575051661},\"x\":{\"field\":\"yr\"},\"y\":{\"field\":\"index_sa\"}},\"id\":\"2567\",\"type\":\"Scatter\"},{\"attributes\":{},\"id\":\"2519\",\"type\":\"Selection\"},{\"attributes\":{\"click_policy\":\"mute\",\"coordinates\":null,\"group\":null,\"items\":[{\"id\":\"2516\"},{\"id\":\"2538\"},{\"id\":\"2562\"},{\"id\":\"2588\"},{\"id\":\"2616\"}],\"location\":[0,0],\"title\":\"class\"},\"id\":\"2515\",\"type\":\"Legend\"},{\"attributes\":{\"source\":{\"id\":\"2497\"}},\"id\":\"2504\",\"type\":\"CDSView\"},{\"attributes\":{\"angle\":{\"value\":0.0},\"fill_alpha\":{\"value\":1.0},\"fill_color\":{\"value\":\"#30a2da\"},\"hatch_alpha\":{\"value\":1.0},\"hatch_color\":{\"value\":\"#30a2da\"},\"hatch_scale\":{\"value\":12.0},\"hatch_weight\":{\"value\":1.0},\"line_alpha\":{\"value\":1.0},\"line_cap\":{\"value\":\"butt\"},\"line_color\":{\"value\":\"#30a2da\"},\"line_dash\":{\"value\":[]},\"line_dash_offset\":{\"value\":0},\"line_join\":{\"value\":\"bevel\"},\"line_width\":{\"value\":1},\"marker\":{\"value\":\"circle\"},\"size\":{\"value\":5.477225575051661},\"x\":{\"field\":\"yr\"},\"y\":{\"field\":\"index_sa\"}},\"id\":\"2517\",\"type\":\"Scatter\"},{\"attributes\":{\"data\":{\"class\":[3,3,3,3,3,3,3,3,3],\"index_sa\":{\"__ndarray__\":\"2nIuxdUSY0B7iEZ3kHJkQOLNGryvFGZAbsFSXUBeaED0a+unfx1oQB+F61G4cGdAfevDeqNzZkAMQKN0aRpnQPtz0ZDx3WhA\",\"dtype\":\"float64\",\"order\":\"little\",\"shape\":[9]},\"yr\":[2001,2002,2003,2004,2009,2010,2011,2012,2013]},\"selected\":{\"id\":\"2565\"},\"selection_policy\":{\"id\":\"2585\"}},\"id\":\"2564\",\"type\":\"ColumnDataSource\"}],\"root_ids\":[\"2452\"]},\"title\":\"Bokeh Application\",\"version\":\"2.4.1\"}};\n",
       "    var render_items = [{\"docid\":\"75cb6f07-a328-4950-8ed8-ffedd80d26c9\",\"root_ids\":[\"2452\"],\"roots\":{\"2452\":\"08fe194b-7816-486c-a5ac-6a5f4bfb9d97\"}}];\n",
       "    root.Bokeh.embed.embed_items_notebook(docs_json, render_items);\n",
       "  }\n",
       "  if (root.Bokeh !== undefined && root.Bokeh.Panel !== undefined) {\n",
       "    embed_document(root);\n",
       "  } else {\n",
       "    var attempts = 0;\n",
       "    var timer = setInterval(function(root) {\n",
       "      if (root.Bokeh !== undefined && root.Bokeh.Panel !== undefined) {\n",
       "        clearInterval(timer);\n",
       "        embed_document(root);\n",
       "      } else if (document.readyState == \"complete\") {\n",
       "        attempts++;\n",
       "        if (attempts > 200) {\n",
       "          clearInterval(timer);\n",
       "          console.log(\"Bokeh: ERROR: Unable to run BokehJS code because BokehJS library is missing\");\n",
       "        }\n",
       "      }\n",
       "    }, 25, root)\n",
       "  }\n",
       "})(window);</script>"
      ],
      "text/plain": [
       ":NdOverlay   [class]\n",
       "   :Scatter   [yr]   (index_sa)"
      ]
     },
     "execution_count": 97,
     "metadata": {
      "application/vnd.holoviews_exec.v0+json": {
       "id": "2452"
      }
     },
     "output_type": "execute_result"
    }
   ],
   "source": [
    "test_cluster_amount(clean_hpi_master_ave, 5)\n",
    "clean_hpi_master_ave.hvplot.scatter(x=\"yr\", y=\"index_sa\", by=\"class\")"
   ]
  },
  {
   "cell_type": "code",
   "execution_count": null,
   "id": "bafea123",
   "metadata": {},
   "outputs": [],
   "source": []
  }
 ],
 "metadata": {
  "kernelspec": {
   "display_name": "mlenv",
   "language": "python",
   "name": "mlenv"
  },
  "language_info": {
   "codemirror_mode": {
    "name": "ipython",
    "version": 3
   },
   "file_extension": ".py",
   "mimetype": "text/x-python",
   "name": "python",
   "nbconvert_exporter": "python",
   "pygments_lexer": "ipython3",
   "version": "3.7.11"
  }
 },
 "nbformat": 4,
 "nbformat_minor": 5
}
