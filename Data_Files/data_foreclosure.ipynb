{
 "cells": [
  {
   "cell_type": "code",
   "execution_count": 12,
   "id": "73624260",
   "metadata": {},
   "outputs": [],
   "source": [
    "import pandas as pd\n",
    "import plotly.express as px\n",
    "import hvplot.pandas\n",
    "import numpy as np\n",
    "from sklearn.cluster import KMeans"
   ]
  },
  {
   "cell_type": "code",
   "execution_count": 13,
   "id": "4572b085",
   "metadata": {},
   "outputs": [
    {
     "data": {
      "text/html": [
       "<div>\n",
       "<style scoped>\n",
       "    .dataframe tbody tr th:only-of-type {\n",
       "        vertical-align: middle;\n",
       "    }\n",
       "\n",
       "    .dataframe tbody tr th {\n",
       "        vertical-align: top;\n",
       "    }\n",
       "\n",
       "    .dataframe thead th {\n",
       "        text-align: right;\n",
       "    }\n",
       "</style>\n",
       "<table border=\"1\" class=\"dataframe\">\n",
       "  <thead>\n",
       "    <tr style=\"text-align: right;\">\n",
       "      <th></th>\n",
       "      <th>DATE</th>\n",
       "      <th>DRSFRMACBS</th>\n",
       "    </tr>\n",
       "  </thead>\n",
       "  <tbody>\n",
       "    <tr>\n",
       "      <th>120</th>\n",
       "      <td>2021-01-01</td>\n",
       "      <td>2.66</td>\n",
       "    </tr>\n",
       "    <tr>\n",
       "      <th>121</th>\n",
       "      <td>2021-04-01</td>\n",
       "      <td>2.41</td>\n",
       "    </tr>\n",
       "    <tr>\n",
       "      <th>122</th>\n",
       "      <td>2021-07-01</td>\n",
       "      <td>2.30</td>\n",
       "    </tr>\n",
       "    <tr>\n",
       "      <th>123</th>\n",
       "      <td>2021-10-01</td>\n",
       "      <td>2.33</td>\n",
       "    </tr>\n",
       "    <tr>\n",
       "      <th>124</th>\n",
       "      <td>2022-01-01</td>\n",
       "      <td>2.13</td>\n",
       "    </tr>\n",
       "  </tbody>\n",
       "</table>\n",
       "</div>"
      ],
      "text/plain": [
       "           DATE  DRSFRMACBS\n",
       "120  2021-01-01        2.66\n",
       "121  2021-04-01        2.41\n",
       "122  2021-07-01        2.30\n",
       "123  2021-10-01        2.33\n",
       "124  2022-01-01        2.13"
      ]
     },
     "execution_count": 13,
     "metadata": {},
     "output_type": "execute_result"
    }
   ],
   "source": [
    "# File to Load \n",
    "foreclosure_master = \"data_csv/DRSFRMACBS.csv\"\n",
    "# Read the data\n",
    "foreclosure_master_df = pd.read_csv(foreclosure_master)\n",
    "foreclosure_master_df.tail()"
   ]
  },
  {
   "cell_type": "code",
   "execution_count": 14,
   "id": "77f29947",
   "metadata": {},
   "outputs": [
    {
     "data": {
      "text/plain": [
       "DATE          125\n",
       "DRSFRMACBS    125\n",
       "dtype: int64"
      ]
     },
     "execution_count": 14,
     "metadata": {},
     "output_type": "execute_result"
    }
   ],
   "source": [
    "foreclosure_master_df.count()"
   ]
  },
  {
   "cell_type": "code",
   "execution_count": 15,
   "id": "5d900ee2",
   "metadata": {},
   "outputs": [
    {
     "data": {
      "text/plain": [
       "DATE\n",
       "1991-01-01    3.18\n",
       "1991-04-01    3.07\n",
       "1991-07-01    3.17\n",
       "1991-10-01    3.30\n",
       "1992-01-01    3.23\n",
       "              ... \n",
       "2021-01-01    2.66\n",
       "2021-04-01    2.41\n",
       "2021-07-01    2.30\n",
       "2021-10-01    2.33\n",
       "2022-01-01    2.13\n",
       "Name: DRSFRMACBS, Length: 125, dtype: float64"
      ]
     },
     "execution_count": 15,
     "metadata": {},
     "output_type": "execute_result"
    }
   ],
   "source": [
    "#Finding aveave\n",
    "ave_foreclosure_master_df = foreclosure_master_df.groupby(['DATE']).mean()[\"DRSFRMACBS\"]\n",
    "ave_foreclosure_master_df"
   ]
  },
  {
   "cell_type": "code",
   "execution_count": 19,
   "id": "a734d57c",
   "metadata": {},
   "outputs": [
    {
     "data": {
      "text/plain": [
       "0      3.1800\n",
       "1      3.1800\n",
       "2      3.1800\n",
       "3      3.1800\n",
       "4      2.9825\n",
       "        ...  \n",
       "120    2.4250\n",
       "121    2.4250\n",
       "122    2.4250\n",
       "123    2.4250\n",
       "124    2.1300\n",
       "Name: DRSFRMACBS, Length: 125, dtype: float64"
      ]
     },
     "execution_count": 19,
     "metadata": {},
     "output_type": "execute_result"
    }
   ],
   "source": [
    "\n",
    "foreclosure_master_df['DATE'] = pd.to_datetime(foreclosure_master_df.DATE)\n",
    "foreclosure_master_df.groupby(foreclosure_master_df.DATE.dt.year)['DRSFRMACBS'].transform('mean')"
   ]
  },
  {
   "cell_type": "code",
   "execution_count": null,
   "id": "b05da168",
   "metadata": {},
   "outputs": [],
   "source": []
  }
 ],
 "metadata": {
  "kernelspec": {
   "display_name": "mlenv",
   "language": "python",
   "name": "mlenv"
  },
  "language_info": {
   "codemirror_mode": {
    "name": "ipython",
    "version": 3
   },
   "file_extension": ".py",
   "mimetype": "text/x-python",
   "name": "python",
   "nbconvert_exporter": "python",
   "pygments_lexer": "ipython3",
   "version": "3.7.11"
  }
 },
 "nbformat": 4,
 "nbformat_minor": 5
}
