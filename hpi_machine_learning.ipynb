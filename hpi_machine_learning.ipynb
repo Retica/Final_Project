{
 "cells": [
  {
   "cell_type": "code",
   "execution_count": 19,
   "id": "2a403eca",
   "metadata": {},
   "outputs": [
    {
     "data": {
      "text/html": [
       "<div>\n",
       "<style scoped>\n",
       "    .dataframe tbody tr th:only-of-type {\n",
       "        vertical-align: middle;\n",
       "    }\n",
       "\n",
       "    .dataframe tbody tr th {\n",
       "        vertical-align: top;\n",
       "    }\n",
       "\n",
       "    .dataframe thead th {\n",
       "        text-align: right;\n",
       "    }\n",
       "</style>\n",
       "<table border=\"1\" class=\"dataframe\">\n",
       "  <thead>\n",
       "    <tr style=\"text-align: right;\">\n",
       "      <th></th>\n",
       "      <th>hpi_type</th>\n",
       "      <th>hpi_flavor</th>\n",
       "      <th>frequency</th>\n",
       "      <th>level</th>\n",
       "      <th>place_name</th>\n",
       "      <th>place_id</th>\n",
       "      <th>yr</th>\n",
       "      <th>period</th>\n",
       "      <th>index_nsa</th>\n",
       "      <th>index_sa</th>\n",
       "    </tr>\n",
       "  </thead>\n",
       "  <tbody>\n",
       "    <tr>\n",
       "      <th>0</th>\n",
       "      <td>traditional</td>\n",
       "      <td>purchase-only</td>\n",
       "      <td>monthly</td>\n",
       "      <td>USA or Census Division</td>\n",
       "      <td>East North Central Division</td>\n",
       "      <td>DV_ENC</td>\n",
       "      <td>1991</td>\n",
       "      <td>1</td>\n",
       "      <td>100.00</td>\n",
       "      <td>100.00</td>\n",
       "    </tr>\n",
       "    <tr>\n",
       "      <th>1</th>\n",
       "      <td>traditional</td>\n",
       "      <td>purchase-only</td>\n",
       "      <td>monthly</td>\n",
       "      <td>USA or Census Division</td>\n",
       "      <td>East North Central Division</td>\n",
       "      <td>DV_ENC</td>\n",
       "      <td>1991</td>\n",
       "      <td>2</td>\n",
       "      <td>100.92</td>\n",
       "      <td>100.98</td>\n",
       "    </tr>\n",
       "    <tr>\n",
       "      <th>2</th>\n",
       "      <td>traditional</td>\n",
       "      <td>purchase-only</td>\n",
       "      <td>monthly</td>\n",
       "      <td>USA or Census Division</td>\n",
       "      <td>East North Central Division</td>\n",
       "      <td>DV_ENC</td>\n",
       "      <td>1991</td>\n",
       "      <td>3</td>\n",
       "      <td>101.31</td>\n",
       "      <td>100.93</td>\n",
       "    </tr>\n",
       "    <tr>\n",
       "      <th>3</th>\n",
       "      <td>traditional</td>\n",
       "      <td>purchase-only</td>\n",
       "      <td>monthly</td>\n",
       "      <td>USA or Census Division</td>\n",
       "      <td>East North Central Division</td>\n",
       "      <td>DV_ENC</td>\n",
       "      <td>1991</td>\n",
       "      <td>4</td>\n",
       "      <td>101.70</td>\n",
       "      <td>101.00</td>\n",
       "    </tr>\n",
       "    <tr>\n",
       "      <th>4</th>\n",
       "      <td>traditional</td>\n",
       "      <td>purchase-only</td>\n",
       "      <td>monthly</td>\n",
       "      <td>USA or Census Division</td>\n",
       "      <td>East North Central Division</td>\n",
       "      <td>DV_ENC</td>\n",
       "      <td>1991</td>\n",
       "      <td>5</td>\n",
       "      <td>102.32</td>\n",
       "      <td>101.37</td>\n",
       "    </tr>\n",
       "    <tr>\n",
       "      <th>5</th>\n",
       "      <td>traditional</td>\n",
       "      <td>purchase-only</td>\n",
       "      <td>monthly</td>\n",
       "      <td>USA or Census Division</td>\n",
       "      <td>East North Central Division</td>\n",
       "      <td>DV_ENC</td>\n",
       "      <td>1991</td>\n",
       "      <td>6</td>\n",
       "      <td>102.79</td>\n",
       "      <td>101.51</td>\n",
       "    </tr>\n",
       "    <tr>\n",
       "      <th>6</th>\n",
       "      <td>traditional</td>\n",
       "      <td>purchase-only</td>\n",
       "      <td>monthly</td>\n",
       "      <td>USA or Census Division</td>\n",
       "      <td>East North Central Division</td>\n",
       "      <td>DV_ENC</td>\n",
       "      <td>1991</td>\n",
       "      <td>7</td>\n",
       "      <td>102.98</td>\n",
       "      <td>101.88</td>\n",
       "    </tr>\n",
       "    <tr>\n",
       "      <th>7</th>\n",
       "      <td>traditional</td>\n",
       "      <td>purchase-only</td>\n",
       "      <td>monthly</td>\n",
       "      <td>USA or Census Division</td>\n",
       "      <td>East North Central Division</td>\n",
       "      <td>DV_ENC</td>\n",
       "      <td>1991</td>\n",
       "      <td>8</td>\n",
       "      <td>103.15</td>\n",
       "      <td>102.04</td>\n",
       "    </tr>\n",
       "    <tr>\n",
       "      <th>8</th>\n",
       "      <td>traditional</td>\n",
       "      <td>purchase-only</td>\n",
       "      <td>monthly</td>\n",
       "      <td>USA or Census Division</td>\n",
       "      <td>East North Central Division</td>\n",
       "      <td>DV_ENC</td>\n",
       "      <td>1991</td>\n",
       "      <td>9</td>\n",
       "      <td>102.83</td>\n",
       "      <td>102.00</td>\n",
       "    </tr>\n",
       "    <tr>\n",
       "      <th>9</th>\n",
       "      <td>traditional</td>\n",
       "      <td>purchase-only</td>\n",
       "      <td>monthly</td>\n",
       "      <td>USA or Census Division</td>\n",
       "      <td>East North Central Division</td>\n",
       "      <td>DV_ENC</td>\n",
       "      <td>1991</td>\n",
       "      <td>10</td>\n",
       "      <td>103.08</td>\n",
       "      <td>102.33</td>\n",
       "    </tr>\n",
       "  </tbody>\n",
       "</table>\n",
       "</div>"
      ],
      "text/plain": [
       "      hpi_type     hpi_flavor frequency                   level  \\\n",
       "0  traditional  purchase-only   monthly  USA or Census Division   \n",
       "1  traditional  purchase-only   monthly  USA or Census Division   \n",
       "2  traditional  purchase-only   monthly  USA or Census Division   \n",
       "3  traditional  purchase-only   monthly  USA or Census Division   \n",
       "4  traditional  purchase-only   monthly  USA or Census Division   \n",
       "5  traditional  purchase-only   monthly  USA or Census Division   \n",
       "6  traditional  purchase-only   monthly  USA or Census Division   \n",
       "7  traditional  purchase-only   monthly  USA or Census Division   \n",
       "8  traditional  purchase-only   monthly  USA or Census Division   \n",
       "9  traditional  purchase-only   monthly  USA or Census Division   \n",
       "\n",
       "                    place_name place_id    yr  period  index_nsa  index_sa  \n",
       "0  East North Central Division   DV_ENC  1991       1     100.00    100.00  \n",
       "1  East North Central Division   DV_ENC  1991       2     100.92    100.98  \n",
       "2  East North Central Division   DV_ENC  1991       3     101.31    100.93  \n",
       "3  East North Central Division   DV_ENC  1991       4     101.70    101.00  \n",
       "4  East North Central Division   DV_ENC  1991       5     102.32    101.37  \n",
       "5  East North Central Division   DV_ENC  1991       6     102.79    101.51  \n",
       "6  East North Central Division   DV_ENC  1991       7     102.98    101.88  \n",
       "7  East North Central Division   DV_ENC  1991       8     103.15    102.04  \n",
       "8  East North Central Division   DV_ENC  1991       9     102.83    102.00  \n",
       "9  East North Central Division   DV_ENC  1991      10     103.08    102.33  "
      ]
     },
     "execution_count": 19,
     "metadata": {},
     "output_type": "execute_result"
    }
   ],
   "source": [
    "# Import our dependencies\n",
    "from sklearn.model_selection import train_test_split\n",
    "from sklearn.preprocessing import StandardScaler,OneHotEncoder\n",
    "import pandas as pd\n",
    "import tensorflow as tf\n",
    "\n",
    "import pandas as pd \n",
    "hpi_df = pd.read_csv(\"hpi_master.csv\")\n",
    "hpi_df.head(10)"
   ]
  },
  {
   "cell_type": "code",
   "execution_count": 20,
   "id": "9abda5b9",
   "metadata": {},
   "outputs": [
    {
     "data": {
      "text/plain": [
       "hpi_type          4\n",
       "hpi_flavor        3\n",
       "frequency         2\n",
       "level             4\n",
       "place_name      466\n",
       "place_id        466\n",
       "yr               48\n",
       "period           12\n",
       "index_nsa     30575\n",
       "index_sa      19044\n",
       "dtype: int64"
      ]
     },
     "execution_count": 20,
     "metadata": {},
     "output_type": "execute_result"
    }
   ],
   "source": [
    "#get the unique values\n",
    "hpi_df.nunique()"
   ]
  },
  {
   "cell_type": "code",
   "execution_count": 21,
   "id": "5ee6d091",
   "metadata": {},
   "outputs": [
    {
     "data": {
      "text/plain": [
       "100.00    809\n",
       "103.73     22\n",
       "103.28     22\n",
       "101.57     22\n",
       "101.63     22\n",
       "         ... \n",
       "320.86      1\n",
       "335.73      1\n",
       "353.61      1\n",
       "360.42      1\n",
       "196.89      1\n",
       "Name: index_nsa, Length: 30575, dtype: int64"
      ]
     },
     "execution_count": 21,
     "metadata": {},
     "output_type": "execute_result"
    }
   ],
   "source": [
    "#value counts for binning index_nsa\n",
    "nsa_df = hpi_df.index_nsa.value_counts()\n",
    "nsa_df"
   ]
  },
  {
   "cell_type": "code",
   "execution_count": 22,
   "id": "0679c1ed",
   "metadata": {},
   "outputs": [
    {
     "data": {
      "text/plain": [
       "<AxesSubplot:ylabel='Density'>"
      ]
     },
     "execution_count": 22,
     "metadata": {},
     "output_type": "execute_result"
    },
    {
     "data": {
      "image/png": "[encoded data removed]",
      "text/plain": [
       "<Figure size 432x288 with 1 Axes>"
      ]
     },
     "metadata": {
      "needs_background": "light"
     },
     "output_type": "display_data"
    }
   ],
   "source": [
    "#visualize index_nsa\n",
    "nsa_df.plot.density()"
   ]
  },
  {
   "cell_type": "code",
   "execution_count": 23,
   "id": "a1477c0c",
   "metadata": {},
   "outputs": [
    {
     "data": {
      "text/plain": [
       "100.00    809\n",
       "103.73     22\n",
       "103.28     22\n",
       "101.57     22\n",
       "101.63     22\n",
       "         ... \n",
       "320.86      1\n",
       "335.73      1\n",
       "353.61      1\n",
       "360.42      1\n",
       "196.89      1\n",
       "Name: index_nsa, Length: 30575, dtype: int64"
      ]
     },
     "execution_count": 23,
     "metadata": {},
     "output_type": "execute_result"
    }
   ],
   "source": [
    "# Determine which values to replace if counts are less than ...?\n",
    "replace_nsa = list(nsa_df[nsa_df == 100].index)\n",
    "\n",
    "# Replace in dataframe\n",
    "for nsa in replace_nsa:\n",
    "        nsa_df.index_nsa = hpi_df.index_nsa.replace(nsa,\"100\")\n",
    "    \n",
    "# Check to make sure binning was successful\n",
    "hpi_df.index_nsa.value_counts()"
   ]
  },
  {
   "cell_type": "code",
   "execution_count": 24,
   "id": "9e6e1c30",
   "metadata": {},
   "outputs": [
    {
     "data": {
      "text/plain": [
       "100.00    301\n",
       "101.11     14\n",
       "104.14     12\n",
       "100.10     12\n",
       "99.76      11\n",
       "         ... \n",
       "344.62      1\n",
       "356.85      1\n",
       "409.66      1\n",
       "427.74      1\n",
       "155.27      1\n",
       "Name: index_sa, Length: 19044, dtype: int64"
      ]
     },
     "execution_count": 24,
     "metadata": {},
     "output_type": "execute_result"
    }
   ],
   "source": [
    "#value counts for binning index_sa\n",
    "sa_df = hpi_df.index_sa.value_counts()\n",
    "sa_df"
   ]
  },
  {
   "cell_type": "code",
   "execution_count": 25,
   "id": "8a722b3e",
   "metadata": {},
   "outputs": [
    {
     "data": {
      "text/plain": [
       "<AxesSubplot:ylabel='Density'>"
      ]
     },
     "execution_count": 25,
     "metadata": {},
     "output_type": "execute_result"
    },
    {
     "data": {
      "image/png": "[encoded data removed]",
      "text/plain": [
       "<Figure size 432x288 with 1 Axes>"
      ]
     },
     "metadata": {
      "needs_background": "light"
     },
     "output_type": "display_data"
    }
   ],
   "source": [
    "#visualize the density plot\n",
    "sa_df.plot.density()"
   ]
  },
  {
   "cell_type": "code",
   "execution_count": 26,
   "id": "9204dae9",
   "metadata": {},
   "outputs": [
    {
     "data": {
      "text/plain": [
       "East North Central Division                        810\n",
       "South Atlantic Division                            810\n",
       "East South Central Division                        810\n",
       "United States                                      810\n",
       "West North Central Division                        810\n",
       "West South Central Division                        810\n",
       "Pacific Division                                   810\n",
       "New England Division                               810\n",
       "Mountain Division                                  810\n",
       "Middle Atlantic Division                           810\n",
       "Los Angeles-Long Beach-Glendale, CA (MSAD)         560\n",
       "Oakland-Berkeley-Livermore, CA (MSAD)              559\n",
       "Anaheim-Santa Ana-Irvine, CA (MSAD)                559\n",
       "San Francisco-San Mateo-Redwood City, CA (MSAD)    558\n",
       "Chicago-Naperville-Evanston, IL (MSAD)             558\n",
       "Warren-Troy-Farmington Hills, MI (MSAD)            558\n",
       "Atlanta-Sandy Springs-Alpharetta, GA               557\n",
       "San Diego-Chula Vista-Carlsbad, CA                 557\n",
       "Miami-Miami Beach-Kendall, FL (MSAD)               557\n",
       "Tampa-St. Petersburg-Clearwater, FL                555\n",
       "Riverside-San Bernardino-Ontario, CA               555\n",
       "Phoenix-Mesa-Chandler, AZ                          551\n",
       "Idaho                                              544\n",
       "Minnesota                                          544\n",
       "Michigan                                           544\n",
       "Maine                                              544\n",
       "Maryland                                           544\n",
       "Massachusetts                                      544\n",
       "Louisiana                                          544\n",
       "Kentucky                                           544\n",
       "Kansas                                             544\n",
       "Indiana                                            544\n",
       "Illinois                                           544\n",
       "Alabama                                            544\n",
       "Iowa                                               544\n",
       "Hawaii                                             544\n",
       "Georgia                                            544\n",
       "Florida                                            544\n",
       "Connecticut                                        544\n",
       "Colorado                                           544\n",
       "California                                         544\n",
       "Arizona                                            544\n",
       "Arkansas                                           544\n",
       "Mississippi                                        544\n",
       "Missouri                                           544\n",
       "Alaska                                             544\n",
       "Ohio                                               544\n",
       "New York                                           544\n",
       "Pennsylvania                                       544\n",
       "Oregon                                             544\n",
       "Name: place_name, dtype: int64"
      ]
     },
     "execution_count": 26,
     "metadata": {},
     "output_type": "execute_result"
    }
   ],
   "source": [
    "#value counts for binning place_name\n",
    "place_name_df = hpi_df.place_name.value_counts()\n",
    "place_name_df.head(50)"
   ]
  },
  {
   "cell_type": "code",
   "execution_count": 27,
   "id": "16a8e26a",
   "metadata": {},
   "outputs": [
    {
     "data": {
      "text/plain": [
       "<AxesSubplot:ylabel='Density'>"
      ]
     },
     "execution_count": 27,
     "metadata": {},
     "output_type": "execute_result"
    },
    {
     "data": {
      "image/png": "[encoded data removed]",
      "text/plain": [
       "<Figure size 432x288 with 1 Axes>"
      ]
     },
     "metadata": {
      "needs_background": "light"
     },
     "output_type": "display_data"
    }
   ],
   "source": [
    "place_name_df.plot.density()"
   ]
  },
  {
   "cell_type": "code",
   "execution_count": 28,
   "id": "cafa2145",
   "metadata": {},
   "outputs": [
    {
     "data": {
      "text/plain": [
       "DV_ENC    810\n",
       "DV_SA     810\n",
       "DV_ESC    810\n",
       "USA       810\n",
       "DV_WNC    810\n",
       "DV_WSC    810\n",
       "DV_PAC    810\n",
       "DV_NE     810\n",
       "DV_MT     810\n",
       "DV_MA     810\n",
       "31084     560\n",
       "36084     559\n",
       "11244     559\n",
       "41884     558\n",
       "16984     558\n",
       "47664     558\n",
       "12060     557\n",
       "41740     557\n",
       "33124     557\n",
       "45300     555\n",
       "40140     555\n",
       "38060     551\n",
       "ID        544\n",
       "MN        544\n",
       "MI        544\n",
       "ME        544\n",
       "MD        544\n",
       "MA        544\n",
       "LA        544\n",
       "KY        544\n",
       "Name: place_id, dtype: int64"
      ]
     },
     "execution_count": 28,
     "metadata": {},
     "output_type": "execute_result"
    }
   ],
   "source": [
    "#value counts for binning place_id\n",
    "place_id_df = hpi_df.place_id.value_counts()\n",
    "place_id_df.head(30)"
   ]
  },
  {
   "cell_type": "code",
   "execution_count": 29,
   "id": "500bec46",
   "metadata": {},
   "outputs": [
    {
     "data": {
      "text/plain": [
       "<AxesSubplot:ylabel='Density'>"
      ]
     },
     "execution_count": 29,
     "metadata": {},
     "output_type": "execute_result"
    },
    {
     "data": {
      "image/png": "[encoded data removed]",
      "text/plain": [
       "<Figure size 432x288 with 1 Axes>"
      ]
     },
     "metadata": {
      "needs_background": "light"
     },
     "output_type": "display_data"
    }
   ],
   "source": [
    "#visualize place_id\n",
    "place_id_df.plot.density()"
   ]
  },
  {
   "cell_type": "code",
   "execution_count": null,
   "id": "44204fe0",
   "metadata": {},
   "outputs": [
    {
     "ename": "SyntaxError",
     "evalue": "invalid syntax (Temp/ipykernel_12792/3625017706.py, line 21)",
     "output_type": "error",
     "traceback": [
      "\u001b[1;36m  File \u001b[1;32m\"C:\\Users\\carte\\AppData\\Local\\Temp/ipykernel_12792/3625017706.py\"\u001b[1;36m, line \u001b[1;32m21\u001b[0m\n\u001b[1;33m    elif amt <=:\u001b[0m\n\u001b[1;37m               ^\u001b[0m\n\u001b[1;31mSyntaxError\u001b[0m\u001b[1;31m:\u001b[0m invalid syntax\n"
     ]
    }
   ],
   "source": [
    "replace_ask_amt = list(ask_amt[ask_amt < 1000].index)\n",
    "\n",
    "# Replace in dataframe\n",
    "for amt in replace_ask_amt:\n",
    "    if amt <= 49999:\n",
    "        app_df.ASK_AMT = app_df.ASK_AMT.replace(amt,str(\"5001-49999\"))\n",
    "    elif amt < 99999:\n",
    "        app_df.ASK_AMT = app_df.ASK_AMT.replace(amt,str(\"50000-99999\"))\n",
    "    elif amt < 499999:\n",
    "        app_df.ASK_AMT = app_df.ASK_AMT.replace(amt,str(\"100000-499999\"))\n",
    "    elif amt < 999999:\n",
    "        app_df.ASK_AMT = app_df.ASK_AMT.replace(amt,str(\"500000-999999\"))\n",
    "    elif amt < 4999999:\n",
    "        app_df.ASK_AMT = app_df.ASK_AMT.replace(amt,str(\"1M-5M\"))\n",
    "    else:\n",
    "        app_df.ASK_AMT = app_df.ASK_AMT.replace(amt,str(\"5M+\"))\n",
    "        \n",
    "        \n",
    "        if amt == 100.00:\n",
    "            nsa_df.index_nsa = app_df.index_nsa.replace(nsa,str(\"100\"))\n",
    "        elif amt <=\n",
    "            nsa_df.index_nsa = app_df.index_nsa.replace(nsa,str(\"Other\"))"
   ]
  },
  {
   "cell_type": "code",
   "execution_count": null,
   "id": "2eda63a5",
   "metadata": {},
   "outputs": [],
   "source": [
    "# Create a OneHotEncoder instance\n",
    "enc = OneHotEncoder(sparse=False)\n",
    "\n",
    "# Fit and transform the OneHotEncoder using the categorical variable list\n",
    "encode_df = pd.DataFrame(enc.fit_transform(hpi_df[app_cat]))\n",
    "\n",
    "# Add the encoded variable names to the dataframe\n",
    "encode_df.columns = enc.get_feature_names(app_cat)\n",
    "encode_df.head()"
   ]
  },
  {
   "cell_type": "code",
   "execution_count": null,
   "id": "578b0e79",
   "metadata": {},
   "outputs": [],
   "source": [
    "# Merge one-hot encoded features and drop the originals\n",
    "app_df = app_df.merge(encode_df,left_index=True, right_index=True)\n",
    "app_df = app_df.drop(app_cat,1)\n",
    "app_df.head()"
   ]
  },
  {
   "cell_type": "code",
   "execution_count": null,
   "id": "9ea1e999",
   "metadata": {},
   "outputs": [],
   "source": [
    "# Split the preprocessed data into a training and testing dataset\n",
    "X_train, X_test, y_train, y_test = train_test_split(X, y, random_state=78)"
   ]
  },
  {
   "cell_type": "code",
   "execution_count": null,
   "id": "c29e6552",
   "metadata": {},
   "outputs": [],
   "source": [
    "# Create a StandardScaler instances\n",
    "scaler = StandardScaler()\n",
    "\n",
    "# Fit the StandardScaler\n",
    "X_scaler = scaler.fit(X_train)\n",
    "\n",
    "# Scale the data\n",
    "X_train_scaled = X_scaler.transform(X_train)\n",
    "X_test_scaled = X_scaler.transform(X_test)"
   ]
  },
  {
   "cell_type": "markdown",
   "id": "3716dc66",
   "metadata": {},
   "source": [
    "#### After preprocessing data, design a neural network with modifications to get more than 75% accuracy"
   ]
  },
  {
   "cell_type": "code",
   "execution_count": null,
   "id": "389db28e",
   "metadata": {},
   "outputs": [],
   "source": [
    "# Define the model - deep neural net, i.e., the number of input features and hidden nodes for each layer.\n",
    "number_input_features = len(X_train[0])\n",
    "hidden_nodes_layer1 = 80\n",
    "hidden_nodes_layer2 = 40\n",
    "\n",
    "nn = tf.keras.models.Sequential()\n",
    "\n",
    "# First hidden layer\n",
    "nn.add(\n",
    "    tf.keras.layers.Dense(units=hidden_nodes_layer1, input_dim=number_input_features, activation=\"relu\"))\n",
    "\n",
    "# Second hidden layer\n",
    "nn.add(tf.keras.layers.Dense(units=hidden_nodes_layer2, activation=\"relu\"))\n",
    "\n",
    "# Output layer\n",
    "nn.add(tf.keras.layers.Dense(units=1, activation=\"sigmoid\"))\n",
    "\n",
    "# Check the structure of the model\n",
    "nn.summary()"
   ]
  },
  {
   "cell_type": "code",
   "execution_count": null,
   "id": "abdee1e4",
   "metadata": {},
   "outputs": [],
   "source": [
    "# Define the checkpoint path and filenames\n",
    "os.makedirs(\"checkpoints/\",exist_ok=True)\n",
    "checkpoint_path = \"checkpoints/weights.{epoch:02d}.hdf5\""
   ]
  },
  {
   "cell_type": "code",
   "execution_count": null,
   "id": "61fed890",
   "metadata": {},
   "outputs": [],
   "source": [
    "# Compile the model\n",
    "nn.compile(loss=\"binary_crossentropy\", optimizer=\"adam\", metrics=[\"accuracy\"])"
   ]
  },
  {
   "cell_type": "code",
   "execution_count": null,
   "id": "1650a328",
   "metadata": {},
   "outputs": [],
   "source": [
    "# Train the model\n",
    "fit_model = nn.fit(X_train,y_train,epochs=100, callbacks=[cp_callback])"
   ]
  }
 ],
 "metadata": {
  "interpreter": {
   "hash": "ca8d6ac5f5406165c88eea4d84cc6cea0f49c6a1e8412b65629caece827bc720"
  },
  "kernelspec": {
   "display_name": "Python 3.7.11 ('PythonData')",
   "language": "python",
   "name": "python3"
  },
  "language_info": {
   "codemirror_mode": {
    "name": "ipython",
    "version": 3
   },
   "file_extension": ".py",
   "mimetype": "text/x-python",
   "name": "python",
   "nbconvert_exporter": "python",
   "pygments_lexer": "ipython3",
   "version": "3.7.11"
  }
 },
 "nbformat": 4,
 "nbformat_minor": 5
}
