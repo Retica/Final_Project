{
 "cells": [
  {
   "cell_type": "code",
   "execution_count": 37,
   "id": "ca611fe5",
   "metadata": {},
   "outputs": [],
   "source": [
    "#import dependencies\n",
    "import pandas as pd\n",
    "# Dependencies\n",
    "import matplotlib.pyplot as plt\n",
    "import numpy as np"
   ]
  },
  {
   "cell_type": "markdown",
   "id": "9f3062d0",
   "metadata": {},
   "source": [
    "# 1991 CLEANED DF"
   ]
  },
  {
   "cell_type": "code",
   "execution_count": 3,
   "id": "5c156236",
   "metadata": {},
   "outputs": [
    {
     "data": {
      "text/html": [
       "<div>\n",
       "<style scoped>\n",
       "    .dataframe tbody tr th:only-of-type {\n",
       "        vertical-align: middle;\n",
       "    }\n",
       "\n",
       "    .dataframe tbody tr th {\n",
       "        vertical-align: top;\n",
       "    }\n",
       "\n",
       "    .dataframe thead th {\n",
       "        text-align: right;\n",
       "    }\n",
       "</style>\n",
       "<table border=\"1\" class=\"dataframe\">\n",
       "  <thead>\n",
       "    <tr style=\"text-align: right;\">\n",
       "      <th></th>\n",
       "      <th>hpi_type</th>\n",
       "      <th>hpi_flavor</th>\n",
       "      <th>frequency</th>\n",
       "      <th>level</th>\n",
       "      <th>place_name</th>\n",
       "      <th>place_id</th>\n",
       "      <th>yr</th>\n",
       "      <th>period</th>\n",
       "      <th>index_nsa</th>\n",
       "      <th>index_sa</th>\n",
       "    </tr>\n",
       "  </thead>\n",
       "  <tbody>\n",
       "    <tr>\n",
       "      <th>0</th>\n",
       "      <td>traditional</td>\n",
       "      <td>monthly</td>\n",
       "      <td>USA or Census Division</td>\n",
       "      <td>East North Central Division</td>\n",
       "      <td>DV_ENC</td>\n",
       "      <td>1991</td>\n",
       "      <td>purchase-only</td>\n",
       "      <td>1</td>\n",
       "      <td>100.00</td>\n",
       "      <td>100.00</td>\n",
       "    </tr>\n",
       "    <tr>\n",
       "      <th>1</th>\n",
       "      <td>traditional</td>\n",
       "      <td>monthly</td>\n",
       "      <td>USA or Census Division</td>\n",
       "      <td>East North Central Division</td>\n",
       "      <td>DV_ENC</td>\n",
       "      <td>1991</td>\n",
       "      <td>purchase-only</td>\n",
       "      <td>2</td>\n",
       "      <td>100.92</td>\n",
       "      <td>100.98</td>\n",
       "    </tr>\n",
       "    <tr>\n",
       "      <th>2</th>\n",
       "      <td>traditional</td>\n",
       "      <td>monthly</td>\n",
       "      <td>USA or Census Division</td>\n",
       "      <td>East North Central Division</td>\n",
       "      <td>DV_ENC</td>\n",
       "      <td>1991</td>\n",
       "      <td>purchase-only</td>\n",
       "      <td>3</td>\n",
       "      <td>101.31</td>\n",
       "      <td>100.93</td>\n",
       "    </tr>\n",
       "    <tr>\n",
       "      <th>3</th>\n",
       "      <td>traditional</td>\n",
       "      <td>monthly</td>\n",
       "      <td>USA or Census Division</td>\n",
       "      <td>East North Central Division</td>\n",
       "      <td>DV_ENC</td>\n",
       "      <td>1991</td>\n",
       "      <td>purchase-only</td>\n",
       "      <td>4</td>\n",
       "      <td>101.70</td>\n",
       "      <td>101.00</td>\n",
       "    </tr>\n",
       "    <tr>\n",
       "      <th>4</th>\n",
       "      <td>traditional</td>\n",
       "      <td>monthly</td>\n",
       "      <td>USA or Census Division</td>\n",
       "      <td>East North Central Division</td>\n",
       "      <td>DV_ENC</td>\n",
       "      <td>1991</td>\n",
       "      <td>purchase-only</td>\n",
       "      <td>5</td>\n",
       "      <td>102.32</td>\n",
       "      <td>101.37</td>\n",
       "    </tr>\n",
       "  </tbody>\n",
       "</table>\n",
       "</div>"
      ],
      "text/plain": [
       "      hpi_type hpi_flavor               frequency  \\\n",
       "0  traditional    monthly  USA or Census Division   \n",
       "1  traditional    monthly  USA or Census Division   \n",
       "2  traditional    monthly  USA or Census Division   \n",
       "3  traditional    monthly  USA or Census Division   \n",
       "4  traditional    monthly  USA or Census Division   \n",
       "\n",
       "                         level place_name  place_id             yr  period  \\\n",
       "0  East North Central Division     DV_ENC      1991  purchase-only       1   \n",
       "1  East North Central Division     DV_ENC      1991  purchase-only       2   \n",
       "2  East North Central Division     DV_ENC      1991  purchase-only       3   \n",
       "3  East North Central Division     DV_ENC      1991  purchase-only       4   \n",
       "4  East North Central Division     DV_ENC      1991  purchase-only       5   \n",
       "\n",
       "   index_nsa  index_sa  \n",
       "0     100.00    100.00  \n",
       "1     100.92    100.98  \n",
       "2     101.31    100.93  \n",
       "3     101.70    101.00  \n",
       "4     102.32    101.37  "
      ]
     },
     "execution_count": 3,
     "metadata": {},
     "output_type": "execute_result"
    }
   ],
   "source": [
    "# File to Load \n",
    "ninetyone_data = \"data_csv/1991_table.csv\"\n",
    "\n",
    "# Read the data\n",
    "ninetyone_df = pd.read_csv(ninetyone_data)\n",
    "\n",
    "ninetyone_df.head()"
   ]
  },
  {
   "cell_type": "code",
   "execution_count": 4,
   "id": "46a68144",
   "metadata": {},
   "outputs": [
    {
     "data": {
      "text/plain": [
       "hpi_type      2962\n",
       "hpi_flavor    2962\n",
       "frequency     2962\n",
       "level         2962\n",
       "place_name    2962\n",
       "place_id      2962\n",
       "yr            2962\n",
       "period        2962\n",
       "index_nsa     2962\n",
       "index_sa      1256\n",
       "dtype: int64"
      ]
     },
     "execution_count": 4,
     "metadata": {},
     "output_type": "execute_result"
    }
   ],
   "source": [
    "# see if any info is empty\n",
    "ninetyone_df.count()"
   ]
  },
  {
   "cell_type": "code",
   "execution_count": 5,
   "id": "383d2c54",
   "metadata": {},
   "outputs": [
    {
     "data": {
      "text/plain": [
       "hpi_type         0\n",
       "hpi_flavor       0\n",
       "frequency        0\n",
       "level            0\n",
       "place_name       0\n",
       "place_id         0\n",
       "yr               0\n",
       "period           0\n",
       "index_nsa        0\n",
       "index_sa      1706\n",
       "dtype: int64"
      ]
     },
     "execution_count": 5,
     "metadata": {},
     "output_type": "execute_result"
    }
   ],
   "source": [
    "# check to see total number of na values\n",
    "ninetyone_df.isnull().sum()"
   ]
  },
  {
   "cell_type": "code",
   "execution_count": 6,
   "id": "fee9bda7",
   "metadata": {},
   "outputs": [
    {
     "data": {
      "text/html": [
       "<div>\n",
       "<style scoped>\n",
       "    .dataframe tbody tr th:only-of-type {\n",
       "        vertical-align: middle;\n",
       "    }\n",
       "\n",
       "    .dataframe tbody tr th {\n",
       "        vertical-align: top;\n",
       "    }\n",
       "\n",
       "    .dataframe thead th {\n",
       "        text-align: right;\n",
       "    }\n",
       "</style>\n",
       "<table border=\"1\" class=\"dataframe\">\n",
       "  <thead>\n",
       "    <tr style=\"text-align: right;\">\n",
       "      <th></th>\n",
       "      <th>hpi_type</th>\n",
       "      <th>hpi_flavor</th>\n",
       "      <th>frequency</th>\n",
       "      <th>level</th>\n",
       "      <th>place_name</th>\n",
       "      <th>place_id</th>\n",
       "      <th>yr</th>\n",
       "      <th>period</th>\n",
       "      <th>index_nsa</th>\n",
       "      <th>index_sa</th>\n",
       "    </tr>\n",
       "  </thead>\n",
       "  <tbody>\n",
       "    <tr>\n",
       "      <th>0</th>\n",
       "      <td>traditional</td>\n",
       "      <td>monthly</td>\n",
       "      <td>USA or Census Division</td>\n",
       "      <td>East North Central Division</td>\n",
       "      <td>DV_ENC</td>\n",
       "      <td>1991</td>\n",
       "      <td>purchase-only</td>\n",
       "      <td>1</td>\n",
       "      <td>100.00</td>\n",
       "      <td>100.00</td>\n",
       "    </tr>\n",
       "    <tr>\n",
       "      <th>1</th>\n",
       "      <td>traditional</td>\n",
       "      <td>monthly</td>\n",
       "      <td>USA or Census Division</td>\n",
       "      <td>East North Central Division</td>\n",
       "      <td>DV_ENC</td>\n",
       "      <td>1991</td>\n",
       "      <td>purchase-only</td>\n",
       "      <td>2</td>\n",
       "      <td>100.92</td>\n",
       "      <td>100.98</td>\n",
       "    </tr>\n",
       "    <tr>\n",
       "      <th>2</th>\n",
       "      <td>traditional</td>\n",
       "      <td>monthly</td>\n",
       "      <td>USA or Census Division</td>\n",
       "      <td>East North Central Division</td>\n",
       "      <td>DV_ENC</td>\n",
       "      <td>1991</td>\n",
       "      <td>purchase-only</td>\n",
       "      <td>3</td>\n",
       "      <td>101.31</td>\n",
       "      <td>100.93</td>\n",
       "    </tr>\n",
       "    <tr>\n",
       "      <th>3</th>\n",
       "      <td>traditional</td>\n",
       "      <td>monthly</td>\n",
       "      <td>USA or Census Division</td>\n",
       "      <td>East North Central Division</td>\n",
       "      <td>DV_ENC</td>\n",
       "      <td>1991</td>\n",
       "      <td>purchase-only</td>\n",
       "      <td>4</td>\n",
       "      <td>101.70</td>\n",
       "      <td>101.00</td>\n",
       "    </tr>\n",
       "    <tr>\n",
       "      <th>4</th>\n",
       "      <td>traditional</td>\n",
       "      <td>monthly</td>\n",
       "      <td>USA or Census Division</td>\n",
       "      <td>East North Central Division</td>\n",
       "      <td>DV_ENC</td>\n",
       "      <td>1991</td>\n",
       "      <td>purchase-only</td>\n",
       "      <td>5</td>\n",
       "      <td>102.32</td>\n",
       "      <td>101.37</td>\n",
       "    </tr>\n",
       "  </tbody>\n",
       "</table>\n",
       "</div>"
      ],
      "text/plain": [
       "      hpi_type hpi_flavor               frequency  \\\n",
       "0  traditional    monthly  USA or Census Division   \n",
       "1  traditional    monthly  USA or Census Division   \n",
       "2  traditional    monthly  USA or Census Division   \n",
       "3  traditional    monthly  USA or Census Division   \n",
       "4  traditional    monthly  USA or Census Division   \n",
       "\n",
       "                         level place_name  place_id             yr  period  \\\n",
       "0  East North Central Division     DV_ENC      1991  purchase-only       1   \n",
       "1  East North Central Division     DV_ENC      1991  purchase-only       2   \n",
       "2  East North Central Division     DV_ENC      1991  purchase-only       3   \n",
       "3  East North Central Division     DV_ENC      1991  purchase-only       4   \n",
       "4  East North Central Division     DV_ENC      1991  purchase-only       5   \n",
       "\n",
       "   index_nsa  index_sa  \n",
       "0     100.00    100.00  \n",
       "1     100.92    100.98  \n",
       "2     101.31    100.93  \n",
       "3     101.70    101.00  \n",
       "4     102.32    101.37  "
      ]
     },
     "execution_count": 6,
     "metadata": {},
     "output_type": "execute_result"
    }
   ],
   "source": [
    "# drop all of the na values\n",
    "ninetyone_clean_df = ninetyone_df.dropna()\n",
    "ninetyone_clean_df.head()"
   ]
  },
  {
   "cell_type": "code",
   "execution_count": 7,
   "id": "1ca1cac0",
   "metadata": {},
   "outputs": [
    {
     "data": {
      "text/plain": [
       "hpi_type      1256\n",
       "hpi_flavor    1256\n",
       "frequency     1256\n",
       "level         1256\n",
       "place_name    1256\n",
       "place_id      1256\n",
       "yr            1256\n",
       "period        1256\n",
       "index_nsa     1256\n",
       "index_sa      1256\n",
       "dtype: int64"
      ]
     },
     "execution_count": 7,
     "metadata": {},
     "output_type": "execute_result"
    }
   ],
   "source": [
    "#verify to see that there is no na values and all have same number of lines\n",
    "ninetyone_clean_df.count()"
   ]
  },
  {
   "cell_type": "code",
   "execution_count": 8,
   "id": "71ff027e",
   "metadata": {},
   "outputs": [],
   "source": [
    "# exporting clean dataframe\n",
    "ninetyone_clean_df.to_csv('data_csv/clean_1991_df.csv')"
   ]
  },
  {
   "cell_type": "markdown",
   "id": "fdf19c98",
   "metadata": {},
   "source": [
    "# LOADING CSV"
   ]
  },
  {
   "cell_type": "code",
   "execution_count": 9,
   "id": "1fdfe6d0",
   "metadata": {},
   "outputs": [],
   "source": [
    "# File to Load \n",
    "df1 = \"data_csv/ninetytwo.csv\"\n",
    "df2 = \"data_csv/ninetythree.csv\"\n",
    "df3 = \"data_csv/ninetyfour.csv\"\n",
    "df4 = \"data_csv/ninetyfive.csv\"\n",
    "df5 = \"data_csv/ninetysix.csv\"\n",
    "df6 = \"data_csv/ninetyseven.csv\"\n",
    "df7 = \"data_csv/ninetyeight.csv\"\n",
    "df8 = \"data_csv/ninetynine.csv\"\n",
    "df9 = \"data_csv/twothousand.csv\"\n",
    "df10 = \"data_csv/twothousandone.csv\"\n",
    "df11 = \"data_csv/twothousandtwo.csv\"\n",
    "df12 = \"data_csv/twothousandthree.csv\"\n",
    "df13 = \"data_csv/twothousandfour.csv\"\n",
    "df14 = \"data_csv/twothousandfive.csv\"\n",
    "df15 = \"data_csv/twothousandsix.csv\"\n",
    "df16 = \"data_csv/twothousandseven.csv\"\n",
    "df17 = \"data_csv/twothousandeight.csv\"\n",
    "df18 = \"data_csv/twothousandnine.csv\"\n",
    "df19 = \"data_csv/twothousandten.csv\"\n",
    "df20 = \"data_csv/twothousandeleven.csv\"\n",
    "df21 = \"data_csv/twothousandtwelfth.csv\"\n",
    "df22 = \"data_csv/twothousandthirteen.csv\"\n",
    "df23 = \"data_csv/twothousandfourteen.csv\"\n",
    "df24 = \"data_csv/twothousandfifthteen.csv\"\n",
    "df25 = \"data_csv/twothousandsixteen.csv\"\n",
    "df26 = \"data_csv/twothousandseventeen.csv\"\n",
    "df27 = \"data_csv/twothousandeightteen.csv\"\n",
    "df28 = \"data_csv/twothousandnineteen.csv\"\n",
    "df29 = \"data_csv/twothousandtwenty.csv\"\n",
    "df30 = \"data_csv/twothousandtwentyone.csv\"\n",
    "df31 = \"data_csv/twothousandtwentytwo.csv\"\n",
    "\n",
    "\n",
    "# Read the data\n",
    "#ninetytwo = pd.read_csv(ninetytwo)\n",
    "\n",
    "df1 = pd.read_csv(df1)\n",
    "df2 = pd.read_csv(df2)\n",
    "df3 = pd.read_csv(df3)\n",
    "df4 = pd.read_csv(df4)\n",
    "df5 = pd.read_csv(df5)\n",
    "df6 = pd.read_csv(df6)\n",
    "df7 = pd.read_csv(df7)\n",
    "df8 = pd.read_csv(df8)\n",
    "df9 = pd.read_csv(df9)\n",
    "df10 = pd.read_csv(df10)\n",
    "df11 = pd.read_csv(df11)\n",
    "df12 = pd.read_csv(df12)\n",
    "df13 = pd.read_csv(df13)\n",
    "df14 = pd.read_csv(df14)\n",
    "df15 = pd.read_csv(df15)\n",
    "df16 = pd.read_csv(df16)\n",
    "df17 = pd.read_csv(df17)\n",
    "df18 = pd.read_csv(df18)\n",
    "df19 = pd.read_csv(df19)\n",
    "df20 = pd.read_csv(df20)\n",
    "df21 = pd.read_csv(df21)\n",
    "df22 = pd.read_csv(df22)\n",
    "df23 = pd.read_csv(df23)\n",
    "df24 = pd.read_csv(df24)\n",
    "df25 = pd.read_csv(df25)\n",
    "df26 = pd.read_csv(df26)\n",
    "df27 = pd.read_csv(df27)\n",
    "df28 = pd.read_csv(df28)\n",
    "df29 = pd.read_csv(df29)\n",
    "df30 = pd.read_csv(df30)\n",
    "df31 = pd.read_csv(df31)"
   ]
  },
  {
   "cell_type": "code",
   "execution_count": 10,
   "id": "12b41a3c",
   "metadata": {},
   "outputs": [],
   "source": [
    "# create df_list\n",
    "df_list = [df1, df2, df3, df4, df5, df6, df7, df8, df9, df10, df11, df12, df13,\n",
    "          df14,df15, df16, df17, df18, df19, df20, df21, df22, df23, df24, df25,\n",
    "          df26, df27, df28, df29, df30, df31]"
   ]
  },
  {
   "cell_type": "code",
   "execution_count": 11,
   "id": "bf2bc350",
   "metadata": {},
   "outputs": [],
   "source": [
    "#Creating for loop to drop all values with na\n",
    "df = []\n",
    "for dfs in df_list: \n",
    "    dfs.dropna(inplace= True)"
   ]
  },
  {
   "cell_type": "code",
   "execution_count": 12,
   "id": "181bf54a",
   "metadata": {},
   "outputs": [
    {
     "data": {
      "text/plain": [
       "hpi_type      0\n",
       "hpi_flavor    0\n",
       "frequency     0\n",
       "level         0\n",
       "place_name    0\n",
       "place_id      0\n",
       "yr            0\n",
       "period        0\n",
       "index_nsa     0\n",
       "index_sa      0\n",
       "dtype: int64"
      ]
     },
     "execution_count": 12,
     "metadata": {},
     "output_type": "execute_result"
    }
   ],
   "source": [
    "#Check to see if nas are gone in random df\n",
    "#df1.isnull().sum()\n",
    "#df9.isnull().sum()\n",
    "#df18.isnull().sum()\n",
    "#df24.isnull().sum()\n",
    "#df29.isnull().sum()\n",
    "df31.isnull().sum()"
   ]
  },
  {
   "cell_type": "code",
   "execution_count": 13,
   "id": "a3f4aa03",
   "metadata": {},
   "outputs": [],
   "source": [
    "# exporting clean dataframe\n",
    "#ninetyone_clean_df.to_csv('data_csv/ninetyone_clean_df.csv')\n",
    "df1.to_csv('data_csv/clean_1992_df.csv')\n",
    "df2.to_csv('data_csv/clean_1993_df.csv')\n",
    "df3.to_csv('data_csv/clean_1994_df.csv')\n",
    "df4.to_csv('data_csv/clean_1995_df.csv')\n",
    "df5.to_csv('data_csv/clean_1996_df.csv')\n",
    "df6.to_csv('data_csv/clean_1997_df.csv')\n",
    "df7.to_csv('data_csv/clean_1998_df.csv')\n",
    "df8.to_csv('data_csv/clean_1999_df.csv')\n",
    "df9.to_csv('data_csv/clean_2000_df.csv')\n",
    "df10.to_csv('data_csv/clean_2001_df.csv')\n",
    "df11.to_csv('data_csv/clean_2002_df.csv')\n",
    "df12.to_csv('data_csv/clean_2003_df.csv')\n",
    "df13.to_csv('data_csv/clean_2004_df.csv')\n",
    "df14.to_csv('data_csv/clean_2005_df.csv')\n",
    "df15.to_csv('data_csv/clean_2006_df.csv')\n",
    "df16.to_csv('data_csv/clean_2007_df.csv')\n",
    "df17.to_csv('data_csv/clean_2008_df.csv')\n",
    "df18.to_csv('data_csv/clean_2009_df.csv')\n",
    "df19.to_csv('data_csv/clean_2010_df.csv')\n",
    "df20.to_csv('data_csv/clean_2011_df.csv')\n",
    "df21.to_csv('data_csv/clean_2012_df.csv')\n",
    "df22.to_csv('data_csv/clean_2013_df.csv')\n",
    "df23.to_csv('data_csv/clean_2014_df.csv')\n",
    "df24.to_csv('data_csv/clean_2015_df.csv')\n",
    "df25.to_csv('data_csv/clean_2016_df.csv')\n",
    "df26.to_csv('data_csv/clean_2017_df.csv')\n",
    "df27.to_csv('data_csv/clean_2018_df.csv')\n",
    "df28.to_csv('data_csv/clean_2019_df.csv')\n",
    "df29.to_csv('data_csv/clean_2020_df.csv')\n",
    "df30.to_csv('data_csv/clean_2021_df.csv')\n",
    "df31.to_csv('data_csv/clean_2022_df.csv')\n"
   ]
  },
  {
   "cell_type": "markdown",
   "id": "803131bb",
   "metadata": {},
   "source": [
    "# Household Debt"
   ]
  },
  {
   "cell_type": "code",
   "execution_count": 34,
   "id": "097b3691",
   "metadata": {},
   "outputs": [
    {
     "data": {
      "text/html": [
       "<div>\n",
       "<style scoped>\n",
       "    .dataframe tbody tr th:only-of-type {\n",
       "        vertical-align: middle;\n",
       "    }\n",
       "\n",
       "    .dataframe tbody tr th {\n",
       "        vertical-align: top;\n",
       "    }\n",
       "\n",
       "    .dataframe thead th {\n",
       "        text-align: right;\n",
       "    }\n",
       "</style>\n",
       "<table border=\"1\" class=\"dataframe\">\n",
       "  <thead>\n",
       "    <tr style=\"text-align: right;\">\n",
       "      <th></th>\n",
       "      <th>year</th>\n",
       "      <th>qtr</th>\n",
       "      <th>state_fips</th>\n",
       "      <th>low</th>\n",
       "      <th>high</th>\n",
       "    </tr>\n",
       "  </thead>\n",
       "  <tbody>\n",
       "    <tr>\n",
       "      <th>0</th>\n",
       "      <td>1999</td>\n",
       "      <td>1</td>\n",
       "      <td>1</td>\n",
       "      <td>0.41</td>\n",
       "      <td>1.11</td>\n",
       "    </tr>\n",
       "    <tr>\n",
       "      <th>1</th>\n",
       "      <td>1999</td>\n",
       "      <td>1</td>\n",
       "      <td>2</td>\n",
       "      <td>1.24</td>\n",
       "      <td>1.32</td>\n",
       "    </tr>\n",
       "    <tr>\n",
       "      <th>2</th>\n",
       "      <td>1999</td>\n",
       "      <td>1</td>\n",
       "      <td>4</td>\n",
       "      <td>1.32</td>\n",
       "      <td>1.40</td>\n",
       "    </tr>\n",
       "    <tr>\n",
       "      <th>3</th>\n",
       "      <td>1999</td>\n",
       "      <td>1</td>\n",
       "      <td>5</td>\n",
       "      <td>0.41</td>\n",
       "      <td>1.11</td>\n",
       "    </tr>\n",
       "    <tr>\n",
       "      <th>4</th>\n",
       "      <td>1999</td>\n",
       "      <td>1</td>\n",
       "      <td>6</td>\n",
       "      <td>1.60</td>\n",
       "      <td>1.72</td>\n",
       "    </tr>\n",
       "  </tbody>\n",
       "</table>\n",
       "</div>"
      ],
      "text/plain": [
       "   year  qtr  state_fips   low  high\n",
       "0  1999    1           1  0.41  1.11\n",
       "1  1999    1           2  1.24  1.32\n",
       "2  1999    1           4  1.32  1.40\n",
       "3  1999    1           5  0.41  1.11\n",
       "4  1999    1           6  1.60  1.72"
      ]
     },
     "execution_count": 34,
     "metadata": {},
     "output_type": "execute_result"
    }
   ],
   "source": [
    "# File to Load \n",
    "householdDebt = \"data_csv/household-debt-by-state.csv\"\n",
    "\n",
    "# Read the data\n",
    "householdDebt_df = pd.read_csv(householdDebt)\n",
    "\n",
    "householdDebt_df.head()"
   ]
  },
  {
   "cell_type": "code",
   "execution_count": 15,
   "id": "dc7344fe",
   "metadata": {},
   "outputs": [
    {
     "data": {
      "text/plain": [
       "year          4641\n",
       "qtr           4641\n",
       "state_fips    4641\n",
       "low           4641\n",
       "high          4184\n",
       "dtype: int64"
      ]
     },
     "execution_count": 15,
     "metadata": {},
     "output_type": "execute_result"
    }
   ],
   "source": [
    "# see if any info is empty\n",
    "householdDebt_df.count()"
   ]
  },
  {
   "cell_type": "code",
   "execution_count": 20,
   "id": "a2579e3e",
   "metadata": {},
   "outputs": [
    {
     "data": {
      "text/html": [
       "<div>\n",
       "<style scoped>\n",
       "    .dataframe tbody tr th:only-of-type {\n",
       "        vertical-align: middle;\n",
       "    }\n",
       "\n",
       "    .dataframe tbody tr th {\n",
       "        vertical-align: top;\n",
       "    }\n",
       "\n",
       "    .dataframe thead th {\n",
       "        text-align: right;\n",
       "    }\n",
       "</style>\n",
       "<table border=\"1\" class=\"dataframe\">\n",
       "  <thead>\n",
       "    <tr style=\"text-align: right;\">\n",
       "      <th></th>\n",
       "      <th>year</th>\n",
       "      <th>qtr</th>\n",
       "      <th>state_fips</th>\n",
       "      <th>low</th>\n",
       "      <th>high</th>\n",
       "    </tr>\n",
       "  </thead>\n",
       "  <tbody>\n",
       "    <tr>\n",
       "      <th>0</th>\n",
       "      <td>1999</td>\n",
       "      <td>1</td>\n",
       "      <td>1</td>\n",
       "      <td>0.41</td>\n",
       "      <td>1.11</td>\n",
       "    </tr>\n",
       "    <tr>\n",
       "      <th>1</th>\n",
       "      <td>1999</td>\n",
       "      <td>1</td>\n",
       "      <td>2</td>\n",
       "      <td>1.24</td>\n",
       "      <td>1.32</td>\n",
       "    </tr>\n",
       "    <tr>\n",
       "      <th>2</th>\n",
       "      <td>1999</td>\n",
       "      <td>1</td>\n",
       "      <td>4</td>\n",
       "      <td>1.32</td>\n",
       "      <td>1.40</td>\n",
       "    </tr>\n",
       "    <tr>\n",
       "      <th>3</th>\n",
       "      <td>1999</td>\n",
       "      <td>1</td>\n",
       "      <td>5</td>\n",
       "      <td>0.41</td>\n",
       "      <td>1.11</td>\n",
       "    </tr>\n",
       "    <tr>\n",
       "      <th>4</th>\n",
       "      <td>1999</td>\n",
       "      <td>1</td>\n",
       "      <td>6</td>\n",
       "      <td>1.60</td>\n",
       "      <td>1.72</td>\n",
       "    </tr>\n",
       "  </tbody>\n",
       "</table>\n",
       "</div>"
      ],
      "text/plain": [
       "   year  qtr  state_fips   low  high\n",
       "0  1999    1           1  0.41  1.11\n",
       "1  1999    1           2  1.24  1.32\n",
       "2  1999    1           4  1.32  1.40\n",
       "3  1999    1           5  0.41  1.11\n",
       "4  1999    1           6  1.60  1.72"
      ]
     },
     "execution_count": 20,
     "metadata": {},
     "output_type": "execute_result"
    }
   ],
   "source": [
    "#drop null values\n",
    "clean_householdDebt_df = householdDebt_df.dropna()\n",
    "clean_householdDebt_df.head()"
   ]
  },
  {
   "cell_type": "code",
   "execution_count": 21,
   "id": "c0d6bb74",
   "metadata": {},
   "outputs": [],
   "source": [
    "# exporting clean dataframe\n",
    "#ninetyone_clean_df.to_csv('data_csv/ninetyone_clean_df.csv')\n",
    "clean_householdDebt_df.to_csv('data_csv/clean_householdDebt_df.csv')"
   ]
  },
  {
   "cell_type": "code",
   "execution_count": 23,
   "id": "4496c387",
   "metadata": {},
   "outputs": [
    {
     "data": {
      "text/plain": [
       "year          4184\n",
       "qtr           4184\n",
       "state_fips    4184\n",
       "low           4184\n",
       "high          4184\n",
       "dtype: int64"
      ]
     },
     "execution_count": 23,
     "metadata": {},
     "output_type": "execute_result"
    }
   ],
   "source": [
    "clean_householdDebt_df.count()"
   ]
  },
  {
   "cell_type": "code",
   "execution_count": 32,
   "id": "45334481",
   "metadata": {},
   "outputs": [
    {
     "data": {
      "text/html": [
       "<div>\n",
       "<style scoped>\n",
       "    .dataframe tbody tr th:only-of-type {\n",
       "        vertical-align: middle;\n",
       "    }\n",
       "\n",
       "    .dataframe tbody tr th {\n",
       "        vertical-align: top;\n",
       "    }\n",
       "\n",
       "    .dataframe thead th {\n",
       "        text-align: right;\n",
       "    }\n",
       "</style>\n",
       "<table border=\"1\" class=\"dataframe\">\n",
       "  <thead>\n",
       "    <tr style=\"text-align: right;\">\n",
       "      <th></th>\n",
       "      <th>year</th>\n",
       "      <th>qtr</th>\n",
       "      <th>state_fips</th>\n",
       "      <th>low</th>\n",
       "      <th>high</th>\n",
       "    </tr>\n",
       "  </thead>\n",
       "  <tbody>\n",
       "    <tr>\n",
       "      <th>4636</th>\n",
       "      <td>2021</td>\n",
       "      <td>3</td>\n",
       "      <td>51</td>\n",
       "      <td>1.84</td>\n",
       "      <td>2.06</td>\n",
       "    </tr>\n",
       "    <tr>\n",
       "      <th>4637</th>\n",
       "      <td>2021</td>\n",
       "      <td>3</td>\n",
       "      <td>53</td>\n",
       "      <td>1.60</td>\n",
       "      <td>1.72</td>\n",
       "    </tr>\n",
       "    <tr>\n",
       "      <th>4638</th>\n",
       "      <td>2021</td>\n",
       "      <td>3</td>\n",
       "      <td>54</td>\n",
       "      <td>1.32</td>\n",
       "      <td>1.40</td>\n",
       "    </tr>\n",
       "    <tr>\n",
       "      <th>4639</th>\n",
       "      <td>2021</td>\n",
       "      <td>3</td>\n",
       "      <td>55</td>\n",
       "      <td>1.24</td>\n",
       "      <td>1.32</td>\n",
       "    </tr>\n",
       "    <tr>\n",
       "      <th>4640</th>\n",
       "      <td>2021</td>\n",
       "      <td>3</td>\n",
       "      <td>56</td>\n",
       "      <td>1.60</td>\n",
       "      <td>1.72</td>\n",
       "    </tr>\n",
       "  </tbody>\n",
       "</table>\n",
       "</div>"
      ],
      "text/plain": [
       "      year  qtr  state_fips   low  high\n",
       "4636  2021    3          51  1.84  2.06\n",
       "4637  2021    3          53  1.60  1.72\n",
       "4638  2021    3          54  1.32  1.40\n",
       "4639  2021    3          55  1.24  1.32\n",
       "4640  2021    3          56  1.60  1.72"
      ]
     },
     "execution_count": 32,
     "metadata": {},
     "output_type": "execute_result"
    }
   ],
   "source": [
    "clean_householdDebt_df.head\n",
    "()"
   ]
  },
  {
   "cell_type": "code",
   "execution_count": 49,
   "id": "9c67511c",
   "metadata": {},
   "outputs": [
    {
     "data": {
      "text/html": [
       "<div>\n",
       "<style scoped>\n",
       "    .dataframe tbody tr th:only-of-type {\n",
       "        vertical-align: middle;\n",
       "    }\n",
       "\n",
       "    .dataframe tbody tr th {\n",
       "        vertical-align: top;\n",
       "    }\n",
       "\n",
       "    .dataframe thead th {\n",
       "        text-align: right;\n",
       "    }\n",
       "</style>\n",
       "<table border=\"1\" class=\"dataframe\">\n",
       "  <thead>\n",
       "    <tr style=\"text-align: right;\">\n",
       "      <th></th>\n",
       "      <th>year</th>\n",
       "      <th>qtr</th>\n",
       "      <th>state_fips</th>\n",
       "      <th>low</th>\n",
       "      <th>high</th>\n",
       "    </tr>\n",
       "  </thead>\n",
       "  <tbody>\n",
       "    <tr>\n",
       "      <th>0</th>\n",
       "      <td>1999</td>\n",
       "      <td>1</td>\n",
       "      <td>1</td>\n",
       "      <td>0.41</td>\n",
       "      <td>1.11</td>\n",
       "    </tr>\n",
       "    <tr>\n",
       "      <th>1</th>\n",
       "      <td>1999</td>\n",
       "      <td>1</td>\n",
       "      <td>2</td>\n",
       "      <td>1.24</td>\n",
       "      <td>1.32</td>\n",
       "    </tr>\n",
       "    <tr>\n",
       "      <th>2</th>\n",
       "      <td>1999</td>\n",
       "      <td>1</td>\n",
       "      <td>4</td>\n",
       "      <td>1.32</td>\n",
       "      <td>1.40</td>\n",
       "    </tr>\n",
       "    <tr>\n",
       "      <th>3</th>\n",
       "      <td>1999</td>\n",
       "      <td>1</td>\n",
       "      <td>5</td>\n",
       "      <td>0.41</td>\n",
       "      <td>1.11</td>\n",
       "    </tr>\n",
       "    <tr>\n",
       "      <th>4</th>\n",
       "      <td>1999</td>\n",
       "      <td>1</td>\n",
       "      <td>6</td>\n",
       "      <td>1.60</td>\n",
       "      <td>1.72</td>\n",
       "    </tr>\n",
       "  </tbody>\n",
       "</table>\n",
       "</div>"
      ],
      "text/plain": [
       "   year  qtr  state_fips   low  high\n",
       "0  1999    1           1  0.41  1.11\n",
       "1  1999    1           2  1.24  1.32\n",
       "2  1999    1           4  1.32  1.40\n",
       "3  1999    1           5  0.41  1.11\n",
       "4  1999    1           6  1.60  1.72"
      ]
     },
     "execution_count": 49,
     "metadata": {},
     "output_type": "execute_result"
    }
   ],
   "source": [
    "#Split up by year\n",
    "\n",
    "household_debt_df_1999=clean_householdDebt_df[clean_householdDebt_df['year'] == 1999]\n",
    "\n",
    "df_1999.head()\n"
   ]
  },
  {
   "cell_type": "code",
   "execution_count": 50,
   "id": "42ee168e",
   "metadata": {},
   "outputs": [],
   "source": [
    "#Split rest by year\n",
    "\n",
    "household_debt_df_2000=clean_householdDebt_df[clean_householdDebt_df['year'] == 2000]\n",
    "\n",
    "household_debt_df_2001=clean_householdDebt_df[clean_householdDebt_df['year'] == 2001]\n",
    "\n",
    "household_debt_df_2002=clean_householdDebt_df[clean_householdDebt_df['year'] == 2002]\n",
    "\n",
    "household_debt_df_2003=clean_householdDebt_df[clean_householdDebt_df['year'] == 2003]\n",
    "\n",
    "household_debt_df_2004=clean_householdDebt_df[clean_householdDebt_df['year'] == 2004]\n",
    "\n",
    "household_debt_df_2005=clean_householdDebt_df[clean_householdDebt_df['year'] == 2005]\n",
    "\n",
    "household_debt_df_2006=clean_householdDebt_df[clean_householdDebt_df['year'] == 2006]\n",
    "\n",
    "household_debt_df_2007=clean_householdDebt_df[clean_householdDebt_df['year'] == 2007]\n",
    "\n",
    "household_debt_df_2008=clean_householdDebt_df[clean_householdDebt_df['year'] == 2008]\n",
    "\n",
    "household_debt_df_2009=clean_householdDebt_df[clean_householdDebt_df['year'] == 2009]\n",
    "\n",
    "household_debt_df_2010=clean_householdDebt_df[clean_householdDebt_df['year'] == 2010]\n",
    "\n",
    "household_debt_df_2011=clean_householdDebt_df[clean_householdDebt_df['year'] == 2011]\n",
    "\n",
    "household_debt_df_2012=clean_householdDebt_df[clean_householdDebt_df['year'] == 2012]\n",
    "\n",
    "household_debt_df_2013=clean_householdDebt_df[clean_householdDebt_df['year'] == 2013]\n",
    "\n",
    "household_debt_df_2014=clean_householdDebt_df[clean_householdDebt_df['year'] == 2014]\n",
    "\n",
    "household_debt_df_2015=clean_householdDebt_df[clean_householdDebt_df['year'] == 2015]\n",
    "\n",
    "household_debt_df_2016=clean_householdDebt_df[clean_householdDebt_df['year'] == 2016]\n",
    "\n",
    "household_debt_df_2017=clean_householdDebt_df[clean_householdDebt_df['year'] == 2017]\n",
    "\n",
    "household_debt_df_2018=clean_householdDebt_df[clean_householdDebt_df['year'] == 2018]\n",
    "\n",
    "household_debt_df_2019=clean_householdDebt_df[clean_householdDebt_df['year'] == 2019]\n",
    "\n",
    "household_debt_df_2020=clean_householdDebt_df[clean_householdDebt_df['year'] == 2020]\n",
    "\n",
    "household_debt_df_2021=clean_householdDebt_df[clean_householdDebt_df['year'] == 2021]"
   ]
  },
  {
   "cell_type": "code",
   "execution_count": 52,
   "id": "bf0717bf",
   "metadata": {},
   "outputs": [],
   "source": [
    "# Convert to csv files\n",
    "# exporting clean dataframe\n",
    "#example: ninetyone_clean_df.to_csv('data_csv/ninetyone_clean_df.csv')\n",
    "household_debt_df_1999.to_csv('data_csv/household_debt_df_1999.csv')\n",
    "household_debt_df_2000.to_csv('data_csv/household_debt_df_2000.csv')\n",
    "household_debt_df_2001.to_csv('data_csv/household_debt_df_2001.csv')\n",
    "household_debt_df_2002.to_csv('data_csv/household_debt_df_2002.csv')\n",
    "household_debt_df_2003.to_csv('data_csv/household_debt_df_2003.csv')\n",
    "household_debt_df_2004.to_csv('data_csv/household_debt_df_2004.csv')\n",
    "household_debt_df_2005.to_csv('data_csv/household_debt_df_2005.csv')\n",
    "household_debt_df_2006.to_csv('data_csv/household_debt_df_2006.csv')\n",
    "household_debt_df_2007.to_csv('data_csv/household_debt_df_2007.csv')\n",
    "household_debt_df_2008.to_csv('data_csv/household_debt_df_2008.csv')\n",
    "household_debt_df_2009.to_csv('data_csv/household_debt_df_2009.csv')\n",
    "household_debt_df_2010.to_csv('data_csv/household_debt_df_2010.csv')\n",
    "household_debt_df_2011.to_csv('data_csv/household_debt_df_2011.csv')\n",
    "household_debt_df_2012.to_csv('data_csv/household_debt_df_2012.csv')\n",
    "household_debt_df_2013.to_csv('data_csv/household_debt_df_2013.csv')\n",
    "household_debt_df_2014.to_csv('data_csv/household_debt_df_2014.csv')\n",
    "household_debt_df_2015.to_csv('data_csv/household_debt_df_2015.csv')\n",
    "household_debt_df_2016.to_csv('data_csv/household_debt_df_2016.csv')\n",
    "household_debt_df_2017.to_csv('data_csv/household_debt_df_2017.csv')\n",
    "household_debt_df_2018.to_csv('data_csv/household_debt_df_2018.csv')\n",
    "household_debt_df_2019.to_csv('data_csv/household_debt_df_2019.csv')\n",
    "household_debt_df_2020.to_csv('data_csv/household_debt_df_2020.csv')\n",
    "household_debt_df_2021.to_csv('data_csv/household_debt_df_2021.csv')"
   ]
  },
  {
   "cell_type": "code",
   "execution_count": 54,
   "id": "e6f50890",
   "metadata": {},
   "outputs": [
    {
     "data": {
      "text/html": [
       "<div>\n",
       "<style scoped>\n",
       "    .dataframe tbody tr th:only-of-type {\n",
       "        vertical-align: middle;\n",
       "    }\n",
       "\n",
       "    .dataframe tbody tr th {\n",
       "        vertical-align: top;\n",
       "    }\n",
       "\n",
       "    .dataframe thead th {\n",
       "        text-align: right;\n",
       "    }\n",
       "</style>\n",
       "<table border=\"1\" class=\"dataframe\">\n",
       "  <thead>\n",
       "    <tr style=\"text-align: right;\">\n",
       "      <th></th>\n",
       "      <th>year</th>\n",
       "      <th>qtr</th>\n",
       "      <th>state_fips</th>\n",
       "      <th>low</th>\n",
       "      <th>high</th>\n",
       "    </tr>\n",
       "  </thead>\n",
       "  <tbody>\n",
       "    <tr>\n",
       "      <th>0</th>\n",
       "      <td>1999</td>\n",
       "      <td>1</td>\n",
       "      <td>1</td>\n",
       "      <td>0.41</td>\n",
       "      <td>1.11</td>\n",
       "    </tr>\n",
       "    <tr>\n",
       "      <th>1</th>\n",
       "      <td>1999</td>\n",
       "      <td>1</td>\n",
       "      <td>2</td>\n",
       "      <td>1.24</td>\n",
       "      <td>1.32</td>\n",
       "    </tr>\n",
       "    <tr>\n",
       "      <th>2</th>\n",
       "      <td>1999</td>\n",
       "      <td>1</td>\n",
       "      <td>4</td>\n",
       "      <td>1.32</td>\n",
       "      <td>1.40</td>\n",
       "    </tr>\n",
       "    <tr>\n",
       "      <th>3</th>\n",
       "      <td>1999</td>\n",
       "      <td>1</td>\n",
       "      <td>5</td>\n",
       "      <td>0.41</td>\n",
       "      <td>1.11</td>\n",
       "    </tr>\n",
       "    <tr>\n",
       "      <th>4</th>\n",
       "      <td>1999</td>\n",
       "      <td>1</td>\n",
       "      <td>6</td>\n",
       "      <td>1.60</td>\n",
       "      <td>1.72</td>\n",
       "    </tr>\n",
       "  </tbody>\n",
       "</table>\n",
       "</div>"
      ],
      "text/plain": [
       "   year  qtr  state_fips   low  high\n",
       "0  1999    1           1  0.41  1.11\n",
       "1  1999    1           2  1.24  1.32\n",
       "2  1999    1           4  1.32  1.40\n",
       "3  1999    1           5  0.41  1.11\n",
       "4  1999    1           6  1.60  1.72"
      ]
     },
     "execution_count": 54,
     "metadata": {},
     "output_type": "execute_result"
    }
   ],
   "source": [
    "# df \n",
    "clean_householdDebt_df.head()"
   ]
  },
  {
   "cell_type": "code",
   "execution_count": null,
   "id": "d329b3ea",
   "metadata": {},
   "outputs": [],
   "source": [
    "# might need to take these steps to achieve what is desired to plot. is there a faster or better approach?\n",
    "#1. take the average of each year. \n",
    "#2. reate df with total average of each year\n",
    "#3. then "
   ]
  },
  {
   "cell_type": "markdown",
   "id": "d3a72964",
   "metadata": {},
   "source": [
    "# Ave debt & stats"
   ]
  },
  {
   "cell_type": "code",
   "execution_count": 73,
   "id": "60326a32",
   "metadata": {},
   "outputs": [
    {
     "data": {
      "text/plain": [
       "year\n",
       "1999    0.802745\n",
       "2000    0.913971\n",
       "2001    1.050490\n",
       "2002    1.256176\n",
       "2003    1.409055\n",
       "2004    1.488043\n",
       "2005    1.507386\n",
       "2006    1.510802\n",
       "2007    1.500331\n",
       "2008    1.486304\n",
       "2009    1.509323\n",
       "2010    1.497219\n",
       "2011    1.468875\n",
       "2012    1.440769\n",
       "2013    1.414635\n",
       "2014    1.396735\n",
       "2015    1.366802\n",
       "2016    1.384975\n",
       "2017    1.380452\n",
       "2018    1.364824\n",
       "2019    1.363600\n",
       "2020    1.396717\n",
       "2021    1.396400\n",
       "Name: low, dtype: float64"
      ]
     },
     "execution_count": 73,
     "metadata": {},
     "output_type": "execute_result"
    }
   ],
   "source": [
    "#Finding average per year low\n",
    "low_debt_ave_df = clean_householdDebt_df.groupby(['year']).mean()[\"low\"]\n",
    "low_debt_ave_df"
   ]
  },
  {
   "cell_type": "code",
   "execution_count": 99,
   "id": "12d9ed71",
   "metadata": {},
   "outputs": [
    {
     "data": {
      "image/png": "[encoded data removed]",
      "text/plain": [
       "<Figure size 864x504 with 1 Axes>"
      ]
     },
     "metadata": {
      "needs_background": "light"
     },
     "output_type": "display_data"
    },
    {
     "data": {
      "text/plain": [
       "<Figure size 432x288 with 0 Axes>"
      ]
     },
     "metadata": {},
     "output_type": "display_data"
    }
   ],
   "source": [
    "# Plot the data.\n",
    "\n",
    "import matplotlib.ticker as ticker\n",
    "\n",
    "fig, axs = plt.subplots(figsize=(12, 7), constrained_layout=True)\n",
    "low_debt_ave_df.plot(x=\"year\", y=\"low\")\n",
    "plt.gca().xaxis.set_major_locator(plt.MultipleLocator(1))\n",
    "plt.show()\n",
    "\n",
    "# Save the figure.\n",
    "plt.savefig(\"Fig1_lowHouseHoldDebt.png\")"
   ]
  },
  {
   "cell_type": "code",
   "execution_count": 72,
   "id": "cb743913",
   "metadata": {},
   "outputs": [
    {
     "data": {
      "text/plain": [
       "year\n",
       "1999    1.243775\n",
       "2000    1.281324\n",
       "2001    1.334314\n",
       "2002    1.446373\n",
       "2003    1.561990\n",
       "2004    1.630163\n",
       "2005    1.650284\n",
       "2006    1.659198\n",
       "2007    1.647682\n",
       "2008    1.642029\n",
       "2009    1.670977\n",
       "2010    1.656424\n",
       "2011    1.625625\n",
       "2012    1.596923\n",
       "2013    1.568698\n",
       "2014    1.557551\n",
       "2015    1.522944\n",
       "2016    1.535678\n",
       "2017    1.533568\n",
       "2018    1.515075\n",
       "2019    1.513300\n",
       "2020    1.540859\n",
       "2021    1.534133\n",
       "Name: high, dtype: float64"
      ]
     },
     "execution_count": 72,
     "metadata": {},
     "output_type": "execute_result"
    }
   ],
   "source": [
    "# Get average of high for each year\n",
    "high_debt_ave_df = clean_householdDebt_df.groupby(['year']).mean()[\"high\"]\n",
    "high_debt_ave_df"
   ]
  },
  {
   "cell_type": "code",
   "execution_count": 98,
   "id": "9d874ca8",
   "metadata": {},
   "outputs": [
    {
     "data": {
      "image/png": "[encoded data removed]",
      "text/plain": [
       "<Figure size 864x504 with 1 Axes>"
      ]
     },
     "metadata": {
      "needs_background": "light"
     },
     "output_type": "display_data"
    },
    {
     "data": {
      "text/plain": [
       "<Figure size 432x288 with 0 Axes>"
      ]
     },
     "metadata": {},
     "output_type": "display_data"
    }
   ],
   "source": [
    "fig, axs = plt.subplots(figsize=(12, 7), constrained_layout=True)\n",
    "high_debt_ave_df.plot(x=\"year\", y=\"low\")\n",
    "plt.gca().xaxis.set_major_locator(plt.MultipleLocator(1))\n",
    "plt.show()\n",
    "#Save the figure.\n",
    "plt.savefig(\"Fig2_highHouseHoldDebt.png\")"
   ]
  },
  {
   "cell_type": "code",
   "execution_count": null,
   "id": "5dbaab45",
   "metadata": {},
   "outputs": [],
   "source": [
    "\n"
   ]
  },
  {
   "cell_type": "code",
   "execution_count": null,
   "id": "ce8b155c",
   "metadata": {},
   "outputs": [],
   "source": []
  },
  {
   "cell_type": "code",
   "execution_count": null,
   "id": "96d0f5e6",
   "metadata": {},
   "outputs": [],
   "source": []
  }
 ],
 "metadata": {
  "kernelspec": {
   "display_name": "PythonData",
   "language": "python",
   "name": "pythondata"
  },
  "language_info": {
   "codemirror_mode": {
    "name": "ipython",
    "version": 3
   },
   "file_extension": ".py",
   "mimetype": "text/x-python",
   "name": "python",
   "nbconvert_exporter": "python",
   "pygments_lexer": "ipython3",
   "version": "3.9.7"
  }
 },
 "nbformat": 4,
 "nbformat_minor": 5
}
