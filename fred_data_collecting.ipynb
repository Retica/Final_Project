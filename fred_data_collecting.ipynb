{
 "cells": [
  {
   "cell_type": "markdown",
   "id": "0dcb1369",
   "metadata": {},
   "source": [
    "# Set Up\n",
    "In order to collect data from the Federal Reserve Economic Data (FRED), you need to create\n",
    "an account in the website below, then go to the top right on My Account > API Keys and the on\n",
    "the top left of the page, click Request API Key to get your API key.\n",
    "\n",
    "Website: https://fredaccount.stlouisfed.org/apikeys"
   ]
  },
  {
   "cell_type": "code",
   "execution_count": 1,
   "id": "15c5210a",
   "metadata": {
    "scrolled": true
   },
   "outputs": [],
   "source": [
    "# In order to use the FRED API service, you need to install it in your coding environment\n",
    "# as well as the pandas-datareader\n",
    "# NOTE: you may need to restart the kernel in order to use this after installing\n",
    "# Uncomment the lines below to install\n",
    "\n",
    "# pip install fredapi\n",
    "# !pip install pandas-datareader -q"
   ]
  },
  {
   "cell_type": "markdown",
   "id": "aa634555",
   "metadata": {},
   "source": [
    "# Collecting Data\n",
    "\n",
    "Below we will import our dependencies and write a function that will retrieve the data we need for the analysis"
   ]
  },
  {
   "cell_type": "code",
   "execution_count": null,
   "id": "d7496234",
   "metadata": {},
   "outputs": [],
   "source": [
    "# Import Dependencies\n",
    "# Import the dependencies.\n",
    "%matplotlib inline\n",
    "import pandas as pd\n",
    "import pandas_datareader as pdr\n",
    "import matplotlib.pyplot as plt\n",
    "import numpy as np\n",
    "from config import fredapi_key\n",
    "import requests\n",
    "import time\n",
    "from datetime import datetime\n",
    "import json"
   ]
  },
  {
   "cell_type": "code",
   "execution_count": null,
   "id": "21413ea2",
   "metadata": {},
   "outputs": [],
   "source": [
    "def fred_data(series, start_date, end_date):\n",
    "  df = pdr.DataReader(series, 'fred', start_date, end_date)\n",
    "  return df.reset_index()"
   ]
  },
  {
   "cell_type": "markdown",
   "id": "ab2a7f48",
   "metadata": {},
   "source": [
    "# Finding Housing Market Indicators\n",
    "\n",
    "Knowing what data to collect is important. Luckily FRED provides a lot of data from CPI, Interest Rates, Unemployment rates, minimum wage, etc.\n",
    "\n",
    "## FRED Series Data\n",
    "\n",
    "Below you will see what datasets we are using and why, as well as the units and frequency. The abbreviation in the beginning of the bulletin is how FRED id's the dataset\n",
    "\n",
    "### US Economic Data\n",
    "\n",
    "- UNRATE - Unemployment Rate\\\n",
    "    Units: Percent, Seasonally Adjusted\\\n",
    "    Frequency: Monthly\n",
    "    \n",
    "- CPIAUCSL - Consumer Price Index for All Urban Consumers: All Items in U.S. City Average\\\n",
    "    Units: Index 1982-1984=100, Seasonally Adjusted\\\n",
    "    Frequency: Monthly\n",
    "\n",
    "### Housing-Specific Data\n",
    "\n",
    "- COMPUTSA - New Privately-Owned Housing Units Completed: Total Units\\\n",
    "    Units: Thousands of Units\\\n",
    "    Frequency: Monthly\n",
    "    \n",
    "- MORTGAGE30US - 30-Year Fixed Rate Mortgage Average in the United States\\\n",
    "    Units: Percent, Not Seasonally Adjusted\\\n",
    "    Frequency: Weekly, Ending Thursday\n",
    "        \n",
    "- CSUSHPISA - S&P/Case-Shiller U.S. National Home Price Index\\\n",
    "    Units: Index Jan 2000=100, Seasonally Adjusted\\\n",
    "    Frequency: Monthly"
   ]
  }
 ],
 "metadata": {
  "kernelspec": {
   "display_name": "PythonData",
   "language": "python",
   "name": "pythondata"
  },
  "language_info": {
   "codemirror_mode": {
    "name": "ipython",
    "version": 3
   },
   "file_extension": ".py",
   "mimetype": "text/x-python",
   "name": "python",
   "nbconvert_exporter": "python",
   "pygments_lexer": "ipython3",
   "version": "3.9.7"
  }
 },
 "nbformat": 4,
 "nbformat_minor": 5
}
