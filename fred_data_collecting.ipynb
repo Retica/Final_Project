{
 "cells": [
  {
   "cell_type": "markdown",
   "id": "2c676c92",
   "metadata": {},
   "source": [
    "# Set Up\n",
    "In order to collect data from the Federal Reserve Economic Data (FRED), you need to create\n",
    "an account in the website below, then go to the top right on My Account > API Keys and the on\n",
    "the top left of the page, click Request API Key to get your API key.\n",
    "\n",
    "Website: https://fredaccount.stlouisfed.org/apikeys"
   ]
  },
  {
   "cell_type": "code",
   "execution_count": 1,
   "id": "e50f9256",
   "metadata": {
    "scrolled": true
   },
   "outputs": [],
   "source": [
    "# In order to use the FRED API service, you need to install it in your coding environment\n",
    "# as well as the pandas-datareader\n",
    "# NOTE: you may need to restart the kernel in order to use this after installing\n",
    "# Uncomment the lines below to install\n",
    "\n",
    "# pip install fredapi\n",
    "# !pip install pandas-datareader -q"
   ]
  },
  {
   "cell_type": "markdown",
   "id": "e9acf4bd",
   "metadata": {},
   "source": [
    "# Collecting Data\n",
    "\n",
    "Below we will import our dependencies and write a function that will retrieve the data we need for the analysis"
   ]
  },
  {
   "cell_type": "code",
   "execution_count": 2,
   "id": "1f251e6b",
   "metadata": {},
   "outputs": [],
   "source": [
    "# Import Dependencies\n",
    "# Import the dependencies.\n",
    "%matplotlib inline\n",
    "import pandas as pd\n",
    "import pandas_datareader as pdr\n",
    "import matplotlib.pyplot as plt\n",
    "import numpy as np\n",
    "from config import fredapi_key\n",
    "import requests\n",
    "import time\n",
    "from datetime import datetime\n",
    "import json"
   ]
  },
  {
   "cell_type": "code",
   "execution_count": 3,
   "id": "2fdf4ec0",
   "metadata": {},
   "outputs": [],
   "source": [
    "def fred_data(series, start_date, end_date):\n",
    "  df = pdr.DataReader(series, 'fred', start_date, end_date)\n",
    "  return df.reset_index()"
   ]
  }
 ],
 "metadata": {
  "kernelspec": {
   "display_name": "PythonData",
   "language": "python",
   "name": "pythondata"
  },
  "language_info": {
   "codemirror_mode": {
    "name": "ipython",
    "version": 3
   },
   "file_extension": ".py",
   "mimetype": "text/x-python",
   "name": "python",
   "nbconvert_exporter": "python",
   "pygments_lexer": "ipython3",
   "version": "3.9.7"
  }
 },
 "nbformat": 4,
 "nbformat_minor": 5
}
